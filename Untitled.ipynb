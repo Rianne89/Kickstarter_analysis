{
 "cells": [
  {
   "cell_type": "code",
   "execution_count": 4,
   "metadata": {},
   "outputs": [],
   "source": [
    "import pandas as pd\n",
    "import glob\n",
    "import os"
   ]
  },
  {
   "cell_type": "code",
   "execution_count": 16,
   "metadata": {},
   "outputs": [],
   "source": [
    "path = '/Users/elskedenbode/Desktop/Project 4/data sep 2020' # use your path\n",
    "all_files = glob.glob(os.path.join(path,\"*.csv\"))\n",
    "\n",
    "#glob.glob(path + \"/*.csv\")"
   ]
  },
  {
   "cell_type": "code",
   "execution_count": 17,
   "metadata": {},
   "outputs": [
    {
     "data": {
      "text/plain": [
       "['/Users/elskedenbode/Desktop/Project 4/data sep 2020/Kickstarter040.csv',\n",
       " '/Users/elskedenbode/Desktop/Project 4/data sep 2020/Kickstarter054.csv',\n",
       " '/Users/elskedenbode/Desktop/Project 4/data sep 2020/Kickstarter055.csv',\n",
       " '/Users/elskedenbode/Desktop/Project 4/data sep 2020/Kickstarter041.csv',\n",
       " '/Users/elskedenbode/Desktop/Project 4/data sep 2020/Kickstarter057.csv',\n",
       " '/Users/elskedenbode/Desktop/Project 4/data sep 2020/Kickstarter043.csv',\n",
       " '/Users/elskedenbode/Desktop/Project 4/data sep 2020/Kickstarter042.csv',\n",
       " '/Users/elskedenbode/Desktop/Project 4/data sep 2020/Kickstarter056.csv',\n",
       " '/Users/elskedenbode/Desktop/Project 4/data sep 2020/Kickstarter052.csv',\n",
       " '/Users/elskedenbode/Desktop/Project 4/data sep 2020/Kickstarter046.csv',\n",
       " '/Users/elskedenbode/Desktop/Project 4/data sep 2020/Kickstarter.csv',\n",
       " '/Users/elskedenbode/Desktop/Project 4/data sep 2020/Kickstarter047.csv',\n",
       " '/Users/elskedenbode/Desktop/Project 4/data sep 2020/Kickstarter053.csv',\n",
       " '/Users/elskedenbode/Desktop/Project 4/data sep 2020/Kickstarter045.csv',\n",
       " '/Users/elskedenbode/Desktop/Project 4/data sep 2020/Kickstarter051.csv',\n",
       " '/Users/elskedenbode/Desktop/Project 4/data sep 2020/Kickstarter050.csv',\n",
       " '/Users/elskedenbode/Desktop/Project 4/data sep 2020/Kickstarter044.csv',\n",
       " '/Users/elskedenbode/Desktop/Project 4/data sep 2020/Kickstarter023.csv',\n",
       " '/Users/elskedenbode/Desktop/Project 4/data sep 2020/Kickstarter037.csv',\n",
       " '/Users/elskedenbode/Desktop/Project 4/data sep 2020/Kickstarter036.csv',\n",
       " '/Users/elskedenbode/Desktop/Project 4/data sep 2020/Kickstarter022.csv',\n",
       " '/Users/elskedenbode/Desktop/Project 4/data sep 2020/Kickstarter008.csv',\n",
       " '/Users/elskedenbode/Desktop/Project 4/data sep 2020/Kickstarter034.csv',\n",
       " '/Users/elskedenbode/Desktop/Project 4/data sep 2020/Kickstarter020.csv',\n",
       " '/Users/elskedenbode/Desktop/Project 4/data sep 2020/Kickstarter021.csv',\n",
       " '/Users/elskedenbode/Desktop/Project 4/data sep 2020/Kickstarter035.csv',\n",
       " '/Users/elskedenbode/Desktop/Project 4/data sep 2020/Kickstarter009.csv',\n",
       " '/Users/elskedenbode/Desktop/Project 4/data sep 2020/Kickstarter031.csv',\n",
       " '/Users/elskedenbode/Desktop/Project 4/data sep 2020/Kickstarter025.csv',\n",
       " '/Users/elskedenbode/Desktop/Project 4/data sep 2020/Kickstarter019.csv',\n",
       " '/Users/elskedenbode/Desktop/Project 4/data sep 2020/Kickstarter018.csv',\n",
       " '/Users/elskedenbode/Desktop/Project 4/data sep 2020/Kickstarter024.csv',\n",
       " '/Users/elskedenbode/Desktop/Project 4/data sep 2020/Kickstarter030.csv',\n",
       " '/Users/elskedenbode/Desktop/Project 4/data sep 2020/Kickstarter026.csv',\n",
       " '/Users/elskedenbode/Desktop/Project 4/data sep 2020/Kickstarter032.csv',\n",
       " '/Users/elskedenbode/Desktop/Project 4/data sep 2020/Kickstarter033.csv',\n",
       " '/Users/elskedenbode/Desktop/Project 4/data sep 2020/Kickstarter027.csv',\n",
       " '/Users/elskedenbode/Desktop/Project 4/data sep 2020/Kickstarter002.csv',\n",
       " '/Users/elskedenbode/Desktop/Project 4/data sep 2020/Kickstarter016.csv',\n",
       " '/Users/elskedenbode/Desktop/Project 4/data sep 2020/Kickstarter017.csv',\n",
       " '/Users/elskedenbode/Desktop/Project 4/data sep 2020/Kickstarter003.csv',\n",
       " '/Users/elskedenbode/Desktop/Project 4/data sep 2020/Kickstarter029.csv',\n",
       " '/Users/elskedenbode/Desktop/Project 4/data sep 2020/Kickstarter015.csv',\n",
       " '/Users/elskedenbode/Desktop/Project 4/data sep 2020/Kickstarter001.csv',\n",
       " '/Users/elskedenbode/Desktop/Project 4/data sep 2020/Kickstarter014.csv',\n",
       " '/Users/elskedenbode/Desktop/Project 4/data sep 2020/Kickstarter028.csv',\n",
       " '/Users/elskedenbode/Desktop/Project 4/data sep 2020/Kickstarter010.csv',\n",
       " '/Users/elskedenbode/Desktop/Project 4/data sep 2020/Kickstarter004.csv',\n",
       " '/Users/elskedenbode/Desktop/Project 4/data sep 2020/Kickstarter038.csv',\n",
       " '/Users/elskedenbode/Desktop/Project 4/data sep 2020/Kickstarter039.csv',\n",
       " '/Users/elskedenbode/Desktop/Project 4/data sep 2020/Kickstarter005.csv',\n",
       " '/Users/elskedenbode/Desktop/Project 4/data sep 2020/Kickstarter011.csv',\n",
       " '/Users/elskedenbode/Desktop/Project 4/data sep 2020/Kickstarter007.csv',\n",
       " '/Users/elskedenbode/Desktop/Project 4/data sep 2020/Kickstarter013.csv',\n",
       " '/Users/elskedenbode/Desktop/Project 4/data sep 2020/Kickstarter012.csv',\n",
       " '/Users/elskedenbode/Desktop/Project 4/data sep 2020/Kickstarter006.csv',\n",
       " '/Users/elskedenbode/Desktop/Project 4/data sep 2020/Kickstarter049.csv',\n",
       " '/Users/elskedenbode/Desktop/Project 4/data sep 2020/Kickstarter048.csv',\n",
       " '/Users/elskedenbode/Desktop/Project 4/data sep 2020/Kickstarter058.csv',\n",
       " '/Users/elskedenbode/Desktop/Project 4/data sep 2020/Kickstarter059.csv']"
      ]
     },
     "execution_count": 17,
     "metadata": {},
     "output_type": "execute_result"
    }
   ],
   "source": []
  },
  {
   "cell_type": "code",
   "execution_count": null,
   "metadata": {},
   "outputs": [],
   "source": []
  }
 ],
 "metadata": {
  "kernelspec": {
   "display_name": "Python 3",
   "language": "python",
   "name": "python3"
  },
  "language_info": {
   "codemirror_mode": {
    "name": "ipython",
    "version": 3
   },
   "file_extension": ".py",
   "mimetype": "text/x-python",
   "name": "python",
   "nbconvert_exporter": "python",
   "pygments_lexer": "ipython3",
   "version": "3.7.4"
  }
 },
 "nbformat": 4,
 "nbformat_minor": 2
}
