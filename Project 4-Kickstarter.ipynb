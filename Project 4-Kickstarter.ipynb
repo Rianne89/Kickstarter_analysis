{
 "cells": [
  {
   "cell_type": "markdown",
   "metadata": {},
   "source": [
    "# Kickstarter Startup Analysis"
   ]
  },
  {
   "cell_type": "markdown",
   "metadata": {},
   "source": [
    "1. How should we design our Kickstarter campaign in order to make our startup funding phase as succesful as possible?\n",
    "    - **Categorie** (Assumption Tech) - Succesful campaigns\n",
    "        -> ratio succesful/unsuccesful/live definieren\n",
    "        -> one-sample 1 tegenover het totaal\n",
    "        -> two sample 1 tegenover de rest, of Tech vs Design\n",
    "    - **US vs NL** (Assumption: Silicon Valley vs. the Netherlands)\n",
    "        -> Average pledged amount in NL hoger OF lager dan in US (1 of 2 sample T test)\n",
    "    - **Number of backers** (Assumption: popularity of campaign defines popularity of startup)\n",
    "        -> Ga je voor weinig backers met veel of veel backers met weinig -> verschil in succesful (Hoeveel backers per in je goal)\n",
    "    -> Zoja/Zonee -> define confidence intervals voor backers voor ons \"start-up\" plan\n",
    "    \n",
    "    - **Pledge amount asked** - Pledged (goal - converted)\n",
    "    \n",
    "2. Which pledge amount will lead to the highest possible funding?\n",
    "\n",
    "3. How could the location of the kickstarter campaign, or the sub-category, influence the success rate of our kickstarter campaign?"
   ]
  },
  {
   "cell_type": "markdown",
   "metadata": {},
   "source": [
    "**To do**  \n",
    "~~Elske: Fix git issues  ~~  \n",
    "Rianne: #Drop duplicates (per project_id, check categorieen - 1, 2 en 3 -- zijn hetzelfde, dus sort_values by pledged amount, keepfirst)  \n",
    "Rianne: #Currency -> use usd_pledged -> convert_amount can be dropped, fx_rate also, currency also   \n",
    "Rianne: #Take out live  \n",
    "~~Elske:  #Canceled and unsuccesful -> Failed~~  \n",
    "~~Elske:  #Unfold Dict \"location\" unfold: 'name', 'expanded_country'~~  \n",
    "~~Elske:  #Create column with average pledge per backer  ~~  \n",
    "Both: Check for missing values and how to solve them + add code for hypothesis testing"
   ]
  },
  {
   "cell_type": "code",
   "execution_count": 1,
   "metadata": {},
   "outputs": [],
   "source": [
    "#Importing libraries\n",
    "import pandas as pd\n",
    "import numpy as np\n",
    "import json\n",
    "from datetime import datetime\n",
    "import scipy.stats as stats\n",
    "from scipy.stats import norm"
   ]
  },
  {
   "cell_type": "markdown",
   "metadata": {},
   "source": [
    "Download the file <a href=\"https://drive.google.com/drive/folders/1hIBnfoXrXNW2vF_ka8R8Y0mltCmBjqPZ\" target=\"_blank\">here</a>."
   ]
  },
  {
   "cell_type": "code",
   "execution_count": 22,
   "metadata": {},
   "outputs": [
    {
     "data": {
      "text/html": [
       "<div>\n",
       "<style scoped>\n",
       "    .dataframe tbody tr th:only-of-type {\n",
       "        vertical-align: middle;\n",
       "    }\n",
       "\n",
       "    .dataframe tbody tr th {\n",
       "        vertical-align: top;\n",
       "    }\n",
       "\n",
       "    .dataframe thead th {\n",
       "        text-align: right;\n",
       "    }\n",
       "</style>\n",
       "<table border=\"1\" class=\"dataframe\">\n",
       "  <thead>\n",
       "    <tr style=\"text-align: right;\">\n",
       "      <th></th>\n",
       "      <th>backers_count</th>\n",
       "      <th>blurb</th>\n",
       "      <th>country</th>\n",
       "      <th>created_at</th>\n",
       "      <th>deadline</th>\n",
       "      <th>goal</th>\n",
       "      <th>id</th>\n",
       "      <th>launched_at</th>\n",
       "      <th>name</th>\n",
       "      <th>pledged</th>\n",
       "      <th>spotlight</th>\n",
       "      <th>state</th>\n",
       "      <th>state_changed_at</th>\n",
       "      <th>usd_pledged</th>\n",
       "      <th>category_id</th>\n",
       "      <th>category_name</th>\n",
       "      <th>category_parent_id</th>\n",
       "      <th>category_parent_name</th>\n",
       "      <th>project_id</th>\n",
       "    </tr>\n",
       "  </thead>\n",
       "  <tbody>\n",
       "    <tr>\n",
       "      <th>0</th>\n",
       "      <td>61</td>\n",
       "      <td>Support great art! Join us as we re-stage the ...</td>\n",
       "      <td>US</td>\n",
       "      <td>1579292017</td>\n",
       "      <td>1583025192</td>\n",
       "      <td>3000.0</td>\n",
       "      <td>1568973024</td>\n",
       "      <td>1580433192</td>\n",
       "      <td>Revisionist History 2</td>\n",
       "      <td>4618.0</td>\n",
       "      <td>True</td>\n",
       "      <td>successful</td>\n",
       "      <td>1583025192</td>\n",
       "      <td>4618.0</td>\n",
       "      <td>254</td>\n",
       "      <td>Performances</td>\n",
       "      <td>6.0</td>\n",
       "      <td>Dance</td>\n",
       "      <td>3914215</td>\n",
       "    </tr>\n",
       "    <tr>\n",
       "      <th>1</th>\n",
       "      <td>52</td>\n",
       "      <td>JinBucha is a new kind of Brewery in North Par...</td>\n",
       "      <td>US</td>\n",
       "      <td>1446051515</td>\n",
       "      <td>1450118057</td>\n",
       "      <td>20000.0</td>\n",
       "      <td>1782378629</td>\n",
       "      <td>1447526057</td>\n",
       "      <td>JinBucha: A Modern Kombucha tasting room in No...</td>\n",
       "      <td>3461.0</td>\n",
       "      <td>False</td>\n",
       "      <td>failed</td>\n",
       "      <td>1450118057</td>\n",
       "      <td>3461.0</td>\n",
       "      <td>307</td>\n",
       "      <td>Drinks</td>\n",
       "      <td>10.0</td>\n",
       "      <td>Food</td>\n",
       "      <td>2198010</td>\n",
       "    </tr>\n",
       "    <tr>\n",
       "      <th>2</th>\n",
       "      <td>0</td>\n",
       "      <td>\"Taste The Scent of Tea\" Rose and Blanc Tea Ro...</td>\n",
       "      <td>US</td>\n",
       "      <td>1518159717</td>\n",
       "      <td>1520233260</td>\n",
       "      <td>15000.0</td>\n",
       "      <td>2076142479</td>\n",
       "      <td>1518208887</td>\n",
       "      <td>Tea Room Cafe - Daily &amp; Herb Tea</td>\n",
       "      <td>0.0</td>\n",
       "      <td>False</td>\n",
       "      <td>failed</td>\n",
       "      <td>1520233260</td>\n",
       "      <td>0.0</td>\n",
       "      <td>307</td>\n",
       "      <td>Drinks</td>\n",
       "      <td>10.0</td>\n",
       "      <td>Food</td>\n",
       "      <td>3304826</td>\n",
       "    </tr>\n",
       "    <tr>\n",
       "      <th>3</th>\n",
       "      <td>2</td>\n",
       "      <td>Bringing Philly cheesesteaks (and other delici...</td>\n",
       "      <td>US</td>\n",
       "      <td>1454217596</td>\n",
       "      <td>1459885844</td>\n",
       "      <td>2000.0</td>\n",
       "      <td>1416797221</td>\n",
       "      <td>1454705444</td>\n",
       "      <td>HELP TWO BROTHERS OPEN A FOOD TRUCK!</td>\n",
       "      <td>25.0</td>\n",
       "      <td>False</td>\n",
       "      <td>failed</td>\n",
       "      <td>1459885844</td>\n",
       "      <td>25.0</td>\n",
       "      <td>311</td>\n",
       "      <td>Food Trucks</td>\n",
       "      <td>10.0</td>\n",
       "      <td>Food</td>\n",
       "      <td>2349147</td>\n",
       "    </tr>\n",
       "    <tr>\n",
       "      <th>4</th>\n",
       "      <td>150</td>\n",
       "      <td>a frog plushie keychain and frog butt pin for ...</td>\n",
       "      <td>US</td>\n",
       "      <td>1571342290</td>\n",
       "      <td>1574445600</td>\n",
       "      <td>800.0</td>\n",
       "      <td>1708708142</td>\n",
       "      <td>1573236000</td>\n",
       "      <td>Son the Frog Plushie Keychain + JUICY Pin</td>\n",
       "      <td>3275.0</td>\n",
       "      <td>True</td>\n",
       "      <td>successful</td>\n",
       "      <td>1574445600</td>\n",
       "      <td>3275.0</td>\n",
       "      <td>28</td>\n",
       "      <td>Product Design</td>\n",
       "      <td>7.0</td>\n",
       "      <td>Design</td>\n",
       "      <td>3834865</td>\n",
       "    </tr>\n",
       "  </tbody>\n",
       "</table>\n",
       "</div>"
      ],
      "text/plain": [
       "   backers_count                                              blurb country  \\\n",
       "0             61  Support great art! Join us as we re-stage the ...      US   \n",
       "1             52  JinBucha is a new kind of Brewery in North Par...      US   \n",
       "2              0  \"Taste The Scent of Tea\" Rose and Blanc Tea Ro...      US   \n",
       "3              2  Bringing Philly cheesesteaks (and other delici...      US   \n",
       "4            150  a frog plushie keychain and frog butt pin for ...      US   \n",
       "\n",
       "   created_at    deadline     goal          id  launched_at  \\\n",
       "0  1579292017  1583025192   3000.0  1568973024   1580433192   \n",
       "1  1446051515  1450118057  20000.0  1782378629   1447526057   \n",
       "2  1518159717  1520233260  15000.0  2076142479   1518208887   \n",
       "3  1454217596  1459885844   2000.0  1416797221   1454705444   \n",
       "4  1571342290  1574445600    800.0  1708708142   1573236000   \n",
       "\n",
       "                                                name  pledged  spotlight  \\\n",
       "0                              Revisionist History 2   4618.0       True   \n",
       "1  JinBucha: A Modern Kombucha tasting room in No...   3461.0      False   \n",
       "2                   Tea Room Cafe - Daily & Herb Tea      0.0      False   \n",
       "3               HELP TWO BROTHERS OPEN A FOOD TRUCK!     25.0      False   \n",
       "4          Son the Frog Plushie Keychain + JUICY Pin   3275.0       True   \n",
       "\n",
       "        state  state_changed_at  usd_pledged  category_id   category_name  \\\n",
       "0  successful        1583025192       4618.0          254    Performances   \n",
       "1      failed        1450118057       3461.0          307          Drinks   \n",
       "2      failed        1520233260          0.0          307          Drinks   \n",
       "3      failed        1459885844         25.0          311     Food Trucks   \n",
       "4  successful        1574445600       3275.0           28  Product Design   \n",
       "\n",
       "   category_parent_id category_parent_name  project_id  \n",
       "0                 6.0                Dance     3914215  \n",
       "1                10.0                 Food     2198010  \n",
       "2                10.0                 Food     3304826  \n",
       "3                10.0                 Food     2349147  \n",
       "4                 7.0               Design     3834865  "
      ]
     },
     "execution_count": 22,
     "metadata": {},
     "output_type": "execute_result"
    }
   ],
   "source": [
    "#Importing the data using a relative path\n",
    "#Mac\n",
    "#df = pd.read_csv('../Kickstarter_analysis/sep2020.csv', converters={'category': eval})\n",
    "#df.head()\n",
    "\n",
    "#Windows\n",
<<<<<<< HEAD
    "df = pd.read_csv('.\\\\data\\\\sep2020.csv')\n",
    "df.head()"
=======
    "#df = pd.read_csv('data\\\\sep2020.csv')\n",
    "#df.head()"
>>>>>>> 6be637c17b78a8c5742087298e44db99f8d20a27
   ]
  },
  {
   "cell_type": "markdown",
   "metadata": {},
   "source": [
    "**Step 1:** Data Cleaning and Wrangling\n",
    "- Transforming unix time stamps to datetime"
   ]
  },
  {
   "cell_type": "code",
   "execution_count": 23,
   "metadata": {},
   "outputs": [
    {
     "data": {
      "text/html": [
       "<div>\n",
       "<style scoped>\n",
       "    .dataframe tbody tr th:only-of-type {\n",
       "        vertical-align: middle;\n",
       "    }\n",
       "\n",
       "    .dataframe tbody tr th {\n",
       "        vertical-align: top;\n",
       "    }\n",
       "\n",
       "    .dataframe thead th {\n",
       "        text-align: right;\n",
       "    }\n",
       "</style>\n",
       "<table border=\"1\" class=\"dataframe\">\n",
       "  <thead>\n",
       "    <tr style=\"text-align: right;\">\n",
       "      <th></th>\n",
       "      <th>created_at</th>\n",
       "      <th>deadline</th>\n",
       "      <th>launched_at</th>\n",
       "      <th>state_changed_at</th>\n",
       "    </tr>\n",
       "  </thead>\n",
       "  <tbody>\n",
       "    <tr>\n",
       "      <th>0</th>\n",
       "      <td>2020-01-17 20:13:37</td>\n",
       "      <td>2020-03-01 01:13:12</td>\n",
       "      <td>2020-01-31 01:13:12</td>\n",
       "      <td>2020-03-01 01:13:12</td>\n",
       "    </tr>\n",
       "    <tr>\n",
       "      <th>1</th>\n",
       "      <td>2015-10-28 16:58:35</td>\n",
       "      <td>2015-12-14 18:34:17</td>\n",
       "      <td>2015-11-14 18:34:17</td>\n",
       "      <td>2015-12-14 18:34:17</td>\n",
       "    </tr>\n",
       "    <tr>\n",
       "      <th>2</th>\n",
       "      <td>2018-02-09 07:01:57</td>\n",
       "      <td>2018-03-05 07:01:00</td>\n",
       "      <td>2018-02-09 20:41:27</td>\n",
       "      <td>2018-03-05 07:01:00</td>\n",
       "    </tr>\n",
       "    <tr>\n",
       "      <th>3</th>\n",
       "      <td>2016-01-31 05:19:56</td>\n",
       "      <td>2016-04-05 19:50:44</td>\n",
       "      <td>2016-02-05 20:50:44</td>\n",
       "      <td>2016-04-05 19:50:44</td>\n",
       "    </tr>\n",
       "    <tr>\n",
       "      <th>4</th>\n",
       "      <td>2019-10-17 19:58:10</td>\n",
       "      <td>2019-11-22 18:00:00</td>\n",
       "      <td>2019-11-08 18:00:00</td>\n",
       "      <td>2019-11-22 18:00:00</td>\n",
       "    </tr>\n",
       "    <tr>\n",
       "      <th>...</th>\n",
       "      <td>...</td>\n",
       "      <td>...</td>\n",
       "      <td>...</td>\n",
       "      <td>...</td>\n",
       "    </tr>\n",
       "    <tr>\n",
       "      <th>219683</th>\n",
       "      <td>2019-02-21 18:33:41</td>\n",
       "      <td>2019-03-29 21:00:00</td>\n",
       "      <td>2019-02-27 15:12:10</td>\n",
       "      <td>2019-03-29 21:00:02</td>\n",
       "    </tr>\n",
       "    <tr>\n",
       "      <th>219684</th>\n",
       "      <td>2013-03-05 20:13:03</td>\n",
       "      <td>2013-08-10 07:45:40</td>\n",
       "      <td>2013-07-05 07:45:40</td>\n",
       "      <td>2013-08-10 07:45:40</td>\n",
       "    </tr>\n",
       "    <tr>\n",
       "      <th>219685</th>\n",
       "      <td>2016-06-21 00:35:01</td>\n",
       "      <td>2016-08-13 21:49:58</td>\n",
       "      <td>2016-07-14 21:49:58</td>\n",
       "      <td>2016-08-13 21:49:58</td>\n",
       "    </tr>\n",
       "    <tr>\n",
       "      <th>219686</th>\n",
       "      <td>2015-11-28 19:14:15</td>\n",
       "      <td>2016-01-09 19:19:33</td>\n",
       "      <td>2015-12-10 19:19:33</td>\n",
       "      <td>2016-01-09 19:19:34</td>\n",
       "    </tr>\n",
       "    <tr>\n",
       "      <th>219687</th>\n",
       "      <td>2020-01-10 21:43:54</td>\n",
       "      <td>2020-03-14 20:54:12</td>\n",
       "      <td>2020-01-14 21:54:12</td>\n",
       "      <td>2020-03-14 20:54:14</td>\n",
       "    </tr>\n",
       "  </tbody>\n",
       "</table>\n",
       "<p>219688 rows × 4 columns</p>\n",
       "</div>"
      ],
      "text/plain": [
       "                created_at            deadline         launched_at  \\\n",
       "0      2020-01-17 20:13:37 2020-03-01 01:13:12 2020-01-31 01:13:12   \n",
       "1      2015-10-28 16:58:35 2015-12-14 18:34:17 2015-11-14 18:34:17   \n",
       "2      2018-02-09 07:01:57 2018-03-05 07:01:00 2018-02-09 20:41:27   \n",
       "3      2016-01-31 05:19:56 2016-04-05 19:50:44 2016-02-05 20:50:44   \n",
       "4      2019-10-17 19:58:10 2019-11-22 18:00:00 2019-11-08 18:00:00   \n",
       "...                    ...                 ...                 ...   \n",
       "219683 2019-02-21 18:33:41 2019-03-29 21:00:00 2019-02-27 15:12:10   \n",
       "219684 2013-03-05 20:13:03 2013-08-10 07:45:40 2013-07-05 07:45:40   \n",
       "219685 2016-06-21 00:35:01 2016-08-13 21:49:58 2016-07-14 21:49:58   \n",
       "219686 2015-11-28 19:14:15 2016-01-09 19:19:33 2015-12-10 19:19:33   \n",
       "219687 2020-01-10 21:43:54 2020-03-14 20:54:12 2020-01-14 21:54:12   \n",
       "\n",
       "          state_changed_at  \n",
       "0      2020-03-01 01:13:12  \n",
       "1      2015-12-14 18:34:17  \n",
       "2      2018-03-05 07:01:00  \n",
       "3      2016-04-05 19:50:44  \n",
       "4      2019-11-22 18:00:00  \n",
       "...                    ...  \n",
       "219683 2019-03-29 21:00:02  \n",
       "219684 2013-08-10 07:45:40  \n",
       "219685 2016-08-13 21:49:58  \n",
       "219686 2016-01-09 19:19:34  \n",
       "219687 2020-03-14 20:54:14  \n",
       "\n",
       "[219688 rows x 4 columns]"
      ]
     },
     "execution_count": 23,
     "metadata": {},
     "output_type": "execute_result"
    }
   ],
   "source": [
    "# Dates transformed [['created_at'], ['deadline'], ['launched_at'], ['state_changed_at']]\n",
    "df[['created_at','deadline', 'launched_at', 'state_changed_at']].apply(pd.to_datetime, unit='s')"
   ]
  },
  {
   "cell_type": "markdown",
   "metadata": {},
   "source": [
    "- Remove live kickstarter campaings."
   ]
  },
  {
   "cell_type": "code",
   "execution_count": 87,
   "metadata": {},
   "outputs": [],
   "source": [
    "# Drop records of unfinished project (category live)\n",
    "df = df.loc[df['state'] != 'live']\n",
    "len(df)\n",
    "\n",
    "# Check if records are dropped\n",
    "df['state'].value_counts()\n",
    "\n",
    "#Value_counts shows there are both canceled and failed campaigns. Categorize into successfull and unsuccessful\n",
    "df['state_cat'] = np.where(df['state']=='successful', 'successful', 'unsuccessful')\n",
    "df['state_cat'].value_counts()\n",
    "\n",
    "#Create one data set with only successful campaigns\n",
    "df = df.loc[df['state'] == 'successful']\n",
    "\n",
    "#Keep dataset with all categories\n",
    "#df_all = \n",
    "\n"
   ]
  },
  {
   "cell_type": "markdown",
   "metadata": {},
   "source": [
    "- Drop duplicated projects"
   ]
  },
  {
   "cell_type": "code",
   "execution_count": 88,
   "metadata": {
    "scrolled": true
   },
   "outputs": [
    {
     "name": "stdout",
     "output_type": "stream",
     "text": [
      "number of records:  104210\n",
      "number of records after dropping duplicated project ids:  104210\n"
     ]
    }
   ],
   "source": [
    "# Print number of records\n",
    "print('number of records: ', len(df))\n",
    "\n",
    "# sort by highest pledged and drop duplicated project ids\n",
    "df = df.sort_values(by='usd_pledged',ascending=False).drop_duplicates(subset='project_id', keep='first')\n",
    "\n",
    "# check number of records\n",
    "print('number of records after dropping duplicated project ids: ', len(df))"
   ]
  },
  {
   "cell_type": "markdown",
   "metadata": {},
   "source": [
    "- Classify cancelled and unsuccesful as both \"unsuccesful\"  \n",
    "Since we are looking to launch a succesful campaign for our start-up, \n",
    "we categorize the data in two categories: \"Succesful\" and \"Failed\" (compromising canceled and failed campaings)."
   ]
  },
  {
   "cell_type": "code",
   "execution_count": null,
   "metadata": {},
   "outputs": [],
   "source": []
  },
  {
   "cell_type": "markdown",
   "metadata": {},
   "source": [
    "- Create variable 'average_pledge' per backer"
   ]
  },
  {
   "cell_type": "code",
   "execution_count": 89,
   "metadata": {
    "scrolled": true
   },
   "outputs": [],
   "source": [
    "df['average_pledge'] = (df['usd_pledged']/df['backers_count'])"
   ]
  },
  {
   "cell_type": "markdown",
   "metadata": {},
   "source": [
    "- Check for missing values"
   ]
  },
  {
   "cell_type": "code",
   "execution_count": 90,
   "metadata": {},
   "outputs": [
    {
     "data": {
      "text/plain": [
       "backers_count                  0\n",
       "blurb                          0\n",
       "converted_pledged_amount       0\n",
       "country                        0\n",
       "created_at                     0\n",
       "currency                       0\n",
       "deadline                       0\n",
       "fx_rate                        0\n",
       "goal                           0\n",
       "id                             0\n",
       "launched_at                    0\n",
       "location                     157\n",
       "name                           0\n",
       "pledged                        0\n",
       "spotlight                      0\n",
       "state                          0\n",
       "state_changed_at               0\n",
       "usd_pledged                    0\n",
       "category_id                    0\n",
       "category_name                  0\n",
       "category_parent_id          7557\n",
       "category_parent_name           0\n",
       "project_id                     0\n",
       "state_cat                      0\n",
       "average_pledge                 0\n",
       "dtype: int64"
      ]
     },
     "execution_count": 90,
     "metadata": {},
     "output_type": "execute_result"
    }
   ],
   "source": [
    "#checking for missing values\n",
    "df.isna().sum()"
   ]
  },
  {
   "cell_type": "code",
   "execution_count": 91,
   "metadata": {},
   "outputs": [],
   "source": [
    "#replacing missing parent category name with their category name\n",
    "df['category_parent_name'] = np.where(df['category_parent_name'].isnull(), df['category_name'], df['category_parent_name'])"
   ]
  },
  {
   "cell_type": "code",
   "execution_count": 92,
   "metadata": {},
   "outputs": [
    {
     "data": {
      "text/plain": [
       "backers_count               0\n",
<<<<<<< HEAD
       "blurb                       8\n",
       "country                     0\n",
       "created_at                  0\n",
       "deadline                    0\n",
       "goal                        0\n",
       "id                          0\n",
       "launched_at                 0\n",
=======
       "blurb                       0\n",
       "converted_pledged_amount    0\n",
       "country                     0\n",
       "created_at                  0\n",
       "currency                    0\n",
       "deadline                    0\n",
       "fx_rate                     0\n",
       "goal                        0\n",
       "id                          0\n",
       "launched_at                 0\n",
       "location                    0\n",
>>>>>>> 6be637c17b78a8c5742087298e44db99f8d20a27
       "name                        0\n",
       "pledged                     0\n",
       "spotlight                   0\n",
       "state                       0\n",
       "state_changed_at            0\n",
       "usd_pledged                 0\n",
       "category_id                 0\n",
       "category_name               0\n",
<<<<<<< HEAD
       "category_parent_id       7737\n",
       "category_parent_name     7737\n",
       "project_id                  0\n",
       "state_cat                   0\n",
       "average_pledge          16009\n",
=======
       "category_parent_id          0\n",
       "category_parent_name        0\n",
       "project_id                  0\n",
       "state_cat                   0\n",
       "average_pledge              0\n",
>>>>>>> 6be637c17b78a8c5742087298e44db99f8d20a27
       "dtype: int64"
      ]
     },
     "execution_count": 92,
     "metadata": {},
     "output_type": "execute_result"
    }
   ],
   "source": [
    "#16009 missing values for average_pledge is explained by 16009 entries with a backers count of 0.\n",
    "df.loc[df['backers_count'] == 0].count()"
   ]
  },
  {
   "cell_type": "markdown",
   "metadata": {},
   "source": [
    "# Data Exploration"
   ]
  },
  {
   "cell_type": "code",
   "execution_count": 93,
   "metadata": {},
   "outputs": [],
   "source": [
    "import matplotlib.pyplot as plt\n",
    "import seaborn as sns\n",
    "import numpy as np"
   ]
  },
  {
   "cell_type": "raw",
   "metadata": {},
   "source": [
    "Defining the category with highest pledge amounts:"
   ]
  },
  {
   "cell_type": "code",
   "execution_count": 94,
   "metadata": {
    "scrolled": true
   },
   "outputs": [
    {
     "ename": "IndexingError",
     "evalue": "Unalignable boolean Series provided as indexer (index of the boolean Series and of the indexed object do not match).",
     "output_type": "error",
     "traceback": [
<<<<<<< HEAD
      "\u001b[1;31m---------------------------------------------------------------------------\u001b[0m",
      "\u001b[1;31mIndexingError\u001b[0m                             Traceback (most recent call last)",
      "\u001b[1;32m<ipython-input-10-0724396992bd>\u001b[0m in \u001b[0;36m<module>\u001b[1;34m\u001b[0m\n\u001b[0;32m      1\u001b[0m \u001b[1;31m#Grouping the df by main category, sorted by sum of converted_pledged amount.\u001b[0m\u001b[1;33m\u001b[0m\u001b[1;33m\u001b[0m\u001b[1;33m\u001b[0m\u001b[0m\n\u001b[1;32m----> 2\u001b[1;33m \u001b[0mtop_pledged\u001b[0m \u001b[1;33m=\u001b[0m \u001b[0mdf\u001b[0m\u001b[1;33m.\u001b[0m\u001b[0mloc\u001b[0m\u001b[1;33m[\u001b[0m\u001b[1;33m:\u001b[0m\u001b[1;33m,\u001b[0m\u001b[0mdf\u001b[0m\u001b[1;33m[\u001b[0m\u001b[1;34m'state'\u001b[0m\u001b[1;33m]\u001b[0m \u001b[1;33m==\u001b[0m \u001b[1;34m'succesful'\u001b[0m\u001b[1;33m]\u001b[0m\u001b[1;33m.\u001b[0m\u001b[0mgroupby\u001b[0m\u001b[1;33m(\u001b[0m\u001b[1;33m[\u001b[0m\u001b[1;34m'category_parent_name'\u001b[0m\u001b[1;33m]\u001b[0m\u001b[1;33m)\u001b[0m\u001b[1;33m.\u001b[0m\u001b[0msum\u001b[0m\u001b[1;33m(\u001b[0m\u001b[1;33m)\u001b[0m\u001b[1;33m.\u001b[0m\u001b[0mreset_index\u001b[0m\u001b[1;33m(\u001b[0m\u001b[1;33m)\u001b[0m\u001b[1;33m.\u001b[0m\u001b[0msort_values\u001b[0m\u001b[1;33m(\u001b[0m\u001b[0mby\u001b[0m\u001b[1;33m=\u001b[0m\u001b[1;34m'converted_pledged_amount'\u001b[0m\u001b[1;33m,\u001b[0m \u001b[0mascending\u001b[0m\u001b[1;33m=\u001b[0m\u001b[1;32mFalse\u001b[0m\u001b[1;33m)\u001b[0m\u001b[1;33m\u001b[0m\u001b[1;33m\u001b[0m\u001b[0m\n\u001b[0m\u001b[0;32m      3\u001b[0m \u001b[0mtop_backers\u001b[0m \u001b[1;33m=\u001b[0m \u001b[0mdf\u001b[0m\u001b[1;33m.\u001b[0m\u001b[0mgroupby\u001b[0m\u001b[1;33m(\u001b[0m\u001b[1;33m[\u001b[0m\u001b[1;34m'category_parent_name'\u001b[0m\u001b[1;33m]\u001b[0m\u001b[1;33m)\u001b[0m\u001b[1;33m.\u001b[0m\u001b[0msum\u001b[0m\u001b[1;33m(\u001b[0m\u001b[1;33m)\u001b[0m\u001b[1;33m.\u001b[0m\u001b[0mreset_index\u001b[0m\u001b[1;33m(\u001b[0m\u001b[1;33m)\u001b[0m\u001b[1;33m.\u001b[0m\u001b[0msort_values\u001b[0m\u001b[1;33m(\u001b[0m\u001b[0mby\u001b[0m\u001b[1;33m=\u001b[0m\u001b[1;34m'backers_count'\u001b[0m\u001b[1;33m,\u001b[0m \u001b[0mascending\u001b[0m\u001b[1;33m=\u001b[0m\u001b[1;32mFalse\u001b[0m\u001b[1;33m)\u001b[0m\u001b[1;33m\u001b[0m\u001b[1;33m\u001b[0m\u001b[0m\n\u001b[0;32m      4\u001b[0m \u001b[1;31m#Selecting top five from top_pledged and top_backers\u001b[0m\u001b[1;33m\u001b[0m\u001b[1;33m\u001b[0m\u001b[1;33m\u001b[0m\u001b[0m\n\u001b[0;32m      5\u001b[0m \u001b[0mtop_five_pledged\u001b[0m \u001b[1;33m=\u001b[0m \u001b[0mtop_pledged\u001b[0m\u001b[1;33m.\u001b[0m\u001b[0mhead\u001b[0m\u001b[1;33m(\u001b[0m\u001b[1;36m5\u001b[0m\u001b[1;33m)\u001b[0m\u001b[1;33m\u001b[0m\u001b[1;33m\u001b[0m\u001b[0m\n",
      "\u001b[1;32m~\\anaconda3\\lib\\site-packages\\pandas\\core\\indexing.py\u001b[0m in \u001b[0;36m__getitem__\u001b[1;34m(self, key)\u001b[0m\n\u001b[0;32m   1760\u001b[0m                 \u001b[1;32mexcept\u001b[0m \u001b[1;33m(\u001b[0m\u001b[0mKeyError\u001b[0m\u001b[1;33m,\u001b[0m \u001b[0mIndexError\u001b[0m\u001b[1;33m,\u001b[0m \u001b[0mAttributeError\u001b[0m\u001b[1;33m)\u001b[0m\u001b[1;33m:\u001b[0m\u001b[1;33m\u001b[0m\u001b[1;33m\u001b[0m\u001b[0m\n\u001b[0;32m   1761\u001b[0m                     \u001b[1;32mpass\u001b[0m\u001b[1;33m\u001b[0m\u001b[1;33m\u001b[0m\u001b[0m\n\u001b[1;32m-> 1762\u001b[1;33m             \u001b[1;32mreturn\u001b[0m \u001b[0mself\u001b[0m\u001b[1;33m.\u001b[0m\u001b[0m_getitem_tuple\u001b[0m\u001b[1;33m(\u001b[0m\u001b[0mkey\u001b[0m\u001b[1;33m)\u001b[0m\u001b[1;33m\u001b[0m\u001b[1;33m\u001b[0m\u001b[0m\n\u001b[0m\u001b[0;32m   1763\u001b[0m         \u001b[1;32melse\u001b[0m\u001b[1;33m:\u001b[0m\u001b[1;33m\u001b[0m\u001b[1;33m\u001b[0m\u001b[0m\n\u001b[0;32m   1764\u001b[0m             \u001b[1;31m# we by definition only have the 0th axis\u001b[0m\u001b[1;33m\u001b[0m\u001b[1;33m\u001b[0m\u001b[1;33m\u001b[0m\u001b[0m\n",
      "\u001b[1;32m~\\anaconda3\\lib\\site-packages\\pandas\\core\\indexing.py\u001b[0m in \u001b[0;36m_getitem_tuple\u001b[1;34m(self, tup)\u001b[0m\n\u001b[0;32m   1287\u001b[0m                 \u001b[1;32mcontinue\u001b[0m\u001b[1;33m\u001b[0m\u001b[1;33m\u001b[0m\u001b[0m\n\u001b[0;32m   1288\u001b[0m \u001b[1;33m\u001b[0m\u001b[0m\n\u001b[1;32m-> 1289\u001b[1;33m             \u001b[0mretval\u001b[0m \u001b[1;33m=\u001b[0m \u001b[0mgetattr\u001b[0m\u001b[1;33m(\u001b[0m\u001b[0mretval\u001b[0m\u001b[1;33m,\u001b[0m \u001b[0mself\u001b[0m\u001b[1;33m.\u001b[0m\u001b[0mname\u001b[0m\u001b[1;33m)\u001b[0m\u001b[1;33m.\u001b[0m\u001b[0m_getitem_axis\u001b[0m\u001b[1;33m(\u001b[0m\u001b[0mkey\u001b[0m\u001b[1;33m,\u001b[0m \u001b[0maxis\u001b[0m\u001b[1;33m=\u001b[0m\u001b[0mi\u001b[0m\u001b[1;33m)\u001b[0m\u001b[1;33m\u001b[0m\u001b[1;33m\u001b[0m\u001b[0m\n\u001b[0m\u001b[0;32m   1290\u001b[0m \u001b[1;33m\u001b[0m\u001b[0m\n\u001b[0;32m   1291\u001b[0m         \u001b[1;32mreturn\u001b[0m \u001b[0mretval\u001b[0m\u001b[1;33m\u001b[0m\u001b[1;33m\u001b[0m\u001b[0m\n",
      "\u001b[1;32m~\\anaconda3\\lib\\site-packages\\pandas\\core\\indexing.py\u001b[0m in \u001b[0;36m_getitem_axis\u001b[1;34m(self, key, axis)\u001b[0m\n\u001b[0;32m   1912\u001b[0m             \u001b[1;32mreturn\u001b[0m \u001b[0mself\u001b[0m\u001b[1;33m.\u001b[0m\u001b[0m_get_slice_axis\u001b[0m\u001b[1;33m(\u001b[0m\u001b[0mkey\u001b[0m\u001b[1;33m,\u001b[0m \u001b[0maxis\u001b[0m\u001b[1;33m=\u001b[0m\u001b[0maxis\u001b[0m\u001b[1;33m)\u001b[0m\u001b[1;33m\u001b[0m\u001b[1;33m\u001b[0m\u001b[0m\n\u001b[0;32m   1913\u001b[0m         \u001b[1;32melif\u001b[0m \u001b[0mcom\u001b[0m\u001b[1;33m.\u001b[0m\u001b[0mis_bool_indexer\u001b[0m\u001b[1;33m(\u001b[0m\u001b[0mkey\u001b[0m\u001b[1;33m)\u001b[0m\u001b[1;33m:\u001b[0m\u001b[1;33m\u001b[0m\u001b[1;33m\u001b[0m\u001b[0m\n\u001b[1;32m-> 1914\u001b[1;33m             \u001b[1;32mreturn\u001b[0m \u001b[0mself\u001b[0m\u001b[1;33m.\u001b[0m\u001b[0m_getbool_axis\u001b[0m\u001b[1;33m(\u001b[0m\u001b[0mkey\u001b[0m\u001b[1;33m,\u001b[0m \u001b[0maxis\u001b[0m\u001b[1;33m=\u001b[0m\u001b[0maxis\u001b[0m\u001b[1;33m)\u001b[0m\u001b[1;33m\u001b[0m\u001b[1;33m\u001b[0m\u001b[0m\n\u001b[0m\u001b[0;32m   1915\u001b[0m         \u001b[1;32melif\u001b[0m \u001b[0mis_list_like_indexer\u001b[0m\u001b[1;33m(\u001b[0m\u001b[0mkey\u001b[0m\u001b[1;33m)\u001b[0m\u001b[1;33m:\u001b[0m\u001b[1;33m\u001b[0m\u001b[1;33m\u001b[0m\u001b[0m\n\u001b[0;32m   1916\u001b[0m \u001b[1;33m\u001b[0m\u001b[0m\n",
      "\u001b[1;32m~\\anaconda3\\lib\\site-packages\\pandas\\core\\indexing.py\u001b[0m in \u001b[0;36m_getbool_axis\u001b[1;34m(self, key, axis)\u001b[0m\n\u001b[0;32m   1780\u001b[0m         \u001b[1;31m# caller is responsible for ensuring non-None axis\u001b[0m\u001b[1;33m\u001b[0m\u001b[1;33m\u001b[0m\u001b[1;33m\u001b[0m\u001b[0m\n\u001b[0;32m   1781\u001b[0m         \u001b[0mlabels\u001b[0m \u001b[1;33m=\u001b[0m \u001b[0mself\u001b[0m\u001b[1;33m.\u001b[0m\u001b[0mobj\u001b[0m\u001b[1;33m.\u001b[0m\u001b[0m_get_axis\u001b[0m\u001b[1;33m(\u001b[0m\u001b[0maxis\u001b[0m\u001b[1;33m)\u001b[0m\u001b[1;33m\u001b[0m\u001b[1;33m\u001b[0m\u001b[0m\n\u001b[1;32m-> 1782\u001b[1;33m         \u001b[0mkey\u001b[0m \u001b[1;33m=\u001b[0m \u001b[0mcheck_bool_indexer\u001b[0m\u001b[1;33m(\u001b[0m\u001b[0mlabels\u001b[0m\u001b[1;33m,\u001b[0m \u001b[0mkey\u001b[0m\u001b[1;33m)\u001b[0m\u001b[1;33m\u001b[0m\u001b[1;33m\u001b[0m\u001b[0m\n\u001b[0m\u001b[0;32m   1783\u001b[0m         \u001b[0minds\u001b[0m \u001b[1;33m=\u001b[0m \u001b[0mkey\u001b[0m\u001b[1;33m.\u001b[0m\u001b[0mnonzero\u001b[0m\u001b[1;33m(\u001b[0m\u001b[1;33m)\u001b[0m\u001b[1;33m[\u001b[0m\u001b[1;36m0\u001b[0m\u001b[1;33m]\u001b[0m\u001b[1;33m\u001b[0m\u001b[1;33m\u001b[0m\u001b[0m\n\u001b[0;32m   1784\u001b[0m         \u001b[1;32mreturn\u001b[0m \u001b[0mself\u001b[0m\u001b[1;33m.\u001b[0m\u001b[0mobj\u001b[0m\u001b[1;33m.\u001b[0m\u001b[0m_take_with_is_copy\u001b[0m\u001b[1;33m(\u001b[0m\u001b[0minds\u001b[0m\u001b[1;33m,\u001b[0m \u001b[0maxis\u001b[0m\u001b[1;33m=\u001b[0m\u001b[0maxis\u001b[0m\u001b[1;33m)\u001b[0m\u001b[1;33m\u001b[0m\u001b[1;33m\u001b[0m\u001b[0m\n",
      "\u001b[1;32m~\\anaconda3\\lib\\site-packages\\pandas\\core\\indexing.py\u001b[0m in \u001b[0;36mcheck_bool_indexer\u001b[1;34m(index, key)\u001b[0m\n\u001b[0;32m   2315\u001b[0m         \u001b[0mmask\u001b[0m \u001b[1;33m=\u001b[0m \u001b[0misna\u001b[0m\u001b[1;33m(\u001b[0m\u001b[0mresult\u001b[0m\u001b[1;33m.\u001b[0m\u001b[0m_values\u001b[0m\u001b[1;33m)\u001b[0m\u001b[1;33m\u001b[0m\u001b[1;33m\u001b[0m\u001b[0m\n\u001b[0;32m   2316\u001b[0m         \u001b[1;32mif\u001b[0m \u001b[0mmask\u001b[0m\u001b[1;33m.\u001b[0m\u001b[0many\u001b[0m\u001b[1;33m(\u001b[0m\u001b[1;33m)\u001b[0m\u001b[1;33m:\u001b[0m\u001b[1;33m\u001b[0m\u001b[1;33m\u001b[0m\u001b[0m\n\u001b[1;32m-> 2317\u001b[1;33m             raise IndexingError(\n\u001b[0m\u001b[0;32m   2318\u001b[0m                 \u001b[1;34m\"Unalignable boolean Series provided as \"\u001b[0m\u001b[1;33m\u001b[0m\u001b[1;33m\u001b[0m\u001b[0m\n\u001b[0;32m   2319\u001b[0m                 \u001b[1;34m\"indexer (index of the boolean Series and of \"\u001b[0m\u001b[1;33m\u001b[0m\u001b[1;33m\u001b[0m\u001b[0m\n",
      "\u001b[1;31mIndexingError\u001b[0m: Unalignable boolean Series provided as indexer (index of the boolean Series and of the indexed object do not match)."
=======
      "\u001b[0;31m---------------------------------------------------------------------------\u001b[0m",
      "\u001b[0;31mValueError\u001b[0m                                Traceback (most recent call last)",
      "\u001b[0;32m<ipython-input-94-662ed0ad5f80>\u001b[0m in \u001b[0;36m<module>\u001b[0;34m\u001b[0m\n\u001b[1;32m     13\u001b[0m \u001b[0;31m#Plotting the top five\u001b[0m\u001b[0;34m\u001b[0m\u001b[0;34m\u001b[0m\u001b[0;34m\u001b[0m\u001b[0m\n\u001b[1;32m     14\u001b[0m \u001b[0mfig\u001b[0m\u001b[0;34m,\u001b[0m \u001b[0maxes\u001b[0m \u001b[0;34m=\u001b[0m \u001b[0mplt\u001b[0m\u001b[0;34m.\u001b[0m\u001b[0msubplots\u001b[0m\u001b[0;34m(\u001b[0m\u001b[0mnrows\u001b[0m\u001b[0;34m=\u001b[0m\u001b[0;36m1\u001b[0m\u001b[0;34m,\u001b[0m \u001b[0mncols\u001b[0m\u001b[0;34m=\u001b[0m\u001b[0;36m2\u001b[0m\u001b[0;34m,\u001b[0m \u001b[0mfigsize\u001b[0m\u001b[0;34m=\u001b[0m\u001b[0;34m(\u001b[0m\u001b[0;36m20\u001b[0m\u001b[0;34m,\u001b[0m \u001b[0;36m4\u001b[0m\u001b[0;34m)\u001b[0m\u001b[0;34m)\u001b[0m\u001b[0;34m\u001b[0m\u001b[0;34m\u001b[0m\u001b[0m\n\u001b[0;32m---> 15\u001b[0;31m \u001b[0msns\u001b[0m\u001b[0;34m.\u001b[0m\u001b[0mbarplot\u001b[0m\u001b[0;34m(\u001b[0m\u001b[0max\u001b[0m\u001b[0;34m=\u001b[0m\u001b[0maxes\u001b[0m\u001b[0;34m[\u001b[0m\u001b[0;36m0\u001b[0m\u001b[0;34m]\u001b[0m\u001b[0;34m,\u001b[0m \u001b[0mx\u001b[0m\u001b[0;34m=\u001b[0m\u001b[0;34m'usd_pledged'\u001b[0m\u001b[0;34m,\u001b[0m \u001b[0my\u001b[0m\u001b[0;34m=\u001b[0m\u001b[0;34m'category_parent_name'\u001b[0m\u001b[0;34m,\u001b[0m \u001b[0mdata\u001b[0m\u001b[0;34m=\u001b[0m\u001b[0mtop_five_pledged\u001b[0m\u001b[0;34m,\u001b[0m \u001b[0mlinewidth\u001b[0m\u001b[0;34m=\u001b[0m\u001b[0;36m0.7\u001b[0m\u001b[0;34m,\u001b[0m \u001b[0mpalette\u001b[0m\u001b[0;34m=\u001b[0m\u001b[0mnp\u001b[0m\u001b[0;34m.\u001b[0m\u001b[0marray\u001b[0m\u001b[0;34m(\u001b[0m\u001b[0mpal_pled\u001b[0m\u001b[0;34m[\u001b[0m\u001b[0;34m:\u001b[0m\u001b[0;34m:\u001b[0m\u001b[0;34m+\u001b[0m\u001b[0;36m1\u001b[0m\u001b[0;34m]\u001b[0m\u001b[0;34m)\u001b[0m\u001b[0;34m[\u001b[0m\u001b[0mrank_pled\u001b[0m\u001b[0;34m]\u001b[0m\u001b[0;34m)\u001b[0m\u001b[0;34m\u001b[0m\u001b[0;34m\u001b[0m\u001b[0m\n\u001b[0m\u001b[1;32m     16\u001b[0m \u001b[0maxes\u001b[0m\u001b[0;34m[\u001b[0m\u001b[0;36m0\u001b[0m\u001b[0;34m]\u001b[0m\u001b[0;34m.\u001b[0m\u001b[0mset_title\u001b[0m\u001b[0;34m(\u001b[0m\u001b[0;34m'Converted Amount Pledged'\u001b[0m\u001b[0;34m)\u001b[0m\u001b[0;34m\u001b[0m\u001b[0;34m\u001b[0m\u001b[0m\n\u001b[1;32m     17\u001b[0m \u001b[0msns\u001b[0m\u001b[0;34m.\u001b[0m\u001b[0mbarplot\u001b[0m\u001b[0;34m(\u001b[0m\u001b[0max\u001b[0m\u001b[0;34m=\u001b[0m\u001b[0maxes\u001b[0m\u001b[0;34m[\u001b[0m\u001b[0;36m1\u001b[0m\u001b[0;34m]\u001b[0m\u001b[0;34m,\u001b[0m \u001b[0mx\u001b[0m\u001b[0;34m=\u001b[0m\u001b[0;34m'backers_count'\u001b[0m\u001b[0;34m,\u001b[0m\u001b[0my\u001b[0m\u001b[0;34m=\u001b[0m\u001b[0;34m'category_parent_name'\u001b[0m\u001b[0;34m,\u001b[0m \u001b[0mdata\u001b[0m\u001b[0;34m=\u001b[0m\u001b[0mtop_five_backers\u001b[0m\u001b[0;34m,\u001b[0m \u001b[0mlinewidth\u001b[0m\u001b[0;34m=\u001b[0m\u001b[0;36m0.7\u001b[0m\u001b[0;34m,\u001b[0m \u001b[0mpalette\u001b[0m\u001b[0;34m=\u001b[0m\u001b[0mnp\u001b[0m\u001b[0;34m.\u001b[0m\u001b[0marray\u001b[0m\u001b[0;34m(\u001b[0m\u001b[0mpal_back\u001b[0m\u001b[0;34m[\u001b[0m\u001b[0;34m:\u001b[0m\u001b[0;34m:\u001b[0m\u001b[0;34m+\u001b[0m\u001b[0;36m1\u001b[0m\u001b[0;34m]\u001b[0m\u001b[0;34m)\u001b[0m\u001b[0;34m[\u001b[0m\u001b[0mrank_back\u001b[0m\u001b[0;34m]\u001b[0m\u001b[0;34m)\u001b[0m\u001b[0;34m\u001b[0m\u001b[0;34m\u001b[0m\u001b[0m\n",
      "\u001b[0;32m~/opt/anaconda3/lib/python3.7/site-packages/seaborn/_decorators.py\u001b[0m in \u001b[0;36minner_f\u001b[0;34m(*args, **kwargs)\u001b[0m\n\u001b[1;32m     44\u001b[0m             )\n\u001b[1;32m     45\u001b[0m         \u001b[0mkwargs\u001b[0m\u001b[0;34m.\u001b[0m\u001b[0mupdate\u001b[0m\u001b[0;34m(\u001b[0m\u001b[0;34m{\u001b[0m\u001b[0mk\u001b[0m\u001b[0;34m:\u001b[0m \u001b[0marg\u001b[0m \u001b[0;32mfor\u001b[0m \u001b[0mk\u001b[0m\u001b[0;34m,\u001b[0m \u001b[0marg\u001b[0m \u001b[0;32min\u001b[0m \u001b[0mzip\u001b[0m\u001b[0;34m(\u001b[0m\u001b[0msig\u001b[0m\u001b[0;34m.\u001b[0m\u001b[0mparameters\u001b[0m\u001b[0;34m,\u001b[0m \u001b[0margs\u001b[0m\u001b[0;34m)\u001b[0m\u001b[0;34m}\u001b[0m\u001b[0;34m)\u001b[0m\u001b[0;34m\u001b[0m\u001b[0;34m\u001b[0m\u001b[0m\n\u001b[0;32m---> 46\u001b[0;31m         \u001b[0;32mreturn\u001b[0m \u001b[0mf\u001b[0m\u001b[0;34m(\u001b[0m\u001b[0;34m**\u001b[0m\u001b[0mkwargs\u001b[0m\u001b[0;34m)\u001b[0m\u001b[0;34m\u001b[0m\u001b[0;34m\u001b[0m\u001b[0m\n\u001b[0m\u001b[1;32m     47\u001b[0m     \u001b[0;32mreturn\u001b[0m \u001b[0minner_f\u001b[0m\u001b[0;34m\u001b[0m\u001b[0;34m\u001b[0m\u001b[0m\n\u001b[1;32m     48\u001b[0m \u001b[0;34m\u001b[0m\u001b[0m\n",
      "\u001b[0;32m~/opt/anaconda3/lib/python3.7/site-packages/seaborn/categorical.py\u001b[0m in \u001b[0;36mbarplot\u001b[0;34m(x, y, hue, data, order, hue_order, estimator, ci, n_boot, units, seed, orient, color, palette, saturation, errcolor, errwidth, capsize, dodge, ax, **kwargs)\u001b[0m\n\u001b[1;32m   3170\u001b[0m                           \u001b[0mestimator\u001b[0m\u001b[0;34m,\u001b[0m \u001b[0mci\u001b[0m\u001b[0;34m,\u001b[0m \u001b[0mn_boot\u001b[0m\u001b[0;34m,\u001b[0m \u001b[0munits\u001b[0m\u001b[0;34m,\u001b[0m \u001b[0mseed\u001b[0m\u001b[0;34m,\u001b[0m\u001b[0;34m\u001b[0m\u001b[0;34m\u001b[0m\u001b[0m\n\u001b[1;32m   3171\u001b[0m                           \u001b[0morient\u001b[0m\u001b[0;34m,\u001b[0m \u001b[0mcolor\u001b[0m\u001b[0;34m,\u001b[0m \u001b[0mpalette\u001b[0m\u001b[0;34m,\u001b[0m \u001b[0msaturation\u001b[0m\u001b[0;34m,\u001b[0m\u001b[0;34m\u001b[0m\u001b[0;34m\u001b[0m\u001b[0m\n\u001b[0;32m-> 3172\u001b[0;31m                           errcolor, errwidth, capsize, dodge)\n\u001b[0m\u001b[1;32m   3173\u001b[0m \u001b[0;34m\u001b[0m\u001b[0m\n\u001b[1;32m   3174\u001b[0m     \u001b[0;32mif\u001b[0m \u001b[0max\u001b[0m \u001b[0;32mis\u001b[0m \u001b[0;32mNone\u001b[0m\u001b[0;34m:\u001b[0m\u001b[0;34m\u001b[0m\u001b[0;34m\u001b[0m\u001b[0m\n",
      "\u001b[0;32m~/opt/anaconda3/lib/python3.7/site-packages/seaborn/categorical.py\u001b[0m in \u001b[0;36m__init__\u001b[0;34m(self, x, y, hue, data, order, hue_order, estimator, ci, n_boot, units, seed, orient, color, palette, saturation, errcolor, errwidth, capsize, dodge)\u001b[0m\n\u001b[1;32m   1584\u001b[0m         self.establish_variables(x, y, hue, data, orient,\n\u001b[1;32m   1585\u001b[0m                                  order, hue_order, units)\n\u001b[0;32m-> 1586\u001b[0;31m         \u001b[0mself\u001b[0m\u001b[0;34m.\u001b[0m\u001b[0mestablish_colors\u001b[0m\u001b[0;34m(\u001b[0m\u001b[0mcolor\u001b[0m\u001b[0;34m,\u001b[0m \u001b[0mpalette\u001b[0m\u001b[0;34m,\u001b[0m \u001b[0msaturation\u001b[0m\u001b[0;34m)\u001b[0m\u001b[0;34m\u001b[0m\u001b[0;34m\u001b[0m\u001b[0m\n\u001b[0m\u001b[1;32m   1587\u001b[0m         \u001b[0mself\u001b[0m\u001b[0;34m.\u001b[0m\u001b[0mestimate_statistic\u001b[0m\u001b[0;34m(\u001b[0m\u001b[0mestimator\u001b[0m\u001b[0;34m,\u001b[0m \u001b[0mci\u001b[0m\u001b[0;34m,\u001b[0m \u001b[0mn_boot\u001b[0m\u001b[0;34m,\u001b[0m \u001b[0mseed\u001b[0m\u001b[0;34m)\u001b[0m\u001b[0;34m\u001b[0m\u001b[0;34m\u001b[0m\u001b[0m\n\u001b[1;32m   1588\u001b[0m \u001b[0;34m\u001b[0m\u001b[0m\n",
      "\u001b[0;32m~/opt/anaconda3/lib/python3.7/site-packages/seaborn/categorical.py\u001b[0m in \u001b[0;36mestablish_colors\u001b[0;34m(self, color, palette, saturation)\u001b[0m\n\u001b[1;32m    317\u001b[0m         \u001b[0;31m# Determine the gray color to use for the lines framing the plot\u001b[0m\u001b[0;34m\u001b[0m\u001b[0;34m\u001b[0m\u001b[0;34m\u001b[0m\u001b[0m\n\u001b[1;32m    318\u001b[0m         \u001b[0mlight_vals\u001b[0m \u001b[0;34m=\u001b[0m \u001b[0;34m[\u001b[0m\u001b[0mcolorsys\u001b[0m\u001b[0;34m.\u001b[0m\u001b[0mrgb_to_hls\u001b[0m\u001b[0;34m(\u001b[0m\u001b[0;34m*\u001b[0m\u001b[0mc\u001b[0m\u001b[0;34m)\u001b[0m\u001b[0;34m[\u001b[0m\u001b[0;36m1\u001b[0m\u001b[0;34m]\u001b[0m \u001b[0;32mfor\u001b[0m \u001b[0mc\u001b[0m \u001b[0;32min\u001b[0m \u001b[0mrgb_colors\u001b[0m\u001b[0;34m]\u001b[0m\u001b[0;34m\u001b[0m\u001b[0;34m\u001b[0m\u001b[0m\n\u001b[0;32m--> 319\u001b[0;31m         \u001b[0mlum\u001b[0m \u001b[0;34m=\u001b[0m \u001b[0mmin\u001b[0m\u001b[0;34m(\u001b[0m\u001b[0mlight_vals\u001b[0m\u001b[0;34m)\u001b[0m \u001b[0;34m*\u001b[0m \u001b[0;36m.6\u001b[0m\u001b[0;34m\u001b[0m\u001b[0;34m\u001b[0m\u001b[0m\n\u001b[0m\u001b[1;32m    320\u001b[0m         \u001b[0mgray\u001b[0m \u001b[0;34m=\u001b[0m \u001b[0mmpl\u001b[0m\u001b[0;34m.\u001b[0m\u001b[0mcolors\u001b[0m\u001b[0;34m.\u001b[0m\u001b[0mrgb2hex\u001b[0m\u001b[0;34m(\u001b[0m\u001b[0;34m(\u001b[0m\u001b[0mlum\u001b[0m\u001b[0;34m,\u001b[0m \u001b[0mlum\u001b[0m\u001b[0;34m,\u001b[0m \u001b[0mlum\u001b[0m\u001b[0;34m)\u001b[0m\u001b[0;34m)\u001b[0m\u001b[0;34m\u001b[0m\u001b[0;34m\u001b[0m\u001b[0m\n\u001b[1;32m    321\u001b[0m \u001b[0;34m\u001b[0m\u001b[0m\n",
      "\u001b[0;31mValueError\u001b[0m: min() arg is an empty sequence"
>>>>>>> 6be637c17b78a8c5742087298e44db99f8d20a27
     ]
    }
   ],
   "source": [
    "#Grouping the df by main category, sorted by sum of converted_pledged amount.\n",
    "top_pledged = df.loc[df['state'] == 'succesful'].groupby(['category_parent_name']).sum().reset_index().sort_values(by='usd_pledged', ascending=False)\n",
    "top_backers = df.groupby(['category_parent_name']).sum().reset_index().sort_values(by='backers_count', ascending=False)\n",
    "\n",
    "#Selecting top five from top_pledged and top_backers\n",
    "top_five_pledged = top_pledged.head(5)\n",
    "top_five_backers = top_backers.head(5)\n",
    "pal_pled = sns.color_palette(\"Greens_d\", len(top_five_pledged))\n",
    "pal_back = sns.color_palette(\"Reds_d\", len(top_five_backers))\n",
    "rank_pled = top_five_pledged[\"usd_pledged\"].argsort().argsort()\n",
    "rank_back = top_five_backers[\"backers_count\"].argsort().argsort()\n",
    "\n",
    "#Plotting the top five\n",
    "fig, axes = plt.subplots(nrows=1, ncols=2, figsize=(20, 4))\n",
    "sns.barplot(ax=axes[0], x='usd_pledged', y='category_parent_name', data=top_five_pledged, linewidth=0.7, palette=np.array(pal_pled[::+1])[rank_pled])\n",
    "axes[0].set_title('Converted Amount Pledged')\n",
    "sns.barplot(ax=axes[1], x='backers_count',y='category_parent_name', data=top_five_backers, linewidth=0.7, palette=np.array(pal_back[::+1])[rank_back])\n",
    "axes[1].set_title('Number of Backers');"
   ]
  },
  {
   "cell_type": "code",
<<<<<<< HEAD
   "execution_count": null,
   "metadata": {},
   "outputs": [],
=======
   "execution_count": 95,
   "metadata": {},
   "outputs": [
    {
     "data": {
      "image/png": "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\n",
      "text/plain": [
       "<Figure size 1080x720 with 1 Axes>"
      ]
     },
     "metadata": {
      "needs_background": "light"
     },
     "output_type": "display_data"
    }
   ],
>>>>>>> 6be637c17b78a8c5742087298e44db99f8d20a27
   "source": [
    "plt.figure(figsize=(15, 10))\n",
    "sns.boxplot(x='category_parent_name', y='converted_pledged_amount', hue='state', data=df, orient='v', showfliers=False);\n",
    "plt.title('Converted Pledged Amount per Category Parent', fontsize=20);\n",
    "plt.xlabel('Category Parent', fontsize=18)\n",
    "plt.ylabel('Converted Pledged Amount)', fontsize=18)\n",
    "plt.xticks(fontsize=10)\n",
    "plt.yticks(fontsize=15);\n",
    "\n",
    "#Can we use \"proportion of the population\" - om significant verschil tussen succesful (tech en de rest)\n"
   ]
  },
  {
   "cell_type": "code",
<<<<<<< HEAD
   "execution_count": null,
   "metadata": {},
   "outputs": [],
=======
   "execution_count": 96,
   "metadata": {},
   "outputs": [
    {
     "data": {
      "text/html": [
       "<div>\n",
       "<style scoped>\n",
       "    .dataframe tbody tr th:only-of-type {\n",
       "        vertical-align: middle;\n",
       "    }\n",
       "\n",
       "    .dataframe tbody tr th {\n",
       "        vertical-align: top;\n",
       "    }\n",
       "\n",
       "    .dataframe thead th {\n",
       "        text-align: right;\n",
       "    }\n",
       "</style>\n",
       "<table border=\"1\" class=\"dataframe\">\n",
       "  <thead>\n",
       "    <tr style=\"text-align: right;\">\n",
       "      <th></th>\n",
       "      <th>backers_count</th>\n",
       "      <th>converted_pledged_amount</th>\n",
       "      <th>created_at</th>\n",
       "      <th>deadline</th>\n",
       "      <th>fx_rate</th>\n",
       "      <th>goal</th>\n",
       "      <th>id</th>\n",
       "      <th>launched_at</th>\n",
       "      <th>pledged</th>\n",
       "      <th>spotlight</th>\n",
       "      <th>state_changed_at</th>\n",
       "      <th>usd_pledged</th>\n",
       "      <th>category_id</th>\n",
       "      <th>category_parent_id</th>\n",
       "      <th>project_id</th>\n",
       "      <th>average_pledge</th>\n",
       "    </tr>\n",
       "    <tr>\n",
       "      <th>category_name</th>\n",
       "      <th></th>\n",
       "      <th></th>\n",
       "      <th></th>\n",
       "      <th></th>\n",
       "      <th></th>\n",
       "      <th></th>\n",
       "      <th></th>\n",
       "      <th></th>\n",
       "      <th></th>\n",
       "      <th></th>\n",
       "      <th></th>\n",
       "      <th></th>\n",
       "      <th></th>\n",
       "      <th></th>\n",
       "      <th></th>\n",
       "      <th></th>\n",
       "    </tr>\n",
       "  </thead>\n",
       "  <tbody>\n",
       "    <tr>\n",
       "      <th>Product Design</th>\n",
       "      <td>1836490</td>\n",
       "      <td>195410063</td>\n",
       "      <td>3288888432554</td>\n",
       "      <td>3309783880291</td>\n",
       "      <td>1937.949813</td>\n",
       "      <td>5.246923e+07</td>\n",
       "      <td>2248122705553</td>\n",
       "      <td>3303751295987</td>\n",
       "      <td>4.803735e+08</td>\n",
       "      <td>2094</td>\n",
       "      <td>3309783894289</td>\n",
       "      <td>1.949631e+08</td>\n",
       "      <td>58632</td>\n",
       "      <td>14658.0</td>\n",
       "      <td>8011439673</td>\n",
       "      <td>308564.676186</td>\n",
       "    </tr>\n",
       "    <tr>\n",
       "      <th>Hardware</th>\n",
       "      <td>1266524</td>\n",
       "      <td>193251148</td>\n",
       "      <td>2140515829638</td>\n",
       "      <td>2154842727592</td>\n",
       "      <td>1474.768212</td>\n",
       "      <td>6.349782e+07</td>\n",
       "      <td>1561727168670</td>\n",
       "      <td>2150333941228</td>\n",
       "      <td>2.459568e+08</td>\n",
       "      <td>1493</td>\n",
       "      <td>2154842740288</td>\n",
       "      <td>1.932391e+08</td>\n",
       "      <td>77636</td>\n",
       "      <td>23888.0</td>\n",
       "      <td>2673902470</td>\n",
       "      <td>310642.029339</td>\n",
       "    </tr>\n",
       "    <tr>\n",
       "      <th>Tabletop Games</th>\n",
       "      <td>2061370</td>\n",
       "      <td>159820464</td>\n",
       "      <td>3279620274948</td>\n",
       "      <td>3296165718794</td>\n",
       "      <td>2108.659101</td>\n",
       "      <td>3.034394e+07</td>\n",
       "      <td>2233736784496</td>\n",
       "      <td>3291858067796</td>\n",
       "      <td>2.148260e+08</td>\n",
       "      <td>2074</td>\n",
       "      <td>3296165773964</td>\n",
       "      <td>1.595537e+08</td>\n",
       "      <td>70516</td>\n",
       "      <td>24888.0</td>\n",
       "      <td>8132985556</td>\n",
       "      <td>107572.879384</td>\n",
       "    </tr>\n",
       "    <tr>\n",
       "      <th>Gadgets</th>\n",
       "      <td>1388306</td>\n",
       "      <td>146760385</td>\n",
       "      <td>2304697510561</td>\n",
       "      <td>2318325388300</td>\n",
       "      <td>1414.648977</td>\n",
       "      <td>6.718271e+07</td>\n",
       "      <td>1638225609144</td>\n",
       "      <td>2313520348963</td>\n",
       "      <td>2.612305e+08</td>\n",
       "      <td>1541</td>\n",
       "      <td>2318328679138</td>\n",
       "      <td>1.467420e+08</td>\n",
       "      <td>519317</td>\n",
       "      <td>24656.0</td>\n",
       "      <td>4383817467</td>\n",
       "      <td>219522.230379</td>\n",
       "    </tr>\n",
       "    <tr>\n",
       "      <th>Video Games</th>\n",
       "      <td>2559287</td>\n",
       "      <td>131884705</td>\n",
       "      <td>3403568403792</td>\n",
       "      <td>3426732407664</td>\n",
       "      <td>2241.904576</td>\n",
       "      <td>2.658325e+08</td>\n",
       "      <td>2455947403317</td>\n",
       "      <td>3420434257454</td>\n",
       "      <td>1.088081e+09</td>\n",
       "      <td>2278</td>\n",
       "      <td>3426732440955</td>\n",
       "      <td>1.318331e+08</td>\n",
       "      <td>79730</td>\n",
       "      <td>27336.0</td>\n",
       "      <td>6430744358</td>\n",
       "      <td>111495.776507</td>\n",
       "    </tr>\n",
       "    <tr>\n",
       "      <th>...</th>\n",
       "      <td>...</td>\n",
       "      <td>...</td>\n",
       "      <td>...</td>\n",
       "      <td>...</td>\n",
       "      <td>...</td>\n",
       "      <td>...</td>\n",
       "      <td>...</td>\n",
       "      <td>...</td>\n",
       "      <td>...</td>\n",
       "      <td>...</td>\n",
       "      <td>...</td>\n",
       "      <td>...</td>\n",
       "      <td>...</td>\n",
       "      <td>...</td>\n",
       "      <td>...</td>\n",
       "      <td>...</td>\n",
       "    </tr>\n",
       "    <tr>\n",
       "      <th>Farmer's Markets</th>\n",
       "      <td>2475</td>\n",
       "      <td>240260</td>\n",
       "      <td>36396170813</td>\n",
       "      <td>36533849276</td>\n",
       "      <td>22.204281</td>\n",
       "      <td>2.740580e+05</td>\n",
       "      <td>26893002362</td>\n",
       "      <td>36460045707</td>\n",
       "      <td>3.560157e+05</td>\n",
       "      <td>24</td>\n",
       "      <td>36533849350</td>\n",
       "      <td>2.402092e+05</td>\n",
       "      <td>7440</td>\n",
       "      <td>240.0</td>\n",
       "      <td>77651201</td>\n",
       "      <td>2943.938611</td>\n",
       "    </tr>\n",
       "    <tr>\n",
       "      <th>Embroidery</th>\n",
       "      <td>4135</td>\n",
       "      <td>232977</td>\n",
       "      <td>65086864778</td>\n",
       "      <td>65252640436</td>\n",
       "      <td>37.741789</td>\n",
       "      <td>7.920000e+05</td>\n",
       "      <td>44351393774</td>\n",
       "      <td>65142567745</td>\n",
       "      <td>1.356260e+06</td>\n",
       "      <td>43</td>\n",
       "      <td>65252640477</td>\n",
       "      <td>2.331293e+05</td>\n",
       "      <td>14878</td>\n",
       "      <td>1118.0</td>\n",
       "      <td>132663966</td>\n",
       "      <td>2085.327088</td>\n",
       "    </tr>\n",
       "    <tr>\n",
       "      <th>Quilts</th>\n",
       "      <td>1740</td>\n",
       "      <td>173079</td>\n",
       "      <td>30058915719</td>\n",
       "      <td>30245526723</td>\n",
       "      <td>20.773466</td>\n",
       "      <td>1.289510e+05</td>\n",
       "      <td>20304790997</td>\n",
       "      <td>30194578046</td>\n",
       "      <td>1.782610e+05</td>\n",
       "      <td>21</td>\n",
       "      <td>30245526826</td>\n",
       "      <td>1.735189e+05</td>\n",
       "      <td>7392</td>\n",
       "      <td>546.0</td>\n",
       "      <td>37941940</td>\n",
       "      <td>1733.148783</td>\n",
       "    </tr>\n",
       "    <tr>\n",
       "      <th>Crochet</th>\n",
       "      <td>1316</td>\n",
       "      <td>49080</td>\n",
       "      <td>70418620028</td>\n",
       "      <td>70611633668</td>\n",
       "      <td>43.507944</td>\n",
       "      <td>3.428500e+04</td>\n",
       "      <td>48274878426</td>\n",
       "      <td>70497000382</td>\n",
       "      <td>5.084092e+04</td>\n",
       "      <td>48</td>\n",
       "      <td>70611633803</td>\n",
       "      <td>4.908773e+04</td>\n",
       "      <td>16512</td>\n",
       "      <td>1248.0</td>\n",
       "      <td>114588441</td>\n",
       "      <td>1685.191496</td>\n",
       "    </tr>\n",
       "    <tr>\n",
       "      <th>Taxidermy</th>\n",
       "      <td>416</td>\n",
       "      <td>34231</td>\n",
       "      <td>7083415047</td>\n",
       "      <td>7111333707</td>\n",
       "      <td>5.290304</td>\n",
       "      <td>1.780000e+04</td>\n",
       "      <td>4348851601</td>\n",
       "      <td>7096932338</td>\n",
       "      <td>2.786280e+04</td>\n",
       "      <td>5</td>\n",
       "      <td>7111333707</td>\n",
       "      <td>3.405774e+04</td>\n",
       "      <td>1770</td>\n",
       "      <td>130.0</td>\n",
       "      <td>7174410</td>\n",
       "      <td>551.328400</td>\n",
       "    </tr>\n",
       "  </tbody>\n",
       "</table>\n",
       "<p>161 rows × 16 columns</p>\n",
       "</div>"
      ],
      "text/plain": [
       "                  backers_count  converted_pledged_amount     created_at  \\\n",
       "category_name                                                              \n",
       "Product Design          1836490                 195410063  3288888432554   \n",
       "Hardware                1266524                 193251148  2140515829638   \n",
       "Tabletop Games          2061370                 159820464  3279620274948   \n",
       "Gadgets                 1388306                 146760385  2304697510561   \n",
       "Video Games             2559287                 131884705  3403568403792   \n",
       "...                         ...                       ...            ...   \n",
       "Farmer's Markets           2475                    240260    36396170813   \n",
       "Embroidery                 4135                    232977    65086864778   \n",
       "Quilts                     1740                    173079    30058915719   \n",
       "Crochet                    1316                     49080    70418620028   \n",
       "Taxidermy                   416                     34231     7083415047   \n",
       "\n",
       "                       deadline      fx_rate          goal             id  \\\n",
       "category_name                                                               \n",
       "Product Design    3309783880291  1937.949813  5.246923e+07  2248122705553   \n",
       "Hardware          2154842727592  1474.768212  6.349782e+07  1561727168670   \n",
       "Tabletop Games    3296165718794  2108.659101  3.034394e+07  2233736784496   \n",
       "Gadgets           2318325388300  1414.648977  6.718271e+07  1638225609144   \n",
       "Video Games       3426732407664  2241.904576  2.658325e+08  2455947403317   \n",
       "...                         ...          ...           ...            ...   \n",
       "Farmer's Markets    36533849276    22.204281  2.740580e+05    26893002362   \n",
       "Embroidery          65252640436    37.741789  7.920000e+05    44351393774   \n",
       "Quilts              30245526723    20.773466  1.289510e+05    20304790997   \n",
       "Crochet             70611633668    43.507944  3.428500e+04    48274878426   \n",
       "Taxidermy            7111333707     5.290304  1.780000e+04     4348851601   \n",
       "\n",
       "                    launched_at       pledged  spotlight  state_changed_at  \\\n",
       "category_name                                                                \n",
       "Product Design    3303751295987  4.803735e+08       2094     3309783894289   \n",
       "Hardware          2150333941228  2.459568e+08       1493     2154842740288   \n",
       "Tabletop Games    3291858067796  2.148260e+08       2074     3296165773964   \n",
       "Gadgets           2313520348963  2.612305e+08       1541     2318328679138   \n",
       "Video Games       3420434257454  1.088081e+09       2278     3426732440955   \n",
       "...                         ...           ...        ...               ...   \n",
       "Farmer's Markets    36460045707  3.560157e+05         24       36533849350   \n",
       "Embroidery          65142567745  1.356260e+06         43       65252640477   \n",
       "Quilts              30194578046  1.782610e+05         21       30245526826   \n",
       "Crochet             70497000382  5.084092e+04         48       70611633803   \n",
       "Taxidermy            7096932338  2.786280e+04          5        7111333707   \n",
       "\n",
       "                   usd_pledged  category_id  category_parent_id  project_id  \\\n",
       "category_name                                                                 \n",
       "Product Design    1.949631e+08        58632             14658.0  8011439673   \n",
       "Hardware          1.932391e+08        77636             23888.0  2673902470   \n",
       "Tabletop Games    1.595537e+08        70516             24888.0  8132985556   \n",
       "Gadgets           1.467420e+08       519317             24656.0  4383817467   \n",
       "Video Games       1.318331e+08        79730             27336.0  6430744358   \n",
       "...                        ...          ...                 ...         ...   \n",
       "Farmer's Markets  2.402092e+05         7440               240.0    77651201   \n",
       "Embroidery        2.331293e+05        14878              1118.0   132663966   \n",
       "Quilts            1.735189e+05         7392               546.0    37941940   \n",
       "Crochet           4.908773e+04        16512              1248.0   114588441   \n",
       "Taxidermy         3.405774e+04         1770               130.0     7174410   \n",
       "\n",
       "                  average_pledge  \n",
       "category_name                     \n",
       "Product Design     308564.676186  \n",
       "Hardware           310642.029339  \n",
       "Tabletop Games     107572.879384  \n",
       "Gadgets            219522.230379  \n",
       "Video Games        111495.776507  \n",
       "...                          ...  \n",
       "Farmer's Markets     2943.938611  \n",
       "Embroidery           2085.327088  \n",
       "Quilts               1733.148783  \n",
       "Crochet              1685.191496  \n",
       "Taxidermy             551.328400  \n",
       "\n",
       "[161 rows x 16 columns]"
      ]
     },
     "execution_count": 96,
     "metadata": {},
     "output_type": "execute_result"
    }
   ],
>>>>>>> 6be637c17b78a8c5742087298e44db99f8d20a27
   "source": [
    "df.groupby(['category_name']).sum().sort_values(by='converted_pledged_amount', ascending=False)"
   ]
  },
  {
   "cell_type": "code",
<<<<<<< HEAD
   "execution_count": null,
   "metadata": {},
   "outputs": [],
=======
   "execution_count": 97,
   "metadata": {},
   "outputs": [
    {
     "data": {
      "image/png": "iVBORw0KGgoAAAANSUhEUgAAA54AAAJUCAYAAAB9i/mBAAAABHNCSVQICAgIfAhkiAAAAAlwSFlzAAALEgAACxIB0t1+/AAAADh0RVh0U29mdHdhcmUAbWF0cGxvdGxpYiB2ZXJzaW9uMy4xLjEsIGh0dHA6Ly9tYXRwbG90bGliLm9yZy8QZhcZAAAgAElEQVR4nOzdeXjdZZ3//+edk5M26ZaWktK9DV3SBhW1rGItiyCFVr/Oj5lxHbexfkcdB1FHGOgGg+gA4wz61bqO48KoM46TUkBAKAUBoRVRkqalTekKTZe0TZukSU7u3x/npBNiCi00/WR5Pq6L65zc533uvBsgzSuf+3PfIcaIJEmSJEndJS/pBiRJkiRJfZvBU5IkSZLUrQyekiRJkqRuZfCUJEmSJHUrg6ckSZIkqVsZPCVJkiRJ3So/6Qb6ipEjR8ZJkyYl3YYkSZIkJWLNmjW7Y4yndvWawfMEmTRpEqtXr066DUmSJElKRAhh89Fec6mtJEmSJKlbGTwlSZIkSd3K4ClJkiRJ6lYGT0mSJElStzJ4SpIkSZK6lcFTkiRJktStDJ6SJEmSpG5l8JQkSZIkdSuDpyRJkiSpWxk8JUmSJEndyuApSZIkSepWBk9JkiRJUrcyeEqSJEmSupXBU5IkSZLUrQyekiRJkqRuZfCUJEmSJHUrg6ckSZIkqVsZPCVJkiRJ3crgKUmSJEnqVgZPSZIkSVK3yk+6AUmSXquV1bUsW1XD1roGxg8vYsHsUuaUlSTdliRJyvGKpySpV1tZXcvCikpq65soLkxTW9/EwopKVlbXJt2aJEnKMXhKknq1ZatqSKcCRQX5hJB9TKcCy1bVJN2aJEnKMXhKknq1rXUNFKZTLxkrTKfYVteQUEeSJKkzg6ckqVcbP7yIxpbMS8YaWzKMG16UUEeSJKkzg6ckqVdbMLuUlkykobmVGLOPLZnIgtmlSbcmSZJyDJ6SpF5tTlkJS+eXUzJkIPsbWygZMpCl88vd1VaSpB7E41QkSb3enLISg6YkST2YVzwlSZIkSd3K4ClJkiRJ6lYGT0mSJElStzJ4SpIkSZK6lcFTkiRJktStDJ6SJEmSpG5l8JQkSZIkdSuDpyRJkiSpWxk8JUmSJEndyuApSZIkSepWBk9JkiRJUrcyeEqSJEmSupXBU5IkSZLUrQyekiRJkqRuZfCUJEmSJHUrg6ckSZIkqVsdU/AMIVwbQvh5CKEmhBBDCM+/Qv05IYQHQgj1IYQDIYR7QwhnHqV2TAjh30MIu0IIjSGE1SGEq45SOyCEsDSEsCmEcDiEsDGEcH0IIX2U+g+GEJ7OzbszhPCdEMKpr7VnSZIkSdKxO9YrnjcDFwEbgbqXKwwhnAs8DEwGFgKLgKnAIyGE13WqHQE8Crwb+AbwGeAg8LMQwoe7mP6nwA3Ag8AngZXAjcC3u+jjauAHwP7cvMuAvwRWhhAGvdqeJUmSJEnHJ8QYX7kohNIYY03u+bPA4BjjpKPUPgmUATNijNtzY2OBtcATMcZLO9R+Bfg8MD/GuDw3lgIeB04HJsYYD+bG5wIrgNtjjNd0mOM24LPAW2KMj+XGRgKbgUrgvBhjJjc+D6gA/iHGePOr6floZs2aFVevXv1KZZIkSZLUJ4UQ1sQYZ3X12jFd8WwPncfwiaYAZwE/bw9wufdvB34OXBJCOK3DW94LbGwPnbnaDHAHMAKY26kW4KudPm37x+/vMPYuoAi4oz105uZeDtR0rH0VPUuSJEmSjsOJ3lzorNzj41289gQQgDcDhBBGA2Nz413Vdpyv/fn2GOPWjoW5j3d0UftyfZSFEAYfb8+SJEmSpON3ooPnmNzj9i5eax8b+ypq2+u7qm2v71z7cnOHDjXH24ckSZIk6Tic6OBZlHs83MVrTZ1qjqe2/XlXte31nWu7q48jQggfz+3Cu3rXrl1HaU2SJEmS+rcTHTwbco8DunhtYKea46ltf95VbXt959ru6uOIGOO3YoyzYoyzTj21y1NaJEmSJKnfO9HBc0fusaulqe1j219FbXv90Za8ju2i9uXmjh1qjrcPSZIkSdJxONHB86nc43ldvHYu2cC3BiDG+ALZQHfuUWoBOp5P8hQwNoQwvmNh7uMxXdQerY9zgHXtx7QcT8+SJEmSpON3QoNnjHED2QB4VQihfdMecs+vAh6MMb7Y4S13Aqfnztdsr00Bnwb2AXd3qgX4u06ftv3jH3cY+x+gEfhUbr72ueeRPR/0SO2r6FmSJEmSdBzyj6UohPABYGLuw1OBghDC9bmPN8cYf9ih/DPAQ8AjIYQ7cmOfJhtyr+k09S1kw91PQgi3k70C+h6yR5x8LMZY314YY1wRQrgL+GwIYRjZ40/OAz4K/CjG+GiH2l0hhBuAW4EHQgh3kl02ew1QzZ+eBXo8PUuSJEmSjkOIMb5yUQgrgbcd5eWHY4xzOtWfB9xEdllrBB4Dro0x/q6LuceSDaCXA4OBKuDLMcafdlE7ELgeeD8wmmxQ/T5wS4yxpYv6DwFXA9OBA8BdwBdjjLVd1B5zz12ZNWtWXL169SsXSpIkSVIfFEJYE2Oc1eVrxxI89coMnpIkSZL6s5cLnid6cyFJkiRJkl7C4ClJkiRJ6lYGT0mSJElStzJ4SpIkSZK6lcFTkiRJktStDJ6SJEmSpG5l8JQkSZIkdSuDpyRJkiSpWxk8JUmSJEndyuApSZIkSepWBk9JkiRJ6iUOHm5l98HDSbdx3AyekiRJktTDxRj576e3cdGtK7nhl88m3c5xy0+6AUmSJEnS0T27fT+LKipZs7kOgIfW1bJ9XyNjiwsT7uzYGTwlSZIkqQfac/Awt963nv94agsxZseueP1orps7o1eFTjB4SpIkSVKP0ppp40dPbOb2+9dzoKkVgOmjhrBo/kzOP31kwt29OgZPSZIkSeohHtu4myUVVazbWQ/A0IH5XHPpdN53zgTyU713ix6DpyRJkiQlbPu+Rm5esZYVf3wBgBDgPWdP4Jq3T+OUwQMS7u61M3hKkiRJUkKaWjIse7iGbzy8gaaWNgDePHE4S+aXc8bYYQl3d+IYPCVJkiTpJIsx8qvKndy0ooptdY0AlAwZwHVzZ/DOM8cQQki4wxPL4ClJkiRJJ9FzO+tZsryKRzfsBiCdCnz0glI+ddEUBg/omxGtb/6pJEmSJKmHOdDUwlfvf44fPP48mbbs+SgXlZVww5UzmTxyULLNdTODpyRJkiR1o7a2yH+u2cZXflXN7oPNAEw6pYiF82ZyUdmohLs7OQyekiRJktRNfreljiUVlTyzbT8ARQUpPnXRFD56wWQG5KcS7u7kMXhKkiRJ0glWW9/El+9Zx3/9btuRsf/zxrF88fIyRg0dmGBnyTB4SpIkSdIJ0tzaxg8ee55/+fVzHDzcCkD5mKEsmV/OrEkjEu4uOQZPSZIkSToBHl6/iyXLK6nZdQiA4UVpPn9ZGX9x1nhSeX3reJTjZfCUJEmSpNdgy54GblxRxf1VOwHIC/D+cyfy2bdPo7ioIOHuegaDpyRJkiS9Cg3Nrfy/hzbyrUdqaG5tA+CcySNYPL+cGaOHJtxdz2LwlCRJkqTjEGPkrj+8wM13r+WF/U0AjBk2kOuumMEVrxtNCP17WW1XDJ6SJAErq2tZtqqGrXUNjB9exILZpcwpK0m6LUlSD1O14wCLl1fy5Ka9ABTk5/GJ2aV8Ys7pFBUYr47Gr4wkqd9bWV3LwopK0qlAcWGa2vomFlZUshQMn5IkAOoONXP7/ev58W830xazY5eVj+L6K2YyfkRRss31AgZPSVK/t2xVDelUOPKb6qKCfBqaW1m2qsbgKUn9XKYt8pMnt3DbfevY19ACwJSSwSyaN5O3Tj014e56D4OnJKnf21rXQHFh+iVjhekU2+oaEupIktQTPLlpL4sqKln7wgEAhgzI5zOXTOWvzp9EOpWXcHe9i8FTktTvjR9eRG1900vuzWlsyTBuuEunJKk/emF/I1+6u5qKZ3YcGfvzWeP4/GVlnDpkQIKd9V4GT0lSv7dgdikLKyppaG6lMJ2isSVDSyayYHZp0q1Jkk6ippYM3310E197cAONLRkA3jC+mCXzyzlzfHHC3fVuBk9JUr83p6yEpWTv9dxW18A4d7WVpH4lxsiv19Zy44oqNu/J3mYxcnABf/+OMv7sTePIy/N4lNfK4ClJEtnwadCUpP5n466DLF1excPrdwGQnxf40PmT+NtLpjJ0YPoV3q1jZfCUJEmS1O/UN7XwtQc38L3fbKIlkz0f5a1TR7Jo3kymlAxJuLu+x+ApSZIkqd9oa4v88vfb+dI91eyqPwzAuOGF3HDlTC6dOYoQXFbbHQyekiRJkvqFP27bz6KKZ/ndln0ADEzn8ck5U/jr2aUMTKcS7q5vM3hKkiRJ6tP2HDzMrfet4z+e2krMrqrliteP5rq5MxhbXJhsc/2EwVOSJEnScVtZXcuyVTVsrWtgfA/dDbw108YPn9jM7fevp76pFYCy04awaF45551+SsLd9S8GT0mSJEnHZWV1LQsrKkmnAsWFaWrrm1hYUclS6DHh87ENu1m8vJL1Ow8CMKwwzTWXTuO9Z08gP5WXcHf9j8FTkiRJ0nFZtqqGdCpQVJCNE0UF+TQ0t7JsVU3iwXPr3gZuvnst9zz7IgAhwHvPnsA1l05nxKCCRHvrzwyekiRJko7L1roGigtfesZlYTrFtrqGhDqCppYM33x4I99YuZHDrW0AnDVpOIvmlXPG2GGJ9aUsg6ckSZKk4zJ+eBG19U1HrngCNLZkGDe86KT3EmPk3mdf5KYVa9m+rxGAUUMHcO3lM3jnmWM8HqWHMHhKkiRJOi4LZpeysKKShuZWCtMpGlsytGQiC2aXntQ+1u+sZ3FFJY9t3ANAQSqPj711Mp+8cAqDBhh1ehL/bUiSJEk6LnPKSlhK9l7PbXUNjDvJu9rub2jhnx9Yzw+f2EymLXs+ysVlJdxw5UwmjRx0UnrQ8TF4SpIkSTpuc8pKTvpGQpm2yM9Xb+Urv1rH3kPNAEweOYiFV87kwh6ym666ZvCUJEmS1OOt2VzH4opK/rh9PwCDClJ8+uKpfOQtkynI93iUns7gKUmSJKnHqj3QxC33VPOLp7cfGXv3G8fy95eXMWrowAQ70/EweEqSJEnqcZpb2/j+bzbxr79+jkPNGQDOGDuUJfPLefPEEQl3p+Nl8JQkSZLUo6xcV8vS5VXU7D4EwIhBBXzhsulcNWs8qTyPR+mNDJ6SJEmSeoTndx/iphVVPLC2FoBUXuAD507k6kumMawonXB3ei0MnpIkSZISdehwK19/aAPfeWQTzZk2AM4rPYXF88uZftqQhLvTiWDwlCRJkpSIGCMVz+zgS3dX8+KBJgDGFhfyD1fM4PIzTiMEl9X2FQZPSZIkSSdd5Y79LK6o5Knn6wAYkJ/HJ952Op942+kUFqQS7k4nmsFTkiRJ0klTd6iZW+9bx51PbqEtZscuP+M0rps7g/EjipJtTt3G4ClJkiSp27Vm2rjzyS3cet969je2ADC1ZDCL5pVzwdSRCXen7mbwlCRJktStnqjZw+KKSqpfrAdgyMB8/u6SaXzwvImkU3kJd6eTweApSZIkqVvs2NfIl+6pZvkzOwAIAf78zeP5/DumM3LwgIS708lk8JQkSZJ0QjW1ZPjOIzV8/aGNNLZkADhzfDFL5pfzhvHFCXenJBg8JUmSJJ0QMUYeWFvLjXdVsWVvAwAjBw/gi5eX8e43jiUvz+NR+iuDpyRJkqTXbEPtQZbeVcWq9bsAyM8LfOSCyXz6oikMGZhOuDslzeApSZIk6VWrb2rhjgc38L1HN9GaOx9l9rRTWXjlTKaUDE64O/UUBk9JkiRJx62tLfKLp7fz5Xur2VV/GIAJI4pYeOVMLp5RQgguq9X/MnhKkiRJOi7PbN3HoopKfr91HwCF6RSfumgKH71gMgPTqYS7U09k8JQkSZJ0THYfPMw/3buOn63ZSsyuqmX+G8Zw7dwyRg8rTLY59WgGT0mSJEkvqyXTxr8/vpmv3r+e+sOtAMwYPZQl88s5e/KIhLvrP1ZW17JsVQ1b6xoYP7yIBbNLmVNWknRbx8TgKUmSJOmoHn1uN4uXV7Kh9iAAxUVprrl0Ou89ewIpj0c5aVZW17KwopJ0KlBcmKa2vomFFZUshV4RPg2ekiRJkv7E1r0N3LSiil9V7gQgL8D7zpnIZ98+jeGDChLurv9ZtqqGdCpQVJCNcEUF+TQ0t7JsVY3BU5IkSVLv0tic4RsPb2TZwxs53NoGwNmTRrBo/kzKxwxLuLv+a2tdA8WFLz0PtTCdYltdQ0IdHR+DpyRJkiRijNz9xxf5xxVV7NjfBMBpQwdy3RUzmPf60R6PkrDxw4uorW86csUToLElw7jhRQl2dewMnpIkSVI/V/3iAZZUVPF4zR4AClJ5/PXsyfzNnCkMGmBk6AkWzC5lYUUlDc2tFKZTNLZkaMlEFswuTbq1Y+J/RZIkSVI/tb+hhX9+YD0/fGIzmbbs+SiXzCjhhitnMvGUQQl3p47mlJWwlOy9ntvqGhjnrraSJEmSerJMW+SnT23ln35VTV1DCwClIwdxw7yZXDi9dwSZ/mhOWUmvCZqdGTwlSZKkfmT183tZvLySZ7cfAGBQQYq/vXgqH37LZAry8xLuTn2VwVOSJEnqB3YeaOKWe6r576e3Hxl795vG8sV3lFEydGCCnak/MHhKkiRJfdjh1gzfe/R57njwORqaMwC8buwwFs8v580ThyfcnfoLg6ckSZLURz1UXcvSu6rYtPsQAKcMKuAL75jOVW8eT16ex6Po5OmWRdwhhMEhhOtCCH8MIdSHEHaHEB4LIXwodDoAKIRwTgjhgVzdgRDCvSGEM48y75gQwr+HEHaFEBpDCKtDCFcdpXZACGFpCGFTCOFwCGFjCOH6EEL6KPUfDCE8nZt3ZwjhOyGEU1/7V0OSJEk6uTbtPsRH/u0pPvxvT7Fp9yFSeYEPv2USD35uDn9x1gRDp066E37FM4SQB9wDnA/8ALgDKALeA3wfmAH8fa72XGAlsB1YmJviU8AjIYTzY4x/7DDvCOBRoAS4HdgGvBf4WQjhIzHG73dq5afAO4HvAY8D5wE3AlOAD3Xq+ercnA8DnwHGAZ8FzgshnB1jPPRaviaSJEnSyXDocCt3PLiB7z5aQ0smezzKW6acwuJ55UwdNSTh7tSfhRjjiZ0whPOAx4Cvxhiv7jBeAFQDI2KMxbmxJ4EyYEaMcXtubCywFngixnhph/d/Bfg8MD/GuDw3liIbKk8HJsYYD+bG5wIrgNtjjNd0mOM2soHyLTHGx3JjI4HNQCVwXowxkxufB1QA/xBjvPmV/tyzZs2Kq1evPt4vlyRJkvSaxRj5n9/v4Ev3rGXngcMAjC0u5IYrZ3BZ+Wl0WnQodYsQwpoY46yuXuuOpbZDc487Og7GGJuB3cChXFNTgLOAn7eHzlzdduDnwCUhhNM6TPFeYGN76MzVZsheUR0BzO1UC/DVTr21f/z+DmPvIntF9o720JmbezlQ06lWkiRJ6lGe3b6fq775OH/309+z88BhBuTncfUl0/j1NW/jHWeMNnSqR+iOzYWeBPYBXwghPA/8Figku7z1zcAncnVn5R4f72KOJ4CP5OpXhBBGA2OBHx+ltn2+n3V4vj3GuLVjYYxxawhhR4fPfSx9vCeEMLj9aqokSZLUE+w91Myt963jzie30L6Ice7rTuO6uTMYN7wo2eakTk548Iwx1oUQ5gPf4X+DIEA98Gcxxl/mPh6Te9zOn2ofG/sqatvrq47S4nay93B2rH25uUOuZv1R5pMkSZJOmtZMGz/+7RZuu28dB5paAZg2ajCL5pXzlikjE+5O6lp3HadyEHiW7D2Sj5FdCvtJ4CchhHfGGO8nu7wV4HAX72/KPRZ1ejyW2vbnXdW213euPZ65jwghfBz4OMCECROO8ukkSZKkE+PxjXtYsryS6hfrARgyMJ/Pvn0a7z93IulUtxxYIZ0Q3bGr7evIhs2rY4zf7DB+J9kw+u0QwulAQ+6lAV1MMzD32NDp8Vhq2593Vdte37m2fe7GY5j7iBjjt4BvQXZzoaN8PkmSJOk12bGvkX+8ey0r/vACACHAX541ns9dOp1TBh/tx16p5+iOK55Xkw1sP+84GGNsCCGsIHtcyiT+d/Ohsfyp9rH25a/HU9te31Vte33n2vbxDV3URjptlCRJkiSdDE0tGb69qoavr9xAU0sbAG+aUMyS+WfwunHDEu5OOnbdETzbA1/qZT5fPvBU7vl5ZO8H7ehcsoFvDUCM8YUQwvbceGftYx3PMnkKeF8IYXzHDYZCCOPJ3q9Z0an247k+OgfPc4B1biwkSZKkkynGyH1VO7lpRRVb92YX5Z06ZADXXl7G/3njWHeqVa/THQvB2zf1+VDHwRBCMfBOoI7ssSgbyIbFq0IIYzrUjQGuAh6MMb7YYYo7gdNz52u216aAT5PdRffuTrUAf9ept/aPO+6O+z9kl9h+Kjdf+9zzyJ4P2tVOupIkSVK32FBbzwe/9yQLfriGrXsbSacCC95WykOfm8O73zTO0KleqTuueH4V+CBwS+5+z9+Q3Vzor4HRwCdjjK252s8ADwGPhBDuyI19mmwgvqbTvLeQDaQ/CSHcTna57HvIHofysRhjfXthjHFFCOEu4LMhhGFkj0o5D/go8KMY46MdaneFEG4AbgUeyN2LOjb3+av507NAJUmSpBPuQFML//LAc/zgsedpbctuHzJn+qksvHImpacOTrg76bUJMZ74PXFymwctBC4GRpG9ovh74Ksxxl90qj0PuInsstZIdmOia2OMv+ti3rFkA+jlwGCyV1e/HGP8aRe1A4HrgfeTDbzbge8Dt8QYW7qo/xDZ+1OnAweAu4Avxhhrj+XPPGvWrLh69epXLpQkSZI6aGuL/OfvtvGVe6vZfbAZgEmnFLFw3kwuKhuVcHfSsQshrIkxzuryte4Inv2RwVOSJEnH6+ktdSyuqOSZbfsBKCpI8amLpvDRCyYzIL+rLVOknuvlgmd3neMpSZIk6Sh21R/my/dW859rth0Ze+eZY7j28hmcNmzgy7xT6p0MnpIkSdJJ0pJp4wePPc+/PPAc9Yez257MHD2UJe8s56xJIxLuTuo+Bk9JkiTpJHjkuV0srqhk465DABQXpfncpdN5z9kTSOW5U636NoOnJEmS1I227GngxhVV3F+1E4C8AO8/dyKfffs0iosKEu5OOjkMnpIkSVI3aGhu5RsrN7JsVQ3NrW0AnD15BIvnlTNzzNCEu5NOLoOnJEmSdALFGLnrDy9w891reWF/EwCjhw3kurkzuPL1ownBZbXqfwyekiRJ0gmy9oUDLK6o5Leb9gJQkJ/Hgtml/N85p1NU4I/e6r/8r1+SJEl6jfY1NHP7/ev50RObaYvZsUtnjuL6K2Yy4ZSiZJuTegCDpyRJkvQqZdoi//HUFm791TrqGloAKD11EIvnlTN72qkJdyf1HAZPSZIk6VV46vm9LPqfSqpeOADA4AH5fObiqfzV+ZMoyM9LuDupZzF4SpIkScfhxf1NfOmetfzP73ccGbvqzeP4/DumUzJkYIKdST2XwVOSJEk6BodbM3z30U187cENNDRnAHjDuGEsnl/OGycMT7g7qWczeEqSJEmv4Ndrd7L0rio272kAYOTgAr7wjjL+vzeNIy/P41GkV2LwlCRJko6iZtdBbryriofW7QIglRf40PmT+MwlUxk6MJ1wd1LvYfCUJEmSOjl4uJU7HnyO7z26iZZM9nyUC6aMZNG8mUwdNSTh7qTex+ApSZIk5cQY+eXvt/Olu6uprT8MwLjhhdxw5UwunTmKEFxWK70aBk9JkiQJeHb7fhZVVLJmcx0AA9N5/M2cKXx8dikD06mEu5N6N4OnJEmS+rU9Bw9z633r+Y+nthCzq2q54vWjuW7uDMYWFybbnNRHGDwlSZLUL7Vm2vjRE5u5/f71HGhqBaDstCEsmlfOeaefknB3Ut9i8JQkSVK/89iG3SxZXsW6nfUADCtMc82l03jv2RPIT+Ul3J3U9xg8JfUpK6trWbaqhq11DYwfXsSC2aXMKStJui1JUg+xra6Bm+9ey91/fBGAEOA9Z0/gc5dOZ8SggoS7k/oug6ekPmNldS0LKypJpwLFhWlq65tYWFHJUjB8SlI/19SS4ZsPb+QbKzdyuLUNgFkTh7N4fjlnjB2WcHdS32fwlNRnLFtVQzoVKCrIfmsrKsinobmVZatqDJ6S1E/FGPlV5YvceNdatu9rBKBkyACumzuDd545xuNRpJPE4Cmpz9ha10BxYfolY4XpFNvqGhLqSJKUpPU761myvJLfbNgDQDoV+NhbS/nkhVMYPMAfg6WTyf/jJPUZ44cXUVvfdOSKJ0BjS4Zxw4sS7EqSdLLtb2zhXx54jh88/jyZtuz5KBeVlXDDlTOZPHJQss1J/ZTBU1KfsWB2KQsrKmlobqUwnaKxJUNLJrJgdmnSrUmSToK2tsjP12zlK/euY8+hZgAmnVLEwnkzuahsVMLdSf2bwVNSnzGnrISlZO/13FbXwDh3tZWkfuN3W+pYXFHJH7btB6CoIMWnL5rKRy6YxID8VMLdSTJ4SupT5pSVGDQlqR+prW/iy/es479+t+3I2LvOHMO1c2cwaujABDuT1JHBU5IkSb1Oc2sb//bYJv711xs4eLgVgPIxQ1kyv5xZk0Yk3J2kzgyekiRJ6lVWrqtl6fIqanYfAmB4UZrPX1bGX5w1nlSex6NIPZHBU5IkSb3C5j2HuPGutTywdicAqbzAB86dyNWXTGNYUfoV3i0pSQZPSZIk9WgNza18/aENfHvVJpozbQCcWzqCxfPLKTttaMLdSToWBk9JkiT1SDFGlv/hBW5esZYXDzQBMLa4kH+4YgaXn3EaIbisVuotDJ6SJEnqcap2HGBxRSVPPr8XgIL8PD7xttP5v287ncICj0eRehuDpyRJknqMukPN3Hb/On7y2y20xezYZeWjuP6KmYwfUZRsc5JeNYOnJEmSEpdpi/zkyS3cdt869jW0ADClZDCL5s3krVNPTbg7Sa+VwVOSJEmJ+m3NHphv+nYAACAASURBVBYvr2LtCwcAGDIgn89cMpW/On8S6VRewt1JOhEMnpIkSUrEC/sb+dLd1VQ8s+PI2J/PGsfnLyvj1CEDEuxM0olm8JQkqYdaWV3LslU1bK1rYPzwIhbMLmVOWUnSbUmvWVNLhu8+uomvPbiBxpYMAGeOL2bx/HLOHF+ccHeSuoPBU5KkHmhldS0LKypJpwLFhWlq65tYWFHJUjB8qteKMfLrtbXcuKKKzXsaABg5eABfvLyMd79xLHl5Ho8i9VUGT0mSeqBlq2pIpwJFBdm/qosK8mlobmXZqhqDp3qljbsOsnR5FQ+v3wVAfl7gw2+ZxN9ePJUhA9MJdyepuxk8JUnqgbbWNVBc+NIfxgvTKbbVNSTUkfTq1De1cMeDG/jeo5tozZ2P8tapI1k0r5wpJYMT7k7SyWLwlCSpBxo/vIja+qYjVzwBGlsyjBvuOYbqHdraIr94eju33FPN7oOHAZgwoogbrpzJJTNKCMFltVJ/YvCUJKkHWjC7lIUVlTQ0t1KYTtHYkqElE1kwuzTp1qRX9Idt+1hUUcnTW/YB2av1n7zwdD721lIGplMJdycpCQZPSZJ6oDllJSwle6/ntroGxrmrrXqB3QcP80/3ruNna7YSs6tqmfeGMVx7eRljiguTbU5SogyekiT1UHPKSgya6hVaMm38++Ob+eoD66lvagWg7LQhLJ5fzrmlpyTcnaSewOApSZKkV+03G3azuKKS52oPAjCsMM3nLp3Ge86eQH4qL+HuJPUUBk9JkiQdt617G/jHFWu5t/JFAEKA9549gc9dOp3hgwoS7k5ST2PwlCRJ0jFrbM7wzYc38s2HN3K4tQ2AsyYNZ9G8cs4YOyzh7iT1VAZPSZIkvaIYI/c8+yL/uGIt2/c1AjBq6ACumzuD+W8Y4/Eokl6WwVOSJEkva92L9SxZXsljG/cAUJDK42NvncwnL5zCoAH+OCnplfmdQpIkSV3a39DCPz+wnh8+sZlMW/Z8lEtmlHD9FTOZNHJQwt1J6k0MnpIkSXqJTFvkZ6u38k+/WsfeQ80AlI4cxA3zZnLhdI/4kXT8DJ6SJEk6Ys3mvSyuqOKP2/cDMKggxd9ePJUPv2UyBfkejyLp1TF4SpIkidoDTdxyTzW/eHr7kbF3v3EsX7y8jJKhAxPsTFJfYPCUJEnqxw63Zvj+b57njl8/x6HmDACvGzuMxfPLefPE4Ql3J6mvMHhKkiT1Uw+tq2Xp8io27T4EwIhBBXzhsulcNWs8qTyPR5F04hg8JUmS+pnndx/ixruq+HV1LQCpvMAHzp3I1ZdMY1hROuHuJPVFBk9JkqR+4tDhVr720Aa++8gmmjNtAJxXegqL55cz/bQhCXcnqS8zeEqS+ryV1bUsW1XD1roGxg8vYsHsUuaUeSSE+o8YIxXP7ODmu9ey88BhAMYWF3L9FTN4xxmnEYLLaiV1L4OnJKlPW1ldy8KKStKpQHFhmtr6JhZWVLIUDJ/qF57dvp8lyyt56vk6AAbk5/GJt53OJ952OoUFqYS7k9RfGDwlSX3aslU1pFOBooLsX3lFBfk0NLeybFWNwVN92t5Dzdx23zp+8uQWYsyOXX7GaVw3dwbjRxQl25ykfsfgKUnq07bWNVBc+NLNUgrTKbbVNSTUkdS9WjNt/OTJLdx233r2N7YAMG3UYBbNK+ctU0Ym3J2k/srgKUnq08YPL6K2vunIFU+AxpYM44Z7xUd9z+Mb97BkeSXVL9YDMGRgPldfMo0PnDeRdCov4e4k9WcGT0lSn7ZgdikLKyppaG6lMJ2isSVDSyayYHZp0q1JJ8yOfY38491rWfGHFwAIAf5i1ng+f9l0Thk8IOHuJMngKUnq4+aUlbCU7L2e2+oaGOeutupDmloyfHtVDV9fuYGmluzxKG+cUMyS+eW8flxxwt1J0v8yeEqS+rw5ZSUGTfUJ7UcDbdl7iMED0uw91Myug9njUU4dMoBrLy/jXWeOJS/P41Ek9SwGT0mSpF6g/WigGCP7G1vYvq8JgFRe4GMXTObTF09l8AB/tJPUM/ndSZIkqRf4+soN7G9sZn9j65GxwnSK6aOGcO3cGQl2JkmvzOApSZLUg7W1Rf7rd9tYs7mOttx5nAWpPEYPG8jgASn2HDqcbIOSdAwMnpIkST3UM1v3sbCikme27gMgACVDBzBy8ADyQqChudWjgST1CgZPSf1O++YcW+saGO8Op5J6oF31h/nKvdX8fM22I2PnTh7BlroGCtMpAtDQ3OrRQJJ6DYOnpH6lfXOOdCpQXJimtr6JhRWVLAXDp6TEtWTa+MFjz/MvDzxH/eHsvZwzRg9l8byZnFN6ypFfnHk0kKTexuApqV9ZtqqGdCpQVJD99ldUkE9DcyvLVtX4w5ukRD3y3C6WLK9iQ+1BAIqL0nzu0um85+wJpHLHo3g0kKTeyuApqV/ZWtdAcWH6JWOF6RTb6hoS6khSf7dlTwM3rajivqqdAOQFeN85E7nm0mkUFxUk3J0knRgGT0n9yvjhRdTWNx254gnQ2JJxcw5JJ11jc4ZvrNzAN1fV0NzaBsDZk0eweF45M8cMTbg7STqxDJ6S+pUFs0tZWFFJQ3MrhekUjS0ZN+eQdFLFGFnxxxe4ecVaduxvAmD0sIFcN3cGV75+NCGEhDuUpBPP4CmpX5lTVsJScHMOSYmofvEAiysqeaJmL5A9j/Pjs0v5mwtPf8lKDEnqa/wOJ6nfcXMOSSfbvoZm/vn+9fzwic20xezY22eO4vorZjDxlEHJNidJJ0Fed00cQhgRQrg1hLAhhNAUQtgVQngohPDWTnXnhBAeCCHUhxAOhBDuDSGceZQ5x4QQ/j03V2MIYXUI4aqj1A4IISwNIWwKIRwOIWwMIVwfQkgfpf6DIYSnc/PuDCF8J4Rw6mv/SkiSpP4q0xb58W83c+GtK/nB49nQWXrqIP7tw2fx7Q/OMnRK6je65YpnCGEisBIYDHwXWA8MA14PjO1Qd26ubjuwMDf8KeCREML5McY/dqgdATwKlAC3A9uA9wI/CyF8JMb4/U5t/BR4J/A94HHgPOBGYArwoU79Xp2b82HgM8A44LPAeSGEs2OMh171F0OSJPVLq5/fy6KKSip3HABg8IB8PnPxVP7q/EkU5Hfb7/4lqUfqrqW2P8rN/foY4wsvU/evQDMwO8a4HSCE8DNgLXAbcGmH2i8Ck4H5Mcbludrvkg2Vt4YQfh5jPJgbn0s2dN4eY7wm9/7vhBD2AZ8NIXwrxvhYrnYkcBPwFHBxjDGTG38KqCAbRG9+TV8NSZLUb7y4v4lb7lnLL3+/48jYu980li++o4ySoQMT7EySknPCf90WQpgNXAB8Jcb4QgghHUL4k3MKQghTgLOAn7eHToDc858Dl4QQTuvwlvcCG9tDZ642A9wBjADmdqoF+GqnT9v+8fs7jL0LKALuaA+dubmXAzWdaiVJkrp0uDXDN1Zu5KLbVh4Jna8fN4xf/M353P7nZxo6JfVr3bHOoz0AbgkhLAcagUMhhPUhhI4h7qzc4+NdzPEEEIA3A4QQRpNdovvEUWo7ztf+fHuMcWvHwtzHO7qofbk+ykIIg7t4TZIkCYAHq3dy2T+v4sv3VtPQnOGUQQV85c9ezy//5i28acLwpNuTpMR1x1Lb6bnHbwPPAX8FDCB7z+QPQwjp3P2YY3J12/90iiNj7feDHk9te33VUfrbTvYezo61Lzd3yNWsP8p8kiSpn9q0+xA33lXFg9W1AKTyAh86fxJ/e/FUhhV2uZ+hJPVL3RE8h+Qe64ELY4zNACGE/ya7dPXmEMIPyC5vBTjcxRxNuceiTo/HUtv+vKva9vrOtccz9xEhhI8DHweYMGHCUT6dJEnqaw4ebuVrD27gu4/W0JLJno9ywZSRLJo3k6mjhrzCuyWp/+mO4NmYe7yzPXQCxBjrQggVwAfJXhVtyL00oIs52m+CaOj0eCy17c+7qm2v71zbPndjF7Wd5z4ixvgt4FsAs2bNikf5fJIkqY+IMfLL32/nS3dXU1uf/Z31uOGFXH/FDC4rP40QQsIdSlLP1B3Bc1vu8cUuXmvf4XY42Xst4aVLZOk01r789Xhq2+u7qm2v71zbPr6hi9rYoUaSJPVTz27fz6KKStZsrgNgYDqPv5kzhY/PLmVgOpVwd5LUs3VH8HwS+AQvvY+yXftYbe4fyJ6v+Z1OdeeSDXxrAHK7427PjXfWPra6w9hTwPtCCOM7bjAUQhhP9n7Nik61H8/10Tl4ngOsaz+mReotVlbXsmxVDVvrGhg/vIgFs0uZU1aSdFuS1CvtOXiYW+9bz388tYWYW990xetGc+3cMsYN7/JuHElSJ92xq+0vyd7f+f6Ou8HmdqZ9F/BcjHFDjHED2bB4VQhhTIe6McBVwIMxxo5XTe8ETg8hzOtQmwI+DewD7u5UC/B3nXpr//jHHcb+h+wS20/l5mufex5weqdaqcdbWV3LwopKauubKC5MU1vfxMKKSlZW177ymyVJR7Rm2vi332ziwltXcueT2dA5fdQQfvLX5/D1973J0ClJx+GEX/HM3cv5OWAZ8EQI4XtAAfB/c4+f6lD+GeAh4JEQwh25sU+TDcTXdJr6FrKB9CchhNvJLpd9D9njUD4WY6zv0MOKEMJdwGdDCMPIHpVyHvBR4Ecxxkc71O4KIdwA3Ao8EEK4k+wS22uAav70LFCpR1u2qoZ0KlBUkP3fu6ggn4bmVpatqvGqpyQdo8c27mZJRRXrdmZ/vBg6MJ/Pvn0a7z93Ivmp7vi9vST1bd2x1JYY47dCCLuBLwA3Am1kw997Y4y/6VD3WAhhDnBT7p8IPAZcFWN8ptOce0IIbyEbQD8JDCZ7ZMpfxhh/2kUbVwHXA+8HPkA2qC7Mvb9zv7eFEPYAVwP/ChwAfgZ80WW26m221jVQ3GkL/8J0im11Xe6RJUnqYPu+Rm5esZYVf8xuSxEC/OVZE/jcpdM4ZfDR9i2UJL2SEKObsZ4Is2bNiqtXr37lQqmbvedbT1Bb33TkiidAQ3MrJUMGcufHu7pNWpLU1JJh2cM1fOPhDTS1tAHw5onDWTK/nDPGDku4O0nqHUIIa2KMs7p6rVuueEpKzoLZpSysqKShuZXCdIrGlgwtmciC2aVJtyZJPU6MkV9V7uSmFVVsq8ueqlYyZADXzi3jXWeO9XgUSTpBDJ5SHzOnrISlZO/13FbXwDh3tZWkLj23s54ly6t4dMNuANKpwEcvKOVTF01h8AB/RJKkE8nvqlIfNKesxKApSUdxoKmFr97/HD94/HkybdlbjuZMP5WFV86k9NTBL/9mSdKrYvCUJEn9Qltb5D/XbOMrv6pm98FmACadUsTCeTO5qGxUwt1JUt9m8JQkSX3e01vqWFxRyTPb9gNQVJDi0xdN5SMXTGJAfuoV3i1Jeq0MnpIkqc+qrW/iy/es479+t+3I2LvOHMMXL5/BacMGJtiZJPUvBk9JktTnNLe28YPHnudffv0cBw+3AlA+ZihL5pcza9KIhLuTpP7H4ClJkvqUh9fvYsnySmp2HQJgeFGaz19Wxl+cNZ5UnsejSFISDJ6SJKlP2LKngRtXVHF/1U4A8gJ84NyJXP32aRQXFSTcnST1bwZPSZLUqzU0t/L/HtrItx6pobm1DYBzJo9g8fxyZowemnB3kiQweEqSpF4qxsjyP7zAl+5eywv7mwAYPWwg/3DFDK543WhCcFmtJPUUBk9JknqJldW1LFtVw9a6BsYPL2LB7FLmlJUk3VYiqnYcYPHySp7ctBeAgvw8PjG7lE/MOZ2iAn+8kaSexu/MkiT1Aiura1lYUUk6FSguTFNb38TCikqWQr8Kn/samrntvvX8+LebaYvZsUtnjuKGK2cyfkRRss1Jko7K4ClJUi+wbFUN6VQ4cjWvqCCfhuZWlq2q6RfBM9MWufPJLdx63zr2NbQAcPqpg1g0r5zZ005NuDtJ0isxeEqS1AtsrWuguDD9krHCdIptdQ0JdXTyPLlpL4srKql64QAAQwbk85lLpvJX508incpLuDtJ0rEweEqS1AuMH15EbX3TS+5fbGzJMG54311e+uL+Jm6+ey0Vz+w4MnbVm8fxhXeUceqQAQl2Jkk6XgZPSZJ6gQWzS1lYUUlDcyuF6RSNLRlaMpEFs0uTbu2Ea2rJ8N1HN/H1hzbQ0JwB4A3ji1kyv5wzxxcn3J0k6dUweEqS1AvMKSthKdl7PbfVNTCuD+5qG2Pk12truXFFFZv3ZJcQjxxcwN+/o4w/e9M48vI8HkWSeiuDpyRJvcScspI+FTQ72rjrIDfeVcXKdbsAyM8LfOj8SfztJVMZOjD9Cu+WJPV0Bk9JkpSY+qYWvvbgBr73m020ZLLno7x16kgWzZvJlJIhCXcnSTpRDJ6SJOmka2uL/PfT27nl3mp21R8GYNzwQm64ciaXzhxFCC6rlaS+xOApSZJOqj9s28fiikp+t2UfAAPTeXxyzhT+enYpA9OphLuTJHUHg6ckSTop9hw8zD/9ah0/Xb2VmF1VyxWvH811c2cwtrgw2eYkSd3K4ClJkrpVS6aNHz2xmdvvX099UysAZacNYdG8cs47/ZSEu5MknQwGT0mS1G1+s2E3S5ZXsn7nQQCGDsznmkun875zJpCfyku4O0nSyWLwlCRJJ9zWvQ3cfPda7nn2RQBCgPecPYHPXTqdEYMKEu5OknSyGTwlSdIJ09SS4ZsPb+QbKzdyuLUNgFkTh7N4fjlnjB2WcHeSpKQYPCVJ0msWY+TeZ1/kphVr2b6vEYBRQwdw3dwZzH/DGI9HkaR+zuApSZJek/U761lcUcljG/cAUJDK42NvncwnL5zCoAH+qCFJMnhKkqRXaX9jC/98/3p++MRmMm3Z81EuLivh+itnMnnkoIS7kyT1JAZPSZJ0XDJtkZ+v3spXfrWOvYeaAZg8chALr5zJhWUlCXcnSeqJDJ6SJOmYrdlcx+KKSv64fT8AgwpSfPriqXzkLZMpyPd4FElS1wyekiTpFdUeaOKWe6v5xe+2Hxl79xvH8veXlzFq6MAEO5Mk9QYGT0mSdFTNrW18/zeb+NdfP8eh5gwA5WOGsmR+ObMmjUi4O0lSb2HwlCRJXVq5rpaly6uo2X0IgBGDCvj8ZdP581njSeV5PIok6dgZPCVJ0ks8v/sQN62o4oG1tQCk8gIfOHciV18yjWFF6YS7kyT1RgZPSZIEwKHDrfy/lRv49qpNNGfaADiv9BQWzy9n+mlDEu5OktSbGTwlSernYoxUPLODL91dzYsHmgAYW1zIP1wxg8vPOI0QXFYrSXptDJ6SJPVjlTv2s7iikqeerwNgQH4en3jb6XzibadTWJBKuDtJUl9h8JQkqR+qO9TMbfev4ye/3UJbzI5dfsZpXDd3BuNHFCXbnCSpzzF4SpLUj7Rm2rjzyS3cet969je2ADC1ZDCL5pVzwdSRCXcnSeqrDJ6SJPUTT9TsYXFFJdUv1gMwZGA+V18yjQ+cN5F0Ki/h7iRJfZnBU5KkPm7Hvka+dE81y5/ZAUAIcNWbx/GFd5QxcvCAhLuTJPUHBk9JkvqoppYM33mkhq8/tJHGlgwAZ44vZsn8ct4wvjjh7iRJ/YnBU5KkLqysrmXZqhq21jUwfngRC2aXMqesJOm2jkmMkQfW1nLjXVVs2dsAwMjBA/ji5WW8+41jycvzeBRJ0sll8JQkqZOV1bUsrKgknQoUF6aprW9iYUUlS6HHh88NtQdZelcVq9bvAiA/L/CRCybz6YumMGRgOuHuJEn9lcFTkqROlq2qIZ0KFBVk/5osKsinobmVZatqemzwrG9q4V9//Rzf/83ztObOR3nr1JEsmlfOlJLBCXcnServDJ6SJHWyta6B4sKXXh0sTKfYVteQUEdH19YW+cXT27nlnmp2HzwMwIQRRVx/xQzePnMUIbisVpKUPIOnJEmdjB9eRG1905ErngCNLRnGDS9KsKs/9czWfSyqqOT3W/cB2XD8qYum8NELJjMwnUq4O0mS/pfBU5KkThbMLmVhRSUNza0UplM0tmRoyUQWzC5NujUAdh88zFfureZnq7cdGZv/hjFcO7eM0cMKE+xMkqSuGTwlSepkTlkJS8ne67mtroFxPWRX25ZMG//++Ga+ev966g+3AlB22hCWzC/nnNJTEu1NkqSXY/CUJKkLc8pKEg+aHT363G4WL69kQ+1BAIqL0lzz9mm85+wJ5KfyEu5OkqSXZ/CU1Gv05nMVpVdr694GblpRxa8qdwKQF+B950zks2+fxvBBBQl3J+n/Z+/O4+ws6/v/v66zzT6ZyTIJZIGE7EFQiBQUQ0SKrHGjC61tf1YFq0LxK26IIQQq4lIqSGuw1lpbqRZrDbIKMQQFhLApk0z2kI1kssx+9vu+fn/c5xzOTM6sOWfOOTPv5+OBY+5zn/tc50yW+z2f67o+IjI0Cp4iUhbKua9iqVOgL02RuMO/PLWDNU/tIJZ0ATjn1IncsmIxS06eUOTRiYiIDI+Cp4iUhXLsq1gOFOhLj7WWR147yD88tJn97REAptVXctPli7jyjJPUHkVERMqSgqeIlIVy6qtYThToS0vLwU5uXbuJZ3ceBSDk9/HxZbP55PK51FTon2wRESlf+ldMRMpCufRVLDcK9KWhI5zgrie28qPnXsdxLQAXLWri5ssXc+rkmiKPTkRE5MQpeIpIWSj1vorlSoG+uBzX8pMX9vKNx1poCycAmDO5hq9cuZh3L1DFWURExg4FTxEpC6XaV7HcKdAXz4uvH+OWtc28tr8TgJqQn7+/aB7/3ztmEwqoPYqIiIwtCp4iUjZKra/iWKBAP/oOdUb52iMt/Pzl/ZljHzprBl+4ZAFN9ZVFHJmIiEjhKHiKiIxzCvSjI5Z0+Lff7OaeddsIxx0AzpgxgVUrlnDWrMYij05ERKSwFDxFREQK7Nctraz+5SZ2HekBYFJNiM9fsoA/OXsmPp/ao4iIyNin4CkiIlIgu470cNsvN7GupRUAv8/wN+edyt9fNI8JfXYTFhERGcsUPEVERPKsJ5bkO7/ezvef3kXccQF459xJrLpyCfOm1hV5dCIiIqNPwVNERCRPrLX84pUD3PHIZg51xgCY3lDFV65YxHuXTMMYTasVEZHxScFTREQkD17b38Gqtc1sfL0NgIqAj79bfhqfuOA0KoP+Io9ORESkuBQ8RURETsCxnjjffHwL9z+/B2u9Y5e9ZRo3XbaIGY3VxR2ciIhIiVDwFBERGYGk4/Jfv9vDtx7fQmc0CcD8qbWsunIJ75g7ucijExERKS0KniIiIsP07I6j3PpgMy0HuwCoqwzw//54Ph8+9xSCfl+RRyciIlJ6FDxFRESGaH97hK8+vJmHfv8GAMbAny2dyefeu4BJtRVFHp2IiEjpUvAUKTPrW1pZs2Ene9vCzGys5tplc1i+sKnYwxIZ06IJh/s27OSf128nmvDao5w1q4FVK5ZwxoyGIo9ORESk9Cl4ipSR9S2trFzbTNBvaKgK0toVZeXaZlaDwqdIAVhreaz5ELc/tIl9bREAptRV8KVLF/L+t07H51N7FBERkaFQ8BQpI2s27CToN1SHvD+61aEA4XiSNRt2KniK5Nn21i5ufXATT287AkDQb/jb82dz3YXzqK3QP58iIiLDoX85RcrI3rYwDVXBXseqgn72tYWLNCKRsaczmuDbT2zjh8/sJul6/VGWL5jCyisWM2dKbZFHl5um4IuISKlT8BQpIzMbq2ntimYqngCRhFPSvQJ1QyzlwnUtD7y4j68/1sKR7jgAp0yqZuUVi3nPoqlFHl3/NAVfRETKgfZ8Fykj1y6bQ8KxhONJrPW+JhzLtcvmFHtoOaVviFu7or1uiNe3tBZ7aCK9vLynjQ/882/5/M9+z5HuONUhP5+/ZAGPf2ZZSYdO6D0F3xjva9BvWLNhZ7GHJiIikqGKp0gZWb6widV4N5r72sLMKPEKotakSqk73BXjzkdbeODFfZlj73vryXzp0kVMm1BZxJENnabgi4hIOVDwFCkzyxc2lU1o0w2xlKqE4/LDZ3bz7Se20RVLArD4pHpufd8S3n7qxCKPbnjKcQq+iIiMPwqeIlIwuiGWUvT0tsOsWtvMjsM9ADRUB7nx4gVcfc4s/GXYHuXaZXNYubaZcDxJVdBPJOGU9BR8EREZnwq+xtMYU22M2WWMscaY7+R4fIEx5v+MMW3GmB5jzNPGmAv7udYEY8w9xpj9xpioMabZGPN3xpjj7hSMMT5jzGeMMS2pc/caY75ljKnp59qXGWOeSY3hmDHmf4wxs0/8ExAZv8ptTaqMbXuOhrnmPzbyV99/nh2He/AZ+OvzTmH9jcv58LmnlGXohNQU/BVLaKqrpCOSoKmuktUrlpTNzAgRERkfRqPiuRqYnOsBY8xpwDNAEvg60AF8HHjMGHOptfaJrHNDwK+AtwH3AJuBS4F/BqYCq/pc/i7geuDnwLeARalfv80Yc5G11s269geBB4BXgc8BE4AbgN8aY5Zaaw+cwPsXGbfKbU2qjE3heJJ/Wb+DNRt2Ek96f/X/0eyJrFqxhEUn1Rd5dPlRTlPwRURkfDLW2sJd3JizgOeBz+OFv3uttZ/OevynwIeAs621r6SO1QLNQBRYaFMDNMZ8ErgXuN5ae0/WNX4GXAnMs9a+njq2BPgD8HNr7Yeyzr0OuBv4S2vtj1PHgsBuvPC7xFrbnTr+VuBF4PvW2msGe69Lly61GzduHPZnJCIihWGt5aE/vMFXH9rMgY4oACdNqOSmyxZxxRknkWOyjIiIiJwAY8yL1tqluR4r2FRbY4wf+B7wKPC/OR6vAVYA69OhEyAV/P4VmA+8PespfwGEU9fM9k9AEPizrGNXAyb1WLbvpa7x4axjFwAnA/+aDp2pcbwCrAf+LBVORUSkTGx+o5M/v+85Pv3jlznQESUU8HHdhXN58rMXVWKAkQAAIABJREFUcOWZJyt0ioiIjLJCTrX9DLAQr6KZyxlABfBsjseeS319O/C8McYHnAW8ZK2N9jn3ecCld0h9e+rY89knWmujxphXcpzLAOO4EC8EN/fzPkREpES0h+P846+28p/PvY6bmtBz8eKp3Hz5YmZN0qZWIiIixVKQ4JnalOdWYLW1drcx5tQcp52c+ro/x2PpY9NTXxuBqlznWmtjxpijWeemr33EWhvr59rvMMaErLXxYYxDwVNKyvqWVtZs2MnetjAztXZSxjnHtfz3C3v45mNbaAsnADhtSg23XLmEZfOnFHl0IiIiUqiK578Au4B/HOCc9I+ec4XDaJ9zBjo3fX72j7KrBzk3fU58mOPoxRhzDXANwKxZs/p5OZHe8hEY17e0snJtM0G/oaEqSGtXlJVrm1kNCp8y7ryw+xi3/KKZTW90AlBbEeCGi+bxN+84laC/4Ju3i4iIyBDkPXgaYz4MXAwss9YmBjg13UG+IsdjlX3OGejc9PnZHenDQH9338O5dt9ze7HW3gfcB97mQv28nkhGvgLjmg07CfpNpj9mdShAOJ5kzYadYzp4qsor2Q52RLnjkc384pU3Nx7/k7Nn8LlLFtBUVznAM0VERGS05TV4GmMq8KqcDwMHjTFzUw+lp8FOSB07Ahzo81i29LH0VNc2IJLr3NRrTgKeyjp8AFhsjKnIMd12Ot403HjWuenjmwcZh8gJyVdg3NsWpqGq955XVUE/+9py/oyk7K1vaeXOR1vY2tpN0G+YWlehKu84Fks6fP83u/jOuu2E4w4AZ86YwKoVS3jbrMYij05ERERyyfccpCpgCnA5sC3rv/Wpxz+c+vXH8NqdxIDzclzn3NTXjQCpnpsv4fXg7FuZPAfvfWT3Mnkhdeyc7BONMZXAW3OcywDj6AS25nhMZNj2toWpCvp7HRtJYJzZWE0k4fQ6Fkk4zGgce5unpKvEu4704DdgXTjQESXpWIJ+w5oNO4s9RBlFT24+xMV3beDrj24hHHeYXBvi61edwc8/+U6FThERkRKW7+DZA/xJjv8+mXr80dSv16ZalzwILDfGnJm+QKqP58fwAmr2rrT346217NtT8wa8Hpw/zTr2E8CmHsv28dQ1/ivr2FPAG8DHUq+dHseZwHLgfwaZMiwyZPkKjNcum0PCsYTjSaz1viYcy7XL5uRzuCUhXSV2rMXnM95/GI50x8Z0lVd623m4m4/84Hk++sONvH40TMBn+Oj5s1l343L+dOlMfD61RxERESlleZ1qmwpoD/Q9nrWr7Q5rbfbjXwLeAzxujLkLr7r4cbwprpdba7PXTX4P+Ajwj6nrbQYuAz4A3G6t3ZU1jj8YY+4FPm2M+V+8qb+LgOvxguaPs8dsjPl7vLD6tDHme0A9XjuYw8AtI/ksRHK5dtkcVq5tJhxPUhX0E0k4IwqMyxc2sRovlO1rCzNjDK93TE8rDvl9JF2LMWAMxB13zFZ55U3dsST3rNvGv/1mFwnH+yfh/LmTueXKxcybWlfk0YmIiMhQFbKP56CstduNMe8EvgZ8EQjhTam9xFr7RJ9z48aYi4Dbgavx1nXuAK4D7s1x+RuA3XgV0svx1pXeA6xMTd3Nvvb/GGMiwM3AN/GmAD8JfMFaq/Wdkjf5DIzLFzaNyaDZ18zGalq7okypq+BAexQXi7UWv8+M2SqvgOta/u+V/dzxSAuHu7yl+jMaq7j58sW8d8lUjFGFU0REpJyY3kVFGamlS5fajRs3Dn6iiAxL9k7AScflUGeMhOsyb0otX7x00bgI3+UiX7sO/2FfB7esfY2X9rQDUBn08XcXzOXaC+ZQ2WeNtIiIiJQOY8yL1tqluR4rasVTRGQwfavEb5vVOGanFZezfLQKOtod45uPb+G/X9hL+meil59xEjddtojpDVWFG7yIiIgUnIKniJS88TKtuJydSKugpOPyo+de5x9/tZWuaBKAhdPquOXKJZx32qSCj11EREQKT8FTRERO2Eh7yz6z/QirHmxm66FuAOorA3z24gX85R/NIuDP98brIiIiUiwKniIicsLSm0ClK54wcKugfW1hvvrwZh7+w0HA26n4z98+i8+9dwETa0KjMmYREREZPQqeIqMkXxuviJSiobYKiiYc1jy1k395ajvRhLfB+NJTGlm1YgmnT59QjKGLiIjIKFDwFBkF+dh4RaSUDdYqyFrLY80Hue2Xm9nfHgGgqa6Cmy5bxPveerLao4iIiIxxCp4io+BENl4RKRf9bQK17VAXtz64id9sPwJA0G/46Plz+PSFc6mt0D9DIiIi44H+xRcZBSPdeEWknHVEEnz7iW388NndOK7XH+XdC6aw8solzJ5cU9zBiYiIyKhS8BQZBcPdeEWknLmu5X9e3MvXH93C0Z44AKdOquYrVyzmPYumFnl0IiIiUgwKniKjYKgbr4iUu5f2tLFqbTO/39cBQHXIz3UXzuNvzz+VioC/yKMTERGRYlHwlDGnFHePHWzjFZFy19oV5c5HtvCzl/Zljn3gbdP54qULmVpfWcSRiYiISClQ8JQxpZR3j+1v4xWRchZPuvz7M7u4+8ntdMeSAJw+vZ5VVy5h6akTizw6ERERKRUKnjKmjJfdY0uxqivjz/otraz+5SZ2Hu4BoLE6yOcvWcifLp2J36f2KCIiIvImBU8ZU8bD7rGlXNWV8eH1oz3c9svNPLH5EAB+n+Gvzj2Fz1w0nwnVwUGeLSIiIuORgqeMKeNh99jxUtWV0hOOJ7n319v53oZdxB0XgHPnTGTViiUsnFZf5NGJiIhIKVPwlDFlPOweOx6qulJarLU8+Ps3+OpDmznYGQVgekMVX758EZeePg1jNK1WREREBqbgKWPKeNg9djxUdaV0bDrQyaq1zTy/+xgAoYCPT1xwGn93wWlUhdQeRURERIZGwVPGnLG+e+x4qOpK8bX1xPnWr7bw49/twbXesUuWTOPLly9i5kT9kENERESGR8FTpMyMh6quFI/jWn78/B6+9fgW2sMJAOY21XLLlYt517wpRR6diIiIlCsFT5ERKmZLk7Fe1ZXieH7XMW5Z28zmNzoBqKsIcMMfz+evzzuFoN9X5NGJiIhIOVPwFBkBtTSRseSNjgh3PNzC2lcPZI796dIZfO69C5lSV1HEkYmIiMhYoeApMgLl0tKkmFVZKX3RhMP3f7OL76zbTiThAHDmzAZuXbGEt85sKPLoREREZCxR8BQZgXJoaaKqrPTHWsuTm1u57aFNvH7U+z07ubaCL1yygA+dNQOfT+1RREREJL8UPEVGoBxampRLVVZG147D3ax+cBNPbT0MQMBn+Mg7T+W698yjvjI4yLNFRERERkbBU2QEyqGlSTlUZWX0dEUTfGfddv7tt7tIOF5/lHfNm8wtVy5hblNtkUcnIiIiY52Cp8gIlENLk3Koykrhua7l5y/v52uPtnC4KwbArInVfOWKxVy0qAljNK1WRERECk/BU2SESr2lSTlUZaWwfr+vnVvWNvPynnbAq3h/cvlpfHzZHCqD/iKPTkRERMYTBU+RMaocqrJSGEe6Y3zj0S389MW9WG9WLVeccRI3XbaIkxuqijs4ERERGZcUPEXGsFKvykp+JRyXHz37Onc9sZWuaBKAhdPqWLViCefOmVTk0YmIiMh4puApBVOqPSRLdVwiJ+K324+wam0z21q7AZhQFeSzF8/nL86ZRcDvK/LoREREZLxT8JSCKNUekqU6LpGR2nsszD88tJlHmw8CYAxcfc4sbrx4ARNrQkUenYiIiIhHwVMKolR7SJbquESGKxJ3+O5TO/juUzuIJV0A3n5qI7dcuYTTp08o8uhEREREelPwlIIo1R6SpToukaGy1vLIawf5h4c2s789AsC0+kq+dNlCVpx5stqjiIiISElS8JSCKNUekqU6LpGh2HKwi1sfbOaZHUcBCPl9fOxds/nUu+dSU6G/zkVERKR0accJKYhrl80h4VjC8STWel9LoYdkqY5LZCAd4QSr1jZz2d1PZ0LnRYuaePwzy/j8JQsVOkVERKTk6W5FCqJUe0iW6rhEcnFcy0837uUbj23hWE8cgDmTa/jKlYt59wL9nhUREZHyYWy6u7ickKVLl9qNGzcWexgiMka8+PoxVq3dxB/2dwBQE/Jz/Xvm8ZF3ziYU0GQVERERKT3GmBettUtzPaaKp4hICWntjPK1R1r435f3Z4598KzpfPGShTTVVxZxZDLWqcexiIgUkoKniEgJiCddfvDbXdz95DZ64g4Ab5k+gVUrlnD2KY1FHp2MdepxLCIihabgKSJSZL/e0sptD25i55EeACbWhPj8exfwp0tn4vOpPYoUnnoci4hIoSl4iogUye4jPdz2y0082dIKgN9n+OvzTuGGi+YzoU+/WZFCUo9jEREpNAVPEZFR1hNL8p1fb+f7T+8i7rgAvOO0SaxasYT5U+uKPDoZj9TjWERECk3BU0RklFhrWfvqAb768GYOdcYAmN5Qxc2XL+KS06dhjKbVSnFcu2wOK9c2E44nqQr6iSQc9TgWEZG8UvAUERkFzQc6WLW2mRd2twFQEfDxiQtO4xMXnEZVyF/k0cl4px7HIiJSaAqeIiIF1NYT55uPb+H+5/fgptomX3r6NG66bBEzJ2oao5SO5QubFDRFRKRgFDxFiky988ampONy//N7+ObjW+mIJACY11TLqhVLeOfcyUUenYiIiMjoUvAUKaJC9s5ToC2e3+08yi1rm2k52AVAXWWAz1w0n7867xSCfl+RRyciIiIy+hQ8RYqoUL3z1Ay+OA60R7jjkRYefPUAAMbAny2dyY3vXcDk2ooij05ERESkeBQ8ZdwppUpgoXrnqRn86IomHP716Z3c++sdRBIOAG+b1cCtK5ZwxoyGIo9OREREpPgUPGVcKbVKYKF656kZ/Oiw1vKrTYe47aFN7D0WAWBKXQVfunQh73/rdHw+tUcRERERAdBiIxlXsiuBxnhfg37Dmg07izKea5fNIeFYwvEk1npf89E7b2ZjdabylqZm8Pm1vbWbv/6357nmRy+y91iEoN9w7bI5/PrG5XzwrBkKnSIiIiJZVPGUcaXUKoGF6p2nZvCF0xlNcM+T2/jBb3eTTPVHuWD+FFZeuZjTptQWeXTjRylNmRcREZHBKXjKuFKoqa0nohC98/oG2tqKAEGf5eZfvMbMDbpJHwnXtfzspX3c+egWjnTHAJg1sZqVVyzmPYuaMEYVztFSalPmRUREZHAKnjKulFIlsNAVm3Sg7e8m/ap97Ty785gqRkPwyt52blnbzKt72wGvSv7pC+fy0fNnUxn0F3l04482zxIRESk/Cp4yrhRqautwjWbFJtdN+pHuKPeu38GMxipVjAZwuCvGNx5r4acb92WOrTjzZL502UJOmlBVxJEN3VicklpqU+ZFRERkcAqeMu4UYmrrcI1mxSbXTXpHOIHjWlWM+pFwXH74zG6+/cQ2umJJABadVM+tK5ZwzuyJRR7d0I3VKamlOGVeREREBqZdbUWKYG9bmKo+UzQLVbHJtcNtzHGpCPT+46+KkefpbYe59NtPc/tDm+mKJWmoDnLb+0/nl9edX1ahE0pvF+d8KdRu0CIiIlI4qnjKuFBq0w1Hs2KTa11rwOejrrL3H/9CVoxK7fPPZe+xMLc/tInHmg8B4DPwF380i8/+8QIaa0JFHt3IjNUpqaUyZV5ERESGTsFTxrxSnG44mpsc5bpJf9+ZJ/PAS/tH5fVL8fPPFok7/Mv67Xx3w07iSReAc2ZPZNWVS1h8cn2RR3dixvKU1FKYMi8iIiJDp+ApY14p7oA52hWbXDfpZ8xoGJXXL8XPH8Bay0N/eIOvPrSZAx1RAKbVV3LT5Yu48oyTxkR7lFLaxVlERETGNwVPGfNKdbphsSs2o/X6w/n8R2tKbsvBTlatbea5nccACPl9XLNsDp9892m9qoPlTlNSRUREpFSMnTsskX6M5emG5WCon/9oTMltD8e561db+dFzr+Na79gfL57KzZcv4pRJNXl5jVJT7B9wiIiIiIB2tZVxQDtgFtdQP/9C7sDquJYf/24P7/7men74rBc650yp4Yd/ew7f++ulYzZ0ioiIiJQKVTxlzNN0w+Ia6udfqCnRG3cf45a1zTQf6ASgtiLA379nHn/zjlMJBfSzNxEREZHRoOAp40KxphuOdM1iObQfGY6hfP75nhJ9qDPKHQ9v5v9eOZA5dtXZM/j8JQtoqqsc0TVFREREZGQUPEUKZKRrFku9/Uih5GsH1ljS4d9+s5t71m0jHHcAOGPGBFatWMJZsxp7nTvWAr6IiIhIqVLwFCmQkbYRKdX2I4WWjynR61oOsfrBTew+6k3PnVQT4vOXLOBPzp6Jz9e7PUopBnwFYRERERmrFDxl3Cr0Tf5I1yyWavuXkRjuZzzSKdG7jvRw2y83sa6lFQC/z/A3553K3180j5dfb+Mv//V3x42h1AJ+KQZhERERkXzRzhoyLqVv8lu7or1u8tengks+zGysJpJweh0byprFkT6v1IzGZ9wTS/K1R1q4+K6nMqHznXMn8ejfv4uVVy7m5dfb+h3D3rYwVUF/r+sVM+AXcldfERERkWJT8JRxabCb/PUtrVx933Ocf+c6rr7vuRGFpZG2cRkr7V8KGaSstfzfy/u58Fvr+e5TO0g4lhmNVXz3w2fznx/9I+ZNrRt0DKUW8EstCIuIiIjkk4KnjEsD3eTnq1K3fGETq1csoamuko5Igqa6SlavWDLotMmRPq/UFCpIvba/gz/57rPc8JNXONQZozLo4//98Xye+H8XcMnp0zDmzbWcA42h1AJ+qQVhERERkXzSGk8ZlwZq3ZHPtX8jXbNYrPYv+ZTv9ijHeuJ847Et/PcLe7DWO3bZW6Zx02WL+r3mQGMotf6u+drVV0RERKQUKXjKuDTQTf7Nv3htzGzuU0z5ClJJx+W/freHbz2+hc5oEoAFU+u4ZcVi3nHa5BMaQykF/FILwiIiIiL5pOAp49JAN/kzN+S3UlcsxW7NkY8g9cyOI9y6dhNbDnUBUF8Z4LMXL+Av/2gWAf/gKwXKLcyVUhAWERERySdj03PW5IQsXbrUbty4sdjDKFnFDkHDkd3WIrtKNtx1lsV8z/l6D8Wyvz3CVx/azEN/eAMAY+DP3z6LGy+ez6TaiiKPbnDl9PtdREREJF+MMS9aa5fmekybC0nBjUZbjXyrCfnZ1xZhW2s3QZ8ZUegs5nsu19Yc0YTDt5/Yxnu+tT4TOs8+pZEHP30+d3zwLWUTOsvt97uIiIhIoWmqrRRcPjfryZf+KlLZlcJ5TbVEEg7hhDvs6xf7Pe9tC5fVOlVrLY81H+L2hzaxry0CQFNdBV+6bCHvf+v0XjvVlrqhfO9VERUREZHxRsFTCq7UQlB2uMyuSKXXAuYjMBb7Ped7R9l8yw5ek2pCJB1L8xudAAT9ho+eP4dPXziX2ory+ytqsO/9QL//FD5FRERkrNJUWym4UutPONA01Hz1niz2ey61HpXZ0sHrjY4IkbjDq/s6MqFz+YIpPHbDMr546cKyDJ0w+Pe+XKdBi4iIiJwIBU8puFILQQOFy3wFxmK/5+ULm1i9YglNdZV0RBI01VWWzMZC331qB5F4kn1tEY72xAGvyrlwWh3//pFzmDOltsgjPDGDfe/z9cMNERERkXKS9+BpjJlvjFltjHnOGHPYGNNljHnFGPNlY0xNjvMXGGP+zxjTZozpMcY8bYy5sJ9rTzDG3GOM2W+MiRpjmo0xf2dyLAAzxviMMZ8xxrSkzt1rjPlWrjGkzr/MGPNMagzHjDH/Y4yZfeKfiJRaCBooXOYrMJbCe16+sIn7rzmXp79wIfdfc25JhM6X97Tx4p42DnfHSboWn4Gp9RXMa6qlJ5Ys9vDyYrDvfbGr4SIiIiLFkPd2KsaYrwGfAtYCzwEJ4N3AnwK/B8611kZS554GPA8kgX8COoCPA6cDl1prn8i6bgj4DfA24B5gM3Ap8AHgVmvtqj7j+DZwPfBz4BFgEXAd8DRwkbXWzTr3g8ADwKvA94AJwA2AAyy11h4Y7H2rncrwFXqDlaFsIJSr1Uj6eeXQ97FctHZF+fqjW3jgxX2ZYw1VQaZNqCTo9xGOJ2mqq+T+a84t4ihHR7m3uhERERHpz0DtVAoRPJcC26y1HX2O3w58GbjOWvud1LGfAh8CzrbWvpI6Vgs0A1FgoU0N0BjzSeBe4Hpr7T1Z1/0ZcCUwz1r7eurYEuAPwM+ttR/KOvc64G7gL621P04dCwK78cLvEmttd+r4W4EXge9ba68Z7H0rePYvVwAECnrzrXBZGuJJlx8+s5tvP7mN7lRFc9bEaqIJh7rKwLgNXvr9JyIiImPRqAbPAQbxFryK5xpr7SdSU16PAr+11r6nz7lfAVYDf2StfT51LF3tnGStjWad+y5gA/AFa+3XU8fSIXeZtfbprHMrU6/5lLX2stSxi4BfASuttbf1GceTwFJgsrU2MdD7U/DMrb8AWB30kXBtr11X81n1uvq+547b1XU8VdVKwYath7n1wWZ2HO4BoLE6yI3vXcCfv30WT289rOAlIiIiMsYMFDxHc9vIGamvh1JfzwAqgGdznPtc6uvbgeeNMT7gLOCl7NCZ8jzgps4l63lu6rEMa23UGPNKjnMZYBwXAvPxqrAyTP21J9l1NMy8pt6byORzg5VitzMZz/YcDXPbQ5v41Sbvj7rPwF+dewqf+eP5NFSHAG8dpIKmiIiIyPgxKsHTGOMHVuJNZ/1x6vDJqa/7czwlfWx66msjUJXrXGttzBhzNOvc9LWPWGtj/Vz7HcaYkLU2PoxxKHiOQH8BELwNVQrVZ7LU+1iOReF4kn/+9Q7ue3on8aS3hPrcORNZtWIJC6fVj+pYCr1+WERERESGZ7Qqnv8EnAvcZK3dkjqWTgC5wmG0zzkDnZs+PztRVA9ybvqc+DDH0Ysx5hrgGoBZs2b183LjW38BcM7kGnriDuF4stcU3Hy1G7l22RxWrm0u2PXlTdZaHvz9G9zx8Gbe6PD+yJw0oZIvX76Iy99yEulNpwsZBrOvXVcR4HB3jAlVQRqqgrR2RVm5tpnVoPApIiIiUiQF7+NpjLkN+DRwn7X2jqyH0nMeK3I8rbLPOQOdmz4/ew5leJBzh3rtvuf2Yq29z1q71Fq7dMqUKf283PjWX3uSL1yysKDtRkqhncl4sOlAJ39+33Ncf//LvNERJRTwcd2Fc3nysxdwxRkn9wqdK9c209oV7RUG17e0nvAY+l5715Ee2sMJko7FGG+ad9BvWLNh5wm/loiIiIiMTEErnsaYVcDNwA+AT/R5ON2iZDrHSx9LT3VtAyK5zjXGVACTgKf6XHuxMaYix3Tb6XjTcOM5xrF5kHHIMC1f2MRq6HcjmUIGQa0jLJz2cJxvPb6V//rd67ip/ckuXjyVmy9fzKxJx08Q6G+t75oNO0/4e9T32o71+oMe6Y5Rn5rmrfW9IiIiIsVVsOBpjLkFuAX4D+Bj9vjtc/+AN731vBxPT287uhHAWusaY14C3pYjTJ6DV7nN3lL2BeDi1GN9d7V9K94uuNnnkhrHE/R2LtAJbO3/ncpg8hkAtXavuBzXcv/ze/jm41toD3sbPZ82pYZbrlzCsvn9V/0LudlT32uH/D4SjkvcybTq1fpeERERkSIrSPA0xqwEVgE/Aj5irXX7nmOt7TbGPAh80BhzprX21dRza4GPAdvovSvt/cA78dZU3pN1/Aa8TYt+mnXsJ8BNqceezjr+cbz1mv+Vdewp4A3gY8aYu7L6eJ4JLAd+MFgrFRkddz+xlXvX78BxLRUBH0nHHbW1ewq88MLuY9zyi2Y2vdEJQG1FgBsumsffvONUgv6BZ+0XcrOnvteeUlfBvrYIAb/BWqv1vSIiIiIlIO99PI0xnwK+A+wBvoLX1iTbIWvtr1LnzsULlwngLrzq4seBtwCXW2sfy7puCHgGOBO4G29a7GXAB4DbrbVf6TOOe/DWlv4ceBhYBFwP/Ba4MDsMG2P+BC+svgp8D6gHPgNY4Gxr7aBTbdXHs3DWt7Ry56MtbD7YhQECPvAZHy6WSTUhZk+uLWhvzv56kY6XNaMHO6Lc8chmfvHKgcyxKbUVfPmyRbz/rFwz5Y9XyM8w17U7Iwkm1YToiTvqEyplQT/cEhGRsWCgPp6FCJ7/DvzNAKc8Za1dnnX+IuBrwAVACHgJWGWt7TvtFWNMA3A78EG8dZ07gH8G7u07lTfVwuUGvArpqcARvHC5Ml3V7HP+FXjrUc/AmwL8JPAFa+2OIbxtBc8CyWwc0xklmnzzZxhBn8FnDAG/YWJNiKe/cGHBxnD1fc8dV60Lx5M01VUWNPAWWyzp8P3f7OI767YTjjsAVAR8TG+owhiGHRzTN9a51vqeqEJeW8pDOQe38f7DLRERGTtGNXiOVwqegxvJjWE69O05FsZxLdZ6ZWif8dbyJV3L20+dWNAAeP6d62ioCmZ2aAXojMQ52BljSl3FkN5LsW6KR/K61lrWtbSy+pebeP2otwYz6Dc0VAeZWleZ+RzGQ/iW8lDuwW28/nBLRETGnoGCZ8HbqYjAyNtp7G0LUxX0E/L78PveDH6u9XYv9ftMwdfuzWysJpJwMr/uiibY1xYh4bgc7Ijw8p42PvfAq/2+l0K2EhnISF535+FuPvLvL/DRH27k9aNhAj7Dx86fzZS6il6hE7RTrJSO7J2Ny7GFTvrvuWz68yUiImONgqeMipHeGKZD35S6Cgze1Np09PEZw6eWn1bwikbfXqQH2iM41qu6Bvw+LNAWTnDnoy05n1+sm+LhvG5XNMEdD2/mvf+0gfVbDgPwrnmTefSGd3HzFYs5ZWJNr/ANxdspdn1LK1ff9xzn37mOq+97ruABXkpfuQe3vj/cAu3ELCIiY4+Cp5ywoQSBkd4YpkOf32c4aUJthSHhAAAgAElEQVQFfmPw+WDh1FrWfPhsrr9ofl7fSy7LFzaxesUSmuoq6YgkSLgWv4Gg34/BW2vqM7DzSE/O5xfrpngor+u6lv99aR8Xfusp1mzYScKxzJxYxX1/dTb/8bfnMLepDjg+fIfjyaLsFFus6rGUtnIPbqXy50tERKSQCtbHU8aH7LVV2UGgb4uTE2mnURPyZ0Ld7EnVfPHSRaO+biu7F+mCmx9hOGuj+773rmiCgx1RLN7arkKt9xzsM//9vnZWrW3mpT3tAFQGfXxq+Vw+vmwOlX0C6/KFTayGom/gk13FBagOBQjHk6zZsLMs1vJJYVy7bA4r1zYTjid7rfEsl+BWKn++RERECknBU07IUILA+pZW2sNxdh8NE/QbptZVEPD7Br0xzA6185pqiSQcwonjWsKOutmTqtl+uAfjWowBa701p3Mn5w7R2TfFScdlf3sUgOkNlf0G9Xzo72b86rfP5Is/+z0/2biXdH4+59RGkq7lJxv38syOozlverPDdyEMZSOkvW1hGqqCvY6V05RKKYyxENwK/edLRESk2BQ85YQMFgSyw+OMhkoOdcbY2xahIuCjOuTPrDfMdcPVN9Q6rqW1M8q1//kiZ81qHNaN5WChZji7v37x0kXc+MCrdMeSOK43DbihIsgXL12U8/zsm+KX9rQR8Bum1lVSn/rcClWx63szfnJDFXOn1PLlX7xGVzQJwMJpdbz/rSfz4+f3Dlq1LqT1La29PtMj3TFufOBVvnnVmXmrnMvYpuAmIiJS2rTGU07IYGurssNjfVWIaRMq8RmDBU6aUDXgGr3sNYpd0QQH2qO41uJaO6y1fXc/sZVr//NFXth9jLaeOLuOdPd67nDXDS5f2MQ3rzqTt81sZFp9JW+b2XhcQMr1nPuvOZcpdRXMnVKbCZ1Q2Ipd+nXv/NAZtIXj/Nfze+iKJplQFWT1+5bwy+vO56mtR4q+I+jXHtlMeziBdcFvDNaF9nCCrz2yudd5WgsnIiIiUp5U8ZQTMtjaqr4V0cNdMXzGq14aYwasYmZXtw53xTAGsCYTkoZSKVzf0sq963fgWkvAZ0g6lqM9cSbVhDLPHcm6wZFWV0a7YrevLcxXH97Mw384CIAxcPU5s7jx4gVMrAkBpTF9ddfRMD4DvlTLHGPAupZdR3uPYSxMqRQREREZjxQ85YQMFgT6Bq2442KAkN+XqWKCxcJxUzyzQ20s6WQqpZNrK4GhhaM1G3aSdF2Cfh8G44VXF7qiycxzRzN4jdYmKNGEw3ef2sG/rN9BLOmti116SiOrVizh9OkTep17omF4ONOU80FTKkVERETKj4KnnLCBgkDfjXWSjhcyDS5vtEcwxvRbxewdaiMYQ6+1kUMJR3vbwlT4fTjWq6KB9zWWdDPPHc0qZKErdtZaHn3tILc/tJn97REAmuoquOmyRbzvrSd7n3cfJxKGh7qr8WDmTK5hW2s3xvbesGnelJohX0NERERESpeCpxRUOmjd+WhLZlfbpGNxwevPaSw+n+m3ipkOL3c+2sLW1m4OdXkV0qHsigteqHRcl6PdCVy8UONYb0Og9HNHuxVDoSp2Ww91sWptM8/sOAp4VeWPvms2n3r3XGor+v+jfiJhOF/tTb5wyUI+98CrdEW9H1AEfD4aq4N84ZKFQ76GiIiIiJQuBU8puPQ6ylMnVVMdCtAVTXC4K0bCcbDAyROq+q1i5toVd197hHlTavnK5YsHDTfpUDmpFjrCCWKpUPOp5adlnlvu6wY7Ign+6Ymt/Mezr+O4Xn+U9yxs4uYrFjN78tAqhiMNw/maprx8YRPfuOrMsv0eiIiIiMjAFDyloNLr/57ffYzKgI/JtRXUVwWpqwzSGYmzrz1KwG+w1uasNPatqNVXhQjHkzTWVAwplPQKlT4v0Jw3ZyLP7jzGT+9c12tNYrmFHMe1/M/GvXz9sS0c64kDMHtyDSuvWMy7R+m95HOacjl+D0RERERkaBQ8JW/6bjJz3pyJPPDSfoJ+Q4XfEHdcDnR46w7rq4IE/D7mN9XSUB3qt8o1lIraYJvbZAeaka5JHO0NdAbz4uttrFrbzB/2dwBQE/Jz3Xvm8bfvnE0oMHpdkkZ7mrKIiIiIlCcFT8mLXIHu3vU7aKwOMqGqkqb6Sg60R7FYjnTHCPgNCcfylcsXDhjgBquoDTdIjmRNYr420MmH1s4oX3u0hf99aX/m2AffNp0vXLqQqfWVozoWKP9pyiIiIiIyOhQ8JS9yBbqk69IVTTKlDuoqg5zc4AWnaNKlqa5ySAFlsIracIPkSNYk5msDnRMRT7r84Le7uPvJbfTEHQBOn17PqiuXsPTUiaMyhv4UaopsqVWZRURERGTkFDwlL3IFugq/L9NDErzwGUs69MQc9raFWbNhJ0CvabB9gwZ400h3HukBYPak6l6bCg03SI5kTeJo9vnMZf2WVlY/uCnzGUysCfG59y7gT5fOxO87vj3KWFBKVWYREREROXEKnnLC1re00hlJcLAjSkXWBkITqoMc60lkqpVHe2K0dsWZUhs6LkwAxwWNzz3wKrGEQ9yxOK63G+3R1CY6acMNkiNZkziafT6z7T7Sw+0PbeKJza0A+H2Gvzr3FD5z0XwmVAcHeXZ5K4Uqs4iIiIjkz+jtQiJjUroyVVPhx0BmA6HDXVGCfj+fWn4aTXWVdEQS9MQcptSGmFJXiTFeqAj6DWs27OwVNNKPdUQSdMW8lisBvw8LtIUT3PloS+b1r102h4RjCceTWOt9HShILl/YxOoVSzJjaqqrZPWKJQOGmeG+xonqiSX5xmMtXHzXhkzoPG/OJB66/nxWrVgy5kMneFXmqqC/17HRrDKLiIiISH6p4iknJB0YJ1RVUhHwc7grRjTpEI47fO2DZ7B8YRPXp849/851mSmr6V6esaTDvrYItRV+TppQlTked1wSjteT0me86aTGgDU2M+UURra5zXDXJI7WBjrWWta+eoA7Hm7hYGcUgOkNVXz58kVcevo0jBmb02pzKVaVWUREREQKQ8FTTkj2+se6Sq8/p7WWjkjiuGCWDhOOaznQHsUYL1QaA90xh/3tYXpiLsZ400rTwTPpuAT8gxfnbZ9f3/3EVv71N7voiTvUhPx87PzZXH/R/BG9z0L3mPyPZ3bzjce30BVNAhD0Gz65fC6fuOA0qkL+QZ499qhNi4iIiMjYouApJ2Solan1La20h+PsPhrGWosBAj5v+mx9RYD2SIK2cDJ1HLwzPAnXAg4+48O1MHdyda/r5tqE5uxX9rH29wfxGe96kYTDt9dtBxhx+My39S2tfOfX23ltfwfRrE2YakJ+JlQFedvMhnEZOkFtWkRERETGGgVPOSFDqUxlh8MZDZW8fiwCQABLY1WQ9kiy1zUTLoDFZ8C1bx4L+lwaqkN88dJFmXP724QmHToNhoTjYq1XEf3uhp0lETzXbTrEZx94lY5IIvMeAZrqKphaX6mNdCh8lVlERERERo+CpwxZf30Vr9rXftyU1uzA0Dcc1oTixFPTZ3viDhZLMjWtFgNYbz1nRcBPwnFxrcUYqAoF+OZVZ/a6dn+tThzXYgG3zwTccNxhfUtrUQPN73Ye5dP//TLhVD9OgIDP4MPbWAi0kY6IiIiIjC0KnjIk/U1pvWpfOw+8tJ8pdRXMSlU8H3hpPwDP7jzG3rYwh7tiTKuvyFxrSl0F+9sixJIu1lrSmdNvyPx/a8F1vcA5s6GausrAgOtG+071za6W9jWSSmJ/oXs4DrRHuOORFh589UDmWGN1kFjCwbFkdgVOvwdtpCMiIiIiY4XaqciQ5Gp3EvQb/vU3uzLHu2NJDnZE2d8W5q4nt7HrSDcNVUEMsL89SmckkbmeMeBkhc6gzxAK+AllbSKUcF0c13KoM8rWQ120dsW4+r7nWN/Smjmnv1YnE/tpORL0m2FXEtOhu7Ur2it0Z49jINGEw3fWbeM933oqEzprKwJMb6hkRmM1TfWVWOt9HiG/r+DtWkRERERERpsqnjIkfae0dkUTtHZGCSe8cFgT8tMeSaYCpXfOwc4YbT1xJlQFORZOcKgrClj2t3utQmY1VrG3LYJrvVYi6U2H0tVKv8+AtZmNd6bUBjKhbzVvrgHMtQnNzb94jUAkQdaePfi9y1FbEeDq+57rt3rZt7rZ1hPLuY50sMqptZYnNrdy2y83seeYF3Yn11bwpUsX0lgdZNWDmwjHk9RWBJhUG+RYT4KqoI+mukptpCMiIiIiY4qCpwxJ9pTWrmiCA+1RbGoDoGjSoSe1XrFvp8mYY2ntjgOQdC2vH4vgMzCpJkR9VYiq7jjRhIPLmxU/13prHoN+H+G447VXAcJxl2kTjg99uTahmbmhGsd1OdqdwJhUhTU19/Zwt9cnNLt6mQ6yuaYU7z7aw4yGql7XH2wN5vbWblb/chMbth4GvPfzt+fP5roL51JX6QV4nzGZwHzqpFru+IDC5mjIx7RpERERERkeBU8ZkvTutUe6oxzsiGHxQmZV0Ec48WZZsZ9llb24Fo6FE1SHApn1nhZYMLWOSMLxgt6ESuqrQrQc7ExVPt9c/ziUjXfS451UCx3hBDHHJeDzMaUmSEUo0G/1MtcuuUGfj0NdMeqrQpnr97cGsyua4O4nt/GD3+4mmQq6y+ZPYeUVi5nbVNvrXO3aOvr6W6uc/sGDiIiIiBSG1niOA+tbWrn6vuc4/851x62RHKrlC5u46qzpHOtJeKHTeFNXIwn3uCrnUDiu5WBnlLrKIJPrQoT8Pra1drOvLUKF308sNUc25Pd5rVAsmfWfQ9l4Jz3enphDzLHUhAJ8avlp4PNRFezdGzM7yO5tCx/3+NT6ipzrSLPXYLqu5YEX9/Hubz7F957eRdK1zJpYzff+eik//MjbjwudUhz9rVVes2FnsYcmIiIiMqap4jnG5bPC8+zOY8xorOJgR5RY0mtzMpQKZ3/iSZdwPEnSsVRX+An6jVedTDoc7HSIJhwm14Yya0Kn1VYMeeOd9S2tOXfbrQ15/99xLYe7vCm3fmOYPbkGyL1LbsDvY35TLQ3VoV7rSNOf36t727llbTOv7G0HvCD76Qvn8tHzZ1PZJ8RKcfXXfketa0REREQKS8FzjMs1dXQoG+Pkkr5pr60I0BOPjajSmc0C+9q8NZ+VQR+dERdjIBjwgePSEU0S8BnmNdViraUn7gx5453+3rcxhs5InLZwArA4LiSwbGvt4u4ntmam6IbjSapSgTXhWL5y+cLjXvMXL+/n9oc3c7grljl2xRkncdNlizi5z5rQ4dI6xMLor/2OWteIiIiIFJaC5xiXzwpPbcjP9sPdxFLTa0+k2gneVN15TbVsPthJNOHi90HQ51UIgz4fSdcyb2o9919z7rCv3d/77ogkmFQToiOSIO54U4aDBjCGe9fvYM2Hz+aqs6Zz7/odmem+QR/8fl97JvglHJeV//ca/71xLzb1IYT8Phqqg1x11oy8hE6tQyyM/n6woNY1IiIiIoWl4DnG5avCs76llaM9cZLO8dNrRxpCHQtd0SSVAT89cQc36yLWQkXA1ysgD6cK2N/7rq0IsPNIDwnHYgwEjCHg92GtJela7ny0hQMdkUzoBEi4cNcT2wA465SJrHqwme2t3QD4jWFqfQUTa0JEEs6IKsl95bNKnS9jpQLbX/udcnwvIiIiIuVEwXOMy1eFZ82GndRXBampCLDnWBjXeoEz4DcknZHXPg92RDipoYqeo941k45L0vXCrZvquQnDrwLmet+dkURmN16L9z8Ja3Gtk+k9uvlgV+YaJjWX2Frv/LvXbc/sVAswsTrI1PpKIgmHXUd6iCUd9rVFMps3jTSoldo6xOF+9qUeUsfLbsKl/n0QERGR8UW72o5xyxc2sXrFEprqKumIJGiqq2T1iiXDvgHdeqiTgx1R9rdHCPl9+A0E/QbXHl/tHM7az7hjqasMMrE6iAESqWDnN2AxHO6OZW6gh7Mbaa73PakmxISqINMmVGKyxtlfbk7vppuWDp11lQFOnVhFY6rKeaA9StK1+IzBGPjcA69y4wOv0toV7RXUhrqb8MzGaiIJp9exYq5DHM5nnw6pI33vkh/6PoiIiEipUcVzHDjRCs/dT2zlWDiRCWGJVNR0+kls2UdDfkN8gIqoBcLxJLWVQaqDPo6EEziuJeT3Mbm2gkAq4IykCtj3fZ9/5zoaqoIYY2iqq6A1a1OgoZrRUEUoYOiKJrE4dEeT3ruwBgtMravkUGcUDJw0wVvrOdypssOpUo9GVWs4n30pThMej/R9EBERkVKjiqcM6O4ntnLXE9t6Vf76Y/p89RvvVxWBgX+bhfw+XNdlX0eMWMLFB0yuraC+KpgJOHUVAba3dtNysJOdh7vpiiaGXQXMriQ21VdyyqQ3n9t37LlMrgnSWBOipiJIfVWQKbUVWLzwHPAbTp5QRX1VkKTr4ri9P7DhTJUdapV6tKpaw6nA5uqDqnYlo0/fBxERESk1qnjKcdJVtG2tXRztjg954yDb56tjwXVdAmbgybfZ6yotEHOsV8GjmoDfUFsR4HB3LDWd1dtVdl9bhMbqIF+5fPGQ31ffSqLf54Vi13VJ7yXU33udUhtk2oQ3g1Z6h9yzZjXS2hXN9AU90BHBcaFv+87hhuShVKkLVdXqW0U9b85EHnhp/5AqsGpXUhr0fRAREZFSo4qn9HL3E1u59j9f5IXdxzjWM/TQGfSZXtXCYOp3lrVvrtscDmvhUFeUhGOx1jKhKsj0hiqCfl+mwjipJpSzCnj1fc9x/p3ruPq+53pV/3JVEj+1/DTqq4I532dTbYiZjVWcN2cS9VWhXo+lb+KvXTaHzkiCfW0REo7XZsYLx5bDXVE6I3G2Hepi99Ee2npiea1GFqKqlauK+sBL+7nqrOlDWid87bI5JBxLOJ7EWu+r2pWMPn0fREREpNSo4ikZ61tauXf9DpKOm3PToIFZQgEfsaRLyG84uaGK14+GU48MjTFvbuZjgVjC5aqzpvPTF/d5azNDhvrUWsPOSJxdR8Msvf1XxJNupvL3RkeE9PTepOMet/tq30rii68f42cv7+doTyJzzO8zTJ9QSTDgo6mucsA1l8sXNmX6giZSa1lDfkNNRYDOaJJYamwzGqpIuDav/TgLUdXqr4r67M5jQ+qnqnYlpUHfBxERESk1Cp6SsWbDThKOO6T1nH0lXagOGOJ41b797RECfpMJY0OSdaoBKoI+HnhpP7UhL+ylw1BrZ5RDqY2B4t1xjPFCazo8Bn2WpGM52hNnUk2IOx9tOW4DnkUn1/O1R1r4+cv7M6/pM97rVgZ8xB0XjMncrA90E3+kJ461EAr4MuG5K5oE4NRJ1b2CYT6nwm5r7aIrmqSxOsjk2ooRt8rJlo9WLqPRrkStQgY3XtrGiIiISHlQ8JSMvW3hN0OnATPEqqcvNce2tiJAT9zbhGZYgTMl+xnGeDvEBvwGYwwJxyUcT5J03EzoTD/H2t5PTrpQGTTgwtGeOAc7YwRS6zkTSYcbfvIK0YRDNLWw89RJ1UTiDj4fdIQTRJMOybDlU8tn9VspzRZPumDAl1rLagy4xpJ0bcGmwgb9hmn1lQT9MY71JEg6LvOm1p9wACuHtYHD7StaLArHIiIiIm9S8Bynct0Uz2ys5o32CG46yBmGlDzTSzgPjaA9SS4BA9Mbq6mvCtIZibOvLUJFwEdP3MnsFjvQ0CxeWPIBburcgM8QS7qZYAwwqSbE5y9ZwM9f2s/h7hjVoQCTaysBMtNLrx/CeIN+QyQBrmt7TRc2FrYf7j6uPcxAIW6wsNJ3Kuzk2kqqQwGa6iqHNBV2MMNp5VIs5dAqpFzCsYiIiMhoUfAch7Jviv0GXt7Txkf/4wUaq4L0KlSOYMrtSKU3JppaX8GUOi/8dUUT7G+P4jN4FUkD6dg4lKG5Weemq5tptRV+1t24nAlVQe5Zt33I00tzBcP5U+vZdaSbrmiSuOMS8vsIBXx0xxySzps78e5vj9AwwE68Qwkr+ZgKO5ByWBtY6M8gH8ohHIuIiIiMJgXPcSh9U+y4ljc6Yt4aSeBI1gY7o6ky4CPpWuY11dITdzLVtoMdUcAbmws4I5i+m4vBm1L6iR+9yLbWLtrCCQ60RagK+TP9Q3NNL+0vGF511nT2t0eYNiGQqRLua4swqSZEZdDP4a4Ycccl4DNMqa3oN3gMJayMxlTYUl8bWA7TgcshHIuIiIiMJrVTGYf2toVJOi57joWJOy4J580+lsUQd1wca70wEfQR8vs42BkllnRJupaY462XHE7sHLhzKBzujrH7aDcd4QRgcfHCy4GOCIdTbVz6Ti/NDobGeF+DfsOzO48d16altsILsXWVQabUVRDy+0i6LjuP9PRqqZLd/uWlPW0knd7fiL5hRW0yyuMzmNlYTSTh9DpWauFYREREZDQpeI5HrsueY5HM2swRtNnM73AsVAV8nDTBazlypDtGPOGc0Ezf7Oemd6vNfqw9nOBQZwyLJeT3E0jtkORaSzjuHNencn1LKy/taWPPsTA7D3fTGfGqw0nH5aU9bdz8i9cAuO19p3P/Necyf2o9kYRDVzTBgfYoSdfiMwZjYOXaZta3tB7XM9MA+9ujmWvD8WElVy/S/npqjlXl8BmUQzgWERERGU2aajvOrG9p5VB3fDSXbw5JwrXsOtLjVT9di2u9wDiUUBzwGZIDnBj0GVzAn9od17Hg90Ey6V3f4E2DdSwsmFpHRyRxXOhcubYZgxdgk47lQEeESDzJsXCCQI41melNelo7o7jWxXG8wFsBJByHNRt2emPLmlo7bUIl+9oiHOqKUlcZGHRjn1L7Ho6mUp8OXA5rZUXEox2oRURGh4LnOLNmw05cawcNa6Mt4VgSTu+piQMNz58KpelTBgqpMcdyysQqDnXGMMZQ4QMw+IwXcB1r8VlDyO/LOR0yPcV22oRKDrRHM61mjvTE8RnD1LrKzNTb9JrM+685l9XAx3+0kaTXEpSgAYzhSFechNNFZdDfax1gXWWQ6Q2Wg50xOiKJnGFFu6WWj1IPxyKiv1NFREaTguc4s7ctTMAYYo4dareUkmSMoSpgvMCalTgNXgjtuw/RvvYIBpjeUIUxhgPtUfw+g+t44dPFUlcZzFlhTG8UY4zh5AY43BUjlnRxLcxsrKQ+Kzxmr8lcvrAp1cfT4f9v787jo6zO/o9/zj1r9hUI+6IICNYNRKtSRdu6VOlmldZaFx5ta/VXa90qUveqVbG2Pha1tooLtVqt1KLVIlUftQqKKJVNQFkMEEjIMklmuc/vj3syZAMCySQk+b5fr3kNubc5MycT5ppznev4nR1Z7a6xROMuI/vmtCiS4/c5HDakYKdLo6haqohIx9HfVBGRzqPAsxdonEZUWRtLjXR216ATvBTVSGxHIZ6csJ+qujjQMugE6JMdIhJN4Pc5ZAb9qQDSdRNgDHlhP8OLs1MjjC1es4RLn5wwOeEAOeEAkWicLVX1+H1Np0k3HzHd2RqfQZ/ZqzUzd1ctVSljIiJtpwrUIiKdR4FnD9c8jSjhulQmA7TuygC1yaAzM+hjQF4GGUEfy0sribYSdRqgPBLDdS1rt0YI+Az9ckKU5IWJJWyTwjQLlm3m5HteY8XmanwGsJaYC5V1cUor68kK+sgJ+wn6fUw7ZjhPv7ehSeBYWRsj4BiOuX0+gwsy6ZMdIuBzmqzxmRMOMLw4e6/mAe5qKZG2pIwpMBUR2aE7LM8kItJTqKptD9d8CZDi7DBB3+4WG9m3NYSWRVkBRhRnEXddVm6qajXobDi+Pu5igUH5YbBe6m3AMS2CzhnPL2VNWQ0GSzRhibpNR4Yj0QTlkRjfPmwgl554QJPqqkGfg8UrlNQQ+G2tiRJ3LSV5YUb1y6EkL0zQ70uNah43ui9PXngkr181mScvPHK3QeCuqqXubLmXhkJGzavoNgSmjZd3ERHpTVSBWkSk8yjw7OHWlUeS8wx36J8X7qLWtJ8BirODhHyGmmiC6vo468trqWvDQqRx11sqZWS/HIYVZVGQFWoS6DUEbglrk9VuW8oM+hhUkMFbq7cBXuB40aQRDCrIZHVZDdX1ceIJS3V9nNLtdWyLRIlEEwQc0yFLf+xqKZHW+rpxytjuAlPpPhqv/zr1gbf15YHIXuoOyzOJiPQUSrXt4RrSiBKupXR7XWrkr7vqnxemKDtEVtDH+oo6SrfXNanO62ulsFBjW2uilORltDqHp2GuT9DnUJNIYJpVX3IMRBNuizmVDemtCdfFMYYNFbVYa/H7HPyOIRp3icRcbpoyrkM+zOysWuruUsY0l6lnUBVOkY6lCtQiIp1DI5493EWTRlBZG2Pdtgh13Tzo9AFbquuprI3h9zkc0De7yXIqAccQ9PuapBI7yX82bGmIUVubwzO4IJOy6noSDcWXmr1YDrRYcqXxKGLI78MY461DCjjGgDWE/E6njCzuLmVscEEmtbGmS9ZoLlP3o5FrERER6Y4UePZwx43uS1FWsEmA1l0ZxwsgN1XVEUtYTh5XQsjv/Qo3DhKN8Z6kAUJ+H8FGlWcdQ6tzeBYs28z68gilld5SKa29THEL0bhXQKjh3MbprX1yQtjk2qLWepVsXSzF2aFOGVncXcqY5jL1DLtLqRYRERHZFynVtheojiZwjBeI7SoNdV/nTeO0mITl8CF5PP3eBrJCPmrq4ySsV9THtYnkKJCP2miCuOviGHAcSLiQFXTomxNuUs21IXVxS1U9/uRxFgg44OL93BCw+5IFhBo0Tm/NCQcYkA+fbo1gIVnF1juxs0YWd5Uytrsquqp42z2oCqeIiIh0Rxrx7AUGF2RibfcOOhs0TLt8bvHnVNZGKc4OM7gwk3By5NMFRvbN5n+/exiXnTiSjICPuAtZQT8/O3EkH95wMk9eeCRL1lfwhetfYr9f/IMLHl1IZW2URHJeZjjgI+RzCPq9e79jGOcBjVsAACAASURBVDsgj7ED8hjZN4e8jEAqrbH5KGJ93Jsb6uCt4WmBDRW1bG80StpVGgeWrQWdqnjbPWjkWkRERLojjXj2AhdNGsFbq7d2dTM6RMNIZMyF7bVx8mpj5GYEyAkHsNayvTbGvJ9OArwRvktPPKDFNe59ZQW/mb8Kx4Dfgfq4paI2jt+ANQZjwLWWSNSbE+sYqEw+DjRNa2w+ilhTn6BvTohwwMeWqnqiCRe/Y+iTHerS0cPdFaRpPG8QIDPoJxKNM+u11Rr13MfszfqvIiIiIl1Ngafs0xyzoyAQeAWE/D6HuJvAAmXV9amAsK3phg+9sSYZdDrJQkLeA8Qt2ISL4xhirsWwoyjRxu21AORmBFo8TuP01mNun09+RgBjDDlhr10NAfGe6sjU190Flqp4272oCqeIiIh0N0q17eEaRrq6K9d61WwbJKwlnnDxOQYD3vIwe5huWJOc85pwLbFEs0JCBmLJnOSgz9AnO4jf8d4mZdX1u32cjqocu2DZZq54+gPe/6yc0u21vP9ZOVc8/cFep77uriCNKt6KiIiISDop8OzhGka6uqOGgj6NwyE3VUTIkp/pJzPoa1LBFWDqA29zzO3zmfrA260GallBH66FuOt6Gxq/PHbHpphrKauJesWJgLq4u9vFxZvPvyurrmN9eS0rNlXutD2tuf3FZZRHYljAnyxoVB6JcfuLy9p0fnO7Cyw1b1BERERE0kmBZw+3rjxC1V6kee4Lmq+j2cAAfseQEw5y71mH8vpVk1MFg/5n9kLeWr2VDeW1LFy7lZ+3Mko47ZjhuNYLYhuWPgHIC/m8tTfxtjccE0241Cdsq0usNNd4SZPSyjq21cQoyAzQPy9jjwr2rC6r8QJeYzAYHGNwjLd9b+wusNzdUiwiIiIiIu2hOZ493OCCTN7upoWFmsedYb+DzzHJyrGmSWC0YNlmfvvqqlSarMUrQFRWHWXao+/SPy+Dsup6oglLVtDHEUPzeefTChKuxTFQlBUkEk2A2VE5t0HDHFOfoUVRntY0zL+b+sDbTZa96MqCPW0pSKN5gyIiIiKSLgo8e7ijRhT2mIq29XGXcQPziETj9M0JNwk6L53zfirobC7uwrpyrziQ3/FSTN/5tILTv1DCos+2E/AZ4gmXLdXRXT5+NGH5bFsEnzHc/uKy3QZpuyrYs7vCQcOLMlm1pQbjWozxRmVdC/sX7/2cSwWW+yatnyoiIiK9gVJte7AFyzbz9HsburoZHcYCn2yuapIi2lA8qSYab9M1Eq5XVCjhWp5fUsq3DxtI0OekAtPd8TkG11qWb6ripJn/bnUu6YJlm5n6wNtsqapn1ZZqKhulOtfGEmSH/LtdM/Pqk8eQnxnAOF5BJeNAfmaAq08e06Z2Sveg9VNFRESktzB2ZxPpZI+MHz/eLly4sKub0URDqucnW/ZuXuC+6huH9Ke0Msq68giVtTFc16U66rb5/MaptEMKM8kMOKzdGiFh7U5HTRtkBHzEEi4J1xIKOOzfJ5vaWIJYwqaKGzWslxlPuGyoqANgYH4Yv88hlrBkBhxirk2l4AKpUdwnLzwyta1hJKx5aqxGyHqO5unY0PrvgoiIiEh3YIxZZK0d39o+pdr2YOvKI1RG6ru6GR3u2cWfEw449MsJUVUXbzEXdLeSkadjIOAzrNkaIeG63vqgCbvL67nJ0dKG5ViMMU3mboJ3zYRrKUum7iZcy8aKOsYPK+SiSSOY/reP2rRmZmupsQ0jZAGfaTJCtqs5p7Lv6o3rp+qLExERkd5JqbY9metSWd/2kcDuxLqwcXvdnged7KhiW5QVTK1t6XccrIWAr+lbwjT7t99nMMZLuQ02OrYhWFhXHiGecNlYUUfctfh9hoDP4ELqA3Z71sxsWB4nM+hPBb0Bn0kFvfuqhvTjXS1z0xv1tvVTlVosIiLSeynw7MG21HTPZVR2xzHgOAanTQuctH5+n+wgJXkZ1MYSjCjOIifsJxp3iSaaBuqWHcFnXoaf4cVZBH0OroXi7FDquIZgYXBBJpsq6zGNlkIxmCbBYXvWzFxXHkkFyw329REyBRs719vWT+2uX5yIiIhI+ynw7MHq4z1ztNO1EE+4uK3MT/bWvoSQ3yHkd/A5kBlw6J8Xok92kOLsIMOLs+iXG059yL/qpNEcs3/RTkdPM4M+CjL91MZcSrfXMrw4i/zMAH6faREsXDRpBDHXxVqLtRbXtbhY+uWEUsFhe9bM3JMRsn1llFHBxs71tvVTu+MXJyIiItIxNMezh+rpo0kxt/Uw0U3O3TxlXD+WlVazuqyGmGupiMTIDPromxPGWsv22hjZIT8BxzL9bx/x+fa6ZMDqI+HaJiOfxdkhcjMCTYq+7KzwD8DIPtms3RYh4VqCPofi7DB+n6FvTjh1zbYsbdLaXLiLJo1gxvNLiUTjZAR8qcJGzUfI9qW5oL1xHuOe6E3L3AwuyGxRTKknpxaLiIjIDgo8e6ifPLGoq5vQZVwLc5d8TnF2iJLcEBsq6oglLNkhP9GESyxhOePwQTz93oZUYLY+uZxKNJ6geUy7cbu3LyfsbzJq2Vrhn1mvraasJoq13hzS4uzQToPDXdlp4Hj6WG48fexOg94GjUcZgSYFkDo7yOmoYENFabq/tn5xIiIiIj2PAs8eak+WF2mLeOVmtv3zfuo+W4Lxh8g68EsUHH8+xhfY6TmJ6nLKFzxM7dr3sdFa/Pn9yZ34LbLHHr/jmLpqyl+ZRWTlfwDIHDmRwhMvwglnp46x1lK18HmqFs8jvr0UXziHrHEnUHDcuQCUvTCTmo/+1eLxVwdCjLzir/gcAxY+XbqQivl/oKp0DW9nFzFi8lRKjjyNNWXecjPWTbD1jSeo+e8C4tXb8GUXknXgcfT70tmUVdfj9xkGFWSyYsUKrr76aubPn080GmX06NH8v5vu5Q9LYwR8huhH/6T0nZdZtXEVbn0NX7vlr1z+zaObBEkrVqzgyiuv5I033qC+vp6xY8dy/fXXc9JJJwFe4Pj6VZNbPKcrPriCdx+/I3Wtl156iWvOm8JHH31EKBTi6KOP5te//nVqlLFs5fu8/dtLm1xjzkXw8ccfM3r0aAAefPBBHn30UZYuXYrruhx66KHcdNNNHHPMMalzqqqquO6663j22WfZvHkzhx56KL/5zW+YMGECALFYjOnTpzNv3jw++eQTcnNzOf7447nttts6JNjYl0ZwZe8dN7ovN8JuvzgRERGRnkeBZy9kE7FdBowtjncTbP7LDTgZOfT77u24tVVs/cdMsJbCL/9wp+eVvXA3bl0Vfb95HU5mHrUr3mTr3+/Gn9uH8OBx3jHP/5pE5Rb6nnEDxsDWeb+l7O930ffbv0xdp3z+Q9R+8i4Fx59PoM8wbH0Nieptqf2FJ15IwZfOBcAYr2pt6eNXkDlkHNGEJRQwRCtK+ezJGQw96lQO/v50/rv4XVY8dy/bySB3zDH4HcPWt56h6v0XKDr1MoJ9hhHdvJatL9yN4/NTcMxUYgnL6SN8HH300ZxzzjnMnz+f/Px8li1bxu+XbCUQyCMz6CcRrWfA2IkkDjqGlc/fB8D0v33E4Nd2fMj+2te+xogRI/jXv/5FVlYWv//97zn99Cl85ZePU+EvZEuVtwzOF866kr7jvuj1g7VE2FHQaM2aNUyZMoVLL72U2bNnU11dzZVXXskpp5zChCsfY3NVXerYL13zKPFAFsXZIX7//cPp06dPat+CBQs488wzOfroo8nMzGTmzJl89atfZfHixYwcORKAadOmsWTJEh555BEGDRrEY489xoknnsh///tfBg4cSCQS4b333uPaa6/lkEMOYfv27Vx++eWcdNJJLFmypE2jtLuyL43gSvv0ptRiERER2UGBZw900swFTX4ufeJqAkWDcQJhqj/6F/68fvT/wcw2X69uzfvEyj5j4I8exp/rBSz5x53H1nn3kj/pHJxQ6ymT9Rs+pvDEiwgNGAVA4IhvUrloLvUbVxAePI5Y2Trq1iyi3/fuIDxoDACFJ13MpsevIrZ1PYGiQcS2rqfqvb8z4LzfESgevOPi/fZL/dMJZUEoy3sMx1D92VLiFaXkT/k54AWiFYv+QSCniHHfvoxINE7/I/oS27iciv/8lfwDj8XxGeo3fEzG/keQuf9EAPx5/YiMnEj95yuwwLcPG8jch6/nK1/5CnfddVfq8UeMGMGtH84nP1k0ZcTx3wFgw8oPAdhaU09hvx2jdJeXb2XlypXMmjWLgw8+GICTz/0Zd909k0+XL2Xo+MmUJQPPmC+DcG4RAJFonKGN5okuWrSIWCzGr371K3w+77GvueYaJk+ezF0H5XHX67XUJwsRJcK5OOFcfnraWEpKmn7of/zxx5v8fP/99/Pcc8/x4osvMnLkSGpra3nmmWd45plnOO644wC4/vrrmTt3Lvfffz8333wzeXl5vPzyy02uM2vWLMaOHcvHH3/McQcd1K5gQ/NERURERLo3BZ490LJNNS221fx3AdkHf5WS790OFjY99Uvq1y/d5XWG/OxpAOo3LiNQNDgVdAJkDD8MEjGipasID/1Cq+eHBh1IzbI3yBg5ESecTe2qd3AjlWQMOyR53Y8xwQxCA8fsOGfggZhAmPoNHxMoGkRk1dv480uoXbOIzU9fj7WW8JBxFBx3Pr6s/BaP6RhD9QcvESgegikZDQZicZfaDR9TNGp8qgLttGOGc8sHh7H9w3/hxmPg+AkNOpCq9/5BbOs6gkWDiZZ9Rt2nS8g78gz65YR4c1UZL8ydy9VXX81JJ53EokWLGDZsGD//+c8ZXDC0xTzGbdVR77UK+FLVXCPROE8uqWDMmDHMnj2bCRMmkJGRwVW3zsQfyqDkgIMxxlCSF2Y5sPL537HquXsIF5TQb8LJXHvzVanrjx8/nkAgwEMPPcS0adOIRCI88sgjTJgwgSlHjSGvoIgbH/wYgPfu/SFh43LTS+Ow06dz/PHHszPRaJS6ujoKCgoAiMfjJBIJwuFwk+MyMjJ44403dnqdyspKgNR12kNFaURERES6NwWeScYYB/h/wEXAMGAL8BQww1rbMpLrZvx5/SicPC31c9HJl2Dj0Tadm6gpx2kW5DkZuWAcEjXlOz2vz5Sr2fL87ay/97vg+DC+AMWnX0Gw34jkdSvwZeRizI71OI0x+DLzUteNV5QS376Zmo9fo+jUywAof/VhNj9zIyXfvxNjHII+QzThVQSqjVRRs/wN8iedA3ijnY4DRCoIZBUQ9DkEHMtTi9aTkVMIboJoZDuZecXkH/ltTKyWjQ/92DvJTZB31Jnkj/8axdkh1qzfSHV1Nbfeeis33XQTt912G/Pnz+d73/seN/32T8xLDGwyjzHeynIvGQEfGypqefnll/nGN75Bbm4ujuPghHMYd/6v2BgNEy2tJOhzGDD5HHyDDqIoPxc2fsSyF2bx5mFFTD5wOgDDhg3j5Zdf5owzzuDiiy9Ozc+cN28e4KU09r/wBF4deT8TJkwgGo0ye/ZsTjjhBBYsWMCkSZNa7bfp06eTnZ3N6aefDkBOTg5HHXUUN998M+PGjaOkpIQnn3ySt956i/3337/Va0SjUS6//HJOO+00Bg0atNPfkbZSURoRERGR7k2B5w4zgUuBZ4G7gDHJnw81xpxore3Wi2IG+zUNEPw5xXt0fqPYsM0qXp+NW1tJ3zNvxpeZS2TF25T9/W5Kvncbwb4jdnph23i7tZCIUfy1ywkUDgSgz9cuZ8ODFxH9fCV5Q8YQT5ahNUDN0lexrkvW2Mk4QMDvkHAtjmM4YUwJq6KJVIGa8pC3jG1BZpABxVm89+oLVH44n5IpVxDqO5TopjVs+ufvySzqT23RFPrnevMrp0yZws9+9jMADjnkEBYuXMhrzz/OjTMfaTKPMVKQwYZmz602lmBgfgY//vGPKSoq4vXXXycjI4OvX3IjHz56PUPOu4dgbjHxhCVj4pns3yeLFy/7EgB33DGIW265henTvcCztLSUCy64gHPOOYepU6dSVVXFjBkz+M53vsP8+fNxHIdRo0YxatSo1OMfddRRrF27ljvvvJNJkya1qBRbtPYVHp01i1deeYXc3NzUebNnz+b8889n0KBB+Hw+DjvsMKZOncp7773Xov/i8Thnn302FRUVPP/88239ddklFaURERER6d4UeALGmLHAJcBfrbXfarR9DXAvcBbwRBc1r0M4wVCTn/ck1daXVUD9+o+b7HNrK8G6+LJaT6OMlX9O1aK59D/v3lSQGew7gvr1S6la9HeKTr4UX1Y+ich2rLWpUU9rLTayHV9mfvKxC8HxpYLOnJDD2MMP4s9/8OGPbCVhLa61+B3wOw5VH7xE1qgv4svIAeOl3lpjseE8Xl+ykiFDT0qla4YTEYzjI+bPYnttjPIFD9P/2DMYNPHLlFVFCfQZRn7FJra9+RSxY0/n4pMO5YVr/Rx44IFNnuuYMWOYM2dOi6Ips56u5O2ZXrCZYW1qlG5CcANXzJ3Ltm3byM/3nufYM35G6cfvUrnkZYqPnepdwNJkNHjixIlUVlayadMm+vXrx3333UdWVhZ33HFH6pjHHnuMwYMH8+abbzapStvYxIkTmTNnTotKsYv+8Rir5z3MzIf/zBFHHNHknP32249///vf1NTUUFlZSf/+/TnzzDMZPnx4k+Pi8ThTp07lww8/ZMGCBRQVFbXahr2hojQiIiIi3ZcCT89UvAGze5ptfxC4DTibbh54NrcnqbahAaPZ/uafiVeW4c/1Rkrr1r4PvgDBktZTLW3cK46DcZruMA4Ng8ehAWOw0VrqNywjPGgM2UGHeOly3FgdGcliQ6FBY8BNwPbPGTPqAOb9dBKffPIJf3YTlAwcRElJLstKK/E5hsj65cQ2r6HwhP/x2tAo0zU8aAzrl77NqG/6UtvKlr9L3pDR5Gdn8PpVkym6I8E3DxvM5qJsYokqonGXcNBPvQM3nj6W40b3ZcKECSxfvrzJU1qxYgVDhw5t8RocPqzQe62zQlTUxlKjdFXJpWMcZ8drU1Ufx+9zcLAkXEvQ51CSG6K6Pp46ZvHixYTD4VSwGolEUkWFGjT87Lo7H6BfvHgx/fv3b1IpdvX8Oaye9zBfuOBXvFnTh0t2cm5WVhZZWVmUl5fz0ksvNQl6Y7EYZ511Fh999BELFiygpKRkp20QERERkd5FgadnAuAC7zTeaK2tM8YsTu7vUfYk1TY8/FACxUMoe+FuCidfQKK2ivJXHybn4K+mKtrWb1xO2QszKT71MkIDRhEoHIS/oD/b/nk/Bcefj5ORS+3Kt6hbu5g+3/JSRQPFgwkPP5xtL/2OopMuYeSAXD5ZMIus/Y8g3GcwQZ/DkEO/SP2bB1D18u8oDfyI99/P4ac//SljvnAY4f4HEInGCTiGmGvZ/v48AgUDCA0+CPCydV3X4loYN/lbvLno73zw9G/Y79ivU776Q9b9Zx5jvzc9VaDmtNNO45k/3sesWV9g7FfG8v7773PhfXO56JxzUiNtV155Jd/5znc49thjmTx5Mq+++ipz5szhueeeS71epaWllJaWsmLFCgB+dEiIAQMKGTJkCIWFhZQVH0VhYSHnnXceM2bMICMjg63/+gN12z5n/BHHkVeSy6YP/49N5VsYfuChfPLJJ7z66qvMmDGDCy+8kFDIG70+9dRTmTlzJjfccAPf/e53qaqq4he/+AWDBw/m8MMPB+Cee+5h2LBhjB07lmg0ymOPPcZzzz3HM888w90rvUqxn/zrCZb9/UEO/f51FAwYyurP1lNaWkpGRgZ5eXmAt16o67qMHj2aVatWccUVVzBq1CjOO+88wBvpPOOMM3j33XeZO3cuxhhKS0sByMvLIyMjYy9+S0VERESkpzC2lQIovY0x5kOgr7W2Xyv7ngLOAELW2p0OEY4fP94uXLgwja1su2FXv9Dk59InribYZyiFX/7RXl8zXrmZbf+8n7pPl2D8QbIO/BIFx1+A8XtLXNR9toRNT/6CflNvJTzEq3Ib27aBin8/Qt36/2Jjtfjz+5M74RtkH3RC6rqJ2irKX5lFZNV/cIzhrG9/g9rxP6AiEUilxNZtL+ODv9xD+fJ3KcjN4stf/jJ33303H5cbZr22mpWbq9i+vZLV957N0BO+jzl4CgkLjoGg3yE75OfObx/M4nfeZPo1VxDZ9CnhvCKGHDeVvhNPS41mVlVVcd111/Hss8+yefNm+vfvz1lnncWMGTOaVHT905/+xK233sq6desYOXIk11xzDVOnTk3tv/7667nhhhtavIZ//OMfOffccwFYuHAh1157LQsXLiQWizFw+P74DjuDfuOO8pYJ+fAtVv3jQdyKzzFYRowYwbRp07j44ovx+3d8XzRnzhzuuOMOVqxYQUZGBkceeSS33357Kh34jjvu4IEHHmDDhg1kZGQwduxYrrnmGk455RSmPvA2m6vqeOvWqdRuK23R3h/84Af86U9/AuCpp57immuuYf369RQWFvKtb32LW265JRWYrl27tkXabWvPW0RERER6LmPMImvt+Fb3KfAEY8wnQMBaO6SVfY8C3wcKrLUVzfZdCFwIMGTIkMM//fTTzmjubjUPPPclhmTxoEYcA31zQgwvzubJC49sMvewcQXThgCxNQ1FctaXR8gO+bHWUhNNtChC0/i4fa1ATWe3bW9eZxERERGRnVHguRs9fcSzq/kd2L9PNqcc1J+3Vm9j6cbtVNXHMRYygj5ywn6Cfl+TgGdfDhB7Er3OIiIiItJRdhV4ao6nZyNwoDEmZK2tb7ZvIFC2q6BTdsgOOsSSdW2GF2Vy9cljmgQylybvdxfwqIJp59DrLCIiIiKdQYGn513gK8ARwOsNG40xYeAQ4LUuatdeWXvbqe0e9TRATtjPtGOGc+mJB3DvKyt46I011EQTZAV9qe17SwGPiIiIiEjvoVRbwBhzEPAB8GyzdTwvwVvH8/vW2sd2dY19KdVWRERERESksynVdjestR8aY+4DfmKM+SvwD2AMXmbov+lha3iKiIiIiIh0JgWeO/wUWItXpfZUoAz4LTDDWut2YbtERERERES6NQWeSdbaBHBX8iYiIiIiIiIdxOnqBoiIiIiIiEjPpsBTRERERERE0kqBp4iIiIiIiKSVAk8RERERERFJKwWeIiIiIiIiklYKPEVERERERCStFHiKiIiIiIhIWinwFBERERERkbRS4CkiIiIiIiJppcBTRERERERE0kqBp4iIiIiIiKSVAk8RERERERFJKwWeIiIiIiIiklYKPEVERERERCStFHiKiIiIiIhIWinwFBERERERkbRS4CkiIiIiIiJpZay1Xd2GHsEYswX4tKvb0YpioKyrGyEdSn3aM6lfex71ac+jPu2Z1K89j/q06wy11vZpbYcCzx7OGLPQWju+q9shHUd92jOpX3se9WnPoz7tmdSvPY/6dN+kVFsRERERERFJKwWeIiIiIiIiklYKPHu+B7q6AdLh1Kc9k/q151Gf9jzq055J/drzqE/3QZrjKSIiIiIiImmlEU8RERERERFJKwWeIiIiIiIiklYKPLsZY4xjjLnMGLPMGFNnjFlnjLnLGJPVGedLx2tPnxhjDjDG3GiMedsYs8UYU2WMWWyMuVZ92nU68n1mjMk0xqwxxlhjzO/S0V5pm47oV2NMoTHmTmPMquQ1thhjXjXGHJvOtkvrOuD/1GxjzC+MMR8m//6WGWPeNMaca4wx6W6/tGSMucYY8xdjzOrk3821e3mdc4wx7xtjao0xm4wxDxljWl2bUNKvvf1qjBmYvMa/jTGfG2NqjDFLjTG/NsYUpanZ0ozmeHYzxpjfAJcCzwLzgDHAJcDrwInWWjed50vHa0+fGGNuAy4GngfeBmLA8cB3gCXAkdba2rQ+AWmhI99nxpg7gYuAbOA+a+1POr7F0hYd8Pd3KLAAry//AKwA8oAvAC9Za+ekrfHSqnb+/XWAfwNfBB7B+xucCUwFjgDusNZeldYnIC0YYyywDXgPOByotNYO28NrXAbcjde/TwCDgJ8BnwJHWGtrOrLNsnvt7VdjzA+B3wAvAG8AVXjv03OBz/H6tbRjWy0tWGt16yY3YCzgAs80234JYIHvpvN83fbJPh0P5LWy/ebk+T/p6ufY224d+T4DDgPieB94LPC7rn5+vfXWEf2KF8ysA/p39fPRrUP+/h6VPG5ms+1BYDVQ0dXPsTfegBGN/v0RsHYPzy8GaoB3AF+j7acl+/sXXf0ce+OtA/p1LFDSyvZpyX69s6ufY2+4KdW2e5kKGOCeZtsfBCLA2Wk+Xzpeu/rEWrvQWru9lV1/Tt6Pa3cLZU91yPvMGONLnvMi8NeObKDslXb1qzFmEnAM3ijY58aYgDEmMy0tlbZq73s1N3m/sfFGa20UKMMLXqSTWWtXt/MSX8cbuf6ttTbR6Lpz8b5Q0GelLtDefrXWLrWtj2jq81InUuDZvUzA+3b2ncYbrbV1wOLk/nSeLx0vXX0yKHm/ae+bJnupo/r0MmA0oNTafUN7+/WU5P1nxpi5QC1QY4xZYYzRB9mu0d4+fQeoAK40xpxhjBlijBlljPkVXirg9R3fZOkEDf3+Viv73gZGG2OyO7E9kl76vNSJFHh2LwOAMmttfSv7NgDFxphgGs+XjtfhfZIcKZuBl6L5RPubKHuo3X1qjBkO3ADcaK1d2/FNlL3Q3n4dlbx/ECgEfgBcAESB2caY8zqysdIm7epTa205cDrevLOn8Ob/LcObd/8ta+2DHd9k6QQDkvcbWtm3AW+UfEAr+6R7uiF5/0iXtqKX8Hd1A2SPZAKt/QcJUNfomGiazpeOl44+uQc4Em8eyvJ2tE32Tkf06f3AGrziFrJvaG+/5iTvq4Djk+mYGGOexUvfu9UY84hVgbfO1BHv1Wq8+WbPA2/ifalwMfCEMWaKtfblDmqrdJ6GFPjWfjfqmh0jWrsixQAABWpJREFU3Zgx5nLgDOABa+38rm5Pb6ARz+4lAoR2si/c6Jh0nS8dr0P7xBhzE15q5gPW2l+1s22yd9rVp8m0y68AP7TWxjq4bbL32vtebagu/WRD0AmpUbPngRJ2jIpK52jve/UgvGDzZWvtFdbaZ621f8Cby1sKPJjMQJHupaHPW/vd0GelHsIYMw34NV6VW01p6SQKPLuXjXipP639MRyIlzK0q29m23u+dLwO6xNjzPXAdOCPwA87rIWyp/a6T5Pn3A38Ayg1xuxvjNkfGJo8JC+5LT8dDZddau97dX3yvrXiFp8n7wva0T7Zc+3t08vwApG/NN5orY3gfZgdCgzrmKZKJ2ooFjWwlX0D8Sqgbmxln3QTxpjzgQeAf+KlxetL3k6iwLN7eRevz45ovNEYEwYOARam+XzpeB3SJ8aYXwK/BB4FpllrtUBv12lPn2YAfYBTgZWNbguS+89O/jytQ1ssbdHe92pDAZtBrexr2La5PQ2UPdbePm0ITFob1fQ3u5fu493k/VGt7JsILLfWVndie6QDJefTPwi8Anx9J3O8JU0UeHYvf8b7pu2nzbb/D958g8cbNhhj9jPGjN7b86XTtLdPMcbMwKueOBs4T3PEulx7+rQGb75J89uPk/tfTP78fFpaLrvS3vfqc3jzO89uXBHTGNMfb/mGldbaVelouOxUe/v0v8n7cxtvTGYkTAHKgU86sL3SwZKViEcbYwKNNv8NLzX+J41TpY0xpwH7oc9K+7yd9CvGmHOBh4BXgSnJCtbSiYwGRroXY8xv8XLRn8VLxxsDXAr8HzC5IegwxqwFhlprzd6cL52nPX1qjLkY+B3wGXAd3tIAjW1ScYvO1973aSvXG4ZXbOg+a63monSRDvj7eyEwC1gKPAwEgR8B/YGvWWv/2TnPRBq08+/vUOA9vBTpx5PnFOIFrsOAi621/9tZz0U8xpjvs2N6wiV477O7kj9/aq2d3ejYBcCXgOGNK4gni87ciZdt8iTe6PblwDpggkY8O197+9UYczre+7wSuJId8+4bVFtrn0tX+yXJWqtbN7rhpfRcDizHq7i2AW9OWHaz49Z63bt35+vWPfoU+BPeN/Y7uy3o6ufXG2/tfZ+2cr1hyf78XVc/t95864h+Bb6JtxZgDd4I6D+Bo7v6ufXWWwf8n7of3jIM64EY3ofa14BvdvVz6603vGCxTf8nNjp2WCvXORf4AK+S7Wa8L4v6dvXz66239vYrXmbYrj4vre3q59gbbhrxFBERERERkbTSHE8RERERERFJKwWeIiIiIiIiklYKPEVERERERCStFHiKiIiIiIhIWinwFBERERERkbRS4CkiIiIiIiJppcBTRERERESkFzPGPGyM2WyM+agNx840xixO3lYYYyra9Bhax1NERERERKT3MsZMAqqBR6214/bgvEuAQ6215+/uWI14ioiIiIiI9GLW2teAbY23GWP2M8a8aIxZZIx53RgzupVTpwJPtuUx/B3QThEREREREelZHgB+aK1daYyZCPwvMLlhpzFmKDAcmN+WiynwFBERERERkRRjTDbwReAvxpiGzaFmh50FPG2tTbTlmgo8RUREREREpDEHqLDWHrKLY84CLt6TC4qIiIiIiIgAYK2tBNYYY84AMJ6DG/YbY0YBBcBbbb2mAk8REREREZFezBjzJF4QOcoYs94YcwHwPeACY8wHwFJgSqNTpgJz7B4skaLlVERERERERCStNOIpIiIiIiIiaaXAU0RERERERNJKgaeIiIiIiIiklQJPERERERERSSsFniIiIiIiIpJWCjxFREREREQkrRR4ioiIiIiISFop8BQREREREZG0+v+eLfzx2owOLgAAAABJRU5ErkJggg==\n",
      "text/plain": [
       "<Figure size 1080x720 with 1 Axes>"
      ]
     },
     "metadata": {
      "needs_background": "light"
     },
     "output_type": "display_data"
    }
   ],
>>>>>>> 6be637c17b78a8c5742087298e44db99f8d20a27
   "source": [
    "#corr\n",
    "corr = df['converted_pledged_amount'].corr(df['backers_count'])\n",
    "#set figure size\n",
    "plt.figure(figsize=(15, 10))\n",
    "#plot the data\n",
    "sns.regplot(data=df,x=df['converted_pledged_amount'],y=df['backers_count'], ci=None)\n",
    "#format the plot\n",
    "text = 'r=%s' % (corr)\n",
    "plt.text(1, 19, text, fontsize=14)\n",
    "plt.title('', fontsize=20);\n",
    "plt.xlabel('', fontsize=18)\n",
    "plt.ylabel('', fontsize=18)\n",
    "plt.xticks(fontsize=18)\n",
    "plt.yticks(fontsize=18);"
   ]
  },
  {
   "cell_type": "markdown",
   "metadata": {},
   "source": [
    "# Statistical Analysis"
   ]
  },
  {
   "cell_type": "code",
<<<<<<< HEAD
   "execution_count": null,
=======
   "execution_count": 98,
>>>>>>> 6be637c17b78a8c5742087298e44db99f8d20a27
   "metadata": {},
   "outputs": [],
   "source": [
    "#Confidence Intervals:\n",
    "# To define between pledge amount x and x we should ask\n",
    "# To define between number of backers x and x we should aim for\n",
    "\n",
    "# One-sample\n",
    "# 1 category opposed to population mean\n",
    "\n",
    "# Two-sample\n",
    "#2 categories (tech vs. food) and Netherlands/Europe vs. US"
   ]
  },
  {
   "cell_type": "markdown",
   "metadata": {},
   "source": [
    "**Categories** (Assumption that Technology startups have highest funding due to popularity/size of investments) \n",
    "\n",
    "https://producthype.co/kickstarter-tips-2019/ \n",
    "\n",
    "        - Succesful campaigns\n",
    "        -> ratio succesful/unsuccesful/live definieren\n",
    "        -> one-sample 1 tegenover het totaal\n",
    "        -> two sample 1 tegenover de rest, of Tech vs Design \n",
    "        \n",
    "*   H0: $\\mu_{1} = \\mu_{2}$, There is no difference between total pledge for successful campaigns in the Technology category and all other categories\n",
    "*   H1: $\\mu_{1} \\neq \\mu_{2},$ There is a difference between total pledge for successful campaigns in the Technology category and all other categories\n",
    "\n",
    "For this test, we have to groups in which we can not match the rows to eachother, hence **independent samples**.\n",
    "Secondly, we assume a **normally distributed population**.\n",
    "\n",
    "(?) We cannot (or do not want to) assume Equal Variances."
   ]
  },
  {
   "cell_type": "code",
<<<<<<< HEAD
   "execution_count": null,
   "metadata": {},
   "outputs": [],
=======
   "execution_count": 101,
   "metadata": {},
   "outputs": [
    {
     "name": "stdout",
     "output_type": "stream",
     "text": [
      "The mean usd_pledged for the Technology category is 96440.80866514707\n",
      "The mean usd_pledged for the all categories is 22242.121659483222\n",
      "We reject the null hypothesis, the mean is greater than {} 22242.121659483222\n"
     ]
    }
   ],
   "source": [
    "#One sample t-test: Technology campaigns against the total campaigns\n",
    "\n",
    "sample = df[df['category_parent_name'] == 'Technology'] \n",
    "\n",
    "# one-tailed, greater than 86000\n",
    "sample_m = np.mean(sample['usd_pledged'])\n",
    "m = np.mean(df['usd_pledged'])\n",
    "print(\"The mean usd_pledged for the Technology category is\", sample_m)\n",
    "print(\"The mean usd_pledged for the all categories is\", m)\n",
    "\n",
    "# computing the test statistics\n",
    "t, p = stats.ttest_1samp(sample['usd_pledged'], m)\n",
    "\n",
    "alpha = 0.05\n",
    "if (t > 0) & (p/2 < alpha):\n",
    "    print(\"We reject the null hypothesis, the mean is greater than {}\", format(m))\n",
    "else:\n",
    "    print(\"accept null hypothesis\")"
   ]
  },
  {
   "cell_type": "code",
   "execution_count": 14,
   "metadata": {},
   "outputs": [
    {
     "data": {
      "text/plain": [
       "<seaborn.axisgrid.FacetGrid at 0x7f90f02c2e10>"
      ]
     },
     "execution_count": 14,
     "metadata": {},
     "output_type": "execute_result"
    },
    {
     "data": {
      "image/png": "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\n",
      "text/plain": [
       "<Figure size 360x360 with 1 Axes>"
      ]
     },
     "metadata": {
      "needs_background": "light"
     },
     "output_type": "display_data"
    }
   ],
   "source": [
    "#To Do: plot to prove normally distributed population\n",
    "sns.displot(data=succesful_campaigns, x='usd_pledged')"
   ]
  },
  {
   "cell_type": "code",
   "execution_count": 61,
   "metadata": {},
   "outputs": [
    {
     "name": "stderr",
     "output_type": "stream",
     "text": [
      "/Users/elskedenbode/opt/anaconda3/lib/python3.7/site-packages/ipykernel_launcher.py:7: SettingWithCopyWarning: \n",
      "A value is trying to be set on a copy of a slice from a DataFrame.\n",
      "Try using .loc[row_indexer,col_indexer] = value instead\n",
      "\n",
      "See the caveats in the documentation: https://pandas.pydata.org/pandas-docs/stable/user_guide/indexing.html#returning-a-view-versus-a-copy\n",
      "  import sys\n"
     ]
    },
    {
     "data": {
      "image/png": "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\n",
      "text/plain": [
       "<Figure size 432x288 with 1 Axes>"
      ]
     },
     "metadata": {
      "needs_background": "light"
     },
     "output_type": "display_data"
    }
   ],
>>>>>>> 6be637c17b78a8c5742087298e44db99f8d20a27
   "source": [
    "#Compute variables to test\n",
    "successful_campaigns = df.loc[df['state'] == 'successful']\n",
    "successful_campaigns_tech = successful_campaigns.loc[successful_campaigns['category_parent_name'] == 'Technology']\n",
    "successful_campaigns_other = successful_campaigns.loc[successful_campaigns['category_parent_name'] != 'Technology']\n",
    "\n",
    "#Plot to estimate differences\n",
    "successful_campaigns['tech_vs_other'] = np.where(successful_campaigns['category_parent_name']=='Technology', 'Technology', 'Other')\n",
    "ax = sns.boxplot(x=\"tech_vs_other\", y=\"usd_pledged\", data=successful_campaigns, order=[\"Technology\", \"Other\"], showfliers=False)"
   ]
  },
  {
   "cell_type": "code",
<<<<<<< HEAD
   "execution_count": null,
   "metadata": {},
   "outputs": [],
=======
   "execution_count": 15,
   "metadata": {},
   "outputs": [
    {
     "data": {
      "image/png": "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\n",
      "text/plain": [
       "<Figure size 432x288 with 1 Axes>"
      ]
     },
     "metadata": {
      "needs_background": "light"
     },
     "output_type": "display_data"
    }
   ],
>>>>>>> 6be637c17b78a8c5742087298e44db99f8d20a27
   "source": [
    "#Plot boxplots versus other five top categories according to count\n",
    "ax = sns.boxplot(x=\"category_parent_name\", y=\"usd_pledged\", data=succesful_campaigns, order=[\"Technology\", \"Design\", \"Games\", \"Food\", \"Fashion\"], showfliers=False)"
   ]
  },
  {
   "cell_type": "code",
<<<<<<< HEAD
   "execution_count": null,
   "metadata": {},
   "outputs": [],
=======
   "execution_count": 50,
   "metadata": {},
   "outputs": [
    {
     "data": {
      "text/plain": [
       "Ttest_indResult(statistic=49.897694591269115, pvalue=0.0)"
      ]
     },
     "execution_count": 50,
     "metadata": {},
     "output_type": "execute_result"
    }
   ],
>>>>>>> 6be637c17b78a8c5742087298e44db99f8d20a27
   "source": [
    "from scipy.stats import ttest_ind\n",
    "\n",
    "#Decide whether equal variances are true or false\n",
    "ttest_ind(succesful_campaigns_tech['usd_pledged'], succesful_campaigns_other['usd_pledged'], equal_var=False)\n",
    "ttest_ind(succesful_campaigns_tech['usd_pledged'], succesful_campaigns_other['usd_pledged'], equal_var=True)"
   ]
  },
  {
   "cell_type": "code",
   "execution_count": null,
   "metadata": {},
   "outputs": [],
   "source": [
    "#Idea: build a loop two-sample-t-test for testing Technology against Design, Games, Food and Fashion."
   ]
  },
  {
   "cell_type": "markdown",
   "metadata": {},
   "source": [
    "# Countries"
   ]
  },
  {
   "cell_type": "markdown",
   "metadata": {},
   "source": [
    "- US vs NL (Assumption: Silicon Valley vs. the Netherlands)\n",
    "    - Usd pledged in NL hoger OF lager dan in US (1 of 2 sample T test)  \n",
    "    -> Dict \"location\" needs to be unfolded ('name', 'expanded_country')  \n",
    "    -> Test binnen alle categorien eerst, eventueel later alleen in hierboven gekozen categorie  \n",
    "Rianne"
   ]
  },
  {
   "cell_type": "code",
   "execution_count": 64,
   "metadata": {},
<<<<<<< HEAD
   "outputs": [],
=======
   "outputs": [
    {
     "name": "stdout",
     "output_type": "stream",
     "text": [
      "Number of records US:  131536\n",
      "Number of records NL:  1660\n",
      "Number of records Us & NL:  133196\n"
     ]
    }
   ],
>>>>>>> 6be637c17b78a8c5742087298e44db99f8d20a27
   "source": [
    "# Create two samples: one US and one NL \n",
    "df_us = df.loc[df['country']=='US']\n",
    "df_nl = df.loc[df['country']=='NL']\n",
    "df_usnl = df[((df['country'] == 'US') | (df['country'] == 'NL'))]\n",
    "print('Number of records US: ', len(df_us))\n",
    "print('Number of records NL: ', len(df_nl))\n",
    "print('Number of records Us & NL: ', len(df_usnl))"
   ]
  },
  {
   "cell_type": "code",
<<<<<<< HEAD
   "execution_count": null,
   "metadata": {},
   "outputs": [],
   "source": [
    "df_nl['state'].value_counts()"
=======
   "execution_count": 52,
   "metadata": {},
   "outputs": [
    {
     "data": {
      "image/png": "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\n",
      "text/plain": [
       "<Figure size 432x288 with 1 Axes>"
      ]
     },
     "metadata": {
      "needs_background": "light"
     },
     "output_type": "display_data"
    }
   ],
   "source": [
    "ax = sns.boxplot(x=\"country\", y=\"usd_pledged\", data=successful_campaigns, order=[\"NL\", \"US\"], showfliers=False)"
   ]
  },
  {
   "cell_type": "markdown",
   "metadata": {},
   "source": [
    "*   H0: $\\mu_{1} = \\mu_{2}$, There is no difference between total pledge for all campaigns in the Netherlands versus the US\n",
    "*   H1: $\\mu_{1} \\neq \\mu_{2},$ There is a difference between total pledge for all campaigns in the Netherlands versus the US"
   ]
  },
  {
   "cell_type": "code",
   "execution_count": 68,
   "metadata": {},
   "outputs": [
    {
     "data": {
      "text/plain": [
       "Ttest_indResult(statistic=0.3581653287809207, pvalue=0.7202201596355523)"
      ]
     },
     "execution_count": 68,
     "metadata": {},
     "output_type": "execute_result"
    }
   ],
   "source": [
    "ttest_ind(df_us['usd_pledged'], df_nl['usd_pledged'], equal_var=False)\n",
    "ttest_ind(df_us['usd_pledged'], df_nl['usd_pledged'], equal_var=True)"
   ]
  },
  {
   "cell_type": "markdown",
   "metadata": {},
   "source": [
    "# Number of backers"
>>>>>>> 6be637c17b78a8c5742087298e44db99f8d20a27
   ]
  },
  {
   "cell_type": "code",
<<<<<<< HEAD
   "execution_count": null,
   "metadata": {},
   "outputs": [],
   "source": [
    "#Import libraries\n",
    "\n",
    "import numpy as np\n",
    "import pandas as pd\n",
    "import scipy.stats as stats\n",
    "from scipy.stats import chi2_contingency\n",
    "\n",
    "#contingency table\n",
    "contingency_table = pd.crosstab(df_usnl['state_cat'], df_usnl['country'])\n",
    "contingency_table\n",
    "\n",
    "#perform test\n",
    "stats.chi2_contingency(contingency_table)\n",
    "\n",
    "\"\"\"Because the p-value is smaller than 0.05, we can reject the 0 hypothesis. \n",
    "H0 = no statistical difference, that means there is a statistical difference. The chance to have a succesfull campaign in the US\n",
    "is higher than in the Neterlands.\"\"\""
=======
   "execution_count": 114,
   "metadata": {},
   "outputs": [
    {
     "name": "stdout",
     "output_type": "stream",
     "text": [
      "The average pledge per backer for the Technology category is 189.28181799028096\n",
      "The average pledge per backer for the all categories is 90.6368460535567\n",
      "We reject the null hypothesis, the mean is greater than {} 90.6368460535567\n"
     ]
    }
   ],
   "source": [
    "#One sample t-test\n",
    "#Proportion of campaigns that fail is higher in the Netherlands (see file Rianne)\n",
    "# High backer average in succesful campaigns as opposed to population\n",
    "\n",
    "#One sample t-test: Technology campaigns against the total campaigns\n",
    "\n",
    "sample = df[df['category_parent_name'] == 'Technology'] \n",
    "\n",
    "# one-tailed, greater than 86000\n",
    "sample_m = np.mean(sample['average_pledge'])\n",
    "m = np.mean(df['average_pledge'])\n",
    "print(\"The average pledge per backer for the Technology category is\", sample_m)\n",
    "print(\"The average pledge per backer for the all categories is\", m)\n",
    "\n",
    "# computing the test statistics\n",
    "t, p = stats.ttest_1samp(sample['average_pledge'], m)\n",
    "\n",
    "alpha = 0.05\n",
    "if (t > 0) & (p/2 < alpha):\n",
    "    print(\"We reject the null hypothesis, the mean is greater than {}\", format(m))\n",
    "else:\n",
    "    print(\"accept null hypothesis\")\n",
    "\n",
    "#Average pledge per backer in US vs NL ?"
>>>>>>> 6be637c17b78a8c5742087298e44db99f8d20a27
   ]
  },
  {
   "cell_type": "markdown",
   "metadata": {},
   "source": [
    "- Number of backers (Assumption: popularity of campaign defines popularity of startup)\n",
    "    - Ga je voor weinig backers met veel of veel backers met weinig -> verschil in succesful  \n",
    "        -> Define average pledge per backer (see to do)  \n",
    "        -> Succesful versus unsuccesful (2-sample: avg. per backer succesful versus avg. per backer unsuccesful)  \n",
    "            We verwachten dat dit verschilt - gemiddelde bij succesvol hoger\n",
    "Rianne  \n",
    "            \n",
    "- Zoja/Zonee -> define confidence intervals voor backers voor ons \"start-up\" plan (binnen onze categorie?)  \n",
    "\n",
    "Elske"
   ]
  },
  {
   "cell_type": "code",
<<<<<<< HEAD
   "execution_count": null,
   "metadata": {},
   "outputs": [],
=======
   "execution_count": 20,
   "metadata": {},
   "outputs": [
    {
     "name": "stdout",
     "output_type": "stream",
     "text": [
      "With 95 % confidence, the average number of backers for a succesful campaign in Technology: 640 and 736\n"
     ]
    }
   ],
>>>>>>> 6be637c17b78a8c5742087298e44db99f8d20a27
   "source": [
    "# Sample represents the numbers of backers for succesful campaigns within the \"Tech\" category\n",
    "succesful_campaigns = df.loc[df['state'] == 'successful']\n",
    "succesful_campaigns_tech = succesful_campaigns.loc[succesful_campaigns['category_parent_name'] == 'Technology']\n",
    "sample = succesful_campaigns_tech['backers_count']\n",
    "\n",
    "#Compute degrees of freedom\n",
    "df = len(sample) -1 \n",
    "\n",
    "#Compute t-statistic, mean and standard error\n",
    "t = stats.t.interval(0.95,df)[1]\n",
    "x  = np.mean(sample)\n",
    "se = np.std(sample) / np.sqrt(len(sample))\n",
    "\n",
    "#Define confidence intervals\n",
    "con_int = [round(num,3) for num in [x - (t * se) , x + (t * se)]]\n",
    "print('With 95 % confidence, the average number of backers for a succesful campaign in Technology:', round(con_int[0]), \"and\", round(con_int[1]))"
   ]
  },
  {
   "cell_type": "markdown",
   "metadata": {},
   "source": [
    "#### Confidence interval amount pledged"
   ]
  },
  {
   "cell_type": "code",
   "execution_count": null,
   "metadata": {},
   "outputs": [],
   "source": [
    "# Sample represents the pledged US dollars for succesful campaigns within the “Tech” category\n",
    "succesful_campaigns = df.loc[df['state'] == 'successful']\n",
    "succesful_campaigns_tech = succesful_campaigns.loc[succesful_campaigns['category_parent_name'] == 'Technology']\n",
    "sample = succesful_campaigns_tech['usd_pledged']\n",
    "\n",
    "#Compute degrees of freedom\n",
    "dfree = len(sample) -1\n",
    "\n",
    "#Compute t-statistic, mean and standard error\n",
    "t = stats.t.interval(0.95,dfree)[1]\n",
    "x  = np.mean(sample)\n",
    "se = np.std(sample) / np.sqrt(len(sample))\n",
    "\n",
    "#Define confidence intervals\n",
    "con_int = [round(num,3) for num in [x - (t * se) , x + (t * se)]]\n",
    "print('With 95 % confidence, the average usd_pledged for a succesful campaign in Technology is between:', round(con_int[0]), 'and', round(con_int[1]), 'dollar')"
   ]
  },
  {
   "cell_type": "markdown",
   "metadata": {},
   "source": [
    "#### Confidence interval successful goal"
   ]
  },
  {
   "cell_type": "code",
   "execution_count": 11,
   "metadata": {},
   "outputs": [
    {
     "ename": "NameError",
     "evalue": "name 'succesful_campaigns_tech' is not defined",
     "output_type": "error",
     "traceback": [
      "\u001b[1;31m---------------------------------------------------------------------------\u001b[0m",
      "\u001b[1;31mNameError\u001b[0m                                 Traceback (most recent call last)",
      "\u001b[1;32m<ipython-input-11-f2e0c5ffef5e>\u001b[0m in \u001b[0;36m<module>\u001b[1;34m\u001b[0m\n\u001b[0;32m      1\u001b[0m \u001b[1;31m# Sample represents the numbers of backers for succesful campaigns within the “Tech” category\u001b[0m\u001b[1;33m\u001b[0m\u001b[1;33m\u001b[0m\u001b[1;33m\u001b[0m\u001b[0m\n\u001b[1;32m----> 2\u001b[1;33m \u001b[0msample\u001b[0m \u001b[1;33m=\u001b[0m \u001b[0msuccesful_campaigns_tech\u001b[0m\u001b[1;33m[\u001b[0m\u001b[1;34m'goal'\u001b[0m\u001b[1;33m]\u001b[0m\u001b[1;33m\u001b[0m\u001b[1;33m\u001b[0m\u001b[0m\n\u001b[0m\u001b[0;32m      3\u001b[0m \u001b[1;33m\u001b[0m\u001b[0m\n\u001b[0;32m      4\u001b[0m \u001b[1;31m#Compute degrees of freedom\u001b[0m\u001b[1;33m\u001b[0m\u001b[1;33m\u001b[0m\u001b[1;33m\u001b[0m\u001b[0m\n\u001b[0;32m      5\u001b[0m \u001b[0mdfree\u001b[0m \u001b[1;33m=\u001b[0m \u001b[0mlen\u001b[0m\u001b[1;33m(\u001b[0m\u001b[0msample\u001b[0m\u001b[1;33m)\u001b[0m \u001b[1;33m-\u001b[0m\u001b[1;36m1\u001b[0m\u001b[1;33m\u001b[0m\u001b[1;33m\u001b[0m\u001b[0m\n",
      "\u001b[1;31mNameError\u001b[0m: name 'succesful_campaigns_tech' is not defined"
     ]
    }
   ],
   "source": [
    "# Sample represents the numbers of backers for succesful campaigns within the “Tech” category\n",
    "sample = succesful_campaigns_tech['goal']\n",
    "\n",
    "#Compute degrees of freedom\n",
    "dfree = len(sample) -1\n",
    "\n",
    "#Compute t-statistic, mean and standard error\n",
    "t = stats.t.interval(0.95,dfree)[1]\n",
    "x  = np.mean(sample)\n",
    "se = np.std(sample) / np.sqrt(len(sample))\n",
    "\n",
    "#Define confidence intervals\n",
    "con_int = [round(num,3) for num in [x - (t * se) , x + (t * se)]]\n",
    "print('With 95 % confidence, the average goal for a succesful campaign in Technology is between:', round(con_int[0]), 'and', round(con_int[1]), 'dollar')"
   ]
  },
  {
   "cell_type": "markdown",
   "metadata": {},
   "source": [
    "#### Goal differs significantly from pledged amout"
   ]
  },
  {
   "cell_type": "code",
   "execution_count": null,
   "metadata": {},
   "outputs": [],
   "source": [
    "#H0: mean goal = mean usd_pledged\n",
    "#HA: mean goal != mean usd_pledged\n",
    "\n",
    "from scipy.stats import ttest_rel\n",
    "result = ttest_rel(succesful_campaigns_tech['usd_pledged'], succesful_campaigns_tech['goal'])\n",
    "pvalue = result.pvalue\n",
    "pvalue\n",
    "\n",
    "if pvalue < 0.05:\n",
    "    print('Reject null hypothesis: the mean of the goal and pledged amout significantly differ')\n",
    "    \n",
    "    if pvalue > 0.05:\n",
    "        print('Confirm null hypothesis: the mean of the goal and pledged amout do not significantly differ')"
   ]
  },
  {
   "cell_type": "markdown",
   "metadata": {},
   "source": [
    "Bonus:\n",
    "In specific categories: Pledge amount asked - Pledged (goal - converted)  \n",
    "COVID impact 2020 versus 2018/2019 (less pledges than previous years - and in which categories?)  \n",
    "Other differences in years   \n",
    "    "
   ]
  }
 ],
 "metadata": {
  "kernelspec": {
   "display_name": "Python 3",
   "language": "python",
   "name": "python3"
  },
  "language_info": {
   "codemirror_mode": {
    "name": "ipython",
    "version": 3
   },
   "file_extension": ".py",
   "mimetype": "text/x-python",
   "name": "python",
   "nbconvert_exporter": "python",
   "pygments_lexer": "ipython3",
   "version": "3.7.4"
  }
 },
 "nbformat": 4,
 "nbformat_minor": 2
}
