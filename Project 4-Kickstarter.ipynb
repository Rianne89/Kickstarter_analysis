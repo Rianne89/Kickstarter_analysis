{
 "cells": [
  {
   "cell_type": "markdown",
   "metadata": {},
   "source": [
    "# Kickstarter Startup Analysis"
   ]
  },
  {
   "cell_type": "markdown",
   "metadata": {},
   "source": [
    "1. How should we design our Kickstarter campaign in order to make our startup funding phase as succesful as possible?\n",
    "    - **Categorie** (Assumption Tech) - Succesful campaigns\n",
    "        -> ratio succesful/unsuccesful/live definieren\n",
    "        -> one-sample 1 tegenover het totaal\n",
    "        -> two sample 1 tegenover de rest, of Tech vs Design\n",
    "    - **US vs NL** (Assumption: Silicon Valley vs. the Netherlands)\n",
    "        -> Average pledged amount in NL hoger OF lager dan in US (1 of 2 sample T test)\n",
    "    - **Number of backers** (Assumption: popularity of campaign defines popularity of startup)\n",
    "        -> Ga je voor weinig backers met veel of veel backers met weinig -> verschil in succesful (Hoeveel backers per in je goal)\n",
    "    -> Zoja/Zonee -> define confidence intervals voor backers voor ons \"start-up\" plan\n",
    "    \n",
    "    - **Pledge amount asked** - Pledged (goal - converted)\n",
    "    \n",
    "2. Which pledge amount will lead to the highest possible funding?\n",
    "\n",
    "3. How could the location of the kickstarter campaign, or the sub-category, influence the success rate of our kickstarter campaign?"
   ]
  },
  {
   "cell_type": "markdown",
   "metadata": {},
   "source": [
    "**To do**  \n",
    "~~Elske: Fix git issues  ~~  \n",
    "Rianne: #Drop duplicates (per project_id, check categorieen - 1, 2 en 3 -- zijn hetzelfde, dus sort_values by pledged amount, keepfirst)  \n",
    "Rianne: #Currency -> use usd_pledged -> convert_amount can be dropped, fx_rate also, currency also   \n",
    "Rianne: #Take out live  \n",
    "~~Elske:  #Canceled and unsuccesful -> Failed~~  \n",
    "~~Elske:  #Unfold Dict \"location\" unfold: 'name', 'expanded_country'~~  \n",
    "~~Elske:  #Create column with average pledge per backer  ~~  \n",
    "Both: Check for missing values and how to solve them + add code for hypothesis testing"
   ]
  },
  {
   "cell_type": "code",
   "execution_count": 1,
   "metadata": {},
   "outputs": [],
   "source": [
    "#Importing libraries\n",
    "import pandas as pd\n",
    "import json\n",
    "from datetime import datetime"
   ]
  },
  {
   "cell_type": "markdown",
   "metadata": {},
   "source": [
    "Download the file <a href=\"https://drive.google.com/drive/folders/1hIBnfoXrXNW2vF_ka8R8Y0mltCmBjqPZ\" target=\"_blank\">here</a>."
   ]
  },
  {
   "cell_type": "code",
   "execution_count": 2,
   "metadata": {},
   "outputs": [
    {
     "data": {
      "text/html": [
       "<div>\n",
       "<style scoped>\n",
       "    .dataframe tbody tr th:only-of-type {\n",
       "        vertical-align: middle;\n",
       "    }\n",
       "\n",
       "    .dataframe tbody tr th {\n",
       "        vertical-align: top;\n",
       "    }\n",
       "\n",
       "    .dataframe thead th {\n",
       "        text-align: right;\n",
       "    }\n",
       "</style>\n",
       "<table border=\"1\" class=\"dataframe\">\n",
       "  <thead>\n",
       "    <tr style=\"text-align: right;\">\n",
       "      <th></th>\n",
       "      <th>backers_count</th>\n",
       "      <th>blurb</th>\n",
       "      <th>converted_pledged_amount</th>\n",
       "      <th>country</th>\n",
       "      <th>created_at</th>\n",
       "      <th>currency</th>\n",
       "      <th>deadline</th>\n",
       "      <th>fx_rate</th>\n",
       "      <th>goal</th>\n",
       "      <th>id</th>\n",
       "      <th>...</th>\n",
       "      <th>pledged</th>\n",
       "      <th>spotlight</th>\n",
       "      <th>state</th>\n",
       "      <th>state_changed_at</th>\n",
       "      <th>usd_pledged</th>\n",
       "      <th>category_id</th>\n",
       "      <th>category_name</th>\n",
       "      <th>category_parent_id</th>\n",
       "      <th>category_parent_name</th>\n",
       "      <th>project_id</th>\n",
       "    </tr>\n",
       "  </thead>\n",
       "  <tbody>\n",
       "    <tr>\n",
       "      <th>0</th>\n",
       "      <td>61</td>\n",
       "      <td>Support great art! Join us as we re-stage the ...</td>\n",
       "      <td>4618</td>\n",
       "      <td>US</td>\n",
       "      <td>1579292017</td>\n",
       "      <td>USD</td>\n",
       "      <td>1583025192</td>\n",
       "      <td>1.0</td>\n",
       "      <td>3000.0</td>\n",
       "      <td>1568973024</td>\n",
       "      <td>...</td>\n",
       "      <td>4618.0</td>\n",
       "      <td>True</td>\n",
       "      <td>successful</td>\n",
       "      <td>1583025192</td>\n",
       "      <td>4618.0</td>\n",
       "      <td>254</td>\n",
       "      <td>Performances</td>\n",
       "      <td>6.0</td>\n",
       "      <td>Dance</td>\n",
       "      <td>3914215</td>\n",
       "    </tr>\n",
       "    <tr>\n",
       "      <th>1</th>\n",
       "      <td>52</td>\n",
       "      <td>JinBucha is a new kind of Brewery in North Par...</td>\n",
       "      <td>3461</td>\n",
       "      <td>US</td>\n",
       "      <td>1446051515</td>\n",
       "      <td>USD</td>\n",
       "      <td>1450118057</td>\n",
       "      <td>1.0</td>\n",
       "      <td>20000.0</td>\n",
       "      <td>1782378629</td>\n",
       "      <td>...</td>\n",
       "      <td>3461.0</td>\n",
       "      <td>False</td>\n",
       "      <td>failed</td>\n",
       "      <td>1450118057</td>\n",
       "      <td>3461.0</td>\n",
       "      <td>307</td>\n",
       "      <td>Drinks</td>\n",
       "      <td>10.0</td>\n",
       "      <td>Food</td>\n",
       "      <td>2198010</td>\n",
       "    </tr>\n",
       "    <tr>\n",
       "      <th>2</th>\n",
       "      <td>0</td>\n",
       "      <td>\"Taste The Scent of Tea\" Rose and Blanc Tea Ro...</td>\n",
       "      <td>0</td>\n",
       "      <td>US</td>\n",
       "      <td>1518159717</td>\n",
       "      <td>USD</td>\n",
       "      <td>1520233260</td>\n",
       "      <td>1.0</td>\n",
       "      <td>15000.0</td>\n",
       "      <td>2076142479</td>\n",
       "      <td>...</td>\n",
       "      <td>0.0</td>\n",
       "      <td>False</td>\n",
       "      <td>failed</td>\n",
       "      <td>1520233260</td>\n",
       "      <td>0.0</td>\n",
       "      <td>307</td>\n",
       "      <td>Drinks</td>\n",
       "      <td>10.0</td>\n",
       "      <td>Food</td>\n",
       "      <td>3304826</td>\n",
       "    </tr>\n",
       "    <tr>\n",
       "      <th>3</th>\n",
       "      <td>2</td>\n",
       "      <td>Bringing Philly cheesesteaks (and other delici...</td>\n",
       "      <td>25</td>\n",
       "      <td>US</td>\n",
       "      <td>1454217596</td>\n",
       "      <td>USD</td>\n",
       "      <td>1459885844</td>\n",
       "      <td>1.0</td>\n",
       "      <td>2000.0</td>\n",
       "      <td>1416797221</td>\n",
       "      <td>...</td>\n",
       "      <td>25.0</td>\n",
       "      <td>False</td>\n",
       "      <td>failed</td>\n",
       "      <td>1459885844</td>\n",
       "      <td>25.0</td>\n",
       "      <td>311</td>\n",
       "      <td>Food Trucks</td>\n",
       "      <td>10.0</td>\n",
       "      <td>Food</td>\n",
       "      <td>2349147</td>\n",
       "    </tr>\n",
       "    <tr>\n",
       "      <th>4</th>\n",
       "      <td>150</td>\n",
       "      <td>a frog plushie keychain and frog butt pin for ...</td>\n",
       "      <td>3275</td>\n",
       "      <td>US</td>\n",
       "      <td>1571342290</td>\n",
       "      <td>USD</td>\n",
       "      <td>1574445600</td>\n",
       "      <td>1.0</td>\n",
       "      <td>800.0</td>\n",
       "      <td>1708708142</td>\n",
       "      <td>...</td>\n",
       "      <td>3275.0</td>\n",
       "      <td>True</td>\n",
       "      <td>successful</td>\n",
       "      <td>1574445600</td>\n",
       "      <td>3275.0</td>\n",
       "      <td>28</td>\n",
       "      <td>Product Design</td>\n",
       "      <td>7.0</td>\n",
       "      <td>Design</td>\n",
       "      <td>3834865</td>\n",
       "    </tr>\n",
       "  </tbody>\n",
       "</table>\n",
       "<p>5 rows × 23 columns</p>\n",
       "</div>"
      ],
      "text/plain": [
       "   backers_count                                              blurb  \\\n",
       "0             61  Support great art! Join us as we re-stage the ...   \n",
       "1             52  JinBucha is a new kind of Brewery in North Par...   \n",
       "2              0  \"Taste The Scent of Tea\" Rose and Blanc Tea Ro...   \n",
       "3              2  Bringing Philly cheesesteaks (and other delici...   \n",
       "4            150  a frog plushie keychain and frog butt pin for ...   \n",
       "\n",
       "   converted_pledged_amount country  created_at currency    deadline  fx_rate  \\\n",
       "0                      4618      US  1579292017      USD  1583025192      1.0   \n",
       "1                      3461      US  1446051515      USD  1450118057      1.0   \n",
       "2                         0      US  1518159717      USD  1520233260      1.0   \n",
       "3                        25      US  1454217596      USD  1459885844      1.0   \n",
       "4                      3275      US  1571342290      USD  1574445600      1.0   \n",
       "\n",
       "      goal          id  ...  pledged spotlight       state  state_changed_at  \\\n",
       "0   3000.0  1568973024  ...   4618.0      True  successful        1583025192   \n",
       "1  20000.0  1782378629  ...   3461.0     False      failed        1450118057   \n",
       "2  15000.0  2076142479  ...      0.0     False      failed        1520233260   \n",
       "3   2000.0  1416797221  ...     25.0     False      failed        1459885844   \n",
       "4    800.0  1708708142  ...   3275.0      True  successful        1574445600   \n",
       "\n",
       "   usd_pledged category_id   category_name  category_parent_id  \\\n",
       "0       4618.0         254    Performances                 6.0   \n",
       "1       3461.0         307          Drinks                10.0   \n",
       "2          0.0         307          Drinks                10.0   \n",
       "3         25.0         311     Food Trucks                10.0   \n",
       "4       3275.0          28  Product Design                 7.0   \n",
       "\n",
       "   category_parent_name project_id  \n",
       "0                 Dance    3914215  \n",
       "1                  Food    2198010  \n",
       "2                  Food    3304826  \n",
       "3                  Food    2349147  \n",
       "4                Design    3834865  \n",
       "\n",
       "[5 rows x 23 columns]"
      ]
     },
     "execution_count": 2,
     "metadata": {},
     "output_type": "execute_result"
    }
   ],
   "source": [
    "#Importing the data using a relative path\n",
    "df = pd.read_csv('../Kickstarter_analysis/sep2020.csv', converters={'category': eval})\n",
    "df.head()"
   ]
  },
  {
   "cell_type": "markdown",
   "metadata": {},
   "source": [
    "**Step 1:** Data Cleaning and Wrangling\n",
    "- Transforming unix time stamps to datetime"
   ]
  },
  {
   "cell_type": "code",
   "execution_count": 3,
   "metadata": {},
   "outputs": [
    {
     "data": {
      "text/html": [
       "<div>\n",
       "<style scoped>\n",
       "    .dataframe tbody tr th:only-of-type {\n",
       "        vertical-align: middle;\n",
       "    }\n",
       "\n",
       "    .dataframe tbody tr th {\n",
       "        vertical-align: top;\n",
       "    }\n",
       "\n",
       "    .dataframe thead th {\n",
       "        text-align: right;\n",
       "    }\n",
       "</style>\n",
       "<table border=\"1\" class=\"dataframe\">\n",
       "  <thead>\n",
       "    <tr style=\"text-align: right;\">\n",
       "      <th></th>\n",
       "      <th>created_at</th>\n",
       "      <th>deadline</th>\n",
       "      <th>launched_at</th>\n",
       "      <th>state_changed_at</th>\n",
       "    </tr>\n",
       "  </thead>\n",
       "  <tbody>\n",
       "    <tr>\n",
       "      <th>0</th>\n",
       "      <td>2020-01-17 20:13:37</td>\n",
       "      <td>2020-03-01 01:13:12</td>\n",
       "      <td>2020-01-31 01:13:12</td>\n",
       "      <td>2020-03-01 01:13:12</td>\n",
       "    </tr>\n",
       "    <tr>\n",
       "      <th>1</th>\n",
       "      <td>2015-10-28 16:58:35</td>\n",
       "      <td>2015-12-14 18:34:17</td>\n",
       "      <td>2015-11-14 18:34:17</td>\n",
       "      <td>2015-12-14 18:34:17</td>\n",
       "    </tr>\n",
       "    <tr>\n",
       "      <th>2</th>\n",
       "      <td>2018-02-09 07:01:57</td>\n",
       "      <td>2018-03-05 07:01:00</td>\n",
       "      <td>2018-02-09 20:41:27</td>\n",
       "      <td>2018-03-05 07:01:00</td>\n",
       "    </tr>\n",
       "    <tr>\n",
       "      <th>3</th>\n",
       "      <td>2016-01-31 05:19:56</td>\n",
       "      <td>2016-04-05 19:50:44</td>\n",
       "      <td>2016-02-05 20:50:44</td>\n",
       "      <td>2016-04-05 19:50:44</td>\n",
       "    </tr>\n",
       "    <tr>\n",
       "      <th>4</th>\n",
       "      <td>2019-10-17 19:58:10</td>\n",
       "      <td>2019-11-22 18:00:00</td>\n",
       "      <td>2019-11-08 18:00:00</td>\n",
       "      <td>2019-11-22 18:00:00</td>\n",
       "    </tr>\n",
       "    <tr>\n",
       "      <th>...</th>\n",
       "      <td>...</td>\n",
       "      <td>...</td>\n",
       "      <td>...</td>\n",
       "      <td>...</td>\n",
       "    </tr>\n",
       "    <tr>\n",
       "      <th>219683</th>\n",
       "      <td>2019-02-21 18:33:41</td>\n",
       "      <td>2019-03-29 21:00:00</td>\n",
       "      <td>2019-02-27 15:12:10</td>\n",
       "      <td>2019-03-29 21:00:02</td>\n",
       "    </tr>\n",
       "    <tr>\n",
       "      <th>219684</th>\n",
       "      <td>2013-03-05 20:13:03</td>\n",
       "      <td>2013-08-10 07:45:40</td>\n",
       "      <td>2013-07-05 07:45:40</td>\n",
       "      <td>2013-08-10 07:45:40</td>\n",
       "    </tr>\n",
       "    <tr>\n",
       "      <th>219685</th>\n",
       "      <td>2016-06-21 00:35:01</td>\n",
       "      <td>2016-08-13 21:49:58</td>\n",
       "      <td>2016-07-14 21:49:58</td>\n",
       "      <td>2016-08-13 21:49:58</td>\n",
       "    </tr>\n",
       "    <tr>\n",
       "      <th>219686</th>\n",
       "      <td>2015-11-28 19:14:15</td>\n",
       "      <td>2016-01-09 19:19:33</td>\n",
       "      <td>2015-12-10 19:19:33</td>\n",
       "      <td>2016-01-09 19:19:34</td>\n",
       "    </tr>\n",
       "    <tr>\n",
       "      <th>219687</th>\n",
       "      <td>2020-01-10 21:43:54</td>\n",
       "      <td>2020-03-14 20:54:12</td>\n",
       "      <td>2020-01-14 21:54:12</td>\n",
       "      <td>2020-03-14 20:54:14</td>\n",
       "    </tr>\n",
       "  </tbody>\n",
       "</table>\n",
       "<p>219688 rows × 4 columns</p>\n",
       "</div>"
      ],
      "text/plain": [
       "                created_at            deadline         launched_at  \\\n",
       "0      2020-01-17 20:13:37 2020-03-01 01:13:12 2020-01-31 01:13:12   \n",
       "1      2015-10-28 16:58:35 2015-12-14 18:34:17 2015-11-14 18:34:17   \n",
       "2      2018-02-09 07:01:57 2018-03-05 07:01:00 2018-02-09 20:41:27   \n",
       "3      2016-01-31 05:19:56 2016-04-05 19:50:44 2016-02-05 20:50:44   \n",
       "4      2019-10-17 19:58:10 2019-11-22 18:00:00 2019-11-08 18:00:00   \n",
       "...                    ...                 ...                 ...   \n",
       "219683 2019-02-21 18:33:41 2019-03-29 21:00:00 2019-02-27 15:12:10   \n",
       "219684 2013-03-05 20:13:03 2013-08-10 07:45:40 2013-07-05 07:45:40   \n",
       "219685 2016-06-21 00:35:01 2016-08-13 21:49:58 2016-07-14 21:49:58   \n",
       "219686 2015-11-28 19:14:15 2016-01-09 19:19:33 2015-12-10 19:19:33   \n",
       "219687 2020-01-10 21:43:54 2020-03-14 20:54:12 2020-01-14 21:54:12   \n",
       "\n",
       "          state_changed_at  \n",
       "0      2020-03-01 01:13:12  \n",
       "1      2015-12-14 18:34:17  \n",
       "2      2018-03-05 07:01:00  \n",
       "3      2016-04-05 19:50:44  \n",
       "4      2019-11-22 18:00:00  \n",
       "...                    ...  \n",
       "219683 2019-03-29 21:00:02  \n",
       "219684 2013-08-10 07:45:40  \n",
       "219685 2016-08-13 21:49:58  \n",
       "219686 2016-01-09 19:19:34  \n",
       "219687 2020-03-14 20:54:14  \n",
       "\n",
       "[219688 rows x 4 columns]"
      ]
     },
     "execution_count": 3,
     "metadata": {},
     "output_type": "execute_result"
    }
   ],
   "source": [
    "# Dates transformed [['created_at'], ['deadline'], ['launched_at'], ['state_changed_at']]\n",
    "df[['created_at','deadline', 'launched_at', 'state_changed_at']].apply(pd.to_datetime, unit='s')"
   ]
  },
  {
   "cell_type": "markdown",
   "metadata": {},
   "source": [
    "- Remove live kickstarter campaings."
   ]
  },
  {
   "cell_type": "code",
   "execution_count": null,
   "metadata": {},
   "outputs": [],
   "source": []
  },
  {
   "cell_type": "markdown",
   "metadata": {},
   "source": [
    "- Drop duplicated projects"
   ]
  },
  {
   "cell_type": "code",
   "execution_count": null,
   "metadata": {},
   "outputs": [],
   "source": []
  },
  {
   "cell_type": "markdown",
   "metadata": {},
   "source": [
    "- Classify cancelled and unsuccesful as both \"unsuccesful\"  \n",
    "Since we are looking to launch a succesful campaign for our start-up, \n",
    "we categorize the data in two categories: \"Succesful\" and \"Failed\" (compromising canceled and failed campaings)."
   ]
  },
  {
   "cell_type": "code",
   "execution_count": 9,
   "metadata": {},
   "outputs": [
    {
     "data": {
      "text/plain": [
       "successful    128156\n",
       "failed         76137\n",
       "canceled        9138\n",
       "live            6257\n",
       "Name: state, dtype: int64"
      ]
     },
     "execution_count": 9,
     "metadata": {},
     "output_type": "execute_result"
    }
   ],
   "source": [
    "#Value_counts shows there are both canceled and failed campaigns.\n",
    "df['state'].value_counts()"
   ]
  },
  {
   "cell_type": "code",
   "execution_count": 12,
   "metadata": {},
   "outputs": [
    {
     "data": {
      "text/plain": [
       "successful    128156\n",
       "failed         85275\n",
       "live            6257\n",
       "Name: state, dtype: int64"
      ]
     },
     "execution_count": 12,
     "metadata": {},
     "output_type": "execute_result"
    }
   ],
   "source": [
    "#Replace canceled campaigns state as 'failed'\n",
    "df['state'].replace('canceled', 'failed').value_counts()"
   ]
  },
  {
   "cell_type": "markdown",
   "metadata": {},
   "source": [
    "- Create variable 'average_pledge' per backer"
   ]
  },
  {
   "cell_type": "code",
   "execution_count": 6,
   "metadata": {
    "scrolled": true
   },
   "outputs": [],
   "source": [
    "df['average_pledge'] = (df['usd_pledged']/df['backers_count'])"
   ]
  },
  {
   "cell_type": "markdown",
   "metadata": {},
   "source": [
    "- Check for missing values"
   ]
  },
  {
   "cell_type": "code",
   "execution_count": 18,
   "metadata": {},
   "outputs": [
    {
     "data": {
      "text/plain": [
       "backers_count                   0\n",
       "blurb                           8\n",
       "converted_pledged_amount        0\n",
       "country                         0\n",
       "created_at                      0\n",
       "currency                        0\n",
       "deadline                        0\n",
       "fx_rate                         0\n",
       "goal                            0\n",
       "id                              0\n",
       "launched_at                     0\n",
       "location                      215\n",
       "name                            0\n",
       "pledged                         0\n",
       "spotlight                       0\n",
       "state                           0\n",
       "state_changed_at                0\n",
       "usd_pledged                     0\n",
       "category_id                     0\n",
       "category_name                   0\n",
       "category_parent_id           8300\n",
       "category_parent_name         8300\n",
       "project_id                      0\n",
       "average_pledge              16133\n",
       "dtype: int64"
      ]
     },
     "execution_count": 18,
     "metadata": {},
     "output_type": "execute_result"
    }
   ],
   "source": [
    "df.isna().sum()"
   ]
  },
  {
   "cell_type": "code",
   "execution_count": null,
   "metadata": {},
   "outputs": [],
   "source": []
  },
  {
   "cell_type": "markdown",
   "metadata": {},
   "source": [
    "# Data Exploration"
   ]
  },
  {
   "cell_type": "code",
   "execution_count": null,
   "metadata": {},
   "outputs": [],
   "source": [
    "import matplotlib.pyplot as plt\n",
    "import seaborn as sns\n",
    "import numpy as np"
   ]
  },
  {
   "cell_type": "raw",
   "metadata": {},
   "source": [
    "Defining the category with highest pledge amounts:"
   ]
  },
  {
   "cell_type": "code",
   "execution_count": null,
   "metadata": {
    "scrolled": true
   },
   "outputs": [],
   "source": [
    "#Grouping the df by main category, sorted by sum of converted_pledged amount.\n",
    "top_pledged = df.loc[:,df['state'] == 'succesful'].groupby(['category_parent_name']).sum().reset_index().sort_values(by='converted_pledged_amount', ascending=False)\n",
    "top_backers = df.groupby(['category_parent_name']).sum().reset_index().sort_values(by='backers_count', ascending=False)\n",
    "#Selecting top five from top_pledged and top_backers\n",
    "top_five_pledged = top_pledged.head(5)\n",
    "top_five_backers = top_backers.head(5)\n",
    "pal_pled = sns.color_palette(\"Greens_d\", len(top_five_pledged))\n",
    "pal_back = sns.color_palette(\"Reds_d\", len(top_five_backers))\n",
    "rank_pled = top_five_pledged[\"converted_pledged_amount\"].argsort().argsort()\n",
    "rank_back = top_five_backers[\"backers_count\"].argsort().argsort()\n",
    "#Plotting the top five\n",
    "fig, axes = plt.subplots(nrows=1, ncols=2, figsize=(20, 4))\n",
    "sns.barplot(ax =axes[0], x='converted_pledged_amount',y='category_parent_name', data=top_five_pledged, linewidth=0.7, palette=np.array(pal_pled[::+1])[rank_pled])\n",
    "axes[0].set_title('Converted Amount Pledged')\n",
    "sns.barplot(ax=axes[1], x='backers_count',y='category_parent_name', data=top_five_backers, linewidth=0.7, palette=np.array(pal_back[::+1])[rank_back])\n",
    "axes[1].set_title('Number of Backers');"
   ]
  },
  {
   "cell_type": "code",
   "execution_count": null,
   "metadata": {},
   "outputs": [],
   "source": [
    "plt.figure(figsize=(15, 10))\n",
    "sns.boxplot(x='category_parent_name', y='converted_pledged_amount', hue='state', data=df, orient='v', showfliers=False);\n",
    "plt.title('Converted Pledged Amount per Category Parent', fontsize=20);\n",
    "plt.xlabel('Category Parent', fontsize=18)\n",
    "plt.ylabel('Converted Pledged Amount)', fontsize=18)\n",
    "plt.xticks(fontsize=10)\n",
    "plt.yticks(fontsize=15);\n",
    "\n",
    "#Can we use \"proportion of the population\" - om significant verschil tussen succesful (tech en de rest)\n"
   ]
  },
  {
   "cell_type": "code",
   "execution_count": null,
   "metadata": {},
   "outputs": [],
   "source": [
    "df.groupby(['category_name']).sum().sort_values(by='converted_pledged_amount', ascending=False)"
   ]
  },
  {
   "cell_type": "code",
   "execution_count": null,
   "metadata": {},
   "outputs": [],
   "source": [
    "#corr\n",
    "corr = df['converted_pledged_amount'].corr(df['backers_count'])\n",
    "#set figure size\n",
    "plt.figure(figsize=(15, 10))\n",
    "#plot the data\n",
    "sns.regplot(data=df,x=df['converted_pledged_amount'],y=df['backers_count'], ci=None)\n",
    "#format the plot\n",
    "text = 'r=%s' % (corr)\n",
    "plt.text(1, 19, text, fontsize=14)\n",
    "plt.title('', fontsize=20);\n",
    "plt.xlabel('', fontsize=18)\n",
    "plt.ylabel('', fontsize=18)\n",
    "plt.xticks(fontsize=18)\n",
    "plt.yticks(fontsize=18);"
   ]
  },
  {
   "cell_type": "markdown",
   "metadata": {},
   "source": [
    "# Statistical Analysis"
   ]
  },
  {
   "cell_type": "code",
   "execution_count": 25,
   "metadata": {},
   "outputs": [],
   "source": [
    "#Confidence Intervals:\n",
    "# To define between pledge amount x and x we should ask\n",
    "# To define between number of backers x and x we should aim for\n",
    "\n",
    "# One-sample\n",
    "# 1 category opposed to population mean\n",
    "\n",
    "# Two-sample\n",
    "#2 categories (tech vs. food) and Netherlands/Europe vs. US"
   ]
  },
  {
   "cell_type": "raw",
   "metadata": {},
   "source": [
    "- Categorie (Assumption Tech) - Succesful campaigns\n",
    "        -> ratio succesful/unsuccesful/live definieren\n",
    "        -> one-sample 1 tegenover het totaal\n",
    "        -> two sample 1 tegenover de rest, of Tech vs Design\n",
    "Elske"
   ]
  },
  {
   "cell_type": "raw",
   "metadata": {},
   "source": [
    "- US vs NL (Assumption: Silicon Valley vs. the Netherlands)\n",
    "    - Usd pledged in NL hoger OF lager dan in US (1 of 2 sample T test)\n",
    "    -> Dict \"location\" needs to be unfolded ('name', 'expanded_country')\n",
    "    -> Test binnen alle categorien eerst, eventueel later alleen in hierboven gekozen categorie\n",
    "Rianne"
   ]
  },
  {
   "cell_type": "raw",
   "metadata": {},
   "source": [
    "- Number of backers (Assumption: popularity of campaign defines popularity of startup)\n",
    "    - Ga je voor weinig backers met veel of veel backers met weinig -> verschil in succesful\n",
    "        -> Define average pledge per backer (see to do)\n",
    "        -> Succesful versus unsuccesful (2-sample: avg. per backer succesful versus avg. per backer unsuccesful)\n",
    "            We verwachten dat dit verschilt - gemiddelde bij succesvol hoger\n",
    "Rianne\n",
    "            \n",
    "- Zoja/Zonee -> define confidence intervals voor backers voor ons \"start-up\" plan (binnen onze categorie?)\n",
    "\n",
    "Elske"
   ]
  },
  {
   "cell_type": "raw",
   "metadata": {},
   "source": [
    "Bonus:\n",
    "In specific categories: Pledge amount asked - Pledged (goal - converted)\n",
    "COVID impact 2020 versus 2018/2019 (less pledges than previous years - and in which categories?)\n",
    "Other differences in years \n",
    "    "
   ]
  },
  {
   "cell_type": "code",
   "execution_count": null,
   "metadata": {},
   "outputs": [],
   "source": []
  }
 ],
 "metadata": {
  "kernelspec": {
   "display_name": "Python 3",
   "language": "python",
   "name": "python3"
  },
  "language_info": {
   "codemirror_mode": {
    "name": "ipython",
    "version": 3
   },
   "file_extension": ".py",
   "mimetype": "text/x-python",
   "name": "python",
   "nbconvert_exporter": "python",
   "pygments_lexer": "ipython3",
   "version": "3.7.4"
  }
 },
 "nbformat": 4,
 "nbformat_minor": 2
}
