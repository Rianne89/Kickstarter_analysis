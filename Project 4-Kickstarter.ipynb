{
 "cells": [
  {
   "cell_type": "markdown",
   "metadata": {},
   "source": [
    "# Kickstarter Startup Analysis"
   ]
  },
  {
   "cell_type": "markdown",
   "metadata": {},
   "source": [
    "1. How should we design our Kickstarter campaign in order to make our startup funding phase as succesful as possible?\n",
    "    - **Categorie** (Assumption Tech) - Succesful campaigns\n",
    "        -> ratio succesful/unsuccesful/live definieren\n",
    "        -> one-sample 1 tegenover het totaal\n",
    "        -> two sample 1 tegenover de rest, of Tech vs Design\n",
    "    - **US vs NL** (Assumption: Silicon Valley vs. the Netherlands)\n",
    "        -> Average pledged amount in NL hoger OF lager dan in US (1 of 2 sample T test)\n",
    "    - **Number of backers** (Assumption: popularity of campaign defines popularity of startup)\n",
    "        -> Ga je voor weinig backers met veel of veel backers met weinig -> verschil in succesful (Hoeveel backers per in je goal)\n",
    "    -> Zoja/Zonee -> define confidence intervals voor backers voor ons \"start-up\" plan\n",
    "    \n",
    "    - **Pledge amount asked** - Pledged (goal - converted)\n",
    "    \n",
    "2. Which pledge amount will lead to the highest possible funding?\n",
    "\n",
    "3. How could the location of the kickstarter campaign, or the sub-category, influence the success rate of our kickstarter campaign?"
   ]
  },
  {
   "cell_type": "markdown",
   "metadata": {},
   "source": [
    "**To do**  \n",
    "~~Elske: Fix git issues  ~~  \n",
    "Rianne: #Drop duplicates (per project_id, check categorieen - 1, 2 en 3 -- zijn hetzelfde, dus sort_values by pledged amount, keepfirst)  \n",
    "Rianne: #Currency -> use usd_pledged -> convert_amount can be dropped, fx_rate also, currency also   \n",
    "Rianne: #Take out live  \n",
    "~~Elske:  #Canceled and unsuccesful -> Failed~~  \n",
    "~~Elske:  #Unfold Dict \"location\" unfold: 'name', 'expanded_country'~~  \n",
    "~~Elske:  #Create column with average pledge per backer  ~~  \n",
    "Both: Check for missing values and how to solve them + add code for hypothesis testing"
   ]
  },
  {
   "cell_type": "code",
   "execution_count": 1,
   "metadata": {},
   "outputs": [],
   "source": [
    "#Importing libraries\n",
    "import pandas as pd\n",
    "import numpy as np\n",
    "import json\n",
    "from datetime import datetime\n",
    "import scipy.stats as stats\n",
    "from scipy.stats import norm"
   ]
  },
  {
   "cell_type": "markdown",
   "metadata": {},
   "source": [
    "Download the file <a href=\"https://drive.google.com/drive/folders/1hIBnfoXrXNW2vF_ka8R8Y0mltCmBjqPZ\" target=\"_blank\">here</a>."
   ]
  },
  {
   "cell_type": "code",
   "execution_count": 2,
   "metadata": {},
   "outputs": [
    {
     "data": {
      "text/html": [
       "<div>\n",
       "<style scoped>\n",
       "    .dataframe tbody tr th:only-of-type {\n",
       "        vertical-align: middle;\n",
       "    }\n",
       "\n",
       "    .dataframe tbody tr th {\n",
       "        vertical-align: top;\n",
       "    }\n",
       "\n",
       "    .dataframe thead th {\n",
       "        text-align: right;\n",
       "    }\n",
       "</style>\n",
       "<table border=\"1\" class=\"dataframe\">\n",
       "  <thead>\n",
       "    <tr style=\"text-align: right;\">\n",
       "      <th></th>\n",
       "      <th>backers_count</th>\n",
       "      <th>blurb</th>\n",
       "      <th>country</th>\n",
       "      <th>created_at</th>\n",
       "      <th>deadline</th>\n",
       "      <th>goal</th>\n",
       "      <th>id</th>\n",
       "      <th>launched_at</th>\n",
       "      <th>name</th>\n",
       "      <th>pledged</th>\n",
       "      <th>spotlight</th>\n",
       "      <th>state</th>\n",
       "      <th>state_changed_at</th>\n",
       "      <th>usd_pledged</th>\n",
       "      <th>category_id</th>\n",
       "      <th>category_name</th>\n",
       "      <th>category_parent_id</th>\n",
       "      <th>category_parent_name</th>\n",
       "      <th>project_id</th>\n",
       "    </tr>\n",
       "  </thead>\n",
       "  <tbody>\n",
       "    <tr>\n",
       "      <th>0</th>\n",
       "      <td>61</td>\n",
       "      <td>Support great art! Join us as we re-stage the ...</td>\n",
       "      <td>US</td>\n",
       "      <td>1579292017</td>\n",
       "      <td>1583025192</td>\n",
       "      <td>3000.0</td>\n",
       "      <td>1568973024</td>\n",
       "      <td>1580433192</td>\n",
       "      <td>Revisionist History 2</td>\n",
       "      <td>4618.0</td>\n",
       "      <td>True</td>\n",
       "      <td>successful</td>\n",
       "      <td>1583025192</td>\n",
       "      <td>4618.0</td>\n",
       "      <td>254</td>\n",
       "      <td>Performances</td>\n",
       "      <td>6.0</td>\n",
       "      <td>Dance</td>\n",
       "      <td>3914215</td>\n",
       "    </tr>\n",
       "    <tr>\n",
       "      <th>1</th>\n",
       "      <td>52</td>\n",
       "      <td>JinBucha is a new kind of Brewery in North Par...</td>\n",
       "      <td>US</td>\n",
       "      <td>1446051515</td>\n",
       "      <td>1450118057</td>\n",
       "      <td>20000.0</td>\n",
       "      <td>1782378629</td>\n",
       "      <td>1447526057</td>\n",
       "      <td>JinBucha: A Modern Kombucha tasting room in No...</td>\n",
       "      <td>3461.0</td>\n",
       "      <td>False</td>\n",
       "      <td>failed</td>\n",
       "      <td>1450118057</td>\n",
       "      <td>3461.0</td>\n",
       "      <td>307</td>\n",
       "      <td>Drinks</td>\n",
       "      <td>10.0</td>\n",
       "      <td>Food</td>\n",
       "      <td>2198010</td>\n",
       "    </tr>\n",
       "    <tr>\n",
       "      <th>2</th>\n",
       "      <td>0</td>\n",
       "      <td>\"Taste The Scent of Tea\" Rose and Blanc Tea Ro...</td>\n",
       "      <td>US</td>\n",
       "      <td>1518159717</td>\n",
       "      <td>1520233260</td>\n",
       "      <td>15000.0</td>\n",
       "      <td>2076142479</td>\n",
       "      <td>1518208887</td>\n",
       "      <td>Tea Room Cafe - Daily &amp; Herb Tea</td>\n",
       "      <td>0.0</td>\n",
       "      <td>False</td>\n",
       "      <td>failed</td>\n",
       "      <td>1520233260</td>\n",
       "      <td>0.0</td>\n",
       "      <td>307</td>\n",
       "      <td>Drinks</td>\n",
       "      <td>10.0</td>\n",
       "      <td>Food</td>\n",
       "      <td>3304826</td>\n",
       "    </tr>\n",
       "    <tr>\n",
       "      <th>3</th>\n",
       "      <td>2</td>\n",
       "      <td>Bringing Philly cheesesteaks (and other delici...</td>\n",
       "      <td>US</td>\n",
       "      <td>1454217596</td>\n",
       "      <td>1459885844</td>\n",
       "      <td>2000.0</td>\n",
       "      <td>1416797221</td>\n",
       "      <td>1454705444</td>\n",
       "      <td>HELP TWO BROTHERS OPEN A FOOD TRUCK!</td>\n",
       "      <td>25.0</td>\n",
       "      <td>False</td>\n",
       "      <td>failed</td>\n",
       "      <td>1459885844</td>\n",
       "      <td>25.0</td>\n",
       "      <td>311</td>\n",
       "      <td>Food Trucks</td>\n",
       "      <td>10.0</td>\n",
       "      <td>Food</td>\n",
       "      <td>2349147</td>\n",
       "    </tr>\n",
       "    <tr>\n",
       "      <th>4</th>\n",
       "      <td>150</td>\n",
       "      <td>a frog plushie keychain and frog butt pin for ...</td>\n",
       "      <td>US</td>\n",
       "      <td>1571342290</td>\n",
       "      <td>1574445600</td>\n",
       "      <td>800.0</td>\n",
       "      <td>1708708142</td>\n",
       "      <td>1573236000</td>\n",
       "      <td>Son the Frog Plushie Keychain + JUICY Pin</td>\n",
       "      <td>3275.0</td>\n",
       "      <td>True</td>\n",
       "      <td>successful</td>\n",
       "      <td>1574445600</td>\n",
       "      <td>3275.0</td>\n",
       "      <td>28</td>\n",
       "      <td>Product Design</td>\n",
       "      <td>7.0</td>\n",
       "      <td>Design</td>\n",
       "      <td>3834865</td>\n",
       "    </tr>\n",
       "  </tbody>\n",
       "</table>\n",
       "</div>"
      ],
      "text/plain": [
       "   backers_count                                              blurb country  \\\n",
       "0             61  Support great art! Join us as we re-stage the ...      US   \n",
       "1             52  JinBucha is a new kind of Brewery in North Par...      US   \n",
       "2              0  \"Taste The Scent of Tea\" Rose and Blanc Tea Ro...      US   \n",
       "3              2  Bringing Philly cheesesteaks (and other delici...      US   \n",
       "4            150  a frog plushie keychain and frog butt pin for ...      US   \n",
       "\n",
       "   created_at    deadline     goal          id  launched_at  \\\n",
       "0  1579292017  1583025192   3000.0  1568973024   1580433192   \n",
       "1  1446051515  1450118057  20000.0  1782378629   1447526057   \n",
       "2  1518159717  1520233260  15000.0  2076142479   1518208887   \n",
       "3  1454217596  1459885844   2000.0  1416797221   1454705444   \n",
       "4  1571342290  1574445600    800.0  1708708142   1573236000   \n",
       "\n",
       "                                                name  pledged  spotlight  \\\n",
       "0                              Revisionist History 2   4618.0       True   \n",
       "1  JinBucha: A Modern Kombucha tasting room in No...   3461.0      False   \n",
       "2                   Tea Room Cafe - Daily & Herb Tea      0.0      False   \n",
       "3               HELP TWO BROTHERS OPEN A FOOD TRUCK!     25.0      False   \n",
       "4          Son the Frog Plushie Keychain + JUICY Pin   3275.0       True   \n",
       "\n",
       "        state  state_changed_at  usd_pledged  category_id   category_name  \\\n",
       "0  successful        1583025192       4618.0          254    Performances   \n",
       "1      failed        1450118057       3461.0          307          Drinks   \n",
       "2      failed        1520233260          0.0          307          Drinks   \n",
       "3      failed        1459885844         25.0          311     Food Trucks   \n",
       "4  successful        1574445600       3275.0           28  Product Design   \n",
       "\n",
       "   category_parent_id category_parent_name  project_id  \n",
       "0                 6.0                Dance     3914215  \n",
       "1                10.0                 Food     2198010  \n",
       "2                10.0                 Food     3304826  \n",
       "3                10.0                 Food     2349147  \n",
       "4                 7.0               Design     3834865  "
      ]
     },
     "execution_count": 2,
     "metadata": {},
     "output_type": "execute_result"
    }
   ],
   "source": [
    "#Importing the data using a relative path\n",
    "#Mac\n",
    "#df = pd.read_csv('../Kickstarter_analysis/sep2020.csv', converters={'category': eval})\n",
    "#df.head()\n",
    "\n",
    "#Windows\n",
    "df = pd.read_csv('.\\\\data\\\\sep2020.csv')\n",
    "df.head()"
   ]
  },
  {
   "cell_type": "markdown",
   "metadata": {},
   "source": [
    "**Step 1:** Data Cleaning and Wrangling\n",
    "- Transforming unix time stamps to datetime"
   ]
  },
  {
   "cell_type": "code",
   "execution_count": 3,
   "metadata": {},
   "outputs": [
    {
     "data": {
      "text/html": [
       "<div>\n",
       "<style scoped>\n",
       "    .dataframe tbody tr th:only-of-type {\n",
       "        vertical-align: middle;\n",
       "    }\n",
       "\n",
       "    .dataframe tbody tr th {\n",
       "        vertical-align: top;\n",
       "    }\n",
       "\n",
       "    .dataframe thead th {\n",
       "        text-align: right;\n",
       "    }\n",
       "</style>\n",
       "<table border=\"1\" class=\"dataframe\">\n",
       "  <thead>\n",
       "    <tr style=\"text-align: right;\">\n",
       "      <th></th>\n",
       "      <th>created_at</th>\n",
       "      <th>deadline</th>\n",
       "      <th>launched_at</th>\n",
       "      <th>state_changed_at</th>\n",
       "    </tr>\n",
       "  </thead>\n",
       "  <tbody>\n",
       "    <tr>\n",
       "      <th>0</th>\n",
       "      <td>2020-01-17 20:13:37</td>\n",
       "      <td>2020-03-01 01:13:12</td>\n",
       "      <td>2020-01-31 01:13:12</td>\n",
       "      <td>2020-03-01 01:13:12</td>\n",
       "    </tr>\n",
       "    <tr>\n",
       "      <th>1</th>\n",
       "      <td>2015-10-28 16:58:35</td>\n",
       "      <td>2015-12-14 18:34:17</td>\n",
       "      <td>2015-11-14 18:34:17</td>\n",
       "      <td>2015-12-14 18:34:17</td>\n",
       "    </tr>\n",
       "    <tr>\n",
       "      <th>2</th>\n",
       "      <td>2018-02-09 07:01:57</td>\n",
       "      <td>2018-03-05 07:01:00</td>\n",
       "      <td>2018-02-09 20:41:27</td>\n",
       "      <td>2018-03-05 07:01:00</td>\n",
       "    </tr>\n",
       "    <tr>\n",
       "      <th>3</th>\n",
       "      <td>2016-01-31 05:19:56</td>\n",
       "      <td>2016-04-05 19:50:44</td>\n",
       "      <td>2016-02-05 20:50:44</td>\n",
       "      <td>2016-04-05 19:50:44</td>\n",
       "    </tr>\n",
       "    <tr>\n",
       "      <th>4</th>\n",
       "      <td>2019-10-17 19:58:10</td>\n",
       "      <td>2019-11-22 18:00:00</td>\n",
       "      <td>2019-11-08 18:00:00</td>\n",
       "      <td>2019-11-22 18:00:00</td>\n",
       "    </tr>\n",
       "    <tr>\n",
       "      <th>...</th>\n",
       "      <td>...</td>\n",
       "      <td>...</td>\n",
       "      <td>...</td>\n",
       "      <td>...</td>\n",
       "    </tr>\n",
       "    <tr>\n",
       "      <th>219683</th>\n",
       "      <td>2019-02-21 18:33:41</td>\n",
       "      <td>2019-03-29 21:00:00</td>\n",
       "      <td>2019-02-27 15:12:10</td>\n",
       "      <td>2019-03-29 21:00:02</td>\n",
       "    </tr>\n",
       "    <tr>\n",
       "      <th>219684</th>\n",
       "      <td>2013-03-05 20:13:03</td>\n",
       "      <td>2013-08-10 07:45:40</td>\n",
       "      <td>2013-07-05 07:45:40</td>\n",
       "      <td>2013-08-10 07:45:40</td>\n",
       "    </tr>\n",
       "    <tr>\n",
       "      <th>219685</th>\n",
       "      <td>2016-06-21 00:35:01</td>\n",
       "      <td>2016-08-13 21:49:58</td>\n",
       "      <td>2016-07-14 21:49:58</td>\n",
       "      <td>2016-08-13 21:49:58</td>\n",
       "    </tr>\n",
       "    <tr>\n",
       "      <th>219686</th>\n",
       "      <td>2015-11-28 19:14:15</td>\n",
       "      <td>2016-01-09 19:19:33</td>\n",
       "      <td>2015-12-10 19:19:33</td>\n",
       "      <td>2016-01-09 19:19:34</td>\n",
       "    </tr>\n",
       "    <tr>\n",
       "      <th>219687</th>\n",
       "      <td>2020-01-10 21:43:54</td>\n",
       "      <td>2020-03-14 20:54:12</td>\n",
       "      <td>2020-01-14 21:54:12</td>\n",
       "      <td>2020-03-14 20:54:14</td>\n",
       "    </tr>\n",
       "  </tbody>\n",
       "</table>\n",
       "<p>219688 rows × 4 columns</p>\n",
       "</div>"
      ],
      "text/plain": [
       "                created_at            deadline         launched_at  \\\n",
       "0      2020-01-17 20:13:37 2020-03-01 01:13:12 2020-01-31 01:13:12   \n",
       "1      2015-10-28 16:58:35 2015-12-14 18:34:17 2015-11-14 18:34:17   \n",
       "2      2018-02-09 07:01:57 2018-03-05 07:01:00 2018-02-09 20:41:27   \n",
       "3      2016-01-31 05:19:56 2016-04-05 19:50:44 2016-02-05 20:50:44   \n",
       "4      2019-10-17 19:58:10 2019-11-22 18:00:00 2019-11-08 18:00:00   \n",
       "...                    ...                 ...                 ...   \n",
       "219683 2019-02-21 18:33:41 2019-03-29 21:00:00 2019-02-27 15:12:10   \n",
       "219684 2013-03-05 20:13:03 2013-08-10 07:45:40 2013-07-05 07:45:40   \n",
       "219685 2016-06-21 00:35:01 2016-08-13 21:49:58 2016-07-14 21:49:58   \n",
       "219686 2015-11-28 19:14:15 2016-01-09 19:19:33 2015-12-10 19:19:33   \n",
       "219687 2020-01-10 21:43:54 2020-03-14 20:54:12 2020-01-14 21:54:12   \n",
       "\n",
       "          state_changed_at  \n",
       "0      2020-03-01 01:13:12  \n",
       "1      2015-12-14 18:34:17  \n",
       "2      2018-03-05 07:01:00  \n",
       "3      2016-04-05 19:50:44  \n",
       "4      2019-11-22 18:00:00  \n",
       "...                    ...  \n",
       "219683 2019-03-29 21:00:02  \n",
       "219684 2013-08-10 07:45:40  \n",
       "219685 2016-08-13 21:49:58  \n",
       "219686 2016-01-09 19:19:34  \n",
       "219687 2020-03-14 20:54:14  \n",
       "\n",
       "[219688 rows x 4 columns]"
      ]
     },
     "execution_count": 3,
     "metadata": {},
     "output_type": "execute_result"
    }
   ],
   "source": [
    "# Dates transformed [['created_at'], ['deadline'], ['launched_at'], ['state_changed_at']]\n",
    "df[['created_at','deadline', 'launched_at', 'state_changed_at']].apply(pd.to_datetime, unit='s')"
   ]
  },
  {
   "cell_type": "markdown",
   "metadata": {},
   "source": [
    "- Remove live kickstarter campaings."
   ]
  },
  {
   "cell_type": "code",
   "execution_count": 4,
   "metadata": {},
   "outputs": [
    {
     "data": {
      "text/plain": [
       "successful    128156\n",
       "failed         76137\n",
       "canceled        9138\n",
       "Name: state, dtype: int64"
      ]
     },
     "execution_count": 4,
     "metadata": {},
     "output_type": "execute_result"
    }
   ],
   "source": [
    "# Drop records of unfinished project (category live)\n",
    "df = df.loc[df['state'] != 'live']\n",
    "len(df)\n",
    "\n",
    "# Check if records are dropped\n",
    "df['state'].value_counts()"
   ]
  },
  {
   "cell_type": "markdown",
   "metadata": {},
   "source": [
    "- Drop duplicated projects"
   ]
  },
  {
   "cell_type": "code",
   "execution_count": 5,
   "metadata": {
    "scrolled": true
   },
   "outputs": [
    {
     "name": "stdout",
     "output_type": "stream",
     "text": [
      "number of records:  213431\n",
      "number of records after dropping duplicated project ids:  188605\n"
     ]
    }
   ],
   "source": [
    "# Print number of records\n",
    "print('number of records: ', len(df))\n",
    "\n",
    "# sort by highest pledged and drop duplicated project ids\n",
    "df = df.sort_values(by='usd_pledged',ascending=False).drop_duplicates(subset='project_id', keep='first')\n",
    "\n",
    "# check number of records\n",
    "print('number of records after dropping duplicated project ids: ', len(df))"
   ]
  },
  {
   "cell_type": "markdown",
   "metadata": {},
   "source": [
    "- Classify cancelled and unsuccesful as both \"unsuccesful\"  \n",
    "Since we are looking to launch a succesful campaign for our start-up, \n",
    "we categorize the data in two categories: \"Succesful\" and \"Failed\" (compromising canceled and failed campaings)."
   ]
  },
  {
   "cell_type": "code",
   "execution_count": 6,
   "metadata": {},
   "outputs": [
    {
     "data": {
      "text/plain": [
       "successful      104210\n",
       "unsuccessful     84395\n",
       "Name: state_cat, dtype: int64"
      ]
     },
     "execution_count": 6,
     "metadata": {},
     "output_type": "execute_result"
    }
   ],
   "source": [
    "#Value_counts shows there are both canceled and failed campaigns. Categorize into successfull and unsuccessful\n",
    "df['state_cat'] = np.where(df['state']=='successful', 'successful', 'unsuccessful')\n",
    "df['state_cat'].value_counts()"
   ]
  },
  {
   "cell_type": "markdown",
   "metadata": {},
   "source": [
    "- Create variable 'average_pledge' per backer"
   ]
  },
  {
   "cell_type": "code",
   "execution_count": 7,
   "metadata": {
    "scrolled": true
   },
   "outputs": [
    {
     "data": {
      "text/plain": [
       "26699      155.897828\n",
       "155651     128.089024\n",
       "99013      135.556872\n",
       "119358    1062.651186\n",
       "201818     227.970892\n",
       "Name: average_pledge, dtype: float64"
      ]
     },
     "execution_count": 7,
     "metadata": {},
     "output_type": "execute_result"
    }
   ],
   "source": [
    "df['average_pledge'] = (df['usd_pledged']/df['backers_count'])\n",
    "df['average_pledge'].head()"
   ]
  },
  {
   "cell_type": "markdown",
   "metadata": {},
   "source": [
    "- Check for missing values"
   ]
  },
  {
   "cell_type": "code",
   "execution_count": 8,
   "metadata": {},
   "outputs": [
    {
     "data": {
      "text/plain": [
       "backers_count               0\n",
       "blurb                       8\n",
       "country                     0\n",
       "created_at                  0\n",
       "deadline                    0\n",
       "goal                        0\n",
       "id                          0\n",
       "launched_at                 0\n",
       "name                        0\n",
       "pledged                     0\n",
       "spotlight                   0\n",
       "state                       0\n",
       "state_changed_at            0\n",
       "usd_pledged                 0\n",
       "category_id                 0\n",
       "category_name               0\n",
       "category_parent_id       7737\n",
       "category_parent_name     7737\n",
       "project_id                  0\n",
       "state_cat                   0\n",
       "average_pledge          16009\n",
       "dtype: int64"
      ]
     },
     "execution_count": 8,
     "metadata": {},
     "output_type": "execute_result"
    }
   ],
   "source": [
    "df.isna().sum()"
   ]
  },
  {
   "cell_type": "code",
   "execution_count": null,
   "metadata": {},
   "outputs": [],
   "source": []
  },
  {
   "cell_type": "markdown",
   "metadata": {},
   "source": [
    "# Data Exploration"
   ]
  },
  {
   "cell_type": "code",
   "execution_count": 9,
   "metadata": {},
   "outputs": [],
   "source": [
    "import matplotlib.pyplot as plt\n",
    "import seaborn as sns\n",
    "import numpy as np"
   ]
  },
  {
   "cell_type": "raw",
   "metadata": {},
   "source": [
    "Defining the category with highest pledge amounts:"
   ]
  },
  {
   "cell_type": "code",
   "execution_count": 10,
   "metadata": {
    "scrolled": true
   },
   "outputs": [
    {
     "ename": "IndexingError",
     "evalue": "Unalignable boolean Series provided as indexer (index of the boolean Series and of the indexed object do not match).",
     "output_type": "error",
     "traceback": [
      "\u001b[1;31m---------------------------------------------------------------------------\u001b[0m",
      "\u001b[1;31mIndexingError\u001b[0m                             Traceback (most recent call last)",
      "\u001b[1;32m<ipython-input-10-0724396992bd>\u001b[0m in \u001b[0;36m<module>\u001b[1;34m\u001b[0m\n\u001b[0;32m      1\u001b[0m \u001b[1;31m#Grouping the df by main category, sorted by sum of converted_pledged amount.\u001b[0m\u001b[1;33m\u001b[0m\u001b[1;33m\u001b[0m\u001b[1;33m\u001b[0m\u001b[0m\n\u001b[1;32m----> 2\u001b[1;33m \u001b[0mtop_pledged\u001b[0m \u001b[1;33m=\u001b[0m \u001b[0mdf\u001b[0m\u001b[1;33m.\u001b[0m\u001b[0mloc\u001b[0m\u001b[1;33m[\u001b[0m\u001b[1;33m:\u001b[0m\u001b[1;33m,\u001b[0m\u001b[0mdf\u001b[0m\u001b[1;33m[\u001b[0m\u001b[1;34m'state'\u001b[0m\u001b[1;33m]\u001b[0m \u001b[1;33m==\u001b[0m \u001b[1;34m'succesful'\u001b[0m\u001b[1;33m]\u001b[0m\u001b[1;33m.\u001b[0m\u001b[0mgroupby\u001b[0m\u001b[1;33m(\u001b[0m\u001b[1;33m[\u001b[0m\u001b[1;34m'category_parent_name'\u001b[0m\u001b[1;33m]\u001b[0m\u001b[1;33m)\u001b[0m\u001b[1;33m.\u001b[0m\u001b[0msum\u001b[0m\u001b[1;33m(\u001b[0m\u001b[1;33m)\u001b[0m\u001b[1;33m.\u001b[0m\u001b[0mreset_index\u001b[0m\u001b[1;33m(\u001b[0m\u001b[1;33m)\u001b[0m\u001b[1;33m.\u001b[0m\u001b[0msort_values\u001b[0m\u001b[1;33m(\u001b[0m\u001b[0mby\u001b[0m\u001b[1;33m=\u001b[0m\u001b[1;34m'converted_pledged_amount'\u001b[0m\u001b[1;33m,\u001b[0m \u001b[0mascending\u001b[0m\u001b[1;33m=\u001b[0m\u001b[1;32mFalse\u001b[0m\u001b[1;33m)\u001b[0m\u001b[1;33m\u001b[0m\u001b[1;33m\u001b[0m\u001b[0m\n\u001b[0m\u001b[0;32m      3\u001b[0m \u001b[0mtop_backers\u001b[0m \u001b[1;33m=\u001b[0m \u001b[0mdf\u001b[0m\u001b[1;33m.\u001b[0m\u001b[0mgroupby\u001b[0m\u001b[1;33m(\u001b[0m\u001b[1;33m[\u001b[0m\u001b[1;34m'category_parent_name'\u001b[0m\u001b[1;33m]\u001b[0m\u001b[1;33m)\u001b[0m\u001b[1;33m.\u001b[0m\u001b[0msum\u001b[0m\u001b[1;33m(\u001b[0m\u001b[1;33m)\u001b[0m\u001b[1;33m.\u001b[0m\u001b[0mreset_index\u001b[0m\u001b[1;33m(\u001b[0m\u001b[1;33m)\u001b[0m\u001b[1;33m.\u001b[0m\u001b[0msort_values\u001b[0m\u001b[1;33m(\u001b[0m\u001b[0mby\u001b[0m\u001b[1;33m=\u001b[0m\u001b[1;34m'backers_count'\u001b[0m\u001b[1;33m,\u001b[0m \u001b[0mascending\u001b[0m\u001b[1;33m=\u001b[0m\u001b[1;32mFalse\u001b[0m\u001b[1;33m)\u001b[0m\u001b[1;33m\u001b[0m\u001b[1;33m\u001b[0m\u001b[0m\n\u001b[0;32m      4\u001b[0m \u001b[1;31m#Selecting top five from top_pledged and top_backers\u001b[0m\u001b[1;33m\u001b[0m\u001b[1;33m\u001b[0m\u001b[1;33m\u001b[0m\u001b[0m\n\u001b[0;32m      5\u001b[0m \u001b[0mtop_five_pledged\u001b[0m \u001b[1;33m=\u001b[0m \u001b[0mtop_pledged\u001b[0m\u001b[1;33m.\u001b[0m\u001b[0mhead\u001b[0m\u001b[1;33m(\u001b[0m\u001b[1;36m5\u001b[0m\u001b[1;33m)\u001b[0m\u001b[1;33m\u001b[0m\u001b[1;33m\u001b[0m\u001b[0m\n",
      "\u001b[1;32m~\\anaconda3\\lib\\site-packages\\pandas\\core\\indexing.py\u001b[0m in \u001b[0;36m__getitem__\u001b[1;34m(self, key)\u001b[0m\n\u001b[0;32m   1760\u001b[0m                 \u001b[1;32mexcept\u001b[0m \u001b[1;33m(\u001b[0m\u001b[0mKeyError\u001b[0m\u001b[1;33m,\u001b[0m \u001b[0mIndexError\u001b[0m\u001b[1;33m,\u001b[0m \u001b[0mAttributeError\u001b[0m\u001b[1;33m)\u001b[0m\u001b[1;33m:\u001b[0m\u001b[1;33m\u001b[0m\u001b[1;33m\u001b[0m\u001b[0m\n\u001b[0;32m   1761\u001b[0m                     \u001b[1;32mpass\u001b[0m\u001b[1;33m\u001b[0m\u001b[1;33m\u001b[0m\u001b[0m\n\u001b[1;32m-> 1762\u001b[1;33m             \u001b[1;32mreturn\u001b[0m \u001b[0mself\u001b[0m\u001b[1;33m.\u001b[0m\u001b[0m_getitem_tuple\u001b[0m\u001b[1;33m(\u001b[0m\u001b[0mkey\u001b[0m\u001b[1;33m)\u001b[0m\u001b[1;33m\u001b[0m\u001b[1;33m\u001b[0m\u001b[0m\n\u001b[0m\u001b[0;32m   1763\u001b[0m         \u001b[1;32melse\u001b[0m\u001b[1;33m:\u001b[0m\u001b[1;33m\u001b[0m\u001b[1;33m\u001b[0m\u001b[0m\n\u001b[0;32m   1764\u001b[0m             \u001b[1;31m# we by definition only have the 0th axis\u001b[0m\u001b[1;33m\u001b[0m\u001b[1;33m\u001b[0m\u001b[1;33m\u001b[0m\u001b[0m\n",
      "\u001b[1;32m~\\anaconda3\\lib\\site-packages\\pandas\\core\\indexing.py\u001b[0m in \u001b[0;36m_getitem_tuple\u001b[1;34m(self, tup)\u001b[0m\n\u001b[0;32m   1287\u001b[0m                 \u001b[1;32mcontinue\u001b[0m\u001b[1;33m\u001b[0m\u001b[1;33m\u001b[0m\u001b[0m\n\u001b[0;32m   1288\u001b[0m \u001b[1;33m\u001b[0m\u001b[0m\n\u001b[1;32m-> 1289\u001b[1;33m             \u001b[0mretval\u001b[0m \u001b[1;33m=\u001b[0m \u001b[0mgetattr\u001b[0m\u001b[1;33m(\u001b[0m\u001b[0mretval\u001b[0m\u001b[1;33m,\u001b[0m \u001b[0mself\u001b[0m\u001b[1;33m.\u001b[0m\u001b[0mname\u001b[0m\u001b[1;33m)\u001b[0m\u001b[1;33m.\u001b[0m\u001b[0m_getitem_axis\u001b[0m\u001b[1;33m(\u001b[0m\u001b[0mkey\u001b[0m\u001b[1;33m,\u001b[0m \u001b[0maxis\u001b[0m\u001b[1;33m=\u001b[0m\u001b[0mi\u001b[0m\u001b[1;33m)\u001b[0m\u001b[1;33m\u001b[0m\u001b[1;33m\u001b[0m\u001b[0m\n\u001b[0m\u001b[0;32m   1290\u001b[0m \u001b[1;33m\u001b[0m\u001b[0m\n\u001b[0;32m   1291\u001b[0m         \u001b[1;32mreturn\u001b[0m \u001b[0mretval\u001b[0m\u001b[1;33m\u001b[0m\u001b[1;33m\u001b[0m\u001b[0m\n",
      "\u001b[1;32m~\\anaconda3\\lib\\site-packages\\pandas\\core\\indexing.py\u001b[0m in \u001b[0;36m_getitem_axis\u001b[1;34m(self, key, axis)\u001b[0m\n\u001b[0;32m   1912\u001b[0m             \u001b[1;32mreturn\u001b[0m \u001b[0mself\u001b[0m\u001b[1;33m.\u001b[0m\u001b[0m_get_slice_axis\u001b[0m\u001b[1;33m(\u001b[0m\u001b[0mkey\u001b[0m\u001b[1;33m,\u001b[0m \u001b[0maxis\u001b[0m\u001b[1;33m=\u001b[0m\u001b[0maxis\u001b[0m\u001b[1;33m)\u001b[0m\u001b[1;33m\u001b[0m\u001b[1;33m\u001b[0m\u001b[0m\n\u001b[0;32m   1913\u001b[0m         \u001b[1;32melif\u001b[0m \u001b[0mcom\u001b[0m\u001b[1;33m.\u001b[0m\u001b[0mis_bool_indexer\u001b[0m\u001b[1;33m(\u001b[0m\u001b[0mkey\u001b[0m\u001b[1;33m)\u001b[0m\u001b[1;33m:\u001b[0m\u001b[1;33m\u001b[0m\u001b[1;33m\u001b[0m\u001b[0m\n\u001b[1;32m-> 1914\u001b[1;33m             \u001b[1;32mreturn\u001b[0m \u001b[0mself\u001b[0m\u001b[1;33m.\u001b[0m\u001b[0m_getbool_axis\u001b[0m\u001b[1;33m(\u001b[0m\u001b[0mkey\u001b[0m\u001b[1;33m,\u001b[0m \u001b[0maxis\u001b[0m\u001b[1;33m=\u001b[0m\u001b[0maxis\u001b[0m\u001b[1;33m)\u001b[0m\u001b[1;33m\u001b[0m\u001b[1;33m\u001b[0m\u001b[0m\n\u001b[0m\u001b[0;32m   1915\u001b[0m         \u001b[1;32melif\u001b[0m \u001b[0mis_list_like_indexer\u001b[0m\u001b[1;33m(\u001b[0m\u001b[0mkey\u001b[0m\u001b[1;33m)\u001b[0m\u001b[1;33m:\u001b[0m\u001b[1;33m\u001b[0m\u001b[1;33m\u001b[0m\u001b[0m\n\u001b[0;32m   1916\u001b[0m \u001b[1;33m\u001b[0m\u001b[0m\n",
      "\u001b[1;32m~\\anaconda3\\lib\\site-packages\\pandas\\core\\indexing.py\u001b[0m in \u001b[0;36m_getbool_axis\u001b[1;34m(self, key, axis)\u001b[0m\n\u001b[0;32m   1780\u001b[0m         \u001b[1;31m# caller is responsible for ensuring non-None axis\u001b[0m\u001b[1;33m\u001b[0m\u001b[1;33m\u001b[0m\u001b[1;33m\u001b[0m\u001b[0m\n\u001b[0;32m   1781\u001b[0m         \u001b[0mlabels\u001b[0m \u001b[1;33m=\u001b[0m \u001b[0mself\u001b[0m\u001b[1;33m.\u001b[0m\u001b[0mobj\u001b[0m\u001b[1;33m.\u001b[0m\u001b[0m_get_axis\u001b[0m\u001b[1;33m(\u001b[0m\u001b[0maxis\u001b[0m\u001b[1;33m)\u001b[0m\u001b[1;33m\u001b[0m\u001b[1;33m\u001b[0m\u001b[0m\n\u001b[1;32m-> 1782\u001b[1;33m         \u001b[0mkey\u001b[0m \u001b[1;33m=\u001b[0m \u001b[0mcheck_bool_indexer\u001b[0m\u001b[1;33m(\u001b[0m\u001b[0mlabels\u001b[0m\u001b[1;33m,\u001b[0m \u001b[0mkey\u001b[0m\u001b[1;33m)\u001b[0m\u001b[1;33m\u001b[0m\u001b[1;33m\u001b[0m\u001b[0m\n\u001b[0m\u001b[0;32m   1783\u001b[0m         \u001b[0minds\u001b[0m \u001b[1;33m=\u001b[0m \u001b[0mkey\u001b[0m\u001b[1;33m.\u001b[0m\u001b[0mnonzero\u001b[0m\u001b[1;33m(\u001b[0m\u001b[1;33m)\u001b[0m\u001b[1;33m[\u001b[0m\u001b[1;36m0\u001b[0m\u001b[1;33m]\u001b[0m\u001b[1;33m\u001b[0m\u001b[1;33m\u001b[0m\u001b[0m\n\u001b[0;32m   1784\u001b[0m         \u001b[1;32mreturn\u001b[0m \u001b[0mself\u001b[0m\u001b[1;33m.\u001b[0m\u001b[0mobj\u001b[0m\u001b[1;33m.\u001b[0m\u001b[0m_take_with_is_copy\u001b[0m\u001b[1;33m(\u001b[0m\u001b[0minds\u001b[0m\u001b[1;33m,\u001b[0m \u001b[0maxis\u001b[0m\u001b[1;33m=\u001b[0m\u001b[0maxis\u001b[0m\u001b[1;33m)\u001b[0m\u001b[1;33m\u001b[0m\u001b[1;33m\u001b[0m\u001b[0m\n",
      "\u001b[1;32m~\\anaconda3\\lib\\site-packages\\pandas\\core\\indexing.py\u001b[0m in \u001b[0;36mcheck_bool_indexer\u001b[1;34m(index, key)\u001b[0m\n\u001b[0;32m   2315\u001b[0m         \u001b[0mmask\u001b[0m \u001b[1;33m=\u001b[0m \u001b[0misna\u001b[0m\u001b[1;33m(\u001b[0m\u001b[0mresult\u001b[0m\u001b[1;33m.\u001b[0m\u001b[0m_values\u001b[0m\u001b[1;33m)\u001b[0m\u001b[1;33m\u001b[0m\u001b[1;33m\u001b[0m\u001b[0m\n\u001b[0;32m   2316\u001b[0m         \u001b[1;32mif\u001b[0m \u001b[0mmask\u001b[0m\u001b[1;33m.\u001b[0m\u001b[0many\u001b[0m\u001b[1;33m(\u001b[0m\u001b[1;33m)\u001b[0m\u001b[1;33m:\u001b[0m\u001b[1;33m\u001b[0m\u001b[1;33m\u001b[0m\u001b[0m\n\u001b[1;32m-> 2317\u001b[1;33m             raise IndexingError(\n\u001b[0m\u001b[0;32m   2318\u001b[0m                 \u001b[1;34m\"Unalignable boolean Series provided as \"\u001b[0m\u001b[1;33m\u001b[0m\u001b[1;33m\u001b[0m\u001b[0m\n\u001b[0;32m   2319\u001b[0m                 \u001b[1;34m\"indexer (index of the boolean Series and of \"\u001b[0m\u001b[1;33m\u001b[0m\u001b[1;33m\u001b[0m\u001b[0m\n",
      "\u001b[1;31mIndexingError\u001b[0m: Unalignable boolean Series provided as indexer (index of the boolean Series and of the indexed object do not match)."
     ]
    }
   ],
   "source": [
    "#Grouping the df by main category, sorted by sum of converted_pledged amount.\n",
    "top_pledged = df.loc[:,df['state'] == 'succesful'].groupby(['category_parent_name']).sum().reset_index().sort_values(by='converted_pledged_amount', ascending=False)\n",
    "top_backers = df.groupby(['category_parent_name']).sum().reset_index().sort_values(by='backers_count', ascending=False)\n",
    "#Selecting top five from top_pledged and top_backers\n",
    "top_five_pledged = top_pledged.head(5)\n",
    "top_five_backers = top_backers.head(5)\n",
    "pal_pled = sns.color_palette(\"Greens_d\", len(top_five_pledged))\n",
    "pal_back = sns.color_palette(\"Reds_d\", len(top_five_backers))\n",
    "rank_pled = top_five_pledged[\"converted_pledged_amount\"].argsort().argsort()\n",
    "rank_back = top_five_backers[\"backers_count\"].argsort().argsort()\n",
    "#Plotting the top five\n",
    "fig, axes = plt.subplots(nrows=1, ncols=2, figsize=(20, 4))\n",
    "sns.barplot(ax =axes[0], x='converted_pledged_amount',y='category_parent_name', data=top_five_pledged, linewidth=0.7, palette=np.array(pal_pled[::+1])[rank_pled])\n",
    "axes[0].set_title('Converted Amount Pledged')\n",
    "sns.barplot(ax=axes[1], x='backers_count',y='category_parent_name', data=top_five_backers, linewidth=0.7, palette=np.array(pal_back[::+1])[rank_back])\n",
    "axes[1].set_title('Number of Backers');"
   ]
  },
  {
   "cell_type": "code",
   "execution_count": null,
   "metadata": {},
   "outputs": [],
   "source": [
    "plt.figure(figsize=(15, 10))\n",
    "sns.boxplot(x='category_parent_name', y='converted_pledged_amount', hue='state', data=df, orient='v', showfliers=False);\n",
    "plt.title('Converted Pledged Amount per Category Parent', fontsize=20);\n",
    "plt.xlabel('Category Parent', fontsize=18)\n",
    "plt.ylabel('Converted Pledged Amount)', fontsize=18)\n",
    "plt.xticks(fontsize=10)\n",
    "plt.yticks(fontsize=15);\n",
    "\n",
    "#Can we use \"proportion of the population\" - om significant verschil tussen succesful (tech en de rest)\n"
   ]
  },
  {
   "cell_type": "code",
   "execution_count": null,
   "metadata": {},
   "outputs": [],
   "source": [
    "df.groupby(['category_name']).sum().sort_values(by='converted_pledged_amount', ascending=False)"
   ]
  },
  {
   "cell_type": "code",
   "execution_count": null,
   "metadata": {},
   "outputs": [],
   "source": [
    "#corr\n",
    "corr = df['converted_pledged_amount'].corr(df['backers_count'])\n",
    "#set figure size\n",
    "plt.figure(figsize=(15, 10))\n",
    "#plot the data\n",
    "sns.regplot(data=df,x=df['converted_pledged_amount'],y=df['backers_count'], ci=None)\n",
    "#format the plot\n",
    "text = 'r=%s' % (corr)\n",
    "plt.text(1, 19, text, fontsize=14)\n",
    "plt.title('', fontsize=20);\n",
    "plt.xlabel('', fontsize=18)\n",
    "plt.ylabel('', fontsize=18)\n",
    "plt.xticks(fontsize=18)\n",
    "plt.yticks(fontsize=18);"
   ]
  },
  {
   "cell_type": "markdown",
   "metadata": {},
   "source": [
    "# Statistical Analysis"
   ]
  },
  {
   "cell_type": "code",
   "execution_count": null,
   "metadata": {},
   "outputs": [],
   "source": [
    "#Confidence Intervals:\n",
    "# To define between pledge amount x and x we should ask\n",
    "# To define between number of backers x and x we should aim for\n",
    "\n",
    "# One-sample\n",
    "# 1 category opposed to population mean\n",
    "\n",
    "# Two-sample\n",
    "#2 categories (tech vs. food) and Netherlands/Europe vs. US"
   ]
  },
  {
   "cell_type": "markdown",
   "metadata": {},
   "source": [
    "**Categories** (Assumption that Technology startups have highest funding due to popularity/size of investments) \n",
    "\n",
    "https://producthype.co/kickstarter-tips-2019/ \n",
    "\n",
    "        - Succesful campaigns\n",
    "        -> ratio succesful/unsuccesful/live definieren\n",
    "        -> one-sample 1 tegenover het totaal\n",
    "        -> two sample 1 tegenover de rest, of Tech vs Design \n",
    "        \n",
    "*   H0: $\\mu_{1} = \\mu_{2}$, There is no difference between total pledge for successful campaigns in the Technology category and all other categories\n",
    "*   H1: $\\mu_{1} \\neq \\mu_{2},$ There is a difference between total pledge for successful campaigns in the Technology category and all other categories\n",
    "\n",
    "For this test, we have to groups in which we can not match the rows to eachother, hence **independent samples**.\n",
    "Secondly, we assume a **normally distributed population**.\n",
    "\n",
    "(?) We cannot (or do not want to) assume Equal Variances."
   ]
  },
  {
   "cell_type": "code",
   "execution_count": null,
   "metadata": {},
   "outputs": [],
   "source": [
    "#Compute variables to test\n",
    "succesful_campaigns = df.loc[df['state'] == 'successful']\n",
    "succesful_campaigns_tech = succesful_campaigns.loc[succesful_campaigns['category_parent_name'] == 'Technology']\n",
    "succesful_campaigns_other = succesful_campaigns.loc[succesful_campaigns['category_parent_name'] != 'Technology']\n",
    "\n",
    "#Plot to estimate differences\n",
    "succesful_campaigns['tech_vs_other'] = np.where(succesful_campaigns['category_parent_name']=='Technology', 'Technology', 'Other')\n",
    "ax = sns.boxplot(x=\"tech_vs_other\", y=\"usd_pledged\", data=succesful_campaigns, order=[\"Technology\", \"Other\"], showfliers=False)"
   ]
  },
  {
   "cell_type": "code",
   "execution_count": null,
   "metadata": {},
   "outputs": [],
   "source": [
    "#Plot boxplots versus other five top categories according to count\n",
    "ax = sns.boxplot(x=\"category_parent_name\", y=\"usd_pledged\", data=succesful_campaigns, order=[\"Technology\", \"Design\", \"Games\", \"Food\", \"Fashion\"], showfliers=False)"
   ]
  },
  {
   "cell_type": "code",
   "execution_count": null,
   "metadata": {},
   "outputs": [],
   "source": [
    "from scipy.stats import ttest_ind\n",
    "\n",
    "#Decide whether equal variances are true or false\n",
    "ttest_ind(succesful_campaigns_tech['usd_pledged'], succesful_campaigns_other['usd_pledged'], equal_var=False)\n",
    "ttest_ind(succesful_campaigns_tech['usd_pledged'], succesful_campaigns_other['usd_pledged'], equal_var=True)"
   ]
  },
  {
   "cell_type": "code",
   "execution_count": null,
   "metadata": {},
   "outputs": [],
   "source": [
    "#Idea: build a loop two-sample-t-test for testing Technology against Design, Games, Food and Fashion."
   ]
  },
  {
   "cell_type": "markdown",
   "metadata": {},
   "source": [
    "- US vs NL (Assumption: Silicon Valley vs. the Netherlands)\n",
    "    - Usd pledged in NL hoger OF lager dan in US (1 of 2 sample T test)  \n",
    "    -> Dict \"location\" needs to be unfolded ('name', 'expanded_country')  \n",
    "    -> Test binnen alle categorien eerst, eventueel later alleen in hierboven gekozen categorie  \n",
    "Rianne"
   ]
  },
  {
   "cell_type": "code",
   "execution_count": null,
   "metadata": {},
   "outputs": [],
   "source": [
    "# Create two samples: one US and one NL \n",
    "df_us = df.loc[df['country']=='US']\n",
    "df_nl = df.loc[df['country']=='NL']\n",
    "df_usnl = df[((df['country'] == 'US') | (df['country'] == 'NL'))]\n",
    "print('Number of records US: ', len(df_us))\n",
    "print('Number of records NL: ', len(df_nl))\n",
    "print('Number of records Us & NL: ', len(df_usnl))"
   ]
  },
  {
   "cell_type": "code",
   "execution_count": null,
   "metadata": {},
   "outputs": [],
   "source": [
    "df_nl['state'].value_counts()"
   ]
  },
  {
   "cell_type": "code",
   "execution_count": null,
   "metadata": {},
   "outputs": [],
   "source": [
    "#Import libraries\n",
    "\n",
    "import numpy as np\n",
    "import pandas as pd\n",
    "import scipy.stats as stats\n",
    "from scipy.stats import chi2_contingency\n",
    "\n",
    "#contingency table\n",
    "contingency_table = pd.crosstab(df_usnl['state_cat'], df_usnl['country'])\n",
    "contingency_table\n",
    "\n",
    "#perform test\n",
    "stats.chi2_contingency(contingency_table)\n",
    "\n",
    "\"\"\"Because the p-value is smaller than 0.05, we can reject the 0 hypothesis. \n",
    "H0 = no statistical difference, that means there is a statistical difference. The chance to have a succesfull campaign in the US\n",
    "is higher than in the Neterlands.\"\"\""
   ]
  },
  {
   "cell_type": "markdown",
   "metadata": {},
   "source": [
    "- Number of backers (Assumption: popularity of campaign defines popularity of startup)\n",
    "    - Ga je voor weinig backers met veel of veel backers met weinig -> verschil in succesful  \n",
    "        -> Define average pledge per backer (see to do)  \n",
    "        -> Succesful versus unsuccesful (2-sample: avg. per backer succesful versus avg. per backer unsuccesful)  \n",
    "            We verwachten dat dit verschilt - gemiddelde bij succesvol hoger\n",
    "Rianne  \n",
    "            \n",
    "- Zoja/Zonee -> define confidence intervals voor backers voor ons \"start-up\" plan (binnen onze categorie?)  \n",
    "\n",
    "Elske"
   ]
  },
  {
   "cell_type": "code",
   "execution_count": null,
   "metadata": {},
   "outputs": [],
   "source": [
    "# Sample represents the numbers of backers for succesful campaigns within the \"Tech\" category\n",
    "succesful_campaigns = df.loc[df['state'] == 'successful']\n",
    "succesful_campaigns_tech = succesful_campaigns.loc[succesful_campaigns['category_parent_name'] == 'Technology']\n",
    "sample = succesful_campaigns_tech['backers_count']\n",
    "\n",
    "#Compute degrees of freedom\n",
    "df = len(sample) -1 \n",
    "\n",
    "#Compute t-statistic, mean and standard error\n",
    "t = stats.t.interval(0.95,df)[1]\n",
    "x  = np.mean(sample)\n",
    "se = np.std(sample) / np.sqrt(len(sample))\n",
    "\n",
    "#Define confidence intervals\n",
    "con_int = [round(num,3) for num in [x - (t * se) , x + (t * se)]]\n",
    "print('With 95 % confidence, the average number of backers for a succesful campaign in Technology:', round(con_int[0]), \"and\", round(con_int[1]))"
   ]
  },
  {
   "cell_type": "markdown",
   "metadata": {},
   "source": [
    "#### Confidence interval amount pledged"
   ]
  },
  {
   "cell_type": "code",
   "execution_count": null,
   "metadata": {},
   "outputs": [],
   "source": [
    "# Sample represents the pledged US dollars for succesful campaigns within the “Tech” category\n",
    "succesful_campaigns = df.loc[df['state'] == 'successful']\n",
    "succesful_campaigns_tech = succesful_campaigns.loc[succesful_campaigns['category_parent_name'] == 'Technology']\n",
    "sample = succesful_campaigns_tech['usd_pledged']\n",
    "\n",
    "#Compute degrees of freedom\n",
    "dfree = len(sample) -1\n",
    "\n",
    "#Compute t-statistic, mean and standard error\n",
    "t = stats.t.interval(0.95,dfree)[1]\n",
    "x  = np.mean(sample)\n",
    "se = np.std(sample) / np.sqrt(len(sample))\n",
    "\n",
    "#Define confidence intervals\n",
    "con_int = [round(num,3) for num in [x - (t * se) , x + (t * se)]]\n",
    "print('With 95 % confidence, the average usd_pledged for a succesful campaign in Technology is between:', round(con_int[0]), 'and', round(con_int[1]), 'dollar')"
   ]
  },
  {
   "cell_type": "markdown",
   "metadata": {},
   "source": [
    "#### Confidence interval successful goal"
   ]
  },
  {
   "cell_type": "code",
   "execution_count": 11,
   "metadata": {},
   "outputs": [
    {
     "ename": "NameError",
     "evalue": "name 'succesful_campaigns_tech' is not defined",
     "output_type": "error",
     "traceback": [
      "\u001b[1;31m---------------------------------------------------------------------------\u001b[0m",
      "\u001b[1;31mNameError\u001b[0m                                 Traceback (most recent call last)",
      "\u001b[1;32m<ipython-input-11-f2e0c5ffef5e>\u001b[0m in \u001b[0;36m<module>\u001b[1;34m\u001b[0m\n\u001b[0;32m      1\u001b[0m \u001b[1;31m# Sample represents the numbers of backers for succesful campaigns within the “Tech” category\u001b[0m\u001b[1;33m\u001b[0m\u001b[1;33m\u001b[0m\u001b[1;33m\u001b[0m\u001b[0m\n\u001b[1;32m----> 2\u001b[1;33m \u001b[0msample\u001b[0m \u001b[1;33m=\u001b[0m \u001b[0msuccesful_campaigns_tech\u001b[0m\u001b[1;33m[\u001b[0m\u001b[1;34m'goal'\u001b[0m\u001b[1;33m]\u001b[0m\u001b[1;33m\u001b[0m\u001b[1;33m\u001b[0m\u001b[0m\n\u001b[0m\u001b[0;32m      3\u001b[0m \u001b[1;33m\u001b[0m\u001b[0m\n\u001b[0;32m      4\u001b[0m \u001b[1;31m#Compute degrees of freedom\u001b[0m\u001b[1;33m\u001b[0m\u001b[1;33m\u001b[0m\u001b[1;33m\u001b[0m\u001b[0m\n\u001b[0;32m      5\u001b[0m \u001b[0mdfree\u001b[0m \u001b[1;33m=\u001b[0m \u001b[0mlen\u001b[0m\u001b[1;33m(\u001b[0m\u001b[0msample\u001b[0m\u001b[1;33m)\u001b[0m \u001b[1;33m-\u001b[0m\u001b[1;36m1\u001b[0m\u001b[1;33m\u001b[0m\u001b[1;33m\u001b[0m\u001b[0m\n",
      "\u001b[1;31mNameError\u001b[0m: name 'succesful_campaigns_tech' is not defined"
     ]
    }
   ],
   "source": [
    "# Sample represents the numbers of backers for succesful campaigns within the “Tech” category\n",
    "sample = succesful_campaigns_tech['goal']\n",
    "\n",
    "#Compute degrees of freedom\n",
    "dfree = len(sample) -1\n",
    "\n",
    "#Compute t-statistic, mean and standard error\n",
    "t = stats.t.interval(0.95,dfree)[1]\n",
    "x  = np.mean(sample)\n",
    "se = np.std(sample) / np.sqrt(len(sample))\n",
    "\n",
    "#Define confidence intervals\n",
    "con_int = [round(num,3) for num in [x - (t * se) , x + (t * se)]]\n",
    "print('With 95 % confidence, the average goal for a succesful campaign in Technology is between:', round(con_int[0]), 'and', round(con_int[1]), 'dollar')"
   ]
  },
  {
   "cell_type": "markdown",
   "metadata": {},
   "source": [
    "#### Goal differs significantly from pledged amout"
   ]
  },
  {
   "cell_type": "code",
   "execution_count": null,
   "metadata": {},
   "outputs": [],
   "source": [
    "#H0: mean goal = mean usd_pledged\n",
    "#HA: mean goal != mean usd_pledged\n",
    "\n",
    "from scipy.stats import ttest_rel\n",
    "result = ttest_rel(succesful_campaigns_tech['usd_pledged'], succesful_campaigns_tech['goal'])\n",
    "pvalue = result.pvalue\n",
    "pvalue\n",
    "\n",
    "if pvalue < 0.05:\n",
    "    print('Reject null hypothesis: the mean of the goal and pledged amout significantly differ')\n",
    "    \n",
    "    if pvalue > 0.05:\n",
    "        print('Confirm null hypothesis: the mean of the goal and pledged amout do not significantly differ')"
   ]
  },
  {
   "cell_type": "markdown",
   "metadata": {},
   "source": [
    "Bonus:\n",
    "In specific categories: Pledge amount asked - Pledged (goal - converted)  \n",
    "COVID impact 2020 versus 2018/2019 (less pledges than previous years - and in which categories?)  \n",
    "Other differences in years   \n",
    "    "
   ]
  },
  {
   "cell_type": "code",
   "execution_count": null,
   "metadata": {},
   "outputs": [],
   "source": []
  },
  {
   "cell_type": "code",
   "execution_count": null,
   "metadata": {},
   "outputs": [],
   "source": []
  },
  {
   "cell_type": "code",
   "execution_count": null,
   "metadata": {},
   "outputs": [],
   "source": []
  },
  {
   "cell_type": "code",
   "execution_count": null,
   "metadata": {},
   "outputs": [],
   "source": []
  }
 ],
 "metadata": {
  "kernelspec": {
   "display_name": "Python 3",
   "language": "python",
   "name": "python3"
  },
  "language_info": {
   "codemirror_mode": {
    "name": "ipython",
    "version": 3
   },
   "file_extension": ".py",
   "mimetype": "text/x-python",
   "name": "python",
   "nbconvert_exporter": "python",
   "pygments_lexer": "ipython3",
   "version": "3.8.3"
  }
 },
 "nbformat": 4,
 "nbformat_minor": 2
}
