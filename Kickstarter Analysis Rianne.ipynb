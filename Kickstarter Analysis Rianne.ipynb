{
 "cells": [
  {
   "cell_type": "code",
   "execution_count": 23,
   "metadata": {},
   "outputs": [],
   "source": [
    "# Import libraries\n",
    "import numpy as np \n",
    "import pandas as pd"
   ]
  },
  {
   "cell_type": "code",
   "execution_count": 24,
   "metadata": {},
   "outputs": [],
   "source": [
    "# Import csv files\n",
    "sep2020 = pd.read_csv('..\\\\data\\\\sep2020.csv')"
   ]
  },
  {
   "cell_type": "code",
   "execution_count": 25,
   "metadata": {},
   "outputs": [],
   "source": [
    "# Drop records of unfinished project (category live)\n",
    "sep2020 = sep2020.loc[sep2020['state'] != 'live']\n",
    "\n",
    "# Categorize into successfull and unsuccessful\n",
    "sep2020['state_cat'] = np.where(sep2020['state']=='successful', 'successful', 'unsuccessful')\n",
    "\n",
    "# Drop duplicates\n",
    "sep2020 = sep2020.drop_duplicates()"
   ]
  }
 ],
 "metadata": {
  "kernelspec": {
   "display_name": "Python 3",
   "language": "python",
   "name": "python3"
  },
  "language_info": {
   "codemirror_mode": {
    "name": "ipython",
    "version": 3
   },
   "file_extension": ".py",
   "mimetype": "text/x-python",
   "name": "python",
   "nbconvert_exporter": "python",
   "pygments_lexer": "ipython3",
   "version": "3.8.3"
  }
 },
 "nbformat": 4,
 "nbformat_minor": 4
}
