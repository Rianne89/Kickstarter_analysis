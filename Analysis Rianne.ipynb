{
 "cells": [
  {
   "cell_type": "markdown",
   "metadata": {},
   "source": [
    "# Analysis Rianne"
   ]
  },
  {
   "cell_type": "code",
   "execution_count": 23,
   "metadata": {},
   "outputs": [],
   "source": [
    "import pandas as pd\n",
    "import numpy as np\n",
    "import seaborn as sns"
   ]
  },
  {
   "cell_type": "code",
   "execution_count": 2,
   "metadata": {},
   "outputs": [],
   "source": [
    "df = pd.read_csv('data\\\\sep2020.csv')"
   ]
  },
  {
   "cell_type": "code",
   "execution_count": 3,
   "metadata": {},
   "outputs": [
    {
     "data": {
      "text/plain": [
       "Index(['backers_count', 'blurb', 'country', 'created_at', 'deadline', 'goal',\n",
       "       'id', 'launched_at', 'name', 'pledged', 'spotlight', 'state',\n",
       "       'state_changed_at', 'usd_pledged', 'category_id', 'category_name',\n",
       "       'category_parent_id', 'category_parent_name', 'project_id'],\n",
       "      dtype='object')"
      ]
     },
     "execution_count": 3,
     "metadata": {},
     "output_type": "execute_result"
    }
   ],
   "source": [
    "#Check if columns are dropped (currency, fx_rate, converted_usd_pledged)\n",
    "df.columns"
   ]
  },
  {
   "cell_type": "code",
   "execution_count": 4,
   "metadata": {},
   "outputs": [
    {
     "data": {
      "text/plain": [
       "successful    128156\n",
       "failed         76137\n",
       "canceled        9138\n",
       "live            6257\n",
       "Name: state, dtype: int64"
      ]
     },
     "execution_count": 4,
     "metadata": {},
     "output_type": "execute_result"
    }
   ],
   "source": [
    "# Check different 'state' categories\n",
    "df['state'].value_counts()"
   ]
  },
  {
   "cell_type": "markdown",
   "metadata": {},
   "source": [
    "## Drop live records"
   ]
  },
  {
   "cell_type": "code",
   "execution_count": 5,
   "metadata": {},
   "outputs": [
    {
     "data": {
      "text/plain": [
       "successful    128156\n",
       "failed         76137\n",
       "canceled        9138\n",
       "Name: state, dtype: int64"
      ]
     },
     "execution_count": 5,
     "metadata": {},
     "output_type": "execute_result"
    }
   ],
   "source": [
    "# Drop records that are still live\n",
    "df = df.loc[df['state'] != 'live']\n",
    "\n",
    "# Check if records are dropped\n",
    "df['state'].value_counts()"
   ]
  },
  {
   "cell_type": "markdown",
   "metadata": {},
   "source": [
    "## Drop double project ids"
   ]
  },
  {
   "cell_type": "code",
   "execution_count": 6,
   "metadata": {},
   "outputs": [
    {
     "name": "stdout",
     "output_type": "stream",
     "text": [
      "number of records:  213431\n",
      "number of records after dropping duplicated project ids:  188605\n"
     ]
    }
   ],
   "source": [
    "# Print number of records\n",
    "print('number of records: ', len(df))\n",
    "\n",
    "# sort by highest pledged and drop duplicated project ids\n",
    "df = df.sort_values(by='usd_pledged',ascending=False).drop_duplicates(subset='project_id', keep='first')\n",
    "\n",
    "# check number of records\n",
    "print('number of records after dropping duplicated project ids: ', len(df))"
   ]
  },
  {
   "cell_type": "markdown",
   "metadata": {},
   "source": [
    "## Transforming dates"
   ]
  },
  {
   "cell_type": "code",
   "execution_count": 7,
   "metadata": {},
   "outputs": [
    {
     "data": {
      "text/html": [
       "<div>\n",
       "<style scoped>\n",
       "    .dataframe tbody tr th:only-of-type {\n",
       "        vertical-align: middle;\n",
       "    }\n",
       "\n",
       "    .dataframe tbody tr th {\n",
       "        vertical-align: top;\n",
       "    }\n",
       "\n",
       "    .dataframe thead th {\n",
       "        text-align: right;\n",
       "    }\n",
       "</style>\n",
       "<table border=\"1\" class=\"dataframe\">\n",
       "  <thead>\n",
       "    <tr style=\"text-align: right;\">\n",
       "      <th></th>\n",
       "      <th>created_at</th>\n",
       "      <th>deadline</th>\n",
       "      <th>launched_at</th>\n",
       "      <th>state_changed_at</th>\n",
       "    </tr>\n",
       "  </thead>\n",
       "  <tbody>\n",
       "    <tr>\n",
       "      <th>26699</th>\n",
       "      <td>2020-02-10 01:53:24</td>\n",
       "      <td>2020-05-01 21:00:00</td>\n",
       "      <td>2020-03-31 15:03:58</td>\n",
       "      <td>2020-05-01 21:00:00</td>\n",
       "    </tr>\n",
       "    <tr>\n",
       "      <th>155651</th>\n",
       "      <td>2019-02-08 21:22:32</td>\n",
       "      <td>2019-04-19 06:59:00</td>\n",
       "      <td>2019-03-04 17:54:29</td>\n",
       "      <td>2019-04-19 06:59:00</td>\n",
       "    </tr>\n",
       "    <tr>\n",
       "      <th>99013</th>\n",
       "      <td>2012-05-15 01:20:03</td>\n",
       "      <td>2012-08-09 05:00:00</td>\n",
       "      <td>2012-07-10 12:44:41</td>\n",
       "      <td>2012-08-09 05:56:12</td>\n",
       "    </tr>\n",
       "    <tr>\n",
       "      <th>119358</th>\n",
       "      <td>2019-04-24 06:56:23</td>\n",
       "      <td>2019-06-06 14:00:38</td>\n",
       "      <td>2019-05-07 14:00:38</td>\n",
       "      <td>2019-06-06 14:00:38</td>\n",
       "    </tr>\n",
       "    <tr>\n",
       "      <th>201818</th>\n",
       "      <td>2020-02-08 02:08:24</td>\n",
       "      <td>2020-08-07 21:05:00</td>\n",
       "      <td>2020-07-07 15:00:01</td>\n",
       "      <td>2020-08-07 21:05:00</td>\n",
       "    </tr>\n",
       "    <tr>\n",
       "      <th>...</th>\n",
       "      <td>...</td>\n",
       "      <td>...</td>\n",
       "      <td>...</td>\n",
       "      <td>...</td>\n",
       "    </tr>\n",
       "    <tr>\n",
       "      <th>207257</th>\n",
       "      <td>2015-11-13 15:19:19</td>\n",
       "      <td>2016-01-12 16:59:05</td>\n",
       "      <td>2015-11-13 16:59:05</td>\n",
       "      <td>2016-01-12 16:59:05</td>\n",
       "    </tr>\n",
       "    <tr>\n",
       "      <th>151924</th>\n",
       "      <td>2015-11-14 03:51:42</td>\n",
       "      <td>2016-01-20 03:53:00</td>\n",
       "      <td>2015-11-21 21:07:20</td>\n",
       "      <td>2016-01-20 03:53:00</td>\n",
       "    </tr>\n",
       "    <tr>\n",
       "      <th>106147</th>\n",
       "      <td>2015-08-11 18:40:21</td>\n",
       "      <td>2015-08-14 16:40:44</td>\n",
       "      <td>2015-08-13 16:40:44</td>\n",
       "      <td>2015-08-14 16:40:44</td>\n",
       "    </tr>\n",
       "    <tr>\n",
       "      <th>9120</th>\n",
       "      <td>2017-09-19 21:25:20</td>\n",
       "      <td>2017-10-05 15:56:21</td>\n",
       "      <td>2017-09-20 15:56:21</td>\n",
       "      <td>2017-10-05 15:56:21</td>\n",
       "    </tr>\n",
       "    <tr>\n",
       "      <th>165883</th>\n",
       "      <td>2014-09-07 15:34:38</td>\n",
       "      <td>2014-10-08 19:49:38</td>\n",
       "      <td>2014-09-08 19:49:38</td>\n",
       "      <td>2014-10-08 19:49:38</td>\n",
       "    </tr>\n",
       "  </tbody>\n",
       "</table>\n",
       "<p>188605 rows × 4 columns</p>\n",
       "</div>"
      ],
      "text/plain": [
       "                created_at            deadline         launched_at  \\\n",
       "26699  2020-02-10 01:53:24 2020-05-01 21:00:00 2020-03-31 15:03:58   \n",
       "155651 2019-02-08 21:22:32 2019-04-19 06:59:00 2019-03-04 17:54:29   \n",
       "99013  2012-05-15 01:20:03 2012-08-09 05:00:00 2012-07-10 12:44:41   \n",
       "119358 2019-04-24 06:56:23 2019-06-06 14:00:38 2019-05-07 14:00:38   \n",
       "201818 2020-02-08 02:08:24 2020-08-07 21:05:00 2020-07-07 15:00:01   \n",
       "...                    ...                 ...                 ...   \n",
       "207257 2015-11-13 15:19:19 2016-01-12 16:59:05 2015-11-13 16:59:05   \n",
       "151924 2015-11-14 03:51:42 2016-01-20 03:53:00 2015-11-21 21:07:20   \n",
       "106147 2015-08-11 18:40:21 2015-08-14 16:40:44 2015-08-13 16:40:44   \n",
       "9120   2017-09-19 21:25:20 2017-10-05 15:56:21 2017-09-20 15:56:21   \n",
       "165883 2014-09-07 15:34:38 2014-10-08 19:49:38 2014-09-08 19:49:38   \n",
       "\n",
       "          state_changed_at  \n",
       "26699  2020-05-01 21:00:00  \n",
       "155651 2019-04-19 06:59:00  \n",
       "99013  2012-08-09 05:56:12  \n",
       "119358 2019-06-06 14:00:38  \n",
       "201818 2020-08-07 21:05:00  \n",
       "...                    ...  \n",
       "207257 2016-01-12 16:59:05  \n",
       "151924 2016-01-20 03:53:00  \n",
       "106147 2015-08-14 16:40:44  \n",
       "9120   2017-10-05 15:56:21  \n",
       "165883 2014-10-08 19:49:38  \n",
       "\n",
       "[188605 rows x 4 columns]"
      ]
     },
     "execution_count": 7,
     "metadata": {},
     "output_type": "execute_result"
    }
   ],
   "source": [
    "# Dates transformed [['created_at'], ['deadline'], ['launched_at'], ['state_changed_at']]\n",
    "df[['created_at','deadline', 'launched_at', 'state_changed_at']].apply(pd.to_datetime, unit='s')"
   ]
  },
  {
   "cell_type": "markdown",
   "metadata": {},
   "source": [
    "## Classify successful and unsuccessful"
   ]
  },
  {
   "cell_type": "code",
   "execution_count": 8,
   "metadata": {},
   "outputs": [
    {
     "data": {
      "text/plain": [
       "successful      104210\n",
       "unsuccessful     84395\n",
       "Name: state_cat, dtype: int64"
      ]
     },
     "execution_count": 8,
     "metadata": {},
     "output_type": "execute_result"
    }
   ],
   "source": [
    "#Value_counts shows there are both canceled and failed campaigns. Categorize into successfull and unsuccessful\n",
    "df['state_cat'] = np.where(df['state']=='successful', 'successful', 'unsuccessful')\n",
    "df['state_cat'].value_counts()"
   ]
  },
  {
   "cell_type": "markdown",
   "metadata": {},
   "source": [
    "## Create avg pledge per backer"
   ]
  },
  {
   "cell_type": "code",
   "execution_count": 10,
   "metadata": {},
   "outputs": [],
   "source": [
    "df['average_pledge'] = (df['usd_pledged']/df['backers_count'])"
   ]
  },
  {
   "cell_type": "markdown",
   "metadata": {},
   "source": [
    "## Check for missing values"
   ]
  },
  {
   "cell_type": "code",
   "execution_count": 12,
   "metadata": {},
   "outputs": [
    {
     "data": {
      "text/plain": [
       "backers_count               0\n",
       "blurb                       8\n",
       "country                     0\n",
       "created_at                  0\n",
       "deadline                    0\n",
       "goal                        0\n",
       "id                          0\n",
       "launched_at                 0\n",
       "name                        0\n",
       "pledged                     0\n",
       "spotlight                   0\n",
       "state                       0\n",
       "state_changed_at            0\n",
       "usd_pledged                 0\n",
       "category_id                 0\n",
       "category_name               0\n",
       "category_parent_id       7737\n",
       "category_parent_name     7737\n",
       "project_id                  0\n",
       "state_cat                   0\n",
       "average_pledge          16009\n",
       "dtype: int64"
      ]
     },
     "execution_count": 12,
     "metadata": {},
     "output_type": "execute_result"
    }
   ],
   "source": [
    "df.isna().sum()"
   ]
  },
  {
   "cell_type": "markdown",
   "metadata": {},
   "source": [
    "## Hypothesis 2\n",
    "**US vs NL** (Assumption: Silicon Valley vs. the Netherlands)\n",
    "        -> Average pledged amount in NL hoger OF lager dan in US (1 of 2 sample T test)"
   ]
  },
  {
   "cell_type": "code",
   "execution_count": 21,
   "metadata": {},
   "outputs": [
    {
     "name": "stdout",
     "output_type": "stream",
     "text": [
      "Number of records US:  131536\n",
      "Number of records NL:  1660\n",
      "Number of records Us & NL:  133196\n"
     ]
    }
   ],
   "source": [
    "# Create two samples: one US and one NL \n",
    "df_us = df.loc[df['country']=='US']\n",
    "df_nl = df.loc[df['country']=='NL']\n",
    "df_usnl = df[((df['country'] == 'US') | (df['country'] == 'NL'))]\n",
    "print('Number of records US: ', len(df_us))\n",
    "print('Number of records NL: ', len(df_nl))\n",
    "print('Number of records Us & NL: ', len(df_usnl))"
   ]
  },
  {
   "cell_type": "code",
   "execution_count": 30,
   "metadata": {},
   "outputs": [
    {
     "data": {
      "text/plain": [
       "<seaborn.axisgrid.FacetGrid at 0x1894a910>"
      ]
     },
     "execution_count": 30,
     "metadata": {},
     "output_type": "execute_result"
    },
    {
     "data": {
      "image/png": "[encoded data removed]",
      "text/plain": [
       "<Figure size 409.625x360 with 1 Axes>"
      ]
     },
     "metadata": {
      "needs_background": "light"
     },
     "output_type": "display_data"
    }
   ],
   "source": [
    "sns.catplot(x=\"category_parent_name\", hue=\"country\", data=df_usnl[df_usnl.category_parent_name.notnull()],\n",
    "                kind=\"count\")"
   ]
  },
  {
   "cell_type": "code",
   "execution_count": null,
   "metadata": {},
   "outputs": [],
   "source": []
  }
 ],
 "metadata": {
  "kernelspec": {
   "display_name": "Python 3",
   "language": "python",
   "name": "python3"
  },
  "language_info": {
   "codemirror_mode": {
    "name": "ipython",
    "version": 3
   },
   "file_extension": ".py",
   "mimetype": "text/x-python",
   "name": "python",
   "nbconvert_exporter": "python",
   "pygments_lexer": "ipython3",
   "version": "3.8.3"
  }
 },
 "nbformat": 4,
 "nbformat_minor": 4
}
