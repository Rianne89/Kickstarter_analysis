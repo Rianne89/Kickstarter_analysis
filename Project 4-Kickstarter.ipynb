{
 "cells": [
  {
   "cell_type": "markdown",
   "metadata": {},
   "source": [
    "# Kickstarter Startup Analysis"
   ]
  },
  {
   "cell_type": "markdown",
   "metadata": {},
   "source": [
    "1. How should we design our Kickstarter campaign in order to make our startup funding phase as succesful as possible?\n",
    "    - **Categorie** (Assumption Tech) - Succesful campaigns\n",
    "        -> ratio succesful/unsuccesful/live definieren\n",
    "        -> one-sample 1 tegenover het totaal\n",
    "        -> two sample 1 tegenover de rest, of Tech vs Design\n",
    "    - **US vs NL** (Assumption: Silicon Valley vs. the Netherlands)\n",
    "        -> Average pledged amount in NL hoger OF lager dan in US (1 of 2 sample T test)\n",
    "    - **Number of backers** (Assumption: popularity of campaign defines popularity of startup)\n",
    "        -> Ga je voor weinig backers met veel of veel backers met weinig -> verschil in succesful (Hoeveel backers per in je goal)\n",
    "    -> Zoja/Zonee -> define confidence intervals voor backers voor ons \"start-up\" plan\n",
    "    \n",
    "    - **Pledge amount asked** - Pledged (goal - converted)\n",
    "    \n",
    "2. Which pledge amount will lead to the highest possible funding?\n",
    "\n",
    "3. How could the location of the kickstarter campaign, or the sub-category, influence the success rate of our kickstarter campaign?"
   ]
  },
  {
   "cell_type": "markdown",
   "metadata": {},
   "source": [
    "**To do**  \n",
    "~~Elske: Fix git issues  ~~  \n",
    "Rianne: #Drop duplicates (per project_id, check categorieen - 1, 2 en 3 -- zijn hetzelfde, dus sort_values by pledged amount, keepfirst)  \n",
    "Rianne: #Currency -> use usd_pledged -> convert_amount can be dropped, fx_rate also, currency also   \n",
    "Rianne: #Take out live  \n",
    "~~Elske:  #Canceled and unsuccesful -> Failed~~  \n",
    "~~Elske:  #Unfold Dict \"location\" unfold: 'name', 'expanded_country'~~  \n",
    "~~Elske:  #Create column with average pledge per backer  ~~  \n",
    "Both: Check for missing values and how to solve them + add code for hypothesis testing"
   ]
  },
  {
   "cell_type": "code",
   "execution_count": 1,
   "metadata": {},
   "outputs": [],
   "source": [
    "#Importing libraries\n",
    "import pandas as pd\n",
    "import numpy as np\n",
    "import json\n",
    "from datetime import datetime\n",
    "import scipy.stats as stats\n",
    "from scipy.stats import norm"
   ]
  },
  {
   "cell_type": "markdown",
   "metadata": {},
   "source": [
    "Download the file <a href=\"https://drive.google.com/drive/folders/1hIBnfoXrXNW2vF_ka8R8Y0mltCmBjqPZ\" target=\"_blank\">here</a>."
   ]
  },
  {
   "cell_type": "code",
   "execution_count": 2,
   "metadata": {},
   "outputs": [
    {
     "name": "stdout",
     "output_type": "stream",
     "text": [
      "Requirement already satisfied: fonts in /Users/elskedenbode/opt/anaconda3/lib/python3.7/site-packages (0.0.3)\n",
      "Note: you may need to restart the kernel to use updated packages.\n"
     ]
    }
   ],
   "source": [
    "pip install fonts"
   ]
  },
  {
   "cell_type": "code",
   "execution_count": 3,
   "metadata": {},
   "outputs": [
    {
     "name": "stdout",
     "output_type": "stream",
     "text": [
      "Requirement already satisfied: font-amatic-sc in /Users/elskedenbode/opt/anaconda3/lib/python3.7/site-packages (0.0.4)\n",
      "Note: you may need to restart the kernel to use updated packages.\n"
     ]
    }
   ],
   "source": [
    "pip install font-amatic-sc"
   ]
  },
  {
   "cell_type": "code",
   "execution_count": 4,
   "metadata": {},
   "outputs": [],
   "source": [
    "from PIL import ImageFont\n",
    "from fonts.ttf import AmaticSC"
   ]
  },
  {
   "cell_type": "code",
   "execution_count": 5,
   "metadata": {},
   "outputs": [],
   "source": [
    "font = ImageFont.truetype(AmaticSC)"
   ]
  },
  {
   "cell_type": "code",
   "execution_count": 6,
   "metadata": {},
   "outputs": [
    {
     "data": {
      "text/html": [
       "<div>\n",
       "<style scoped>\n",
       "    .dataframe tbody tr th:only-of-type {\n",
       "        vertical-align: middle;\n",
       "    }\n",
       "\n",
       "    .dataframe tbody tr th {\n",
       "        vertical-align: top;\n",
       "    }\n",
       "\n",
       "    .dataframe thead th {\n",
       "        text-align: right;\n",
       "    }\n",
       "</style>\n",
       "<table border=\"1\" class=\"dataframe\">\n",
       "  <thead>\n",
       "    <tr style=\"text-align: right;\">\n",
       "      <th></th>\n",
       "      <th>backers_count</th>\n",
       "      <th>blurb</th>\n",
       "      <th>converted_pledged_amount</th>\n",
       "      <th>country</th>\n",
       "      <th>created_at</th>\n",
       "      <th>currency</th>\n",
       "      <th>deadline</th>\n",
       "      <th>fx_rate</th>\n",
       "      <th>goal</th>\n",
       "      <th>id</th>\n",
       "      <th>...</th>\n",
       "      <th>pledged</th>\n",
       "      <th>spotlight</th>\n",
       "      <th>state</th>\n",
       "      <th>state_changed_at</th>\n",
       "      <th>usd_pledged</th>\n",
       "      <th>category_id</th>\n",
       "      <th>category_name</th>\n",
       "      <th>category_parent_id</th>\n",
       "      <th>category_parent_name</th>\n",
       "      <th>project_id</th>\n",
       "    </tr>\n",
       "  </thead>\n",
       "  <tbody>\n",
       "    <tr>\n",
       "      <th>0</th>\n",
       "      <td>61</td>\n",
       "      <td>Support great art! Join us as we re-stage the ...</td>\n",
       "      <td>4618</td>\n",
       "      <td>US</td>\n",
       "      <td>1579292017</td>\n",
       "      <td>USD</td>\n",
       "      <td>1583025192</td>\n",
       "      <td>1.0</td>\n",
       "      <td>3000.0</td>\n",
       "      <td>1568973024</td>\n",
       "      <td>...</td>\n",
       "      <td>4618.0</td>\n",
       "      <td>True</td>\n",
       "      <td>successful</td>\n",
       "      <td>1583025192</td>\n",
       "      <td>4618.0</td>\n",
       "      <td>254</td>\n",
       "      <td>Performances</td>\n",
       "      <td>6.0</td>\n",
       "      <td>Dance</td>\n",
       "      <td>3914215</td>\n",
       "    </tr>\n",
       "    <tr>\n",
       "      <th>1</th>\n",
       "      <td>52</td>\n",
       "      <td>JinBucha is a new kind of Brewery in North Par...</td>\n",
       "      <td>3461</td>\n",
       "      <td>US</td>\n",
       "      <td>1446051515</td>\n",
       "      <td>USD</td>\n",
       "      <td>1450118057</td>\n",
       "      <td>1.0</td>\n",
       "      <td>20000.0</td>\n",
       "      <td>1782378629</td>\n",
       "      <td>...</td>\n",
       "      <td>3461.0</td>\n",
       "      <td>False</td>\n",
       "      <td>failed</td>\n",
       "      <td>1450118057</td>\n",
       "      <td>3461.0</td>\n",
       "      <td>307</td>\n",
       "      <td>Drinks</td>\n",
       "      <td>10.0</td>\n",
       "      <td>Food</td>\n",
       "      <td>2198010</td>\n",
       "    </tr>\n",
       "    <tr>\n",
       "      <th>2</th>\n",
       "      <td>0</td>\n",
       "      <td>\"Taste The Scent of Tea\" Rose and Blanc Tea Ro...</td>\n",
       "      <td>0</td>\n",
       "      <td>US</td>\n",
       "      <td>1518159717</td>\n",
       "      <td>USD</td>\n",
       "      <td>1520233260</td>\n",
       "      <td>1.0</td>\n",
       "      <td>15000.0</td>\n",
       "      <td>2076142479</td>\n",
       "      <td>...</td>\n",
       "      <td>0.0</td>\n",
       "      <td>False</td>\n",
       "      <td>failed</td>\n",
       "      <td>1520233260</td>\n",
       "      <td>0.0</td>\n",
       "      <td>307</td>\n",
       "      <td>Drinks</td>\n",
       "      <td>10.0</td>\n",
       "      <td>Food</td>\n",
       "      <td>3304826</td>\n",
       "    </tr>\n",
       "    <tr>\n",
       "      <th>3</th>\n",
       "      <td>2</td>\n",
       "      <td>Bringing Philly cheesesteaks (and other delici...</td>\n",
       "      <td>25</td>\n",
       "      <td>US</td>\n",
       "      <td>1454217596</td>\n",
       "      <td>USD</td>\n",
       "      <td>1459885844</td>\n",
       "      <td>1.0</td>\n",
       "      <td>2000.0</td>\n",
       "      <td>1416797221</td>\n",
       "      <td>...</td>\n",
       "      <td>25.0</td>\n",
       "      <td>False</td>\n",
       "      <td>failed</td>\n",
       "      <td>1459885844</td>\n",
       "      <td>25.0</td>\n",
       "      <td>311</td>\n",
       "      <td>Food Trucks</td>\n",
       "      <td>10.0</td>\n",
       "      <td>Food</td>\n",
       "      <td>2349147</td>\n",
       "    </tr>\n",
       "    <tr>\n",
       "      <th>4</th>\n",
       "      <td>150</td>\n",
       "      <td>a frog plushie keychain and frog butt pin for ...</td>\n",
       "      <td>3275</td>\n",
       "      <td>US</td>\n",
       "      <td>1571342290</td>\n",
       "      <td>USD</td>\n",
       "      <td>1574445600</td>\n",
       "      <td>1.0</td>\n",
       "      <td>800.0</td>\n",
       "      <td>1708708142</td>\n",
       "      <td>...</td>\n",
       "      <td>3275.0</td>\n",
       "      <td>True</td>\n",
       "      <td>successful</td>\n",
       "      <td>1574445600</td>\n",
       "      <td>3275.0</td>\n",
       "      <td>28</td>\n",
       "      <td>Product Design</td>\n",
       "      <td>7.0</td>\n",
       "      <td>Design</td>\n",
       "      <td>3834865</td>\n",
       "    </tr>\n",
       "  </tbody>\n",
       "</table>\n",
       "<p>5 rows × 23 columns</p>\n",
       "</div>"
      ],
      "text/plain": [
       "   backers_count                                              blurb  \\\n",
       "0             61  Support great art! Join us as we re-stage the ...   \n",
       "1             52  JinBucha is a new kind of Brewery in North Par...   \n",
       "2              0  \"Taste The Scent of Tea\" Rose and Blanc Tea Ro...   \n",
       "3              2  Bringing Philly cheesesteaks (and other delici...   \n",
       "4            150  a frog plushie keychain and frog butt pin for ...   \n",
       "\n",
       "   converted_pledged_amount country  created_at currency    deadline  fx_rate  \\\n",
       "0                      4618      US  1579292017      USD  1583025192      1.0   \n",
       "1                      3461      US  1446051515      USD  1450118057      1.0   \n",
       "2                         0      US  1518159717      USD  1520233260      1.0   \n",
       "3                        25      US  1454217596      USD  1459885844      1.0   \n",
       "4                      3275      US  1571342290      USD  1574445600      1.0   \n",
       "\n",
       "      goal          id  ...  pledged spotlight       state  state_changed_at  \\\n",
       "0   3000.0  1568973024  ...   4618.0      True  successful        1583025192   \n",
       "1  20000.0  1782378629  ...   3461.0     False      failed        1450118057   \n",
       "2  15000.0  2076142479  ...      0.0     False      failed        1520233260   \n",
       "3   2000.0  1416797221  ...     25.0     False      failed        1459885844   \n",
       "4    800.0  1708708142  ...   3275.0      True  successful        1574445600   \n",
       "\n",
       "   usd_pledged category_id   category_name  category_parent_id  \\\n",
       "0       4618.0         254    Performances                 6.0   \n",
       "1       3461.0         307          Drinks                10.0   \n",
       "2          0.0         307          Drinks                10.0   \n",
       "3         25.0         311     Food Trucks                10.0   \n",
       "4       3275.0          28  Product Design                 7.0   \n",
       "\n",
       "   category_parent_name project_id  \n",
       "0                 Dance    3914215  \n",
       "1                  Food    2198010  \n",
       "2                  Food    3304826  \n",
       "3                  Food    2349147  \n",
       "4                Design    3834865  \n",
       "\n",
       "[5 rows x 23 columns]"
      ]
     },
     "execution_count": 6,
     "metadata": {},
     "output_type": "execute_result"
    }
   ],
   "source": [
    "#Importing the data using a relative path\n",
    "#Mac\n",
    "df = pd.read_csv('../Kickstarter_analysis/sep2020.csv', converters={'category': eval})\n",
    "df.head()\n",
    "\n",
    "#Windows\n",
    "#df = pd.read_csv('data\\\\sep2020.csv')\n",
    "#df.head()"
   ]
  },
  {
   "cell_type": "markdown",
   "metadata": {},
   "source": [
    "**Step 1:** Data Cleaning and Wrangling\n",
    "- Transforming unix time stamps to datetime"
   ]
  },
  {
   "cell_type": "code",
   "execution_count": 7,
   "metadata": {},
   "outputs": [
    {
     "data": {
      "text/html": [
       "<div>\n",
       "<style scoped>\n",
       "    .dataframe tbody tr th:only-of-type {\n",
       "        vertical-align: middle;\n",
       "    }\n",
       "\n",
       "    .dataframe tbody tr th {\n",
       "        vertical-align: top;\n",
       "    }\n",
       "\n",
       "    .dataframe thead th {\n",
       "        text-align: right;\n",
       "    }\n",
       "</style>\n",
       "<table border=\"1\" class=\"dataframe\">\n",
       "  <thead>\n",
       "    <tr style=\"text-align: right;\">\n",
       "      <th></th>\n",
       "      <th>created_at</th>\n",
       "      <th>deadline</th>\n",
       "      <th>launched_at</th>\n",
       "      <th>state_changed_at</th>\n",
       "    </tr>\n",
       "  </thead>\n",
       "  <tbody>\n",
       "    <tr>\n",
       "      <th>0</th>\n",
       "      <td>2020-01-17 20:13:37</td>\n",
       "      <td>2020-03-01 01:13:12</td>\n",
       "      <td>2020-01-31 01:13:12</td>\n",
       "      <td>2020-03-01 01:13:12</td>\n",
       "    </tr>\n",
       "    <tr>\n",
       "      <th>1</th>\n",
       "      <td>2015-10-28 16:58:35</td>\n",
       "      <td>2015-12-14 18:34:17</td>\n",
       "      <td>2015-11-14 18:34:17</td>\n",
       "      <td>2015-12-14 18:34:17</td>\n",
       "    </tr>\n",
       "    <tr>\n",
       "      <th>2</th>\n",
       "      <td>2018-02-09 07:01:57</td>\n",
       "      <td>2018-03-05 07:01:00</td>\n",
       "      <td>2018-02-09 20:41:27</td>\n",
       "      <td>2018-03-05 07:01:00</td>\n",
       "    </tr>\n",
       "    <tr>\n",
       "      <th>3</th>\n",
       "      <td>2016-01-31 05:19:56</td>\n",
       "      <td>2016-04-05 19:50:44</td>\n",
       "      <td>2016-02-05 20:50:44</td>\n",
       "      <td>2016-04-05 19:50:44</td>\n",
       "    </tr>\n",
       "    <tr>\n",
       "      <th>4</th>\n",
       "      <td>2019-10-17 19:58:10</td>\n",
       "      <td>2019-11-22 18:00:00</td>\n",
       "      <td>2019-11-08 18:00:00</td>\n",
       "      <td>2019-11-22 18:00:00</td>\n",
       "    </tr>\n",
       "    <tr>\n",
       "      <th>...</th>\n",
       "      <td>...</td>\n",
       "      <td>...</td>\n",
       "      <td>...</td>\n",
       "      <td>...</td>\n",
       "    </tr>\n",
       "    <tr>\n",
       "      <th>219683</th>\n",
       "      <td>2019-02-21 18:33:41</td>\n",
       "      <td>2019-03-29 21:00:00</td>\n",
       "      <td>2019-02-27 15:12:10</td>\n",
       "      <td>2019-03-29 21:00:02</td>\n",
       "    </tr>\n",
       "    <tr>\n",
       "      <th>219684</th>\n",
       "      <td>2013-03-05 20:13:03</td>\n",
       "      <td>2013-08-10 07:45:40</td>\n",
       "      <td>2013-07-05 07:45:40</td>\n",
       "      <td>2013-08-10 07:45:40</td>\n",
       "    </tr>\n",
       "    <tr>\n",
       "      <th>219685</th>\n",
       "      <td>2016-06-21 00:35:01</td>\n",
       "      <td>2016-08-13 21:49:58</td>\n",
       "      <td>2016-07-14 21:49:58</td>\n",
       "      <td>2016-08-13 21:49:58</td>\n",
       "    </tr>\n",
       "    <tr>\n",
       "      <th>219686</th>\n",
       "      <td>2015-11-28 19:14:15</td>\n",
       "      <td>2016-01-09 19:19:33</td>\n",
       "      <td>2015-12-10 19:19:33</td>\n",
       "      <td>2016-01-09 19:19:34</td>\n",
       "    </tr>\n",
       "    <tr>\n",
       "      <th>219687</th>\n",
       "      <td>2020-01-10 21:43:54</td>\n",
       "      <td>2020-03-14 20:54:12</td>\n",
       "      <td>2020-01-14 21:54:12</td>\n",
       "      <td>2020-03-14 20:54:14</td>\n",
       "    </tr>\n",
       "  </tbody>\n",
       "</table>\n",
       "<p>219688 rows × 4 columns</p>\n",
       "</div>"
      ],
      "text/plain": [
       "                created_at            deadline         launched_at  \\\n",
       "0      2020-01-17 20:13:37 2020-03-01 01:13:12 2020-01-31 01:13:12   \n",
       "1      2015-10-28 16:58:35 2015-12-14 18:34:17 2015-11-14 18:34:17   \n",
       "2      2018-02-09 07:01:57 2018-03-05 07:01:00 2018-02-09 20:41:27   \n",
       "3      2016-01-31 05:19:56 2016-04-05 19:50:44 2016-02-05 20:50:44   \n",
       "4      2019-10-17 19:58:10 2019-11-22 18:00:00 2019-11-08 18:00:00   \n",
       "...                    ...                 ...                 ...   \n",
       "219683 2019-02-21 18:33:41 2019-03-29 21:00:00 2019-02-27 15:12:10   \n",
       "219684 2013-03-05 20:13:03 2013-08-10 07:45:40 2013-07-05 07:45:40   \n",
       "219685 2016-06-21 00:35:01 2016-08-13 21:49:58 2016-07-14 21:49:58   \n",
       "219686 2015-11-28 19:14:15 2016-01-09 19:19:33 2015-12-10 19:19:33   \n",
       "219687 2020-01-10 21:43:54 2020-03-14 20:54:12 2020-01-14 21:54:12   \n",
       "\n",
       "          state_changed_at  \n",
       "0      2020-03-01 01:13:12  \n",
       "1      2015-12-14 18:34:17  \n",
       "2      2018-03-05 07:01:00  \n",
       "3      2016-04-05 19:50:44  \n",
       "4      2019-11-22 18:00:00  \n",
       "...                    ...  \n",
       "219683 2019-03-29 21:00:02  \n",
       "219684 2013-08-10 07:45:40  \n",
       "219685 2016-08-13 21:49:58  \n",
       "219686 2016-01-09 19:19:34  \n",
       "219687 2020-03-14 20:54:14  \n",
       "\n",
       "[219688 rows x 4 columns]"
      ]
     },
     "execution_count": 7,
     "metadata": {},
     "output_type": "execute_result"
    }
   ],
   "source": [
    "# Dates transformed [['created_at'], ['deadline'], ['launched_at'], ['state_changed_at']]\n",
    "df[['created_at','deadline', 'launched_at', 'state_changed_at']].apply(pd.to_datetime, unit='s')"
   ]
  },
  {
   "cell_type": "markdown",
   "metadata": {},
   "source": [
    "- Remove live kickstarter campaings."
   ]
  },
  {
   "cell_type": "code",
   "execution_count": 8,
   "metadata": {},
   "outputs": [],
   "source": [
    "# Drop records of unfinished project (category live)\n",
    "df = df.loc[df['state'] != 'live']\n",
    "len(df)\n",
    "\n",
    "# Check if records are dropped\n",
    "df['state'].value_counts()\n",
    "\n",
    "#Value_counts shows there are both canceled and failed campaigns. Categorize into successfull and unsuccessful\n",
    "df['state_cat'] = np.where(df['state']=='successful', 'successful', 'unsuccessful')\n",
    "df['state_cat'].value_counts()\n",
    "\n",
    "#Create one data set with only successful campaigns\n",
    "df = df.loc[df['state'] == 'successful']\n",
    "\n",
    "#Keep dataset with all categories\n",
    "#df_all = \n"
   ]
  },
  {
   "cell_type": "markdown",
   "metadata": {},
   "source": [
    "- Drop duplicated projects"
   ]
  },
  {
   "cell_type": "code",
   "execution_count": 9,
   "metadata": {
    "scrolled": true
   },
   "outputs": [
    {
     "name": "stdout",
     "output_type": "stream",
     "text": [
      "number of records:  128156\n",
      "number of records after dropping duplicated project ids:  104210\n"
     ]
    }
   ],
   "source": [
    "# Print number of records\n",
    "print('number of records: ', len(df))\n",
    "\n",
    "# sort by highest pledged and drop duplicated project ids\n",
    "df = df.sort_values(by='usd_pledged',ascending=False).drop_duplicates(subset='project_id', keep='first')\n",
    "\n",
    "# check number of records\n",
    "print('number of records after dropping duplicated project ids: ', len(df))"
   ]
  },
  {
   "cell_type": "markdown",
   "metadata": {},
   "source": [
    "- Classify cancelled and unsuccesful as both \"unsuccesful\"  \n",
    "Since we are looking to launch a succesful campaign for our start-up, \n",
    "we categorize the data in two categories: \"Succesful\" and \"Failed\" (compromising canceled and failed campaings)."
   ]
  },
  {
   "cell_type": "code",
   "execution_count": null,
   "metadata": {},
   "outputs": [],
   "source": []
  },
  {
   "cell_type": "markdown",
   "metadata": {},
   "source": [
    "- Create variable 'average_pledge' per backer"
   ]
  },
  {
   "cell_type": "code",
   "execution_count": 10,
   "metadata": {
    "scrolled": true
   },
   "outputs": [],
   "source": [
    "df['average_pledge'] = (df['usd_pledged']/df['backers_count'])"
   ]
  },
  {
   "cell_type": "markdown",
   "metadata": {},
   "source": [
    "- Check for missing values"
   ]
  },
  {
   "cell_type": "code",
   "execution_count": 11,
   "metadata": {},
   "outputs": [
    {
     "data": {
      "text/plain": [
       "backers_count                  0\n",
       "blurb                          0\n",
       "converted_pledged_amount       0\n",
       "country                        0\n",
       "created_at                     0\n",
       "currency                       0\n",
       "deadline                       0\n",
       "fx_rate                        0\n",
       "goal                           0\n",
       "id                             0\n",
       "launched_at                    0\n",
       "location                     157\n",
       "name                           0\n",
       "pledged                        0\n",
       "spotlight                      0\n",
       "state                          0\n",
       "state_changed_at               0\n",
       "usd_pledged                    0\n",
       "category_id                    0\n",
       "category_name                  0\n",
       "category_parent_id          7557\n",
       "category_parent_name        7557\n",
       "project_id                     0\n",
       "state_cat                      0\n",
       "average_pledge                 0\n",
       "dtype: int64"
      ]
     },
     "execution_count": 11,
     "metadata": {},
     "output_type": "execute_result"
    }
   ],
   "source": [
    "#checking for missing values\n",
    "df.isna().sum()"
   ]
  },
  {
   "cell_type": "code",
   "execution_count": 12,
   "metadata": {},
   "outputs": [],
   "source": [
    "#replacing missing parent category name with their category name\n",
    "df['category_parent_name'] = np.where(df['category_parent_name'].isnull(), df['category_name'], df['category_parent_name'])"
   ]
  },
  {
   "cell_type": "code",
   "execution_count": 13,
   "metadata": {},
   "outputs": [
    {
     "data": {
      "text/plain": [
       "backers_count               0\n",
       "blurb                       0\n",
       "converted_pledged_amount    0\n",
       "country                     0\n",
       "created_at                  0\n",
       "currency                    0\n",
       "deadline                    0\n",
       "fx_rate                     0\n",
       "goal                        0\n",
       "id                          0\n",
       "launched_at                 0\n",
       "location                    0\n",
       "name                        0\n",
       "pledged                     0\n",
       "spotlight                   0\n",
       "state                       0\n",
       "state_changed_at            0\n",
       "usd_pledged                 0\n",
       "category_id                 0\n",
       "category_name               0\n",
       "category_parent_id          0\n",
       "category_parent_name        0\n",
       "project_id                  0\n",
       "state_cat                   0\n",
       "average_pledge              0\n",
       "dtype: int64"
      ]
     },
     "execution_count": 13,
     "metadata": {},
     "output_type": "execute_result"
    }
   ],
   "source": [
    "#16009 missing values for average_pledge is explained by 16009 entries with a backers count of 0.\n",
    "df.loc[df['backers_count'] == 0].count()"
   ]
  },
  {
   "cell_type": "markdown",
   "metadata": {},
   "source": [
    "# Data Exploration"
   ]
  },
  {
   "cell_type": "code",
   "execution_count": 14,
   "metadata": {},
   "outputs": [],
   "source": [
    "import matplotlib.pyplot as plt\n",
    "import seaborn as sns\n",
    "import numpy as np"
   ]
  },
  {
   "cell_type": "raw",
   "metadata": {},
   "source": [
    "Defining the category with highest pledge amounts:"
   ]
  },
  {
   "cell_type": "code",
   "execution_count": 58,
   "metadata": {
    "scrolled": true
   },
   "outputs": [
    {
     "data": {
      "image/png": "[encoded data removed]",
      "text/plain": [
       "<Figure size 1080x720 with 1 Axes>"
      ]
     },
     "metadata": {},
     "output_type": "display_data"
    }
   ],
   "source": [
    "#Grouping the df by main category, sorted by sum of converted_pledged amount.\n",
    "top_pledged = df.loc[df['state'] == 'successful'].groupby(['category_parent_name']).sum().reset_index().sort_values(by='usd_pledged', ascending=False)\n",
    "top_backers = df.groupby(['category_parent_name']).sum().reset_index().sort_values(by='backers_count', ascending=False)\n",
    "\n",
    "#Selecting top five from top_pledged and top_backers\n",
    "top_five_pledged = top_pledged.head(5)\n",
    "top_five_backers = top_backers.head(5)\n",
    "pal_pled = sns.color_palette(\"viridis\", len(top_five_pledged))\n",
    "pal_back = sns.color_palette(\"viridis\", len(top_five_backers))\n",
    "rank_pled = top_five_pledged[\"usd_pledged\"].argsort().argsort()\n",
    "rank_back = top_five_backers[\"backers_count\"].argsort().argsort()\n",
    "\n",
    "#Plotting the top five\n",
    "plt.figure(figsize=(15, 10))\n",
    "sns.barplot(x='usd_pledged', y='category_parent_name', data=top_five_pledged, linewidth=0.7, palette=np.array(pal_pled[::+1])[rank_pled])\n",
    "plt.title('Total USD Pledged per Category', fontsize=20)\n",
    "plt.xlabel('USD Pledged', fontsize=18)\n",
    "plt.ylabel('Category Parent', fontsize=18)\n",
    "plt.xticks(fontsize=15)\n",
    "plt.yticks(fontsize=15);"
   ]
  },
  {
   "cell_type": "code",
   "execution_count": 60,
   "metadata": {},
   "outputs": [
    {
     "data": {
      "image/png": "[encoded data removed]",
      "text/plain": [
       "<Figure size 1080x720 with 1 Axes>"
      ]
     },
     "metadata": {},
     "output_type": "display_data"
    }
   ],
   "source": [
    "#Plotting the top five number of backers\n",
    "plt.figure(figsize=(15, 10))\n",
    "sns.barplot(x='backers_count',y='category_parent_name', data=top_five_backers, linewidth=0.7, palette=np.array(pal_back[::+1])[rank_back])\n",
    "plt.title('Number of Backers per Category', fontsize=20)\n",
    "plt.xlabel('Number of Backers', fontsize=18)\n",
    "plt.ylabel('Category Parent', fontsize=18)\n",
    "plt.xticks(fontsize=15)\n",
    "plt.yticks(fontsize=15);"
   ]
  },
  {
   "cell_type": "code",
   "execution_count": 16,
   "metadata": {},
   "outputs": [
    {
     "data": {
      "image/png": "[encoded data removed]",
      "text/plain": [
       "<Figure size 1080x720 with 1 Axes>"
      ]
     },
     "metadata": {
      "needs_background": "light"
     },
     "output_type": "display_data"
    }
   ],
   "source": [
    "plt.figure(figsize=(15, 10))\n",
    "sns.boxplot(x='category_parent_name', y='converted_pledged_amount', hue='state', data=df, orient='v', showfliers=False);\n",
    "plt.title('Converted Pledged Amount per Category Parent', fontsize=20);\n",
    "plt.xlabel('Category Parent', fontsize=18)\n",
    "plt.ylabel('Converted Pledged Amount)', fontsize=18)\n",
    "plt.xticks(fontsize=10)\n",
    "plt.yticks(fontsize=15);\n",
    "\n",
    "#Can we use \"proportion of the population\" - om significant verschil tussen succesful (tech en de rest)\n"
   ]
  },
  {
   "cell_type": "code",
   "execution_count": 17,
   "metadata": {},
   "outputs": [
    {
     "data": {
      "text/html": [
       "<div>\n",
       "<style scoped>\n",
       "    .dataframe tbody tr th:only-of-type {\n",
       "        vertical-align: middle;\n",
       "    }\n",
       "\n",
       "    .dataframe tbody tr th {\n",
       "        vertical-align: top;\n",
       "    }\n",
       "\n",
       "    .dataframe thead th {\n",
       "        text-align: right;\n",
       "    }\n",
       "</style>\n",
       "<table border=\"1\" class=\"dataframe\">\n",
       "  <thead>\n",
       "    <tr style=\"text-align: right;\">\n",
       "      <th></th>\n",
       "      <th>backers_count</th>\n",
       "      <th>converted_pledged_amount</th>\n",
       "      <th>created_at</th>\n",
       "      <th>deadline</th>\n",
       "      <th>fx_rate</th>\n",
       "      <th>goal</th>\n",
       "      <th>id</th>\n",
       "      <th>launched_at</th>\n",
       "      <th>pledged</th>\n",
       "      <th>spotlight</th>\n",
       "      <th>state_changed_at</th>\n",
       "      <th>usd_pledged</th>\n",
       "      <th>category_id</th>\n",
       "      <th>category_parent_id</th>\n",
       "      <th>project_id</th>\n",
       "      <th>average_pledge</th>\n",
       "    </tr>\n",
       "    <tr>\n",
       "      <th>category_name</th>\n",
       "      <th></th>\n",
       "      <th></th>\n",
       "      <th></th>\n",
       "      <th></th>\n",
       "      <th></th>\n",
       "      <th></th>\n",
       "      <th></th>\n",
       "      <th></th>\n",
       "      <th></th>\n",
       "      <th></th>\n",
       "      <th></th>\n",
       "      <th></th>\n",
       "      <th></th>\n",
       "      <th></th>\n",
       "      <th></th>\n",
       "      <th></th>\n",
       "    </tr>\n",
       "  </thead>\n",
       "  <tbody>\n",
       "    <tr>\n",
       "      <th>Product Design</th>\n",
       "      <td>1836490</td>\n",
       "      <td>195658359</td>\n",
       "      <td>3288888432554</td>\n",
       "      <td>3309783880291</td>\n",
       "      <td>1941.333076</td>\n",
       "      <td>5.246923e+07</td>\n",
       "      <td>2248122705553</td>\n",
       "      <td>3303751295987</td>\n",
       "      <td>4.803735e+08</td>\n",
       "      <td>2094</td>\n",
       "      <td>3309783894289</td>\n",
       "      <td>1.949631e+08</td>\n",
       "      <td>58632</td>\n",
       "      <td>14658.0</td>\n",
       "      <td>8011439673</td>\n",
       "      <td>308564.676186</td>\n",
       "    </tr>\n",
       "    <tr>\n",
       "      <th>Hardware</th>\n",
       "      <td>1266524</td>\n",
       "      <td>193251148</td>\n",
       "      <td>2140515829638</td>\n",
       "      <td>2154842727592</td>\n",
       "      <td>1474.768212</td>\n",
       "      <td>6.349782e+07</td>\n",
       "      <td>1561727168670</td>\n",
       "      <td>2150333941228</td>\n",
       "      <td>2.459568e+08</td>\n",
       "      <td>1493</td>\n",
       "      <td>2154842740288</td>\n",
       "      <td>1.932391e+08</td>\n",
       "      <td>77636</td>\n",
       "      <td>23888.0</td>\n",
       "      <td>2673902470</td>\n",
       "      <td>310642.029339</td>\n",
       "    </tr>\n",
       "    <tr>\n",
       "      <th>Tabletop Games</th>\n",
       "      <td>2061370</td>\n",
       "      <td>159820464</td>\n",
       "      <td>3279620274948</td>\n",
       "      <td>3296165718794</td>\n",
       "      <td>2108.632625</td>\n",
       "      <td>3.034394e+07</td>\n",
       "      <td>2233736784496</td>\n",
       "      <td>3291858067796</td>\n",
       "      <td>2.148260e+08</td>\n",
       "      <td>2074</td>\n",
       "      <td>3296165773964</td>\n",
       "      <td>1.595537e+08</td>\n",
       "      <td>70516</td>\n",
       "      <td>24888.0</td>\n",
       "      <td>8132985556</td>\n",
       "      <td>107572.879384</td>\n",
       "    </tr>\n",
       "    <tr>\n",
       "      <th>Gadgets</th>\n",
       "      <td>1388306</td>\n",
       "      <td>146760385</td>\n",
       "      <td>2304697510561</td>\n",
       "      <td>2318325388300</td>\n",
       "      <td>1414.620798</td>\n",
       "      <td>6.718271e+07</td>\n",
       "      <td>1638225609144</td>\n",
       "      <td>2313520348963</td>\n",
       "      <td>2.612305e+08</td>\n",
       "      <td>1541</td>\n",
       "      <td>2318328679138</td>\n",
       "      <td>1.467420e+08</td>\n",
       "      <td>519317</td>\n",
       "      <td>24656.0</td>\n",
       "      <td>4383817467</td>\n",
       "      <td>219522.230379</td>\n",
       "    </tr>\n",
       "    <tr>\n",
       "      <th>Video Games</th>\n",
       "      <td>2559287</td>\n",
       "      <td>131884705</td>\n",
       "      <td>3403568403792</td>\n",
       "      <td>3426732407664</td>\n",
       "      <td>2241.983575</td>\n",
       "      <td>2.658325e+08</td>\n",
       "      <td>2455947403317</td>\n",
       "      <td>3420434257454</td>\n",
       "      <td>1.088081e+09</td>\n",
       "      <td>2278</td>\n",
       "      <td>3426732440955</td>\n",
       "      <td>1.318331e+08</td>\n",
       "      <td>79730</td>\n",
       "      <td>27336.0</td>\n",
       "      <td>6430744358</td>\n",
       "      <td>111495.776507</td>\n",
       "    </tr>\n",
       "    <tr>\n",
       "      <th>...</th>\n",
       "      <td>...</td>\n",
       "      <td>...</td>\n",
       "      <td>...</td>\n",
       "      <td>...</td>\n",
       "      <td>...</td>\n",
       "      <td>...</td>\n",
       "      <td>...</td>\n",
       "      <td>...</td>\n",
       "      <td>...</td>\n",
       "      <td>...</td>\n",
       "      <td>...</td>\n",
       "      <td>...</td>\n",
       "      <td>...</td>\n",
       "      <td>...</td>\n",
       "      <td>...</td>\n",
       "      <td>...</td>\n",
       "    </tr>\n",
       "    <tr>\n",
       "      <th>Farmer's Markets</th>\n",
       "      <td>2475</td>\n",
       "      <td>240260</td>\n",
       "      <td>36396170813</td>\n",
       "      <td>36533849276</td>\n",
       "      <td>22.204281</td>\n",
       "      <td>2.740580e+05</td>\n",
       "      <td>26893002362</td>\n",
       "      <td>36460045707</td>\n",
       "      <td>3.560157e+05</td>\n",
       "      <td>24</td>\n",
       "      <td>36533849350</td>\n",
       "      <td>2.402092e+05</td>\n",
       "      <td>7440</td>\n",
       "      <td>240.0</td>\n",
       "      <td>77651201</td>\n",
       "      <td>2943.938611</td>\n",
       "    </tr>\n",
       "    <tr>\n",
       "      <th>Embroidery</th>\n",
       "      <td>4135</td>\n",
       "      <td>232977</td>\n",
       "      <td>65086864778</td>\n",
       "      <td>65252640436</td>\n",
       "      <td>37.725038</td>\n",
       "      <td>7.920000e+05</td>\n",
       "      <td>44351393774</td>\n",
       "      <td>65142567745</td>\n",
       "      <td>1.356260e+06</td>\n",
       "      <td>43</td>\n",
       "      <td>65252640477</td>\n",
       "      <td>2.331293e+05</td>\n",
       "      <td>14878</td>\n",
       "      <td>1118.0</td>\n",
       "      <td>132663966</td>\n",
       "      <td>2085.327088</td>\n",
       "    </tr>\n",
       "    <tr>\n",
       "      <th>Quilts</th>\n",
       "      <td>1740</td>\n",
       "      <td>173079</td>\n",
       "      <td>30058915719</td>\n",
       "      <td>30245526723</td>\n",
       "      <td>20.773466</td>\n",
       "      <td>1.289510e+05</td>\n",
       "      <td>20304790997</td>\n",
       "      <td>30194578046</td>\n",
       "      <td>1.782610e+05</td>\n",
       "      <td>21</td>\n",
       "      <td>30245526826</td>\n",
       "      <td>1.735189e+05</td>\n",
       "      <td>7392</td>\n",
       "      <td>546.0</td>\n",
       "      <td>37941940</td>\n",
       "      <td>1733.148783</td>\n",
       "    </tr>\n",
       "    <tr>\n",
       "      <th>Crochet</th>\n",
       "      <td>1316</td>\n",
       "      <td>49080</td>\n",
       "      <td>70418620028</td>\n",
       "      <td>70611633668</td>\n",
       "      <td>43.507944</td>\n",
       "      <td>3.428500e+04</td>\n",
       "      <td>48274878426</td>\n",
       "      <td>70497000382</td>\n",
       "      <td>5.084092e+04</td>\n",
       "      <td>48</td>\n",
       "      <td>70611633803</td>\n",
       "      <td>4.908773e+04</td>\n",
       "      <td>16512</td>\n",
       "      <td>1248.0</td>\n",
       "      <td>114588441</td>\n",
       "      <td>1685.191496</td>\n",
       "    </tr>\n",
       "    <tr>\n",
       "      <th>Taxidermy</th>\n",
       "      <td>416</td>\n",
       "      <td>34231</td>\n",
       "      <td>7083415047</td>\n",
       "      <td>7111333707</td>\n",
       "      <td>5.290304</td>\n",
       "      <td>1.780000e+04</td>\n",
       "      <td>4348851601</td>\n",
       "      <td>7096932338</td>\n",
       "      <td>2.786280e+04</td>\n",
       "      <td>5</td>\n",
       "      <td>7111333707</td>\n",
       "      <td>3.405774e+04</td>\n",
       "      <td>1770</td>\n",
       "      <td>130.0</td>\n",
       "      <td>7174410</td>\n",
       "      <td>551.328400</td>\n",
       "    </tr>\n",
       "  </tbody>\n",
       "</table>\n",
       "<p>161 rows × 16 columns</p>\n",
       "</div>"
      ],
      "text/plain": [
       "                  backers_count  converted_pledged_amount     created_at  \\\n",
       "category_name                                                              \n",
       "Product Design          1836490                 195658359  3288888432554   \n",
       "Hardware                1266524                 193251148  2140515829638   \n",
       "Tabletop Games          2061370                 159820464  3279620274948   \n",
       "Gadgets                 1388306                 146760385  2304697510561   \n",
       "Video Games             2559287                 131884705  3403568403792   \n",
       "...                         ...                       ...            ...   \n",
       "Farmer's Markets           2475                    240260    36396170813   \n",
       "Embroidery                 4135                    232977    65086864778   \n",
       "Quilts                     1740                    173079    30058915719   \n",
       "Crochet                    1316                     49080    70418620028   \n",
       "Taxidermy                   416                     34231     7083415047   \n",
       "\n",
       "                       deadline      fx_rate          goal             id  \\\n",
       "category_name                                                               \n",
       "Product Design    3309783880291  1941.333076  5.246923e+07  2248122705553   \n",
       "Hardware          2154842727592  1474.768212  6.349782e+07  1561727168670   \n",
       "Tabletop Games    3296165718794  2108.632625  3.034394e+07  2233736784496   \n",
       "Gadgets           2318325388300  1414.620798  6.718271e+07  1638225609144   \n",
       "Video Games       3426732407664  2241.983575  2.658325e+08  2455947403317   \n",
       "...                         ...          ...           ...            ...   \n",
       "Farmer's Markets    36533849276    22.204281  2.740580e+05    26893002362   \n",
       "Embroidery          65252640436    37.725038  7.920000e+05    44351393774   \n",
       "Quilts              30245526723    20.773466  1.289510e+05    20304790997   \n",
       "Crochet             70611633668    43.507944  3.428500e+04    48274878426   \n",
       "Taxidermy            7111333707     5.290304  1.780000e+04     4348851601   \n",
       "\n",
       "                    launched_at       pledged  spotlight  state_changed_at  \\\n",
       "category_name                                                                \n",
       "Product Design    3303751295987  4.803735e+08       2094     3309783894289   \n",
       "Hardware          2150333941228  2.459568e+08       1493     2154842740288   \n",
       "Tabletop Games    3291858067796  2.148260e+08       2074     3296165773964   \n",
       "Gadgets           2313520348963  2.612305e+08       1541     2318328679138   \n",
       "Video Games       3420434257454  1.088081e+09       2278     3426732440955   \n",
       "...                         ...           ...        ...               ...   \n",
       "Farmer's Markets    36460045707  3.560157e+05         24       36533849350   \n",
       "Embroidery          65142567745  1.356260e+06         43       65252640477   \n",
       "Quilts              30194578046  1.782610e+05         21       30245526826   \n",
       "Crochet             70497000382  5.084092e+04         48       70611633803   \n",
       "Taxidermy            7096932338  2.786280e+04          5        7111333707   \n",
       "\n",
       "                   usd_pledged  category_id  category_parent_id  project_id  \\\n",
       "category_name                                                                 \n",
       "Product Design    1.949631e+08        58632             14658.0  8011439673   \n",
       "Hardware          1.932391e+08        77636             23888.0  2673902470   \n",
       "Tabletop Games    1.595537e+08        70516             24888.0  8132985556   \n",
       "Gadgets           1.467420e+08       519317             24656.0  4383817467   \n",
       "Video Games       1.318331e+08        79730             27336.0  6430744358   \n",
       "...                        ...          ...                 ...         ...   \n",
       "Farmer's Markets  2.402092e+05         7440               240.0    77651201   \n",
       "Embroidery        2.331293e+05        14878              1118.0   132663966   \n",
       "Quilts            1.735189e+05         7392               546.0    37941940   \n",
       "Crochet           4.908773e+04        16512              1248.0   114588441   \n",
       "Taxidermy         3.405774e+04         1770               130.0     7174410   \n",
       "\n",
       "                  average_pledge  \n",
       "category_name                     \n",
       "Product Design     308564.676186  \n",
       "Hardware           310642.029339  \n",
       "Tabletop Games     107572.879384  \n",
       "Gadgets            219522.230379  \n",
       "Video Games        111495.776507  \n",
       "...                          ...  \n",
       "Farmer's Markets     2943.938611  \n",
       "Embroidery           2085.327088  \n",
       "Quilts               1733.148783  \n",
       "Crochet              1685.191496  \n",
       "Taxidermy             551.328400  \n",
       "\n",
       "[161 rows x 16 columns]"
      ]
     },
     "execution_count": 17,
     "metadata": {},
     "output_type": "execute_result"
    }
   ],
   "source": [
    "df.groupby(['category_name']).sum().sort_values(by='converted_pledged_amount', ascending=False)"
   ]
  },
  {
   "cell_type": "code",
   "execution_count": null,
   "metadata": {},
   "outputs": [],
   "source": [
    "#corr\n",
    "corr = df['converted_pledged_amount'].corr(df['backers_count'])\n",
    "#set figure size\n",
    "plt.figure(figsize=(15, 10))\n",
    "#plot the data\n",
    "sns.regplot(data=df,x=df['converted_pledged_amount'],y=df['backers_count'], ci=None)\n",
    "#format the plot\n",
    "text = 'r=%s' % (corr)\n",
    "plt.text(1, 19, text, fontsize=14)\n",
    "plt.title('', fontsize=20);\n",
    "plt.xlabel('', fontsize=18)\n",
    "plt.ylabel('', fontsize=18)\n",
    "plt.xticks(fontsize=18)\n",
    "plt.yticks(fontsize=18);"
   ]
  },
  {
   "cell_type": "markdown",
   "metadata": {},
   "source": [
    "# Statistical Analysis"
   ]
  },
  {
   "cell_type": "code",
   "execution_count": null,
   "metadata": {},
   "outputs": [],
   "source": [
    "#Confidence Intervals:\n",
    "# To define between pledge amount x and x we should ask\n",
    "# To define between number of backers x and x we should aim for\n",
    "\n",
    "# One-sample\n",
    "# 1 category opposed to population mean\n",
    "\n",
    "# Two-sample\n",
    "#2 categories (tech vs. food) and Netherlands/Europe vs. US"
   ]
  },
  {
   "cell_type": "markdown",
   "metadata": {},
   "source": [
    "**Categories** (Assumption that Technology startups have highest funding due to popularity/size of investments) \n",
    "\n",
    "https://producthype.co/kickstarter-tips-2019/ \n",
    "\n",
    "        - Succesful campaigns\n",
    "        -> ratio succesful/unsuccesful/live definieren\n",
    "        -> one-sample 1 tegenover het totaal\n",
    "        -> two sample 1 tegenover de rest, of Tech vs Design \n",
    "        \n",
    "*   H0: $\\mu_{1} = \\mu_{2}$, There is no difference between total pledge for successful campaigns in the Technology category and all other categories\n",
    "*   H1: $\\mu_{1} \\neq \\mu_{2},$ There is a difference between total pledge for successful campaigns in the Technology category and all other categories\n",
    "\n",
    "For this test, we have to groups in which we can not match the rows to eachother, hence **independent samples**.\n",
    "Secondly, we assume a **normally distributed population**.\n",
    "\n",
    "(?) We cannot (or do not want to) assume Equal Variances."
   ]
  },
  {
   "cell_type": "code",
   "execution_count": 63,
   "metadata": {},
   "outputs": [
    {
     "name": "stdout",
     "output_type": "stream",
     "text": [
      "The mean usd_pledged for the Technology category is 96440.80866514707\n",
      "The mean usd_pledged for the all categories is 22242.121659483222\n",
      "We reject the null hypothesis, the mean is greater than {} 22242.121659483222\n",
      "23.198848001236776 4.105186445616533e-115\n"
     ]
    }
   ],
   "source": [
    "#One sample t-test: Technology campaigns against the total campaigns\n",
    "\n",
    "sample = df[df['category_parent_name'] == 'Technology'] \n",
    "\n",
    "# one-tailed, greater than 86000\n",
    "sample_m = np.mean(sample['usd_pledged'])\n",
    "m = np.mean(df['usd_pledged'])\n",
    "print(\"The mean usd_pledged for the Technology category is\", sample_m)\n",
    "print(\"The mean usd_pledged for the all categories is\", m)\n",
    "\n",
    "# computing the test statistics\n",
    "t, p = stats.ttest_1samp(sample['usd_pledged'], m)\n",
    "\n",
    "alpha = 0.05\n",
    "if (t > 0) & (p/2 < alpha):\n",
    "    print(\"We reject the null hypothesis, the mean is greater than {}\", format(m))\n",
    "else:\n",
    "    print(\"accept null hypothesis\")\n",
    "\n",
    "print(t, p)"
   ]
  },
  {
   "cell_type": "code",
   "execution_count": 42,
   "metadata": {},
   "outputs": [
    {
     "data": {
      "text/plain": [
       "(0, 80000)"
      ]
     },
     "execution_count": 42,
     "metadata": {},
     "output_type": "execute_result"
    },
    {
     "data": {
      "image/png": "[encoded data removed]",
      "text/plain": [
       "<Figure size 432x288 with 1 Axes>"
      ]
     },
     "metadata": {},
     "output_type": "display_data"
    }
   ],
   "source": [
    "#To Do: plot to prove normally distributed population\n",
    "plt.hist(x=df['usd_pledged'], bins=10000)\n",
    "#plt.ticklabel_format(useOffset=False)\n",
    "plt.xlim(0,80000)\n",
    "#plt.show()\n"
   ]
  },
  {
   "cell_type": "code",
   "execution_count": 19,
   "metadata": {},
   "outputs": [
    {
     "data": {
      "image/png": "[encoded data removed]",
      "text/plain": [
       "<Figure size 1080x720 with 1 Axes>"
      ]
     },
     "metadata": {},
     "output_type": "display_data"
    }
   ],
   "source": [
    "#Compute variables to test\n",
    "successful_campaigns = df.loc[df['state'] == 'successful']\n",
    "successful_campaigns_tech = successful_campaigns.loc[successful_campaigns['category_parent_name'] == 'Technology']\n",
    "successful_campaigns_other = successful_campaigns.loc[successful_campaigns['category_parent_name'] != 'Technology']\n",
    "\n",
    "#Plot to estimate differences\n",
    "sns.set_style(\"white\")\n",
    "successful_campaigns['tech_vs_other'] = np.where(successful_campaigns['category_parent_name']=='Technology', 'Technology', 'Other')\n",
    "plt.figure(figsize=(15,10))\n",
    "sns.set_style(\"white\")\n",
    "sns.boxplot(x=\"tech_vs_other\", y=\"usd_pledged\", data=successful_campaigns, order=[\"Technology\", \"Other\"], showfliers=False, color=\"lawngreen\")\n",
    "plt.title('Total pledge in USD in Technology versus Other Categories', fontsize=20)\n",
    "plt.xlabel('Category', fontsize=16)\n",
    "plt.ylabel('Total USD Pledged', fontsize=16)\n",
    "plt.xticks(fontsize=16)\n",
    "plt.xticks(rotation=30)\n",
    "plt.yticks(fontsize=16);"
   ]
  },
  {
   "cell_type": "code",
   "execution_count": null,
   "metadata": {},
   "outputs": [],
   "source": [
    "#Plot boxplots versus other five top categories according to count\n",
    "plt.figure(figsize=(15,10))\n",
    "sns.set_style(\"white\")\n",
    "ax = sns.boxplot(x=\"category_parent_name\", y=\"usd_pledged\", data=successful_campaigns, order=[\"Technology\", \"Design\", \"Games\", \"Food\", \"Fashion\"], showfliers=False, color=\"lawngreen\")\n",
    "\n",
    "#Lay-out\n",
    "plt.title('Total pledge in USD in Technology versus Other Categories', fontsize=20)\n",
    "plt.xlabel('Category', fontsize=16)\n",
    "plt.ylabel('Total USD Pledged', fontsize=16)\n",
    "plt.xticks(fontsize=16)\n",
    "plt.xticks(rotation=30)\n",
    "plt.yticks(fontsize=16);"
   ]
  },
  {
   "cell_type": "code",
   "execution_count": null,
   "metadata": {},
   "outputs": [],
   "source": [
    "df.groupby(by='category_parent_name').mean()"
   ]
  },
  {
   "cell_type": "code",
   "execution_count": 62,
   "metadata": {},
   "outputs": [
    {
     "data": {
      "text/plain": [
       "Ttest_indResult(statistic=49.897694591269115, pvalue=0.0)"
      ]
     },
     "execution_count": 62,
     "metadata": {},
     "output_type": "execute_result"
    }
   ],
   "source": [
    "from scipy.stats import ttest_ind\n",
    "\n",
    "#Two sample t-test\n",
    "\n",
    "#Decide whether equal variances are true or false\n",
    "ttest_ind(successful_campaigns_tech['usd_pledged'], successful_campaigns_other['usd_pledged'], equal_var=False)\n",
    "ttest_ind(successful_campaigns_tech['usd_pledged'], successful_campaigns_other['usd_pledged'], equal_var=True)"
   ]
  },
  {
   "cell_type": "code",
   "execution_count": null,
   "metadata": {},
   "outputs": [],
   "source": [
    "#Idea: build a loop two-sample-t-test for testing Technology against Design, Games, Food and Fashion."
   ]
  },
  {
   "cell_type": "markdown",
   "metadata": {},
   "source": [
    "# Countries"
   ]
  },
  {
   "cell_type": "markdown",
   "metadata": {},
   "source": [
    "- US vs NL (Assumption: Silicon Valley vs. the Netherlands)\n",
    "    - Usd pledged in NL hoger OF lager dan in US (1 of 2 sample T test)  \n",
    "    -> Dict \"location\" needs to be unfolded ('name', 'expanded_country')  \n",
    "    -> Test binnen alle categorien eerst, eventueel later alleen in hierboven gekozen categorie  \n",
    "Rianne"
   ]
  },
  {
   "cell_type": "code",
   "execution_count": 68,
   "metadata": {},
   "outputs": [
    {
     "name": "stdout",
     "output_type": "stream",
     "text": [
      "Number of records US:  74722\n",
      "Number of records NL:  685\n",
      "Number of records Us & NL:  75407\n"
     ]
    }
   ],
   "source": [
    "# Create two samples: one US and one NL \n",
    "df_us = df.loc[df['country']=='US']\n",
    "df_nl = df.loc[df['country']=='NL']\n",
    "df_usnl = df[((df['country'] == 'US') | (df['country'] == 'NL'))]\n",
    "print('Number of records US: ', len(df_us))\n",
    "print('Number of records NL: ', len(df_nl))\n",
    "print('Number of records Us & NL: ', len(df_usnl))"
   ]
  },
  {
   "cell_type": "code",
   "execution_count": 69,
   "metadata": {},
   "outputs": [
    {
     "data": {
      "image/png": "[encoded data removed]",
      "text/plain": [
       "<Figure size 432x288 with 1 Axes>"
      ]
     },
     "metadata": {},
     "output_type": "display_data"
    }
   ],
   "source": [
    "ax = sns.boxplot(x=\"country\", y=\"usd_pledged\", data=successful_campaigns, order=[\"NL\", \"US\"], showfliers=False, color=(\"lawngreen\"))\n",
    "plt.title('USD Pledged by Country', fontsize=20);\n",
    "plt.xlabel('Country', fontsize=18)\n",
    "plt.ylabel('Total USD Pledged', fontsize=16)\n",
    "plt.xticks(fontsize=18)\n",
    "plt.xticks(rotation=30)\n",
    "plt.yticks(fontsize=16);"
   ]
  },
  {
   "cell_type": "markdown",
   "metadata": {},
   "source": [
    "*   H0: $\\mu_{1} = \\mu_{2}$, There is no difference between total pledge for all campaigns in the Netherlands versus the US\n",
    "*   H1: $\\mu_{1} \\neq \\mu_{2},$ There is a difference between total pledge for all campaigns in the Netherlands versus the US"
   ]
  },
  {
   "cell_type": "code",
   "execution_count": 74,
   "metadata": {},
   "outputs": [
    {
     "data": {
      "text/plain": [
       "Ttest_indResult(statistic=-0.9849655226745854, pvalue=0.32464416685183883)"
      ]
     },
     "execution_count": 74,
     "metadata": {},
     "output_type": "execute_result"
    }
   ],
   "source": [
    "ttest_ind(df_us['usd_pledged'], df_nl['usd_pledged'], equal_var=False)\n",
    "ttest_ind(df_us['usd_pledged'], df_nl['usd_pledged'], equal_var=True)"
   ]
  },
  {
   "cell_type": "markdown",
   "metadata": {},
   "source": [
    "# Number of backers"
   ]
  },
  {
   "cell_type": "code",
   "execution_count": 65,
   "metadata": {},
   "outputs": [
    {
     "name": "stdout",
     "output_type": "stream",
     "text": [
      "The average pledge per backer for the Technology category is 189.28181799028096\n",
      "The average pledge per backer for the all categories is 90.6368460535567\n",
      "We reject the null hypothesis, the mean is greater than {} 90.6368460535567\n",
      "30.6132325932578 2.96450791507367e-194\n"
     ]
    }
   ],
   "source": [
    "#One sample t-test\n",
    "#Proportion of campaigns that fail is higher in the Netherlands (see file Rianne)\n",
    "# High backer average in succesful campaigns as opposed to population\n",
    "\n",
    "#One sample t-test: Technology campaigns against the total campaigns\n",
    "\n",
    "sample = df[df['category_parent_name'] == 'Technology'] \n",
    "\n",
    "# one-tailed, greater than 86000\n",
    "sample_m = np.mean(sample['average_pledge'])\n",
    "m = np.mean(df['average_pledge'])\n",
    "print(\"The average pledge per backer for the Technology category is\", sample_m)\n",
    "print(\"The average pledge per backer for the all categories is\", m)\n",
    "\n",
    "# computing the test statistics\n",
    "t, p = stats.ttest_1samp(sample['average_pledge'], m)\n",
    "\n",
    "alpha = 0.05\n",
    "if (t > 0) & (p/2 < alpha):\n",
    "    print(\"We reject the null hypothesis, the mean is greater than {}\", format(m))\n",
    "else:\n",
    "    print(\"accept null hypothesis\")\n",
    "\n",
    "print(t,p)\n",
    "\n",
    "#Average pledge per backer in US vs NL ?"
   ]
  },
  {
   "cell_type": "code",
   "execution_count": 67,
   "metadata": {},
   "outputs": [
    {
     "data": {
      "image/png": "[encoded data removed]",
      "text/plain": [
       "<Figure size 720x504 with 1 Axes>"
      ]
     },
     "metadata": {},
     "output_type": "display_data"
    }
   ],
   "source": [
    "#Plot to estimate differences\n",
    "sns.set_style(\"white\")\n",
    "successful_campaigns['tech_vs_other'] = np.where(successful_campaigns['category_parent_name']=='Technology', 'Technology', 'Other')\n",
    "plt.figure(figsize=(10,7))\n",
    "sns.set_style(\"white\")\n",
    "sns.boxplot(x=\"tech_vs_other\", y=\"average_pledge\", data=successful_campaigns, order=[\"Technology\", \"Other\"], showfliers=False, color=\"lawngreen\")\n",
    "plt.title('Average pledge in USD in Technology versus Other Categories', fontsize=20)\n",
    "plt.xlabel('Category', fontsize=16)\n",
    "plt.ylabel('Average pledge in USD', fontsize=16)\n",
    "plt.xticks(fontsize=16)\n",
    "plt.xticks(rotation=30)\n",
    "plt.yticks(fontsize=16);"
   ]
  },
  {
   "cell_type": "markdown",
   "metadata": {},
   "source": [
    "- Number of backers (Assumption: popularity of campaign defines popularity of startup)\n",
    "    - Ga je voor weinig backers met veel of veel backers met weinig -> verschil in succesful  \n",
    "        -> Define average pledge per backer (see to do)  \n",
    "        -> Succesful versus unsuccesful (2-sample: avg. per backer succesful versus avg. per backer unsuccesful)  \n",
    "            We verwachten dat dit verschilt - gemiddelde bij succesvol hoger\n",
    "Rianne  \n",
    "            \n",
    "- Zoja/Zonee -> define confidence intervals voor backers voor ons \"start-up\" plan (binnen onze categorie?)  \n",
    "\n",
    "Elske"
   ]
  },
  {
   "cell_type": "code",
   "execution_count": null,
   "metadata": {},
   "outputs": [],
   "source": [
    "# Sample represents the numbers of backers for succesful campaigns within the \"Tech\" category\n",
    "succesful_campaigns = df.loc[df['state'] == 'successful']\n",
    "succesful_campaigns_tech = succesful_campaigns.loc[succesful_campaigns['category_parent_name'] == 'Technology']\n",
    "sample = succesful_campaigns_tech['backers_count']\n",
    "\n",
    "#Compute degrees of freedom\n",
    "df = len(sample) -1 \n",
    "\n",
    "#Compute t-statistic, mean and standard error\n",
    "t = stats.t.interval(0.95,df)[1]\n",
    "x  = np.mean(sample)\n",
    "se = np.std(sample) / np.sqrt(len(sample))\n",
    "\n",
    "#Define confidence intervals\n",
    "con_int = [round(num,3) for num in [x - (t * se) , x + (t * se)]]\n",
    "print('With 95 % confidence, the average number of backers for a succesful campaign in Technology:', round(con_int[0]), \"and\", round(con_int[1]))"
   ]
  },
  {
   "cell_type": "markdown",
   "metadata": {},
   "source": [
    "Bonus:\n",
    "In specific categories: Pledge amount asked - Pledged (goal - converted)  \n",
    "COVID impact 2020 versus 2018/2019 (less pledges than previous years - and in which categories?)  \n",
    "Other differences in years   \n",
    "    "
   ]
  },
  {
   "cell_type": "code",
   "execution_count": null,
   "metadata": {},
   "outputs": [],
   "source": []
  },
  {
   "cell_type": "code",
   "execution_count": null,
   "metadata": {},
   "outputs": [],
   "source": []
  }
 ],
 "metadata": {
  "kernelspec": {
   "display_name": "Python 3",
   "language": "python",
   "name": "python3"
  },
  "language_info": {
   "codemirror_mode": {
    "name": "ipython",
    "version": 3
   },
   "file_extension": ".py",
   "mimetype": "text/x-python",
   "name": "python",
   "nbconvert_exporter": "python",
   "pygments_lexer": "ipython3",
   "version": "3.7.4"
  }
 },
 "nbformat": 4,
 "nbformat_minor": 2
}
