{
 "cells": [
  {
   "cell_type": "markdown",
   "metadata": {},
   "source": [
    "# Analysis Rianne"
   ]
  },
  {
   "cell_type": "code",
   "execution_count": 23,
   "metadata": {},
   "outputs": [],
   "source": [
    "import pandas as pd\n",
    "import numpy as np"
   ]
  },
  {
   "cell_type": "code",
   "execution_count": 24,
   "metadata": {},
   "outputs": [],
   "source": [
    "df = pd.read_csv('data\\\\sep2020.csv')"
   ]
  },
  {
   "cell_type": "code",
   "execution_count": 25,
   "metadata": {},
   "outputs": [
    {
     "data": {
      "text/plain": [
       "Index(['backers_count', 'blurb', 'country', 'created_at', 'deadline', 'goal',\n",
       "       'id', 'launched_at', 'name', 'pledged', 'spotlight', 'state',\n",
       "       'state_changed_at', 'usd_pledged', 'category_id', 'category_name',\n",
       "       'category_parent_id', 'category_parent_name', 'project_id'],\n",
       "      dtype='object')"
      ]
     },
     "execution_count": 25,
     "metadata": {},
     "output_type": "execute_result"
    }
   ],
   "source": [
    "#Check if columns are dropped (currency, fx_rate, converted_usd_pledged)\n",
    "df.columns"
   ]
  },
  {
   "cell_type": "code",
   "execution_count": 26,
   "metadata": {},
   "outputs": [
    {
     "data": {
      "text/plain": [
       "successful    128156\n",
       "failed         76137\n",
       "canceled        9138\n",
       "live            6257\n",
       "Name: state, dtype: int64"
      ]
     },
     "execution_count": 26,
     "metadata": {},
     "output_type": "execute_result"
    }
   ],
   "source": [
    "# Check different 'state' categories\n",
    "df['state'].value_counts()"
   ]
  },
  {
   "cell_type": "code",
   "execution_count": 27,
   "metadata": {},
   "outputs": [
    {
     "data": {
      "text/plain": [
       "successful    128156\n",
       "failed         76137\n",
       "canceled        9138\n",
       "Name: state, dtype: int64"
      ]
     },
     "execution_count": 27,
     "metadata": {},
     "output_type": "execute_result"
    }
   ],
   "source": [
    "# Drop records that are still live\n",
    "df = df.loc[df['state'] != 'live']\n",
    "\n",
    "# Check if records are dropped\n",
    "df['state'].value_counts()"
   ]
  },
  {
   "cell_type": "code",
   "execution_count": 28,
   "metadata": {},
   "outputs": [
    {
     "name": "stdout",
     "output_type": "stream",
     "text": [
      "number of records:  213431\n",
      "number of records after dropping duplicated project ids:  188605\n"
     ]
    }
   ],
   "source": [
    "# Print number of records\n",
    "print('number of records: ', len(df))\n",
    "\n",
    "# sort by highest pledged and drop duplicated project ids\n",
    "df = df.sort_values(by='usd_pledged',ascending=False).drop_duplicates(subset='project_id', keep='first')\n",
    "\n",
    "# check number of records\n",
    "print('number of records after dropping duplicated project ids: ', len(df))"
   ]
  }
 ],
 "metadata": {
  "kernelspec": {
   "display_name": "Python 3",
   "language": "python",
   "name": "python3"
  },
  "language_info": {
   "codemirror_mode": {
    "name": "ipython",
    "version": 3
   },
   "file_extension": ".py",
   "mimetype": "text/x-python",
   "name": "python",
   "nbconvert_exporter": "python",
   "pygments_lexer": "ipython3",
   "version": "3.8.3"
  }
 },
 "nbformat": 4,
 "nbformat_minor": 4
}
