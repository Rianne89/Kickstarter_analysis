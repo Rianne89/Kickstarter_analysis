{
 "cells": [
  {
   "cell_type": "markdown",
   "metadata": {},
   "source": [
    "# Kickstarter Startup Analysis"
   ]
  },
  {
   "cell_type": "raw",
   "metadata": {},
   "source": [
    "1. Which category could deliver the best success rate for our startup?\n",
    "2. Which pledge amount will lead to the highest possible funding?\n",
    "3. How could the location of the kickstarter campaign, or the sub-category, influence the success rate of our kickstarter campaign?"
   ]
  },
  {
   "cell_type": "code",
   "execution_count": 147,
   "metadata": {},
   "outputs": [],
   "source": [
    "import pandas as pd\n",
    "import json\n",
    "from datetime import datetime"
   ]
  },
  {
   "cell_type": "code",
   "execution_count": 148,
   "metadata": {},
   "outputs": [],
   "source": [
    "df = pd.read_csv('/Users/elskedenbode/Desktop/Kickstarter_analysis/sep2020.csv', converters={'category': eval})"
   ]
  },
  {
   "cell_type": "code",
   "execution_count": 149,
   "metadata": {},
   "outputs": [],
   "source": [
    "# Transform JSON string in column 'category' to new columns in the dataframe\n",
    "df_cat = pd.json_normalize(df['category'])\n",
    "columns = 'category_' + df_cat.columns\n",
    "df[columns] = df_cat"
   ]
  },
  {
   "cell_type": "code",
   "execution_count": 150,
   "metadata": {},
   "outputs": [],
   "source": [
    "# Transform JSON string into project_id\n",
    "df['project_id'] = df.loc[:,'profile'].str.extract(r'(\\d+)')"
   ]
  },
  {
   "cell_type": "code",
   "execution_count": 151,
   "metadata": {},
   "outputs": [
    {
     "data": {
      "text/html": [
       "<div>\n",
       "<style scoped>\n",
       "    .dataframe tbody tr th:only-of-type {\n",
       "        vertical-align: middle;\n",
       "    }\n",
       "\n",
       "    .dataframe tbody tr th {\n",
       "        vertical-align: top;\n",
       "    }\n",
       "\n",
       "    .dataframe thead th {\n",
       "        text-align: right;\n",
       "    }\n",
       "</style>\n",
       "<table border=\"1\" class=\"dataframe\">\n",
       "  <thead>\n",
       "    <tr style=\"text-align: right;\">\n",
       "      <th></th>\n",
       "      <th>created_at</th>\n",
       "      <th>deadline</th>\n",
       "      <th>launched_at</th>\n",
       "      <th>state_changed_at</th>\n",
       "    </tr>\n",
       "  </thead>\n",
       "  <tbody>\n",
       "    <tr>\n",
       "      <th>0</th>\n",
       "      <td>2015-06-08 23:11:47</td>\n",
       "      <td>2015-07-16 19:47:50</td>\n",
       "      <td>2015-06-16 19:47:50</td>\n",
       "      <td>2015-07-16 19:47:50</td>\n",
       "    </tr>\n",
       "    <tr>\n",
       "      <th>1</th>\n",
       "      <td>2018-09-29 17:51:38</td>\n",
       "      <td>2018-10-08 17:32:59</td>\n",
       "      <td>2018-10-01 17:32:59</td>\n",
       "      <td>2018-10-08 17:33:00</td>\n",
       "    </tr>\n",
       "    <tr>\n",
       "      <th>2</th>\n",
       "      <td>2015-01-02 18:41:07</td>\n",
       "      <td>2015-05-08 16:01:58</td>\n",
       "      <td>2015-03-24 16:01:58</td>\n",
       "      <td>2015-05-08 16:01:58</td>\n",
       "    </tr>\n",
       "    <tr>\n",
       "      <th>3</th>\n",
       "      <td>2015-06-06 17:25:05</td>\n",
       "      <td>2015-10-10 17:49:00</td>\n",
       "      <td>2015-09-17 18:16:54</td>\n",
       "      <td>2015-10-10 17:49:01</td>\n",
       "    </tr>\n",
       "    <tr>\n",
       "      <th>4</th>\n",
       "      <td>2016-01-10 04:01:27</td>\n",
       "      <td>2016-11-11 20:47:50</td>\n",
       "      <td>2016-10-12 19:47:50</td>\n",
       "      <td>2016-11-11 20:47:50</td>\n",
       "    </tr>\n",
       "    <tr>\n",
       "      <th>...</th>\n",
       "      <td>...</td>\n",
       "      <td>...</td>\n",
       "      <td>...</td>\n",
       "      <td>...</td>\n",
       "    </tr>\n",
       "    <tr>\n",
       "      <th>219683</th>\n",
       "      <td>2019-02-21 18:33:41</td>\n",
       "      <td>2019-03-29 21:00:00</td>\n",
       "      <td>2019-02-27 15:12:10</td>\n",
       "      <td>2019-03-29 21:00:02</td>\n",
       "    </tr>\n",
       "    <tr>\n",
       "      <th>219684</th>\n",
       "      <td>2013-03-05 20:13:03</td>\n",
       "      <td>2013-08-10 07:45:40</td>\n",
       "      <td>2013-07-05 07:45:40</td>\n",
       "      <td>2013-08-10 07:45:40</td>\n",
       "    </tr>\n",
       "    <tr>\n",
       "      <th>219685</th>\n",
       "      <td>2016-06-21 00:35:01</td>\n",
       "      <td>2016-08-13 21:49:58</td>\n",
       "      <td>2016-07-14 21:49:58</td>\n",
       "      <td>2016-08-13 21:49:58</td>\n",
       "    </tr>\n",
       "    <tr>\n",
       "      <th>219686</th>\n",
       "      <td>2015-11-28 19:14:15</td>\n",
       "      <td>2016-01-09 19:19:33</td>\n",
       "      <td>2015-12-10 19:19:33</td>\n",
       "      <td>2016-01-09 19:19:34</td>\n",
       "    </tr>\n",
       "    <tr>\n",
       "      <th>219687</th>\n",
       "      <td>2020-01-10 21:43:54</td>\n",
       "      <td>2020-03-14 20:54:12</td>\n",
       "      <td>2020-01-14 21:54:12</td>\n",
       "      <td>2020-03-14 20:54:14</td>\n",
       "    </tr>\n",
       "  </tbody>\n",
       "</table>\n",
       "<p>219688 rows × 4 columns</p>\n",
       "</div>"
      ],
      "text/plain": [
       "                created_at            deadline         launched_at  \\\n",
       "0      2015-06-08 23:11:47 2015-07-16 19:47:50 2015-06-16 19:47:50   \n",
       "1      2018-09-29 17:51:38 2018-10-08 17:32:59 2018-10-01 17:32:59   \n",
       "2      2015-01-02 18:41:07 2015-05-08 16:01:58 2015-03-24 16:01:58   \n",
       "3      2015-06-06 17:25:05 2015-10-10 17:49:00 2015-09-17 18:16:54   \n",
       "4      2016-01-10 04:01:27 2016-11-11 20:47:50 2016-10-12 19:47:50   \n",
       "...                    ...                 ...                 ...   \n",
       "219683 2019-02-21 18:33:41 2019-03-29 21:00:00 2019-02-27 15:12:10   \n",
       "219684 2013-03-05 20:13:03 2013-08-10 07:45:40 2013-07-05 07:45:40   \n",
       "219685 2016-06-21 00:35:01 2016-08-13 21:49:58 2016-07-14 21:49:58   \n",
       "219686 2015-11-28 19:14:15 2016-01-09 19:19:33 2015-12-10 19:19:33   \n",
       "219687 2020-01-10 21:43:54 2020-03-14 20:54:12 2020-01-14 21:54:12   \n",
       "\n",
       "          state_changed_at  \n",
       "0      2015-07-16 19:47:50  \n",
       "1      2018-10-08 17:33:00  \n",
       "2      2015-05-08 16:01:58  \n",
       "3      2015-10-10 17:49:01  \n",
       "4      2016-11-11 20:47:50  \n",
       "...                    ...  \n",
       "219683 2019-03-29 21:00:02  \n",
       "219684 2013-08-10 07:45:40  \n",
       "219685 2016-08-13 21:49:58  \n",
       "219686 2016-01-09 19:19:34  \n",
       "219687 2020-03-14 20:54:14  \n",
       "\n",
       "[219688 rows x 4 columns]"
      ]
     },
     "execution_count": 151,
     "metadata": {},
     "output_type": "execute_result"
    }
   ],
   "source": [
    "# Dates transformed [['created_at'], ['deadline'], ['launched_at'], ['state_changed_at']]\n",
    "df[['created_at','deadline', 'launched_at', 'state_changed_at']].apply(pd.to_datetime, unit='s')"
   ]
  },
  {
   "cell_type": "code",
   "execution_count": 153,
   "metadata": {},
   "outputs": [
    {
     "data": {
      "text/plain": [
       "Index(['backers_count', 'blurb', 'category', 'converted_pledged_amount',\n",
       "       'country', 'created_at', 'currency', 'deadline', 'fx_rate', 'goal',\n",
       "       'id', 'launched_at', 'name', 'pledged', 'profile', 'spotlight', 'state',\n",
       "       'state_changed_at', 'usd_pledged', 'category_id', 'category_name',\n",
       "       'category_slug', 'category_position', 'category_parent_id',\n",
       "       'category_parent_name', 'category_color', 'category_urls.web.discover',\n",
       "       'project_id'],\n",
       "      dtype='object')"
      ]
     },
     "execution_count": 153,
     "metadata": {},
     "output_type": "execute_result"
    }
   ],
   "source": [
    "df.columns"
   ]
  },
  {
   "cell_type": "code",
   "execution_count": null,
   "metadata": {
    "scrolled": true
   },
   "outputs": [],
   "source": []
  },
  {
   "cell_type": "code",
   "execution_count": 121,
   "metadata": {},
   "outputs": [
    {
     "data": {
      "text/plain": [
       "Index(['backers_count', 'blurb', 'category', 'converted_pledged_amount',\n",
       "       'country', 'created_at', 'currency', 'deadline', 'fx_rate', 'goal',\n",
       "       'id', 'launched_at', 'name', 'pledged', 'profile', 'spotlight', 'state',\n",
       "       'state_changed_at', 'usd_pledged', 'project_id'],\n",
       "      dtype='object')"
      ]
     },
     "execution_count": 121,
     "metadata": {},
     "output_type": "execute_result"
    }
   ],
   "source": [
    "df.columns"
   ]
  },
  {
   "cell_type": "code",
   "execution_count": 125,
   "metadata": {},
   "outputs": [
    {
     "data": {
      "text/plain": [
       "Film & Video    534\n",
       "Music           526\n",
       "Technology      480\n",
       "Fashion         394\n",
       "Art             278\n",
       "Publishing      259\n",
       "Crafts          255\n",
       "Photography     138\n",
       "Comics          137\n",
       "Theater         137\n",
       "Journalism      126\n",
       "Food            114\n",
       "Design          100\n",
       "Games            82\n",
       "Dance            10\n",
       "Name: parent_name, dtype: int64"
      ]
     },
     "execution_count": 125,
     "metadata": {},
     "output_type": "execute_result"
    }
   ],
   "source": [
    "df_cat['parent_name'].value_counts()"
   ]
  },
  {
   "cell_type": "code",
   "execution_count": 128,
   "metadata": {},
   "outputs": [],
   "source": [
    "df_food = df_cat.loc[df_cat['parent_name'] == 'Food']"
   ]
  },
  {
   "cell_type": "code",
   "execution_count": 131,
   "metadata": {},
   "outputs": [
    {
     "data": {
      "text/plain": [
       "Small Batch          47\n",
       "Farms                18\n",
       "Drinks               16\n",
       "Community Gardens    10\n",
       "Restaurants           6\n",
       "Cookbooks             5\n",
       "Vegan                 4\n",
       "Food Trucks           3\n",
       "Farmer's Markets      2\n",
       "Spaces                1\n",
       "Bacon                 1\n",
       "Events                1\n",
       "Name: name, dtype: int64"
      ]
     },
     "execution_count": 131,
     "metadata": {},
     "output_type": "execute_result"
    }
   ],
   "source": [
    "df_food['name'].value_counts()"
   ]
  },
  {
   "cell_type": "code",
   "execution_count": 133,
   "metadata": {},
   "outputs": [],
   "source": [
    "df_technology = df_cat.loc[df_cat['parent_name'] == 'Technology']"
   ]
  },
  {
   "cell_type": "code",
   "execution_count": 165,
   "metadata": {},
   "outputs": [],
   "source": [
    "#Confidence Intervals:\n",
    "# To define between pledge amount x and x we should ask\n",
    "# To define between number of backers x and x we should aim for"
   ]
  },
  {
   "cell_type": "code",
   "execution_count": 166,
   "metadata": {},
   "outputs": [],
   "source": [
    "# One-sample\n",
    "# 1 category opposed to population mean\n",
    "\n",
    "# Two-sample\n",
    "#2 categories (tech vs. food) and Netherlands/Europe vs. US"
   ]
  },
  {
   "cell_type": "markdown",
   "metadata": {},
   "source": [
    "# Data Exploration"
   ]
  },
  {
   "cell_type": "code",
   "execution_count": 202,
   "metadata": {},
   "outputs": [],
   "source": [
    "import matplotlib.pyplot as plt\n",
    "import seaborn as sns\n",
    "import numpy as np"
   ]
  },
  {
   "cell_type": "raw",
   "metadata": {},
   "source": [
    "Defining the category with highest pledge amounts:"
   ]
  },
  {
   "cell_type": "code",
   "execution_count": 211,
   "metadata": {
    "scrolled": true
   },
   "outputs": [
    {
     "data": {
      "image/png": "[encoded data removed]",
      "text/plain": [
       "<Figure size 1440x288 with 2 Axes>"
      ]
     },
     "metadata": {
      "needs_background": "light"
     },
     "output_type": "display_data"
    }
   ],
   "source": [
    "#Grouping the df by main category, sorted by sum of converted_pledged amount.\n",
    "top_pledged = df.groupby(['category_parent_name']).sum().reset_index().sort_values(by='converted_pledged_amount', ascending=False)\n",
    "top_backers = df.groupby(['category_parent_name']).sum().reset_index().sort_values(by='backers_count', ascending=False)\n",
    "#Selecting top five from top_pledged and top_backers\n",
    "top_five_pledged = top_pledged.head(5)\n",
    "top_five_backers = top_backers.head(5)\n",
    "pal_pled = sns.color_palette(\"Greens_d\", len(top_five_pledged))\n",
    "pal_back = sns.color_palette(\"Reds_d\", len(top_five_backers))\n",
    "rank_pled = top_five_pledged[\"converted_pledged_amount\"].argsort().argsort()\n",
    "rank_back = top_five_backers[\"backers_count\"].argsort().argsort()\n",
    "#Plotting the top five\n",
    "fig, axes = plt.subplots(nrows=1, ncols=2, figsize=(20, 4))\n",
    "sns.barplot(ax =axes[0], x='converted_pledged_amount',y='category_parent_name', data=top_five_pledged, linewidth=0.7, palette=np.array(pal_pled[::+1])[rank_pled])\n",
    "axes[0].set_title('Converted Amount Pledged')\n",
    "sns.barplot(ax=axes[1], x='backers_count',y='category_parent_name', data=top_five_backers, linewidth=0.7, palette=np.array(pal_back[::+1])[rank_back])\n",
    "axes[1].set_title('Number of Backers');"
   ]
  },
  {
   "cell_type": "code",
   "execution_count": 222,
   "metadata": {},
   "outputs": [
    {
     "data": {
      "image/png": "[encoded data removed]",
      "text/plain": [
       "<Figure size 1080x720 with 1 Axes>"
      ]
     },
     "metadata": {
      "needs_background": "light"
     },
     "output_type": "display_data"
    }
   ],
   "source": [
    "plt.figure(figsize=(15, 10))\n",
    "sns.boxplot(x='category_parent_name', y='converted_pledged_amount', data=df, orient='v', showfliers=False);\n",
    "plt.title('Converted Pledged Amount per Category Parent', fontsize=20);\n",
    "plt.xlabel('Category Parent', fontsize=18)\n",
    "plt.ylabel('Converted Pledged Amount)', fontsize=18)\n",
    "plt.xticks(fontsize=10)\n",
    "plt.yticks(fontsize=15);"
   ]
  },
  {
   "cell_type": "code",
   "execution_count": 198,
   "metadata": {},
   "outputs": [
    {
     "data": {
      "text/html": [
       "<div>\n",
       "<style scoped>\n",
       "    .dataframe tbody tr th:only-of-type {\n",
       "        vertical-align: middle;\n",
       "    }\n",
       "\n",
       "    .dataframe tbody tr th {\n",
       "        vertical-align: top;\n",
       "    }\n",
       "\n",
       "    .dataframe thead th {\n",
       "        text-align: right;\n",
       "    }\n",
       "</style>\n",
       "<table border=\"1\" class=\"dataframe\">\n",
       "  <thead>\n",
       "    <tr style=\"text-align: right;\">\n",
       "      <th></th>\n",
       "      <th>backers_count</th>\n",
       "      <th>converted_pledged_amount</th>\n",
       "      <th>created_at</th>\n",
       "      <th>deadline</th>\n",
       "      <th>fx_rate</th>\n",
       "      <th>goal</th>\n",
       "      <th>id</th>\n",
       "      <th>launched_at</th>\n",
       "      <th>pledged</th>\n",
       "      <th>spotlight</th>\n",
       "      <th>state_changed_at</th>\n",
       "      <th>usd_pledged</th>\n",
       "      <th>category_id</th>\n",
       "      <th>category_position</th>\n",
       "      <th>category_parent_id</th>\n",
       "      <th>category_color</th>\n",
       "    </tr>\n",
       "    <tr>\n",
       "      <th>category_name</th>\n",
       "      <th></th>\n",
       "      <th></th>\n",
       "      <th></th>\n",
       "      <th></th>\n",
       "      <th></th>\n",
       "      <th></th>\n",
       "      <th></th>\n",
       "      <th></th>\n",
       "      <th></th>\n",
       "      <th></th>\n",
       "      <th></th>\n",
       "      <th></th>\n",
       "      <th></th>\n",
       "      <th></th>\n",
       "      <th></th>\n",
       "      <th></th>\n",
       "    </tr>\n",
       "  </thead>\n",
       "  <tbody>\n",
       "    <tr>\n",
       "      <th>Product Design</th>\n",
       "      <td>3616368</td>\n",
       "      <td>387213959</td>\n",
       "      <td>6929270127803</td>\n",
       "      <td>6973858278268</td>\n",
       "      <td>4094.200406</td>\n",
       "      <td>1.206599e+08</td>\n",
       "      <td>4747209234534</td>\n",
       "      <td>6960967761594</td>\n",
       "      <td>9.511765e+08</td>\n",
       "      <td>3786</td>\n",
       "      <td>6971879930535</td>\n",
       "      <td>3.832841e+08</td>\n",
       "      <td>123200</td>\n",
       "      <td>22000</td>\n",
       "      <td>30800.0</td>\n",
       "      <td>11339464400</td>\n",
       "    </tr>\n",
       "    <tr>\n",
       "      <th>Tabletop Games</th>\n",
       "      <td>3677748</td>\n",
       "      <td>300638045</td>\n",
       "      <td>6289503077501</td>\n",
       "      <td>6324272081865</td>\n",
       "      <td>4196.839333</td>\n",
       "      <td>6.562685e+07</td>\n",
       "      <td>4306217603268</td>\n",
       "      <td>6315527200855</td>\n",
       "      <td>4.078307e+08</td>\n",
       "      <td>3318</td>\n",
       "      <td>6322553801184</td>\n",
       "      <td>2.986454e+08</td>\n",
       "      <td>135014</td>\n",
       "      <td>23826</td>\n",
       "      <td>47652.0</td>\n",
       "      <td>205010817</td>\n",
       "    </tr>\n",
       "    <tr>\n",
       "      <th>Hardware</th>\n",
       "      <td>1528940</td>\n",
       "      <td>247761112</td>\n",
       "      <td>3918531817520</td>\n",
       "      <td>3945317688997</td>\n",
       "      <td>2584.394838</td>\n",
       "      <td>1.925109e+08</td>\n",
       "      <td>2807443592831</td>\n",
       "      <td>3937076065228</td>\n",
       "      <td>3.500652e+08</td>\n",
       "      <td>1716</td>\n",
       "      <td>3945061162177</td>\n",
       "      <td>2.477693e+08</td>\n",
       "      <td>138216</td>\n",
       "      <td>21264</td>\n",
       "      <td>42528.0</td>\n",
       "      <td>17348011128</td>\n",
       "    </tr>\n",
       "    <tr>\n",
       "      <th>Gadgets</th>\n",
       "      <td>1932307</td>\n",
       "      <td>208275026</td>\n",
       "      <td>4601017258130</td>\n",
       "      <td>4629086588986</td>\n",
       "      <td>2744.817718</td>\n",
       "      <td>3.024205e+08</td>\n",
       "      <td>3211192797371</td>\n",
       "      <td>4619546982310</td>\n",
       "      <td>4.097127e+08</td>\n",
       "      <td>2105</td>\n",
       "      <td>4628679761378</td>\n",
       "      <td>2.081641e+08</td>\n",
       "      <td>1019088</td>\n",
       "      <td>21168</td>\n",
       "      <td>48384.0</td>\n",
       "      <td>19736789184</td>\n",
       "    </tr>\n",
       "    <tr>\n",
       "      <th>Video Games</th>\n",
       "      <td>2790198</td>\n",
       "      <td>145313681</td>\n",
       "      <td>4094712964327</td>\n",
       "      <td>4122105967831</td>\n",
       "      <td>2720.610867</td>\n",
       "      <td>3.629745e+08</td>\n",
       "      <td>2911982421783</td>\n",
       "      <td>4114459943015</td>\n",
       "      <td>1.633947e+09</td>\n",
       "      <td>2467</td>\n",
       "      <td>4121297103277</td>\n",
       "      <td>1.450762e+08</td>\n",
       "      <td>94955</td>\n",
       "      <td>18991</td>\n",
       "      <td>32556.0</td>\n",
       "      <td>140064051</td>\n",
       "    </tr>\n",
       "    <tr>\n",
       "      <th>...</th>\n",
       "      <td>...</td>\n",
       "      <td>...</td>\n",
       "      <td>...</td>\n",
       "      <td>...</td>\n",
       "      <td>...</td>\n",
       "      <td>...</td>\n",
       "      <td>...</td>\n",
       "      <td>...</td>\n",
       "      <td>...</td>\n",
       "      <td>...</td>\n",
       "      <td>...</td>\n",
       "      <td>...</td>\n",
       "      <td>...</td>\n",
       "      <td>...</td>\n",
       "      <td>...</td>\n",
       "      <td>...</td>\n",
       "    </tr>\n",
       "    <tr>\n",
       "      <th>Bacon</th>\n",
       "      <td>6992</td>\n",
       "      <td>431122</td>\n",
       "      <td>310794901447</td>\n",
       "      <td>312041309643</td>\n",
       "      <td>211.036936</td>\n",
       "      <td>6.293190e+06</td>\n",
       "      <td>250916548049</td>\n",
       "      <td>311407075030</td>\n",
       "      <td>3.942439e+05</td>\n",
       "      <td>41</td>\n",
       "      <td>311984197287</td>\n",
       "      <td>4.308383e+05</td>\n",
       "      <td>66272</td>\n",
       "      <td>218</td>\n",
       "      <td>2180.0</td>\n",
       "      <td>3646174260</td>\n",
       "    </tr>\n",
       "    <tr>\n",
       "      <th>Quilts</th>\n",
       "      <td>3673</td>\n",
       "      <td>358109</td>\n",
       "      <td>156168748330</td>\n",
       "      <td>156904117841</td>\n",
       "      <td>106.325822</td>\n",
       "      <td>2.243375e+06</td>\n",
       "      <td>112876223998</td>\n",
       "      <td>156610228799</td>\n",
       "      <td>5.089601e+05</td>\n",
       "      <td>35</td>\n",
       "      <td>156897934908</td>\n",
       "      <td>3.590676e+05</td>\n",
       "      <td>38016</td>\n",
       "      <td>1080</td>\n",
       "      <td>2808.0</td>\n",
       "      <td>1808446608</td>\n",
       "    </tr>\n",
       "    <tr>\n",
       "      <th>Farmer's Markets</th>\n",
       "      <td>2482</td>\n",
       "      <td>240456</td>\n",
       "      <td>41193419225</td>\n",
       "      <td>41343786107</td>\n",
       "      <td>24.960024</td>\n",
       "      <td>3.795580e+05</td>\n",
       "      <td>27684714885</td>\n",
       "      <td>41257537338</td>\n",
       "      <td>3.562550e+05</td>\n",
       "      <td>24</td>\n",
       "      <td>41331340985</td>\n",
       "      <td>2.404062e+05</td>\n",
       "      <td>8370</td>\n",
       "      <td>162</td>\n",
       "      <td>270.0</td>\n",
       "      <td>451590390</td>\n",
       "    </tr>\n",
       "    <tr>\n",
       "      <th>Crochet</th>\n",
       "      <td>2582</td>\n",
       "      <td>92931</td>\n",
       "      <td>352029346804</td>\n",
       "      <td>353031268175</td>\n",
       "      <td>226.217295</td>\n",
       "      <td>8.310950e+05</td>\n",
       "      <td>245683098992</td>\n",
       "      <td>352401640622</td>\n",
       "      <td>9.740158e+04</td>\n",
       "      <td>84</td>\n",
       "      <td>353013065025</td>\n",
       "      <td>9.296977e+04</td>\n",
       "      <td>82560</td>\n",
       "      <td>480</td>\n",
       "      <td>6240.0</td>\n",
       "      <td>4018770240</td>\n",
       "    </tr>\n",
       "    <tr>\n",
       "      <th>Taxidermy</th>\n",
       "      <td>482</td>\n",
       "      <td>42012</td>\n",
       "      <td>18582916203</td>\n",
       "      <td>18666921108</td>\n",
       "      <td>13.892920</td>\n",
       "      <td>4.956400e+04</td>\n",
       "      <td>12718794498</td>\n",
       "      <td>18632242969</td>\n",
       "      <td>3.465780e+04</td>\n",
       "      <td>7</td>\n",
       "      <td>18664221428</td>\n",
       "      <td>4.184862e+04</td>\n",
       "      <td>4602</td>\n",
       "      <td>156</td>\n",
       "      <td>338.0</td>\n",
       "      <td>217683388</td>\n",
       "    </tr>\n",
       "  </tbody>\n",
       "</table>\n",
       "<p>161 rows × 16 columns</p>\n",
       "</div>"
      ],
      "text/plain": [
       "                  backers_count  converted_pledged_amount     created_at  \\\n",
       "category_name                                                              \n",
       "Product Design          3616368                 387213959  6929270127803   \n",
       "Tabletop Games          3677748                 300638045  6289503077501   \n",
       "Hardware                1528940                 247761112  3918531817520   \n",
       "Gadgets                 1932307                 208275026  4601017258130   \n",
       "Video Games             2790198                 145313681  4094712964327   \n",
       "...                         ...                       ...            ...   \n",
       "Bacon                      6992                    431122   310794901447   \n",
       "Quilts                     3673                    358109   156168748330   \n",
       "Farmer's Markets           2482                    240456    41193419225   \n",
       "Crochet                    2582                     92931   352029346804   \n",
       "Taxidermy                   482                     42012    18582916203   \n",
       "\n",
       "                       deadline      fx_rate          goal             id  \\\n",
       "category_name                                                               \n",
       "Product Design    6973858278268  4094.200406  1.206599e+08  4747209234534   \n",
       "Tabletop Games    6324272081865  4196.839333  6.562685e+07  4306217603268   \n",
       "Hardware          3945317688997  2584.394838  1.925109e+08  2807443592831   \n",
       "Gadgets           4629086588986  2744.817718  3.024205e+08  3211192797371   \n",
       "Video Games       4122105967831  2720.610867  3.629745e+08  2911982421783   \n",
       "...                         ...          ...           ...            ...   \n",
       "Bacon              312041309643   211.036936  6.293190e+06   250916548049   \n",
       "Quilts             156904117841   106.325822  2.243375e+06   112876223998   \n",
       "Farmer's Markets    41343786107    24.960024  3.795580e+05    27684714885   \n",
       "Crochet            353031268175   226.217295  8.310950e+05   245683098992   \n",
       "Taxidermy           18666921108    13.892920  4.956400e+04    12718794498   \n",
       "\n",
       "                    launched_at       pledged  spotlight  state_changed_at  \\\n",
       "category_name                                                                \n",
       "Product Design    6960967761594  9.511765e+08       3786     6971879930535   \n",
       "Tabletop Games    6315527200855  4.078307e+08       3318     6322553801184   \n",
       "Hardware          3937076065228  3.500652e+08       1716     3945061162177   \n",
       "Gadgets           4619546982310  4.097127e+08       2105     4628679761378   \n",
       "Video Games       4114459943015  1.633947e+09       2467     4121297103277   \n",
       "...                         ...           ...        ...               ...   \n",
       "Bacon              311407075030  3.942439e+05         41      311984197287   \n",
       "Quilts             156610228799  5.089601e+05         35      156897934908   \n",
       "Farmer's Markets    41257537338  3.562550e+05         24       41331340985   \n",
       "Crochet            352401640622  9.740158e+04         84      353013065025   \n",
       "Taxidermy           18632242969  3.465780e+04          7       18664221428   \n",
       "\n",
       "                   usd_pledged  category_id  category_position  \\\n",
       "category_name                                                    \n",
       "Product Design    3.832841e+08       123200              22000   \n",
       "Tabletop Games    2.986454e+08       135014              23826   \n",
       "Hardware          2.477693e+08       138216              21264   \n",
       "Gadgets           2.081641e+08      1019088              21168   \n",
       "Video Games       1.450762e+08        94955              18991   \n",
       "...                        ...          ...                ...   \n",
       "Bacon             4.308383e+05        66272                218   \n",
       "Quilts            3.590676e+05        38016               1080   \n",
       "Farmer's Markets  2.404062e+05         8370                162   \n",
       "Crochet           9.296977e+04        82560                480   \n",
       "Taxidermy         4.184862e+04         4602                156   \n",
       "\n",
       "                  category_parent_id  category_color  \n",
       "category_name                                         \n",
       "Product Design               30800.0     11339464400  \n",
       "Tabletop Games               47652.0       205010817  \n",
       "Hardware                     42528.0     17348011128  \n",
       "Gadgets                      48384.0     19736789184  \n",
       "Video Games                  32556.0       140064051  \n",
       "...                              ...             ...  \n",
       "Bacon                         2180.0      3646174260  \n",
       "Quilts                        2808.0      1808446608  \n",
       "Farmer's Markets               270.0       451590390  \n",
       "Crochet                       6240.0      4018770240  \n",
       "Taxidermy                      338.0       217683388  \n",
       "\n",
       "[161 rows x 16 columns]"
      ]
     },
     "execution_count": 198,
     "metadata": {},
     "output_type": "execute_result"
    }
   ],
   "source": [
    "df.groupby(['category_name']).sum().sort_values(by='converted_pledged_amount', ascending=False)"
   ]
  },
  {
   "cell_type": "code",
   "execution_count": 226,
   "metadata": {},
   "outputs": [
    {
     "data": {
      "image/png": "[encoded data removed]",
      "text/plain": [
       "<Figure size 1080x720 with 1 Axes>"
      ]
     },
     "metadata": {
      "needs_background": "light"
     },
     "output_type": "display_data"
    }
   ],
   "source": [
    "#corr\n",
    "corr = df['converted_pledged_amount'].corr(df['backers_count'])\n",
    "#set figure size\n",
    "plt.figure(figsize=(15, 10))\n",
    "#plot the data\n",
    "sns.regplot(data=df,x=df['converted_pledged_amount'],y=df['backers_count'], ci=None)\n",
    "#format the plot\n",
    "text = 'r=%s' % (corr)\n",
    "plt.text(1, 19, text, fontsize=14)\n",
    "plt.title('', fontsize=20);\n",
    "plt.xlabel('', fontsize=18)\n",
    "plt.ylabel('', fontsize=18)\n",
    "plt.xticks(fontsize=18)\n",
    "plt.yticks(fontsize=18);"
   ]
  },
  {
   "cell_type": "code",
   "execution_count": null,
   "metadata": {},
   "outputs": [],
   "source": []
  },
  {
   "cell_type": "code",
   "execution_count": null,
   "metadata": {},
   "outputs": [],
   "source": []
  },
  {
   "cell_type": "code",
   "execution_count": null,
   "metadata": {},
   "outputs": [],
   "source": []
  }
 ],
 "metadata": {
  "kernelspec": {
   "display_name": "Python 3",
   "language": "python",
   "name": "python3"
  },
  "language_info": {
   "codemirror_mode": {
    "name": "ipython",
    "version": 3
   },
   "file_extension": ".py",
   "mimetype": "text/x-python",
   "name": "python",
   "nbconvert_exporter": "python",
   "pygments_lexer": "ipython3",
   "version": "3.7.4"
  }
 },
 "nbformat": 4,
 "nbformat_minor": 2
}
