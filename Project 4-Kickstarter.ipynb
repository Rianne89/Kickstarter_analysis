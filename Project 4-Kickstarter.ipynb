{
 "cells": [
  {
   "cell_type": "markdown",
   "metadata": {},
   "source": [
    "# Kickstarter Startup Analysis"
   ]
  },
  {
   "cell_type": "markdown",
   "metadata": {},
   "source": [
    "1. How should we design our Kickstarter campaign in order to make our startup funding phase as succesful as possible?\n",
    "    - **Categorie** (Assumption Tech) - Succesful campaigns\n",
    "        -> ratio succesful/unsuccesful/live definieren\n",
    "        -> one-sample 1 tegenover het totaal\n",
    "        -> two sample 1 tegenover de rest, of Tech vs Design\n",
    "    - **US vs NL** (Assumption: Silicon Valley vs. the Netherlands)\n",
    "        -> Average pledged amount in NL hoger OF lager dan in US (1 of 2 sample T test)\n",
    "    - **Number of backers** (Assumption: popularity of campaign defines popularity of startup)\n",
    "        -> Ga je voor weinig backers met veel of veel backers met weinig -> verschil in succesful (Hoeveel backers per in je goal)\n",
    "    -> Zoja/Zonee -> define confidence intervals voor backers voor ons \"start-up\" plan\n",
    "    \n",
    "    - **Pledge amount asked** - Pledged (goal - converted)\n",
    "    \n",
    "2. Which pledge amount will lead to the highest possible funding?\n",
    "\n",
    "3. How could the location of the kickstarter campaign, or the sub-category, influence the success rate of our kickstarter campaign?"
   ]
  },
  {
   "cell_type": "markdown",
   "metadata": {},
   "source": [
    "**To do**  \n",
    "~~Elske: Fix git issues  ~~  \n",
    "Rianne: #Drop duplicates (per project_id, check categorieen - 1, 2 en 3 -- zijn hetzelfde, dus sort_values by pledged amount, keepfirst)  \n",
    "Rianne: #Currency -> use usd_pledged -> convert_amount can be dropped, fx_rate also, currency also   \n",
    "Rianne: #Take out live  \n",
    "~~Elske:  #Canceled and unsuccesful -> Failed~~  \n",
    "~~Elske:  #Unfold Dict \"location\" unfold: 'name', 'expanded_country'~~  \n",
    "~~Elske:  #Create column with average pledge per backer  ~~  \n",
    "Both: Check for missing values and how to solve them + add code for hypothesis testing"
   ]
  },
  {
   "cell_type": "code",
   "execution_count": 1,
   "metadata": {},
   "outputs": [],
   "source": [
    "#Importing libraries\n",
    "import pandas as pd\n",
    "import numpy as np\n",
    "import json\n",
    "from datetime import datetime\n",
    "import scipy.stats as stats\n",
    "from scipy.stats import norm"
   ]
  },
  {
   "cell_type": "markdown",
   "metadata": {},
   "source": [
    "Download the file <a href=\"https://drive.google.com/drive/folders/1hIBnfoXrXNW2vF_ka8R8Y0mltCmBjqPZ\" target=\"_blank\">here</a>."
   ]
  },
  {
   "cell_type": "code",
   "execution_count": 2,
   "metadata": {},
   "outputs": [
    {
     "data": {
      "text/html": [
       "<div>\n",
       "<style scoped>\n",
       "    .dataframe tbody tr th:only-of-type {\n",
       "        vertical-align: middle;\n",
       "    }\n",
       "\n",
       "    .dataframe tbody tr th {\n",
       "        vertical-align: top;\n",
       "    }\n",
       "\n",
       "    .dataframe thead th {\n",
       "        text-align: right;\n",
       "    }\n",
       "</style>\n",
       "<table border=\"1\" class=\"dataframe\">\n",
       "  <thead>\n",
       "    <tr style=\"text-align: right;\">\n",
       "      <th></th>\n",
       "      <th>backers_count</th>\n",
       "      <th>blurb</th>\n",
       "      <th>converted_pledged_amount</th>\n",
       "      <th>country</th>\n",
       "      <th>created_at</th>\n",
       "      <th>currency</th>\n",
       "      <th>deadline</th>\n",
       "      <th>fx_rate</th>\n",
       "      <th>goal</th>\n",
       "      <th>id</th>\n",
       "      <th>...</th>\n",
       "      <th>pledged</th>\n",
       "      <th>spotlight</th>\n",
       "      <th>state</th>\n",
       "      <th>state_changed_at</th>\n",
       "      <th>usd_pledged</th>\n",
       "      <th>category_id</th>\n",
       "      <th>category_name</th>\n",
       "      <th>category_parent_id</th>\n",
       "      <th>category_parent_name</th>\n",
       "      <th>project_id</th>\n",
       "    </tr>\n",
       "  </thead>\n",
       "  <tbody>\n",
       "    <tr>\n",
       "      <th>0</th>\n",
       "      <td>61</td>\n",
       "      <td>Support great art! Join us as we re-stage the ...</td>\n",
       "      <td>4618</td>\n",
       "      <td>US</td>\n",
       "      <td>1579292017</td>\n",
       "      <td>USD</td>\n",
       "      <td>1583025192</td>\n",
       "      <td>1.0</td>\n",
       "      <td>3000.0</td>\n",
       "      <td>1568973024</td>\n",
       "      <td>...</td>\n",
       "      <td>4618.0</td>\n",
       "      <td>True</td>\n",
       "      <td>successful</td>\n",
       "      <td>1583025192</td>\n",
       "      <td>4618.0</td>\n",
       "      <td>254</td>\n",
       "      <td>Performances</td>\n",
       "      <td>6.0</td>\n",
       "      <td>Dance</td>\n",
       "      <td>3914215</td>\n",
       "    </tr>\n",
       "    <tr>\n",
       "      <th>1</th>\n",
       "      <td>52</td>\n",
       "      <td>JinBucha is a new kind of Brewery in North Par...</td>\n",
       "      <td>3461</td>\n",
       "      <td>US</td>\n",
       "      <td>1446051515</td>\n",
       "      <td>USD</td>\n",
       "      <td>1450118057</td>\n",
       "      <td>1.0</td>\n",
       "      <td>20000.0</td>\n",
       "      <td>1782378629</td>\n",
       "      <td>...</td>\n",
       "      <td>3461.0</td>\n",
       "      <td>False</td>\n",
       "      <td>failed</td>\n",
       "      <td>1450118057</td>\n",
       "      <td>3461.0</td>\n",
       "      <td>307</td>\n",
       "      <td>Drinks</td>\n",
       "      <td>10.0</td>\n",
       "      <td>Food</td>\n",
       "      <td>2198010</td>\n",
       "    </tr>\n",
       "    <tr>\n",
       "      <th>2</th>\n",
       "      <td>0</td>\n",
       "      <td>\"Taste The Scent of Tea\" Rose and Blanc Tea Ro...</td>\n",
       "      <td>0</td>\n",
       "      <td>US</td>\n",
       "      <td>1518159717</td>\n",
       "      <td>USD</td>\n",
       "      <td>1520233260</td>\n",
       "      <td>1.0</td>\n",
       "      <td>15000.0</td>\n",
       "      <td>2076142479</td>\n",
       "      <td>...</td>\n",
       "      <td>0.0</td>\n",
       "      <td>False</td>\n",
       "      <td>failed</td>\n",
       "      <td>1520233260</td>\n",
       "      <td>0.0</td>\n",
       "      <td>307</td>\n",
       "      <td>Drinks</td>\n",
       "      <td>10.0</td>\n",
       "      <td>Food</td>\n",
       "      <td>3304826</td>\n",
       "    </tr>\n",
       "    <tr>\n",
       "      <th>3</th>\n",
       "      <td>2</td>\n",
       "      <td>Bringing Philly cheesesteaks (and other delici...</td>\n",
       "      <td>25</td>\n",
       "      <td>US</td>\n",
       "      <td>1454217596</td>\n",
       "      <td>USD</td>\n",
       "      <td>1459885844</td>\n",
       "      <td>1.0</td>\n",
       "      <td>2000.0</td>\n",
       "      <td>1416797221</td>\n",
       "      <td>...</td>\n",
       "      <td>25.0</td>\n",
       "      <td>False</td>\n",
       "      <td>failed</td>\n",
       "      <td>1459885844</td>\n",
       "      <td>25.0</td>\n",
       "      <td>311</td>\n",
       "      <td>Food Trucks</td>\n",
       "      <td>10.0</td>\n",
       "      <td>Food</td>\n",
       "      <td>2349147</td>\n",
       "    </tr>\n",
       "    <tr>\n",
       "      <th>4</th>\n",
       "      <td>150</td>\n",
       "      <td>a frog plushie keychain and frog butt pin for ...</td>\n",
       "      <td>3275</td>\n",
       "      <td>US</td>\n",
       "      <td>1571342290</td>\n",
       "      <td>USD</td>\n",
       "      <td>1574445600</td>\n",
       "      <td>1.0</td>\n",
       "      <td>800.0</td>\n",
       "      <td>1708708142</td>\n",
       "      <td>...</td>\n",
       "      <td>3275.0</td>\n",
       "      <td>True</td>\n",
       "      <td>successful</td>\n",
       "      <td>1574445600</td>\n",
       "      <td>3275.0</td>\n",
       "      <td>28</td>\n",
       "      <td>Product Design</td>\n",
       "      <td>7.0</td>\n",
       "      <td>Design</td>\n",
       "      <td>3834865</td>\n",
       "    </tr>\n",
       "  </tbody>\n",
       "</table>\n",
       "<p>5 rows × 23 columns</p>\n",
       "</div>"
      ],
      "text/plain": [
       "   backers_count                                              blurb  \\\n",
       "0             61  Support great art! Join us as we re-stage the ...   \n",
       "1             52  JinBucha is a new kind of Brewery in North Par...   \n",
       "2              0  \"Taste The Scent of Tea\" Rose and Blanc Tea Ro...   \n",
       "3              2  Bringing Philly cheesesteaks (and other delici...   \n",
       "4            150  a frog plushie keychain and frog butt pin for ...   \n",
       "\n",
       "   converted_pledged_amount country  created_at currency    deadline  fx_rate  \\\n",
       "0                      4618      US  1579292017      USD  1583025192      1.0   \n",
       "1                      3461      US  1446051515      USD  1450118057      1.0   \n",
       "2                         0      US  1518159717      USD  1520233260      1.0   \n",
       "3                        25      US  1454217596      USD  1459885844      1.0   \n",
       "4                      3275      US  1571342290      USD  1574445600      1.0   \n",
       "\n",
       "      goal          id  ...  pledged spotlight       state  state_changed_at  \\\n",
       "0   3000.0  1568973024  ...   4618.0      True  successful        1583025192   \n",
       "1  20000.0  1782378629  ...   3461.0     False      failed        1450118057   \n",
       "2  15000.0  2076142479  ...      0.0     False      failed        1520233260   \n",
       "3   2000.0  1416797221  ...     25.0     False      failed        1459885844   \n",
       "4    800.0  1708708142  ...   3275.0      True  successful        1574445600   \n",
       "\n",
       "   usd_pledged category_id   category_name  category_parent_id  \\\n",
       "0       4618.0         254    Performances                 6.0   \n",
       "1       3461.0         307          Drinks                10.0   \n",
       "2          0.0         307          Drinks                10.0   \n",
       "3         25.0         311     Food Trucks                10.0   \n",
       "4       3275.0          28  Product Design                 7.0   \n",
       "\n",
       "   category_parent_name project_id  \n",
       "0                 Dance    3914215  \n",
       "1                  Food    2198010  \n",
       "2                  Food    3304826  \n",
       "3                  Food    2349147  \n",
       "4                Design    3834865  \n",
       "\n",
       "[5 rows x 23 columns]"
      ]
     },
     "execution_count": 2,
     "metadata": {},
     "output_type": "execute_result"
    }
   ],
   "source": [
    "#Importing the data using a relative path\n",
    "#Mac\n",
    "df = pd.read_csv('../Kickstarter_analysis/sep2020.csv', converters={'category': eval})\n",
    "df.head()\n",
    "\n",
    "#Windows\n",
    "df = pd.read_csv('data\\\\sep2020.csv')\n",
    "df.head()"
   ]
  },
  {
   "cell_type": "markdown",
   "metadata": {},
   "source": [
    "**Step 1:** Data Cleaning and Wrangling\n",
    "- Transforming unix time stamps to datetime"
   ]
  },
  {
   "cell_type": "code",
   "execution_count": 3,
   "metadata": {},
   "outputs": [
    {
     "data": {
      "text/html": [
       "<div>\n",
       "<style scoped>\n",
       "    .dataframe tbody tr th:only-of-type {\n",
       "        vertical-align: middle;\n",
       "    }\n",
       "\n",
       "    .dataframe tbody tr th {\n",
       "        vertical-align: top;\n",
       "    }\n",
       "\n",
       "    .dataframe thead th {\n",
       "        text-align: right;\n",
       "    }\n",
       "</style>\n",
       "<table border=\"1\" class=\"dataframe\">\n",
       "  <thead>\n",
       "    <tr style=\"text-align: right;\">\n",
       "      <th></th>\n",
       "      <th>created_at</th>\n",
       "      <th>deadline</th>\n",
       "      <th>launched_at</th>\n",
       "      <th>state_changed_at</th>\n",
       "    </tr>\n",
       "  </thead>\n",
       "  <tbody>\n",
       "    <tr>\n",
       "      <th>0</th>\n",
       "      <td>2020-01-17 20:13:37</td>\n",
       "      <td>2020-03-01 01:13:12</td>\n",
       "      <td>2020-01-31 01:13:12</td>\n",
       "      <td>2020-03-01 01:13:12</td>\n",
       "    </tr>\n",
       "    <tr>\n",
       "      <th>1</th>\n",
       "      <td>2015-10-28 16:58:35</td>\n",
       "      <td>2015-12-14 18:34:17</td>\n",
       "      <td>2015-11-14 18:34:17</td>\n",
       "      <td>2015-12-14 18:34:17</td>\n",
       "    </tr>\n",
       "    <tr>\n",
       "      <th>2</th>\n",
       "      <td>2018-02-09 07:01:57</td>\n",
       "      <td>2018-03-05 07:01:00</td>\n",
       "      <td>2018-02-09 20:41:27</td>\n",
       "      <td>2018-03-05 07:01:00</td>\n",
       "    </tr>\n",
       "    <tr>\n",
       "      <th>3</th>\n",
       "      <td>2016-01-31 05:19:56</td>\n",
       "      <td>2016-04-05 19:50:44</td>\n",
       "      <td>2016-02-05 20:50:44</td>\n",
       "      <td>2016-04-05 19:50:44</td>\n",
       "    </tr>\n",
       "    <tr>\n",
       "      <th>4</th>\n",
       "      <td>2019-10-17 19:58:10</td>\n",
       "      <td>2019-11-22 18:00:00</td>\n",
       "      <td>2019-11-08 18:00:00</td>\n",
       "      <td>2019-11-22 18:00:00</td>\n",
       "    </tr>\n",
       "    <tr>\n",
       "      <th>...</th>\n",
       "      <td>...</td>\n",
       "      <td>...</td>\n",
       "      <td>...</td>\n",
       "      <td>...</td>\n",
       "    </tr>\n",
       "    <tr>\n",
       "      <th>219683</th>\n",
       "      <td>2019-02-21 18:33:41</td>\n",
       "      <td>2019-03-29 21:00:00</td>\n",
       "      <td>2019-02-27 15:12:10</td>\n",
       "      <td>2019-03-29 21:00:02</td>\n",
       "    </tr>\n",
       "    <tr>\n",
       "      <th>219684</th>\n",
       "      <td>2013-03-05 20:13:03</td>\n",
       "      <td>2013-08-10 07:45:40</td>\n",
       "      <td>2013-07-05 07:45:40</td>\n",
       "      <td>2013-08-10 07:45:40</td>\n",
       "    </tr>\n",
       "    <tr>\n",
       "      <th>219685</th>\n",
       "      <td>2016-06-21 00:35:01</td>\n",
       "      <td>2016-08-13 21:49:58</td>\n",
       "      <td>2016-07-14 21:49:58</td>\n",
       "      <td>2016-08-13 21:49:58</td>\n",
       "    </tr>\n",
       "    <tr>\n",
       "      <th>219686</th>\n",
       "      <td>2015-11-28 19:14:15</td>\n",
       "      <td>2016-01-09 19:19:33</td>\n",
       "      <td>2015-12-10 19:19:33</td>\n",
       "      <td>2016-01-09 19:19:34</td>\n",
       "    </tr>\n",
       "    <tr>\n",
       "      <th>219687</th>\n",
       "      <td>2020-01-10 21:43:54</td>\n",
       "      <td>2020-03-14 20:54:12</td>\n",
       "      <td>2020-01-14 21:54:12</td>\n",
       "      <td>2020-03-14 20:54:14</td>\n",
       "    </tr>\n",
       "  </tbody>\n",
       "</table>\n",
       "<p>219688 rows × 4 columns</p>\n",
       "</div>"
      ],
      "text/plain": [
       "                created_at            deadline         launched_at  \\\n",
       "0      2020-01-17 20:13:37 2020-03-01 01:13:12 2020-01-31 01:13:12   \n",
       "1      2015-10-28 16:58:35 2015-12-14 18:34:17 2015-11-14 18:34:17   \n",
       "2      2018-02-09 07:01:57 2018-03-05 07:01:00 2018-02-09 20:41:27   \n",
       "3      2016-01-31 05:19:56 2016-04-05 19:50:44 2016-02-05 20:50:44   \n",
       "4      2019-10-17 19:58:10 2019-11-22 18:00:00 2019-11-08 18:00:00   \n",
       "...                    ...                 ...                 ...   \n",
       "219683 2019-02-21 18:33:41 2019-03-29 21:00:00 2019-02-27 15:12:10   \n",
       "219684 2013-03-05 20:13:03 2013-08-10 07:45:40 2013-07-05 07:45:40   \n",
       "219685 2016-06-21 00:35:01 2016-08-13 21:49:58 2016-07-14 21:49:58   \n",
       "219686 2015-11-28 19:14:15 2016-01-09 19:19:33 2015-12-10 19:19:33   \n",
       "219687 2020-01-10 21:43:54 2020-03-14 20:54:12 2020-01-14 21:54:12   \n",
       "\n",
       "          state_changed_at  \n",
       "0      2020-03-01 01:13:12  \n",
       "1      2015-12-14 18:34:17  \n",
       "2      2018-03-05 07:01:00  \n",
       "3      2016-04-05 19:50:44  \n",
       "4      2019-11-22 18:00:00  \n",
       "...                    ...  \n",
       "219683 2019-03-29 21:00:02  \n",
       "219684 2013-08-10 07:45:40  \n",
       "219685 2016-08-13 21:49:58  \n",
       "219686 2016-01-09 19:19:34  \n",
       "219687 2020-03-14 20:54:14  \n",
       "\n",
       "[219688 rows x 4 columns]"
      ]
     },
     "execution_count": 3,
     "metadata": {},
     "output_type": "execute_result"
    }
   ],
   "source": [
    "# Dates transformed [['created_at'], ['deadline'], ['launched_at'], ['state_changed_at']]\n",
    "df[['created_at','deadline', 'launched_at', 'state_changed_at']].apply(pd.to_datetime, unit='s')"
   ]
  },
  {
   "cell_type": "markdown",
   "metadata": {},
   "source": [
    "- Remove live kickstarter campaings."
   ]
  },
  {
   "cell_type": "code",
   "execution_count": 4,
   "metadata": {},
   "outputs": [
    {
     "data": {
      "text/plain": [
       "successful    128156\n",
       "failed         76137\n",
       "canceled        9138\n",
       "Name: state, dtype: int64"
      ]
     },
     "execution_count": 4,
     "metadata": {},
     "output_type": "execute_result"
    }
   ],
   "source": [
    "# Drop records of unfinished project (category live)\n",
    "df = df.loc[df['state'] != 'live']\n",
    "len(df)\n",
    "\n",
    "# Check if records are dropped\n",
    "df['state'].value_counts()"
   ]
  },
  {
   "cell_type": "markdown",
   "metadata": {},
   "source": [
    "- Drop duplicated projects"
   ]
  },
  {
   "cell_type": "code",
   "execution_count": 5,
   "metadata": {
    "scrolled": true
   },
   "outputs": [
    {
     "name": "stdout",
     "output_type": "stream",
     "text": [
      "number of records:  213431\n",
      "number of records after dropping duplicated project ids:  188605\n"
     ]
    }
   ],
   "source": [
    "# Print number of records\n",
    "print('number of records: ', len(df))\n",
    "\n",
    "# sort by highest pledged and drop duplicated project ids\n",
    "df = df.sort_values(by='usd_pledged',ascending=False).drop_duplicates(subset='project_id', keep='first')\n",
    "\n",
    "# check number of records\n",
    "print('number of records after dropping duplicated project ids: ', len(df))"
   ]
  },
  {
   "cell_type": "markdown",
   "metadata": {},
   "source": [
    "- Classify cancelled and unsuccesful as both \"unsuccesful\"  \n",
    "Since we are looking to launch a succesful campaign for our start-up, \n",
    "we categorize the data in two categories: \"Succesful\" and \"Failed\" (compromising canceled and failed campaings)."
   ]
  },
  {
   "cell_type": "code",
   "execution_count": 6,
   "metadata": {},
   "outputs": [
    {
     "data": {
      "text/plain": [
       "successful      104210\n",
       "unsuccessful     84395\n",
       "Name: state_cat, dtype: int64"
      ]
     },
     "execution_count": 6,
     "metadata": {},
     "output_type": "execute_result"
    }
   ],
   "source": [
    "#Value_counts shows there are both canceled and failed campaigns. Categorize into successfull and unsuccessful\n",
    "df['state_cat'] = np.where(df['state']=='successful', 'successful', 'unsuccessful')\n",
    "df['state_cat'].value_counts()"
   ]
  },
  {
   "cell_type": "markdown",
   "metadata": {},
   "source": [
    "- Create variable 'average_pledge' per backer"
   ]
  },
  {
   "cell_type": "code",
   "execution_count": 7,
   "metadata": {
    "scrolled": true
   },
   "outputs": [
    {
     "data": {
      "text/plain": [
       "26699      155.897828\n",
       "155651     128.089024\n",
       "99013      135.556872\n",
       "119358    1062.651186\n",
       "201818     227.970892\n",
       "Name: average_pledge, dtype: float64"
      ]
     },
     "execution_count": 7,
     "metadata": {},
     "output_type": "execute_result"
    }
   ],
   "source": [
    "df['average_pledge'] = (df['usd_pledged']/df['backers_count'])\n",
    "df['average_pledge'].head()"
   ]
  },
  {
   "cell_type": "markdown",
   "metadata": {},
   "source": [
    "- Check for missing values"
   ]
  },
  {
   "cell_type": "code",
   "execution_count": 8,
   "metadata": {},
   "outputs": [
    {
     "data": {
      "text/plain": [
       "backers_count                   0\n",
       "blurb                           8\n",
       "converted_pledged_amount        0\n",
       "country                         0\n",
       "created_at                      0\n",
       "currency                        0\n",
       "deadline                        0\n",
       "fx_rate                         0\n",
       "goal                            0\n",
       "id                              0\n",
       "launched_at                     0\n",
       "location                      213\n",
       "name                            0\n",
       "pledged                         0\n",
       "spotlight                       0\n",
       "state                           0\n",
       "state_changed_at                0\n",
       "usd_pledged                     0\n",
       "category_id                     0\n",
       "category_name                   0\n",
       "category_parent_id           7737\n",
       "category_parent_name         7737\n",
       "project_id                      0\n",
       "state_cat                       0\n",
       "average_pledge              16009\n",
       "dtype: int64"
      ]
     },
     "execution_count": 8,
     "metadata": {},
     "output_type": "execute_result"
    }
   ],
   "source": [
    "df.isna().sum()"
   ]
  },
  {
   "cell_type": "code",
   "execution_count": null,
   "metadata": {},
   "outputs": [],
   "source": []
  },
  {
   "cell_type": "markdown",
   "metadata": {},
   "source": [
    "# Data Exploration"
   ]
  },
  {
   "cell_type": "code",
   "execution_count": 9,
   "metadata": {},
   "outputs": [],
   "source": [
    "import matplotlib.pyplot as plt\n",
    "import seaborn as sns\n",
    "import numpy as np"
   ]
  },
  {
   "cell_type": "raw",
   "metadata": {},
   "source": [
    "Defining the category with highest pledge amounts:"
   ]
  },
  {
   "cell_type": "code",
   "execution_count": 10,
   "metadata": {
    "scrolled": true
   },
   "outputs": [
    {
     "ename": "ValueError",
     "evalue": "min() arg is an empty sequence",
     "output_type": "error",
     "traceback": [
      "\u001b[0;31m---------------------------------------------------------------------------\u001b[0m",
      "\u001b[0;31mValueError\u001b[0m                                Traceback (most recent call last)",
      "\u001b[0;32m<ipython-input-10-b35107231894>\u001b[0m in \u001b[0;36m<module>\u001b[0;34m\u001b[0m\n\u001b[1;32m     11\u001b[0m \u001b[0;31m#Plotting the top five\u001b[0m\u001b[0;34m\u001b[0m\u001b[0;34m\u001b[0m\u001b[0;34m\u001b[0m\u001b[0m\n\u001b[1;32m     12\u001b[0m \u001b[0mfig\u001b[0m\u001b[0;34m,\u001b[0m \u001b[0maxes\u001b[0m \u001b[0;34m=\u001b[0m \u001b[0mplt\u001b[0m\u001b[0;34m.\u001b[0m\u001b[0msubplots\u001b[0m\u001b[0;34m(\u001b[0m\u001b[0mnrows\u001b[0m\u001b[0;34m=\u001b[0m\u001b[0;36m1\u001b[0m\u001b[0;34m,\u001b[0m \u001b[0mncols\u001b[0m\u001b[0;34m=\u001b[0m\u001b[0;36m2\u001b[0m\u001b[0;34m,\u001b[0m \u001b[0mfigsize\u001b[0m\u001b[0;34m=\u001b[0m\u001b[0;34m(\u001b[0m\u001b[0;36m20\u001b[0m\u001b[0;34m,\u001b[0m \u001b[0;36m4\u001b[0m\u001b[0;34m)\u001b[0m\u001b[0;34m)\u001b[0m\u001b[0;34m\u001b[0m\u001b[0;34m\u001b[0m\u001b[0m\n\u001b[0;32m---> 13\u001b[0;31m \u001b[0msns\u001b[0m\u001b[0;34m.\u001b[0m\u001b[0mbarplot\u001b[0m\u001b[0;34m(\u001b[0m\u001b[0max\u001b[0m \u001b[0;34m=\u001b[0m\u001b[0maxes\u001b[0m\u001b[0;34m[\u001b[0m\u001b[0;36m0\u001b[0m\u001b[0;34m]\u001b[0m\u001b[0;34m,\u001b[0m \u001b[0mx\u001b[0m\u001b[0;34m=\u001b[0m\u001b[0;34m'converted_pledged_amount'\u001b[0m\u001b[0;34m,\u001b[0m\u001b[0my\u001b[0m\u001b[0;34m=\u001b[0m\u001b[0;34m'category_parent_name'\u001b[0m\u001b[0;34m,\u001b[0m \u001b[0mdata\u001b[0m\u001b[0;34m=\u001b[0m\u001b[0mtop_five_pledged\u001b[0m\u001b[0;34m,\u001b[0m \u001b[0mlinewidth\u001b[0m\u001b[0;34m=\u001b[0m\u001b[0;36m0.7\u001b[0m\u001b[0;34m,\u001b[0m \u001b[0mpalette\u001b[0m\u001b[0;34m=\u001b[0m\u001b[0mnp\u001b[0m\u001b[0;34m.\u001b[0m\u001b[0marray\u001b[0m\u001b[0;34m(\u001b[0m\u001b[0mpal_pled\u001b[0m\u001b[0;34m[\u001b[0m\u001b[0;34m:\u001b[0m\u001b[0;34m:\u001b[0m\u001b[0;34m+\u001b[0m\u001b[0;36m1\u001b[0m\u001b[0;34m]\u001b[0m\u001b[0;34m)\u001b[0m\u001b[0;34m[\u001b[0m\u001b[0mrank_pled\u001b[0m\u001b[0;34m]\u001b[0m\u001b[0;34m)\u001b[0m\u001b[0;34m\u001b[0m\u001b[0;34m\u001b[0m\u001b[0m\n\u001b[0m\u001b[1;32m     14\u001b[0m \u001b[0maxes\u001b[0m\u001b[0;34m[\u001b[0m\u001b[0;36m0\u001b[0m\u001b[0;34m]\u001b[0m\u001b[0;34m.\u001b[0m\u001b[0mset_title\u001b[0m\u001b[0;34m(\u001b[0m\u001b[0;34m'Converted Amount Pledged'\u001b[0m\u001b[0;34m)\u001b[0m\u001b[0;34m\u001b[0m\u001b[0;34m\u001b[0m\u001b[0m\n\u001b[1;32m     15\u001b[0m \u001b[0msns\u001b[0m\u001b[0;34m.\u001b[0m\u001b[0mbarplot\u001b[0m\u001b[0;34m(\u001b[0m\u001b[0max\u001b[0m\u001b[0;34m=\u001b[0m\u001b[0maxes\u001b[0m\u001b[0;34m[\u001b[0m\u001b[0;36m1\u001b[0m\u001b[0;34m]\u001b[0m\u001b[0;34m,\u001b[0m \u001b[0mx\u001b[0m\u001b[0;34m=\u001b[0m\u001b[0;34m'backers_count'\u001b[0m\u001b[0;34m,\u001b[0m\u001b[0my\u001b[0m\u001b[0;34m=\u001b[0m\u001b[0;34m'category_parent_name'\u001b[0m\u001b[0;34m,\u001b[0m \u001b[0mdata\u001b[0m\u001b[0;34m=\u001b[0m\u001b[0mtop_five_backers\u001b[0m\u001b[0;34m,\u001b[0m \u001b[0mlinewidth\u001b[0m\u001b[0;34m=\u001b[0m\u001b[0;36m0.7\u001b[0m\u001b[0;34m,\u001b[0m \u001b[0mpalette\u001b[0m\u001b[0;34m=\u001b[0m\u001b[0mnp\u001b[0m\u001b[0;34m.\u001b[0m\u001b[0marray\u001b[0m\u001b[0;34m(\u001b[0m\u001b[0mpal_back\u001b[0m\u001b[0;34m[\u001b[0m\u001b[0;34m:\u001b[0m\u001b[0;34m:\u001b[0m\u001b[0;34m+\u001b[0m\u001b[0;36m1\u001b[0m\u001b[0;34m]\u001b[0m\u001b[0;34m)\u001b[0m\u001b[0;34m[\u001b[0m\u001b[0mrank_back\u001b[0m\u001b[0;34m]\u001b[0m\u001b[0;34m)\u001b[0m\u001b[0;34m\u001b[0m\u001b[0;34m\u001b[0m\u001b[0m\n",
      "\u001b[0;32m~/opt/anaconda3/lib/python3.7/site-packages/seaborn/_decorators.py\u001b[0m in \u001b[0;36minner_f\u001b[0;34m(*args, **kwargs)\u001b[0m\n\u001b[1;32m     44\u001b[0m             )\n\u001b[1;32m     45\u001b[0m         \u001b[0mkwargs\u001b[0m\u001b[0;34m.\u001b[0m\u001b[0mupdate\u001b[0m\u001b[0;34m(\u001b[0m\u001b[0;34m{\u001b[0m\u001b[0mk\u001b[0m\u001b[0;34m:\u001b[0m \u001b[0marg\u001b[0m \u001b[0;32mfor\u001b[0m \u001b[0mk\u001b[0m\u001b[0;34m,\u001b[0m \u001b[0marg\u001b[0m \u001b[0;32min\u001b[0m \u001b[0mzip\u001b[0m\u001b[0;34m(\u001b[0m\u001b[0msig\u001b[0m\u001b[0;34m.\u001b[0m\u001b[0mparameters\u001b[0m\u001b[0;34m,\u001b[0m \u001b[0margs\u001b[0m\u001b[0;34m)\u001b[0m\u001b[0;34m}\u001b[0m\u001b[0;34m)\u001b[0m\u001b[0;34m\u001b[0m\u001b[0;34m\u001b[0m\u001b[0m\n\u001b[0;32m---> 46\u001b[0;31m         \u001b[0;32mreturn\u001b[0m \u001b[0mf\u001b[0m\u001b[0;34m(\u001b[0m\u001b[0;34m**\u001b[0m\u001b[0mkwargs\u001b[0m\u001b[0;34m)\u001b[0m\u001b[0;34m\u001b[0m\u001b[0;34m\u001b[0m\u001b[0m\n\u001b[0m\u001b[1;32m     47\u001b[0m     \u001b[0;32mreturn\u001b[0m \u001b[0minner_f\u001b[0m\u001b[0;34m\u001b[0m\u001b[0;34m\u001b[0m\u001b[0m\n\u001b[1;32m     48\u001b[0m \u001b[0;34m\u001b[0m\u001b[0m\n",
      "\u001b[0;32m~/opt/anaconda3/lib/python3.7/site-packages/seaborn/categorical.py\u001b[0m in \u001b[0;36mbarplot\u001b[0;34m(x, y, hue, data, order, hue_order, estimator, ci, n_boot, units, seed, orient, color, palette, saturation, errcolor, errwidth, capsize, dodge, ax, **kwargs)\u001b[0m\n\u001b[1;32m   3170\u001b[0m                           \u001b[0mestimator\u001b[0m\u001b[0;34m,\u001b[0m \u001b[0mci\u001b[0m\u001b[0;34m,\u001b[0m \u001b[0mn_boot\u001b[0m\u001b[0;34m,\u001b[0m \u001b[0munits\u001b[0m\u001b[0;34m,\u001b[0m \u001b[0mseed\u001b[0m\u001b[0;34m,\u001b[0m\u001b[0;34m\u001b[0m\u001b[0;34m\u001b[0m\u001b[0m\n\u001b[1;32m   3171\u001b[0m                           \u001b[0morient\u001b[0m\u001b[0;34m,\u001b[0m \u001b[0mcolor\u001b[0m\u001b[0;34m,\u001b[0m \u001b[0mpalette\u001b[0m\u001b[0;34m,\u001b[0m \u001b[0msaturation\u001b[0m\u001b[0;34m,\u001b[0m\u001b[0;34m\u001b[0m\u001b[0;34m\u001b[0m\u001b[0m\n\u001b[0;32m-> 3172\u001b[0;31m                           errcolor, errwidth, capsize, dodge)\n\u001b[0m\u001b[1;32m   3173\u001b[0m \u001b[0;34m\u001b[0m\u001b[0m\n\u001b[1;32m   3174\u001b[0m     \u001b[0;32mif\u001b[0m \u001b[0max\u001b[0m \u001b[0;32mis\u001b[0m \u001b[0;32mNone\u001b[0m\u001b[0;34m:\u001b[0m\u001b[0;34m\u001b[0m\u001b[0;34m\u001b[0m\u001b[0m\n",
      "\u001b[0;32m~/opt/anaconda3/lib/python3.7/site-packages/seaborn/categorical.py\u001b[0m in \u001b[0;36m__init__\u001b[0;34m(self, x, y, hue, data, order, hue_order, estimator, ci, n_boot, units, seed, orient, color, palette, saturation, errcolor, errwidth, capsize, dodge)\u001b[0m\n\u001b[1;32m   1584\u001b[0m         self.establish_variables(x, y, hue, data, orient,\n\u001b[1;32m   1585\u001b[0m                                  order, hue_order, units)\n\u001b[0;32m-> 1586\u001b[0;31m         \u001b[0mself\u001b[0m\u001b[0;34m.\u001b[0m\u001b[0mestablish_colors\u001b[0m\u001b[0;34m(\u001b[0m\u001b[0mcolor\u001b[0m\u001b[0;34m,\u001b[0m \u001b[0mpalette\u001b[0m\u001b[0;34m,\u001b[0m \u001b[0msaturation\u001b[0m\u001b[0;34m)\u001b[0m\u001b[0;34m\u001b[0m\u001b[0;34m\u001b[0m\u001b[0m\n\u001b[0m\u001b[1;32m   1587\u001b[0m         \u001b[0mself\u001b[0m\u001b[0;34m.\u001b[0m\u001b[0mestimate_statistic\u001b[0m\u001b[0;34m(\u001b[0m\u001b[0mestimator\u001b[0m\u001b[0;34m,\u001b[0m \u001b[0mci\u001b[0m\u001b[0;34m,\u001b[0m \u001b[0mn_boot\u001b[0m\u001b[0;34m,\u001b[0m \u001b[0mseed\u001b[0m\u001b[0;34m)\u001b[0m\u001b[0;34m\u001b[0m\u001b[0;34m\u001b[0m\u001b[0m\n\u001b[1;32m   1588\u001b[0m \u001b[0;34m\u001b[0m\u001b[0m\n",
      "\u001b[0;32m~/opt/anaconda3/lib/python3.7/site-packages/seaborn/categorical.py\u001b[0m in \u001b[0;36mestablish_colors\u001b[0;34m(self, color, palette, saturation)\u001b[0m\n\u001b[1;32m    317\u001b[0m         \u001b[0;31m# Determine the gray color to use for the lines framing the plot\u001b[0m\u001b[0;34m\u001b[0m\u001b[0;34m\u001b[0m\u001b[0;34m\u001b[0m\u001b[0m\n\u001b[1;32m    318\u001b[0m         \u001b[0mlight_vals\u001b[0m \u001b[0;34m=\u001b[0m \u001b[0;34m[\u001b[0m\u001b[0mcolorsys\u001b[0m\u001b[0;34m.\u001b[0m\u001b[0mrgb_to_hls\u001b[0m\u001b[0;34m(\u001b[0m\u001b[0;34m*\u001b[0m\u001b[0mc\u001b[0m\u001b[0;34m)\u001b[0m\u001b[0;34m[\u001b[0m\u001b[0;36m1\u001b[0m\u001b[0;34m]\u001b[0m \u001b[0;32mfor\u001b[0m \u001b[0mc\u001b[0m \u001b[0;32min\u001b[0m \u001b[0mrgb_colors\u001b[0m\u001b[0;34m]\u001b[0m\u001b[0;34m\u001b[0m\u001b[0;34m\u001b[0m\u001b[0m\n\u001b[0;32m--> 319\u001b[0;31m         \u001b[0mlum\u001b[0m \u001b[0;34m=\u001b[0m \u001b[0mmin\u001b[0m\u001b[0;34m(\u001b[0m\u001b[0mlight_vals\u001b[0m\u001b[0;34m)\u001b[0m \u001b[0;34m*\u001b[0m \u001b[0;36m.6\u001b[0m\u001b[0;34m\u001b[0m\u001b[0;34m\u001b[0m\u001b[0m\n\u001b[0m\u001b[1;32m    320\u001b[0m         \u001b[0mgray\u001b[0m \u001b[0;34m=\u001b[0m \u001b[0mmpl\u001b[0m\u001b[0;34m.\u001b[0m\u001b[0mcolors\u001b[0m\u001b[0;34m.\u001b[0m\u001b[0mrgb2hex\u001b[0m\u001b[0;34m(\u001b[0m\u001b[0;34m(\u001b[0m\u001b[0mlum\u001b[0m\u001b[0;34m,\u001b[0m \u001b[0mlum\u001b[0m\u001b[0;34m,\u001b[0m \u001b[0mlum\u001b[0m\u001b[0;34m)\u001b[0m\u001b[0;34m)\u001b[0m\u001b[0;34m\u001b[0m\u001b[0;34m\u001b[0m\u001b[0m\n\u001b[1;32m    321\u001b[0m \u001b[0;34m\u001b[0m\u001b[0m\n",
      "\u001b[0;31mValueError\u001b[0m: min() arg is an empty sequence"
     ]
    },
    {
     "data": {
      "image/png": "[encoded data removed]",
      "text/plain": [
       "<Figure size 1440x288 with 2 Axes>"
      ]
     },
     "metadata": {
      "needs_background": "light"
     },
     "output_type": "display_data"
    }
   ],
   "source": [
    "#Grouping the df by main category, sorted by sum of converted_pledged amount.\n",
    "top_pledged = df.loc[:,df['state'] == 'succesful'].groupby(['category_parent_name']).sum().reset_index().sort_values(by='converted_pledged_amount', ascending=False)\n",
    "top_backers = df.groupby(['category_parent_name']).sum().reset_index().sort_values(by='backers_count', ascending=False)\n",
    "#Selecting top five from top_pledged and top_backers\n",
    "top_five_pledged = top_pledged.head(5)\n",
    "top_five_backers = top_backers.head(5)\n",
    "pal_pled = sns.color_palette(\"Greens_d\", len(top_five_pledged))\n",
    "pal_back = sns.color_palette(\"Reds_d\", len(top_five_backers))\n",
    "rank_pled = top_five_pledged[\"converted_pledged_amount\"].argsort().argsort()\n",
    "rank_back = top_five_backers[\"backers_count\"].argsort().argsort()\n",
    "#Plotting the top five\n",
    "fig, axes = plt.subplots(nrows=1, ncols=2, figsize=(20, 4))\n",
    "sns.barplot(ax =axes[0], x='converted_pledged_amount',y='category_parent_name', data=top_five_pledged, linewidth=0.7, palette=np.array(pal_pled[::+1])[rank_pled])\n",
    "axes[0].set_title('Converted Amount Pledged')\n",
    "sns.barplot(ax=axes[1], x='backers_count',y='category_parent_name', data=top_five_backers, linewidth=0.7, palette=np.array(pal_back[::+1])[rank_back])\n",
    "axes[1].set_title('Number of Backers');"
   ]
  },
  {
   "cell_type": "code",
   "execution_count": 11,
   "metadata": {},
   "outputs": [
    {
     "data": {
      "image/png": "[encoded data removed]",
      "text/plain": [
       "<Figure size 1080x720 with 1 Axes>"
      ]
     },
     "metadata": {
      "needs_background": "light"
     },
     "output_type": "display_data"
    }
   ],
   "source": [
    "plt.figure(figsize=(15, 10))\n",
    "sns.boxplot(x='category_parent_name', y='converted_pledged_amount', hue='state', data=df, orient='v', showfliers=False);\n",
    "plt.title('Converted Pledged Amount per Category Parent', fontsize=20);\n",
    "plt.xlabel('Category Parent', fontsize=18)\n",
    "plt.ylabel('Converted Pledged Amount)', fontsize=18)\n",
    "plt.xticks(fontsize=10)\n",
    "plt.yticks(fontsize=15);\n",
    "\n",
    "#Can we use \"proportion of the population\" - om significant verschil tussen succesful (tech en de rest)\n"
   ]
  },
  {
   "cell_type": "code",
   "execution_count": 12,
   "metadata": {},
   "outputs": [
    {
     "data": {
      "text/html": [
       "<div>\n",
       "<style scoped>\n",
       "    .dataframe tbody tr th:only-of-type {\n",
       "        vertical-align: middle;\n",
       "    }\n",
       "\n",
       "    .dataframe tbody tr th {\n",
       "        vertical-align: top;\n",
       "    }\n",
       "\n",
       "    .dataframe thead th {\n",
       "        text-align: right;\n",
       "    }\n",
       "</style>\n",
       "<table border=\"1\" class=\"dataframe\">\n",
       "  <thead>\n",
       "    <tr style=\"text-align: right;\">\n",
       "      <th></th>\n",
       "      <th>backers_count</th>\n",
       "      <th>converted_pledged_amount</th>\n",
       "      <th>created_at</th>\n",
       "      <th>deadline</th>\n",
       "      <th>fx_rate</th>\n",
       "      <th>goal</th>\n",
       "      <th>id</th>\n",
       "      <th>launched_at</th>\n",
       "      <th>pledged</th>\n",
       "      <th>spotlight</th>\n",
       "      <th>state_changed_at</th>\n",
       "      <th>usd_pledged</th>\n",
       "      <th>category_id</th>\n",
       "      <th>category_parent_id</th>\n",
       "      <th>project_id</th>\n",
       "      <th>average_pledge</th>\n",
       "    </tr>\n",
       "    <tr>\n",
       "      <th>category_name</th>\n",
       "      <th></th>\n",
       "      <th></th>\n",
       "      <th></th>\n",
       "      <th></th>\n",
       "      <th></th>\n",
       "      <th></th>\n",
       "      <th></th>\n",
       "      <th></th>\n",
       "      <th></th>\n",
       "      <th></th>\n",
       "      <th></th>\n",
       "      <th></th>\n",
       "      <th></th>\n",
       "      <th></th>\n",
       "      <th></th>\n",
       "      <th></th>\n",
       "    </tr>\n",
       "  </thead>\n",
       "  <tbody>\n",
       "    <tr>\n",
       "      <th>Hardware</th>\n",
       "      <td>1286245</td>\n",
       "      <td>196945535</td>\n",
       "      <td>3459116835082</td>\n",
       "      <td>3482829545938</td>\n",
       "      <td>2321.508517</td>\n",
       "      <td>1.712735e+08</td>\n",
       "      <td>2496942224713</td>\n",
       "      <td>3475546889691</td>\n",
       "      <td>2.518419e+08</td>\n",
       "      <td>1493</td>\n",
       "      <td>3482829566508</td>\n",
       "      <td>1.969461e+08</td>\n",
       "      <td>122980</td>\n",
       "      <td>37840.0</td>\n",
       "      <td>5423758965</td>\n",
       "      <td>435614.171354</td>\n",
       "    </tr>\n",
       "    <tr>\n",
       "      <th>Product Design</th>\n",
       "      <td>1836490</td>\n",
       "      <td>195410063</td>\n",
       "      <td>3288888432554</td>\n",
       "      <td>3309783880291</td>\n",
       "      <td>1937.949813</td>\n",
       "      <td>5.246923e+07</td>\n",
       "      <td>2248122705553</td>\n",
       "      <td>3303751295987</td>\n",
       "      <td>4.803735e+08</td>\n",
       "      <td>2094</td>\n",
       "      <td>3309783894289</td>\n",
       "      <td>1.949631e+08</td>\n",
       "      <td>58632</td>\n",
       "      <td>14658.0</td>\n",
       "      <td>8011439673</td>\n",
       "      <td>308564.676186</td>\n",
       "    </tr>\n",
       "    <tr>\n",
       "      <th>Tabletop Games</th>\n",
       "      <td>2061370</td>\n",
       "      <td>159820464</td>\n",
       "      <td>3279620274948</td>\n",
       "      <td>3296165718794</td>\n",
       "      <td>2108.659101</td>\n",
       "      <td>3.034394e+07</td>\n",
       "      <td>2233736784496</td>\n",
       "      <td>3291858067796</td>\n",
       "      <td>2.148260e+08</td>\n",
       "      <td>2074</td>\n",
       "      <td>3296165773964</td>\n",
       "      <td>1.595537e+08</td>\n",
       "      <td>70516</td>\n",
       "      <td>24888.0</td>\n",
       "      <td>8132985556</td>\n",
       "      <td>107572.879384</td>\n",
       "    </tr>\n",
       "    <tr>\n",
       "      <th>Gadgets</th>\n",
       "      <td>1410605</td>\n",
       "      <td>149058918</td>\n",
       "      <td>3530994302559</td>\n",
       "      <td>3553119830674</td>\n",
       "      <td>2177.168811</td>\n",
       "      <td>2.737856e+08</td>\n",
       "      <td>2487122507367</td>\n",
       "      <td>3545770541605</td>\n",
       "      <td>2.699347e+08</td>\n",
       "      <td>1541</td>\n",
       "      <td>3553123123754</td>\n",
       "      <td>1.490372e+08</td>\n",
       "      <td>788580</td>\n",
       "      <td>37440.0</td>\n",
       "      <td>7137610299</td>\n",
       "      <td>290280.180302</td>\n",
       "    </tr>\n",
       "    <tr>\n",
       "      <th>Video Games</th>\n",
       "      <td>2559287</td>\n",
       "      <td>131884705</td>\n",
       "      <td>3403568403792</td>\n",
       "      <td>3426732407664</td>\n",
       "      <td>2241.904576</td>\n",
       "      <td>2.658325e+08</td>\n",
       "      <td>2455947403317</td>\n",
       "      <td>3420434257454</td>\n",
       "      <td>1.088081e+09</td>\n",
       "      <td>2278</td>\n",
       "      <td>3426732440955</td>\n",
       "      <td>1.318331e+08</td>\n",
       "      <td>79730</td>\n",
       "      <td>27336.0</td>\n",
       "      <td>6430744358</td>\n",
       "      <td>111495.776507</td>\n",
       "    </tr>\n",
       "    <tr>\n",
       "      <th>...</th>\n",
       "      <td>...</td>\n",
       "      <td>...</td>\n",
       "      <td>...</td>\n",
       "      <td>...</td>\n",
       "      <td>...</td>\n",
       "      <td>...</td>\n",
       "      <td>...</td>\n",
       "      <td>...</td>\n",
       "      <td>...</td>\n",
       "      <td>...</td>\n",
       "      <td>...</td>\n",
       "      <td>...</td>\n",
       "      <td>...</td>\n",
       "      <td>...</td>\n",
       "      <td>...</td>\n",
       "      <td>...</td>\n",
       "    </tr>\n",
       "    <tr>\n",
       "      <th>Embroidery</th>\n",
       "      <td>4750</td>\n",
       "      <td>257591</td>\n",
       "      <td>260464329246</td>\n",
       "      <td>261325729285</td>\n",
       "      <td>162.596988</td>\n",
       "      <td>1.900424e+06</td>\n",
       "      <td>190511879187</td>\n",
       "      <td>260857520894</td>\n",
       "      <td>1.404791e+06</td>\n",
       "      <td>43</td>\n",
       "      <td>261303707016</td>\n",
       "      <td>2.578988e+05</td>\n",
       "      <td>60550</td>\n",
       "      <td>4550.0</td>\n",
       "      <td>476602628</td>\n",
       "      <td>5833.368007</td>\n",
       "    </tr>\n",
       "    <tr>\n",
       "      <th>Farmer's Markets</th>\n",
       "      <td>2475</td>\n",
       "      <td>240260</td>\n",
       "      <td>36396170813</td>\n",
       "      <td>36533849276</td>\n",
       "      <td>22.204281</td>\n",
       "      <td>2.740580e+05</td>\n",
       "      <td>26893002362</td>\n",
       "      <td>36460045707</td>\n",
       "      <td>3.560157e+05</td>\n",
       "      <td>24</td>\n",
       "      <td>36533849350</td>\n",
       "      <td>2.402092e+05</td>\n",
       "      <td>7440</td>\n",
       "      <td>240.0</td>\n",
       "      <td>77651201</td>\n",
       "      <td>2943.938611</td>\n",
       "    </tr>\n",
       "    <tr>\n",
       "      <th>Quilts</th>\n",
       "      <td>2151</td>\n",
       "      <td>197610</td>\n",
       "      <td>135684563682</td>\n",
       "      <td>136271980583</td>\n",
       "      <td>92.308099</td>\n",
       "      <td>2.125914e+06</td>\n",
       "      <td>98326561182</td>\n",
       "      <td>136013398218</td>\n",
       "      <td>3.433291e+05</td>\n",
       "      <td>21</td>\n",
       "      <td>136265797579</td>\n",
       "      <td>1.981368e+05</td>\n",
       "      <td>33088</td>\n",
       "      <td>2444.0</td>\n",
       "      <td>187112001</td>\n",
       "      <td>4152.037384</td>\n",
       "    </tr>\n",
       "    <tr>\n",
       "      <th>Crochet</th>\n",
       "      <td>1809</td>\n",
       "      <td>62567</td>\n",
       "      <td>298095390217</td>\n",
       "      <td>298964387229</td>\n",
       "      <td>194.191461</td>\n",
       "      <td>8.096200e+05</td>\n",
       "      <td>210891993005</td>\n",
       "      <td>298412206660</td>\n",
       "      <td>6.539000e+04</td>\n",
       "      <td>48</td>\n",
       "      <td>298946183993</td>\n",
       "      <td>6.261697e+04</td>\n",
       "      <td>70176</td>\n",
       "      <td>5304.0</td>\n",
       "      <td>472109189</td>\n",
       "      <td>4446.617982</td>\n",
       "    </tr>\n",
       "    <tr>\n",
       "      <th>Taxidermy</th>\n",
       "      <td>454</td>\n",
       "      <td>37359</td>\n",
       "      <td>15678262868</td>\n",
       "      <td>15756284425</td>\n",
       "      <td>11.892920</td>\n",
       "      <td>4.606400e+04</td>\n",
       "      <td>11558736260</td>\n",
       "      <td>15726786686</td>\n",
       "      <td>3.000480e+04</td>\n",
       "      <td>5</td>\n",
       "      <td>15753584745</td>\n",
       "      <td>3.719562e+04</td>\n",
       "      <td>3894</td>\n",
       "      <td>286.0</td>\n",
       "      <td>18393213</td>\n",
       "      <td>759.968249</td>\n",
       "    </tr>\n",
       "  </tbody>\n",
       "</table>\n",
       "<p>161 rows × 16 columns</p>\n",
       "</div>"
      ],
      "text/plain": [
       "                  backers_count  converted_pledged_amount     created_at  \\\n",
       "category_name                                                              \n",
       "Hardware                1286245                 196945535  3459116835082   \n",
       "Product Design          1836490                 195410063  3288888432554   \n",
       "Tabletop Games          2061370                 159820464  3279620274948   \n",
       "Gadgets                 1410605                 149058918  3530994302559   \n",
       "Video Games             2559287                 131884705  3403568403792   \n",
       "...                         ...                       ...            ...   \n",
       "Embroidery                 4750                    257591   260464329246   \n",
       "Farmer's Markets           2475                    240260    36396170813   \n",
       "Quilts                     2151                    197610   135684563682   \n",
       "Crochet                    1809                     62567   298095390217   \n",
       "Taxidermy                   454                     37359    15678262868   \n",
       "\n",
       "                       deadline      fx_rate          goal             id  \\\n",
       "category_name                                                               \n",
       "Hardware          3482829545938  2321.508517  1.712735e+08  2496942224713   \n",
       "Product Design    3309783880291  1937.949813  5.246923e+07  2248122705553   \n",
       "Tabletop Games    3296165718794  2108.659101  3.034394e+07  2233736784496   \n",
       "Gadgets           3553119830674  2177.168811  2.737856e+08  2487122507367   \n",
       "Video Games       3426732407664  2241.904576  2.658325e+08  2455947403317   \n",
       "...                         ...          ...           ...            ...   \n",
       "Embroidery         261325729285   162.596988  1.900424e+06   190511879187   \n",
       "Farmer's Markets    36533849276    22.204281  2.740580e+05    26893002362   \n",
       "Quilts             136271980583    92.308099  2.125914e+06    98326561182   \n",
       "Crochet            298964387229   194.191461  8.096200e+05   210891993005   \n",
       "Taxidermy           15756284425    11.892920  4.606400e+04    11558736260   \n",
       "\n",
       "                    launched_at       pledged  spotlight  state_changed_at  \\\n",
       "category_name                                                                \n",
       "Hardware          3475546889691  2.518419e+08       1493     3482829566508   \n",
       "Product Design    3303751295987  4.803735e+08       2094     3309783894289   \n",
       "Tabletop Games    3291858067796  2.148260e+08       2074     3296165773964   \n",
       "Gadgets           3545770541605  2.699347e+08       1541     3553123123754   \n",
       "Video Games       3420434257454  1.088081e+09       2278     3426732440955   \n",
       "...                         ...           ...        ...               ...   \n",
       "Embroidery         260857520894  1.404791e+06         43      261303707016   \n",
       "Farmer's Markets    36460045707  3.560157e+05         24       36533849350   \n",
       "Quilts             136013398218  3.433291e+05         21      136265797579   \n",
       "Crochet            298412206660  6.539000e+04         48      298946183993   \n",
       "Taxidermy           15726786686  3.000480e+04          5       15753584745   \n",
       "\n",
       "                   usd_pledged  category_id  category_parent_id  project_id  \\\n",
       "category_name                                                                 \n",
       "Hardware          1.969461e+08       122980             37840.0  5423758965   \n",
       "Product Design    1.949631e+08        58632             14658.0  8011439673   \n",
       "Tabletop Games    1.595537e+08        70516             24888.0  8132985556   \n",
       "Gadgets           1.490372e+08       788580             37440.0  7137610299   \n",
       "Video Games       1.318331e+08        79730             27336.0  6430744358   \n",
       "...                        ...          ...                 ...         ...   \n",
       "Embroidery        2.578988e+05        60550              4550.0   476602628   \n",
       "Farmer's Markets  2.402092e+05         7440               240.0    77651201   \n",
       "Quilts            1.981368e+05        33088              2444.0   187112001   \n",
       "Crochet           6.261697e+04        70176              5304.0   472109189   \n",
       "Taxidermy         3.719562e+04         3894               286.0    18393213   \n",
       "\n",
       "                  average_pledge  \n",
       "category_name                     \n",
       "Hardware           435614.171354  \n",
       "Product Design     308564.676186  \n",
       "Tabletop Games     107572.879384  \n",
       "Gadgets            290280.180302  \n",
       "Video Games        111495.776507  \n",
       "...                          ...  \n",
       "Embroidery           5833.368007  \n",
       "Farmer's Markets     2943.938611  \n",
       "Quilts               4152.037384  \n",
       "Crochet              4446.617982  \n",
       "Taxidermy             759.968249  \n",
       "\n",
       "[161 rows x 16 columns]"
      ]
     },
     "execution_count": 12,
     "metadata": {},
     "output_type": "execute_result"
    }
   ],
   "source": [
    "df.groupby(['category_name']).sum().sort_values(by='converted_pledged_amount', ascending=False)"
   ]
  },
  {
   "cell_type": "code",
   "execution_count": 13,
   "metadata": {},
   "outputs": [
    {
     "data": {
      "image/png": "[encoded data removed]",
      "text/plain": [
       "<Figure size 1080x720 with 1 Axes>"
      ]
     },
     "metadata": {
      "needs_background": "light"
     },
     "output_type": "display_data"
    }
   ],
   "source": [
    "#corr\n",
    "corr = df['converted_pledged_amount'].corr(df['backers_count'])\n",
    "#set figure size\n",
    "plt.figure(figsize=(15, 10))\n",
    "#plot the data\n",
    "sns.regplot(data=df,x=df['converted_pledged_amount'],y=df['backers_count'], ci=None)\n",
    "#format the plot\n",
    "text = 'r=%s' % (corr)\n",
    "plt.text(1, 19, text, fontsize=14)\n",
    "plt.title('', fontsize=20);\n",
    "plt.xlabel('', fontsize=18)\n",
    "plt.ylabel('', fontsize=18)\n",
    "plt.xticks(fontsize=18)\n",
    "plt.yticks(fontsize=18);"
   ]
  },
  {
   "cell_type": "markdown",
   "metadata": {},
   "source": [
    "# Statistical Analysis"
   ]
  },
  {
   "cell_type": "code",
   "execution_count": 14,
   "metadata": {},
   "outputs": [],
   "source": [
    "#Confidence Intervals:\n",
    "# To define between pledge amount x and x we should ask\n",
    "# To define between number of backers x and x we should aim for\n",
    "\n",
    "# One-sample\n",
    "# 1 category opposed to population mean\n",
    "\n",
    "# Two-sample\n",
    "#2 categories (tech vs. food) and Netherlands/Europe vs. US"
   ]
  },
  {
   "cell_type": "markdown",
   "metadata": {},
   "source": [
    "**Categories** (Assumption that Technology startups have highest funding due to popularity/size of investments) \n",
    "\n",
    "https://producthype.co/kickstarter-tips-2019/ \n",
    "\n",
    "        - Succesful campaigns\n",
    "        -> ratio succesful/unsuccesful/live definieren\n",
    "        -> one-sample 1 tegenover het totaal\n",
    "        -> two sample 1 tegenover de rest, of Tech vs Design \n",
    "        \n",
    "*   H0: $\\mu_{1} = \\mu_{2}$, There is no difference between total pledge for successful campaigns in the Technology category and all other categories\n",
    "*   H1: $\\mu_{1} \\neq \\mu_{2},$ There is a difference between total pledge for successful campaigns in the Technology category and all other categories\n",
    "\n",
    "For this test, we have to groups in which we can not match the rows to eachother, hence **independent samples**.\n",
    "Secondly, we assume a **normally distributed population**.\n",
    "\n",
    "(?) We cannot (or do not want to) assume Equal Variances."
   ]
  },
  {
   "cell_type": "code",
   "execution_count": 15,
   "metadata": {},
   "outputs": [
    {
     "name": "stderr",
     "output_type": "stream",
     "text": [
      "/Users/elskedenbode/opt/anaconda3/lib/python3.7/site-packages/ipykernel_launcher.py:7: SettingWithCopyWarning: \n",
      "A value is trying to be set on a copy of a slice from a DataFrame.\n",
      "Try using .loc[row_indexer,col_indexer] = value instead\n",
      "\n",
      "See the caveats in the documentation: https://pandas.pydata.org/pandas-docs/stable/user_guide/indexing.html#returning-a-view-versus-a-copy\n",
      "  import sys\n"
     ]
    },
    {
     "data": {
      "image/png": "[encoded data removed]",
      "text/plain": [
       "<Figure size 432x288 with 1 Axes>"
      ]
     },
     "metadata": {
      "needs_background": "light"
     },
     "output_type": "display_data"
    }
   ],
   "source": [
    "#Compute variables to test\n",
    "succesful_campaigns = df.loc[df['state'] == 'successful']\n",
    "succesful_campaigns_tech = succesful_campaigns.loc[succesful_campaigns['category_parent_name'] == 'Technology']\n",
    "succesful_campaigns_other = succesful_campaigns.loc[succesful_campaigns['category_parent_name'] != 'Technology']\n",
    "\n",
    "#Plot to estimate differences\n",
    "succesful_campaigns['tech_vs_other'] = np.where(succesful_campaigns['category_parent_name']=='Technology', 'Technology', 'Other')\n",
    "ax = sns.boxplot(x=\"tech_vs_other\", y=\"usd_pledged\", data=succesful_campaigns, order=[\"Technology\", \"Other\"], showfliers=False)"
   ]
  },
  {
   "cell_type": "code",
   "execution_count": 16,
   "metadata": {},
   "outputs": [
    {
     "data": {
      "image/png": "[encoded data removed]",
      "text/plain": [
       "<Figure size 432x288 with 1 Axes>"
      ]
     },
     "metadata": {
      "needs_background": "light"
     },
     "output_type": "display_data"
    }
   ],
   "source": [
    "#Plot boxplots versus other five top categories according to count\n",
    "ax = sns.boxplot(x=\"category_parent_name\", y=\"usd_pledged\", data=succesful_campaigns, order=[\"Technology\", \"Design\", \"Games\", \"Food\", \"Fashion\"], showfliers=False)"
   ]
  },
  {
   "cell_type": "code",
   "execution_count": 17,
   "metadata": {},
   "outputs": [
    {
     "data": {
      "text/plain": [
       "Ttest_indResult(statistic=49.06560905309637, pvalue=0.0)"
      ]
     },
     "execution_count": 17,
     "metadata": {},
     "output_type": "execute_result"
    }
   ],
   "source": [
    "from scipy.stats import ttest_ind\n",
    "\n",
    "#Decide whether equal variances are true or false\n",
    "ttest_ind(succesful_campaigns_tech['usd_pledged'], succesful_campaigns_other['usd_pledged'], equal_var=False)\n",
    "ttest_ind(succesful_campaigns_tech['usd_pledged'], succesful_campaigns_other['usd_pledged'], equal_var=True)"
   ]
  },
  {
   "cell_type": "code",
   "execution_count": 18,
   "metadata": {},
   "outputs": [],
   "source": [
    "#Idea: build a loop two-sample-t-test for testing Technology against Design, Games, Food and Fashion."
   ]
  },
  {
   "cell_type": "markdown",
   "metadata": {},
   "source": [
    "- US vs NL (Assumption: Silicon Valley vs. the Netherlands)\n",
    "    - Usd pledged in NL hoger OF lager dan in US (1 of 2 sample T test)  \n",
    "    -> Dict \"location\" needs to be unfolded ('name', 'expanded_country')  \n",
    "    -> Test binnen alle categorien eerst, eventueel later alleen in hierboven gekozen categorie  \n",
    "Rianne"
   ]
  },
  {
   "cell_type": "code",
   "execution_count": null,
   "metadata": {},
   "outputs": [],
   "source": []
  },
  {
   "cell_type": "markdown",
   "metadata": {},
   "source": [
    "- Number of backers (Assumption: popularity of campaign defines popularity of startup)\n",
    "    - Ga je voor weinig backers met veel of veel backers met weinig -> verschil in succesful  \n",
    "        -> Define average pledge per backer (see to do)  \n",
    "        -> Succesful versus unsuccesful (2-sample: avg. per backer succesful versus avg. per backer unsuccesful)  \n",
    "            We verwachten dat dit verschilt - gemiddelde bij succesvol hoger\n",
    "Rianne  \n",
    "            \n",
    "- Zoja/Zonee -> define confidence intervals voor backers voor ons \"start-up\" plan (binnen onze categorie?)  \n",
    "\n",
    "Elske"
   ]
  },
  {
   "cell_type": "code",
   "execution_count": 19,
   "metadata": {},
   "outputs": [
    {
     "name": "stdout",
     "output_type": "stream",
     "text": [
      "With 95 % confidence, the average number of backers for a succesful campaign in Technology: 647 and 747\n"
     ]
    }
   ],
   "source": [
    "# Sample represents the numbers of backers for succesful campaigns within the \"Tech\" category\n",
    "succesful_campaigns = df.loc[df['state'] == 'successful']\n",
    "succesful_campaigns_tech = succesful_campaigns.loc[succesful_campaigns['category_parent_name'] == 'Technology']\n",
    "sample = succesful_campaigns_tech['backers_count']\n",
    "\n",
    "#Compute degrees of freedom\n",
    "df = len(sample) -1 \n",
    "\n",
    "#Compute t-statistic, mean and standard error\n",
    "t = stats.t.interval(0.95,df)[1]\n",
    "x  = np.mean(sample)\n",
    "se = np.std(sample) / np.sqrt(len(sample))\n",
    "\n",
    "#Define confidence intervals\n",
    "con_int = [round(num,3) for num in [x - (t * se) , x + (t * se)]]\n",
    "print('With 95 % confidence, the average number of backers for a succesful campaign in Technology:', round(con_int[0]), \"and\", round(con_int[1]))"
   ]
  },
  {
   "cell_type": "markdown",
   "metadata": {},
   "source": [
    "Bonus:\n",
    "In specific categories: Pledge amount asked - Pledged (goal - converted)  \n",
    "COVID impact 2020 versus 2018/2019 (less pledges than previous years - and in which categories?)  \n",
    "Other differences in years   \n",
    "    "
   ]
  },
  {
   "cell_type": "code",
   "execution_count": null,
   "metadata": {},
   "outputs": [],
   "source": []
  },
  {
   "cell_type": "code",
   "execution_count": null,
   "metadata": {},
   "outputs": [],
   "source": []
  },
  {
   "cell_type": "code",
   "execution_count": null,
   "metadata": {},
   "outputs": [],
   "source": []
  },
  {
   "cell_type": "code",
   "execution_count": null,
   "metadata": {},
   "outputs": [],
   "source": []
  }
 ],
 "metadata": {
  "kernelspec": {
   "display_name": "Python 3",
   "language": "python",
   "name": "python3"
  },
  "language_info": {
   "codemirror_mode": {
    "name": "ipython",
    "version": 3
   },
   "file_extension": ".py",
   "mimetype": "text/x-python",
   "name": "python",
   "nbconvert_exporter": "python",
   "pygments_lexer": "ipython3",
   "version": "3.7.4"
  }
 },
 "nbformat": 4,
 "nbformat_minor": 2
}
